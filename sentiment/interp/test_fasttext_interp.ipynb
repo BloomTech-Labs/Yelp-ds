{
  "nbformat": 4,
  "nbformat_minor": 0,
  "metadata": {
    "kernelspec": {
      "display_name": "conda_python3",
      "language": "python",
      "name": "conda_python3"
    },
    "language_info": {
      "codemirror_mode": {
        "name": "ipython",
        "version": 3
      },
      "file_extension": ".py",
      "mimetype": "text/x-python",
      "name": "python",
      "nbconvert_exporter": "python",
      "pygments_lexer": "ipython3",
      "version": "3.6.5"
    },
    "colab": {
      "name": "test_fasttext interp.ipynb",
      "provenance": [],
      "collapsed_sections": []
    }
  },
  "cells": [
    {
      "cell_type": "code",
      "metadata": {
        "id": "qot7zaOr8hEN",
        "colab_type": "code",
        "colab": {}
      },
      "source": [
        "!pip install fasttext"
      ],
      "execution_count": 0,
      "outputs": []
    },
    {
      "cell_type": "code",
      "metadata": {
        "id": "T8pY5Zrx8hET",
        "colab_type": "code",
        "colab": {},
        "outputId": "c541b61e-1c4d-402f-9991-26094cd5e6dc"
      },
      "source": [
        "import boto3\n",
        "import fasttext\n",
        "import nltk\n",
        "\n",
        "nltk.download(\"punkt\")"
      ],
      "execution_count": 0,
      "outputs": [
        {
          "output_type": "stream",
          "text": [
            "[nltk_data] Downloading package punkt to /home/ec2-user/nltk_data...\n",
            "[nltk_data]   Package punkt is already up-to-date!\n"
          ],
          "name": "stdout"
        },
        {
          "output_type": "execute_result",
          "data": {
            "text/plain": [
              "True"
            ]
          },
          "metadata": {
            "tags": []
          },
          "execution_count": 1
        }
      ]
    },
    {
      "cell_type": "code",
      "metadata": {
        "id": "HldAfLh18hEX",
        "colab_type": "code",
        "colab": {}
      },
      "source": [
        "s3 = boto3.client('s3')\n",
        "s3.download_file('yelp-dataset-pt-9', 'spencer/models/blazingtext/nltk/6m/stars/BlazingText-6m-stars/output/model.tar.gz', 'stars.tar.gz')\n",
        "s3.download_file('yelp-dataset-pt-9', 'spencer/models/blazingtext/nltk/6m/pos_neg/BlazingText-6m-pos-neg/output/model.tar.gz', 'pos_neg.tar.gz')"
      ],
      "execution_count": 0,
      "outputs": []
    },
    {
      "cell_type": "code",
      "metadata": {
        "id": "Cs_XzxRb8hEa",
        "colab_type": "code",
        "colab": {},
        "outputId": "42b66dd5-cfd0-4f0e-d6ce-efe7647f1c76"
      },
      "source": [
        "!tar -xvf stars.tar.gz"
      ],
      "execution_count": 0,
      "outputs": [
        {
          "output_type": "stream",
          "text": [
            "model.bin\n"
          ],
          "name": "stdout"
        }
      ]
    },
    {
      "cell_type": "code",
      "metadata": {
        "id": "fxCPhugt8hEc",
        "colab_type": "code",
        "colab": {}
      },
      "source": [
        "!mv model.bin stars.bin"
      ],
      "execution_count": 0,
      "outputs": []
    },
    {
      "cell_type": "code",
      "metadata": {
        "id": "kSnpVnOD8hEg",
        "colab_type": "code",
        "colab": {},
        "outputId": "675c3638-c834-471c-e7b3-446fb7b3ef83"
      },
      "source": [
        "!tar -xvf pos_neg.tar.gz"
      ],
      "execution_count": 0,
      "outputs": [
        {
          "output_type": "stream",
          "text": [
            "model.bin\n"
          ],
          "name": "stdout"
        }
      ]
    },
    {
      "cell_type": "code",
      "metadata": {
        "id": "5ucdLhsQ8hEj",
        "colab_type": "code",
        "colab": {}
      },
      "source": [
        "!mv model.bin pos_neg.bin"
      ],
      "execution_count": 0,
      "outputs": []
    },
    {
      "cell_type": "code",
      "metadata": {
        "id": "kHaOLm4b8hEm",
        "colab_type": "code",
        "colab": {},
        "outputId": "6ebe60f7-f714-4298-8879-ae85508103c4"
      },
      "source": [
        "stars_model = fasttext.load_model(\"stars.bin\")\n",
        "pos_neg_model = fasttext.load_model(\"pos_neg.bin\")"
      ],
      "execution_count": 0,
      "outputs": [
        {
          "output_type": "stream",
          "text": [
            "\n",
            "\n"
          ],
          "name": "stderr"
        }
      ]
    },
    {
      "cell_type": "code",
      "metadata": {
        "id": "6v1160DZ8hEo",
        "colab_type": "code",
        "colab": {}
      },
      "source": [
        "def tokenize_text(text):\n",
        "    return \" \".join(nltk.word_tokenize(text))"
      ],
      "execution_count": 0,
      "outputs": []
    },
    {
      "cell_type": "code",
      "metadata": {
        "id": "6qB92l278hEr",
        "colab_type": "code",
        "colab": {},
        "outputId": "b4c5ab2d-adb5-4610-f14d-199140008c98"
      },
      "source": [
        "stars_model.predict(tokenize_text(\"this is a good restaurant.\"))"
      ],
      "execution_count": 0,
      "outputs": [
        {
          "output_type": "execute_result",
          "data": {
            "text/plain": [
              "(('__label__4',), array([0.75838745]))"
            ]
          },
          "metadata": {
            "tags": []
          },
          "execution_count": 9
        }
      ]
    },
    {
      "cell_type": "code",
      "metadata": {
        "id": "7yu0ynad8hEu",
        "colab_type": "code",
        "colab": {},
        "outputId": "1ce40d70-3b5a-4034-dd63-6cbf1d4a84db"
      },
      "source": [
        "pos_neg_model.predict(tokenize_text(\"this is a good restaurant.\"))"
      ],
      "execution_count": 0,
      "outputs": [
        {
          "output_type": "execute_result",
          "data": {
            "text/plain": [
              "(('__label__POSITIVE',), array([0.7498517]))"
            ]
          },
          "metadata": {
            "tags": []
          },
          "execution_count": 10
        }
      ]
    },
    {
      "cell_type": "code",
      "metadata": {
        "id": "K2Cf43Uv8hEx",
        "colab_type": "code",
        "colab": {}
      },
      "source": [
        "import fasttext\n",
        "import re\n",
        "import lime.lime_text\n",
        "import numpy as np\n",
        "import webbrowser\n",
        "from pathlib import Path\n",
        "\n",
        "# This function regularizes a piece of text \n",
        "def strip_formatting(string):\n",
        "    string = string.lower()\n",
        "    string = re.sub(r\"([.!?,'/()])\", r\" \\1 \", string)\n",
        "    return string\n",
        "\n",
        "def tokenize_string(string):\n",
        "    return string.split()\n",
        "\n",
        "# Load our trained FastText model\n",
        "classifier = fastText.load_model('model.bin')\n",
        "\n",
        "# Create a LimeTextExplainer. This object knows how to explain a text-based\n",
        "# prediction by dropping words randomly.\n",
        "explainer = lime.lime_text.LimeTextExplainer(\n",
        "    split_expression=tokenize_string,\n",
        "    bow=False,\n",
        "    class_names=[\"No Stars\", \"1 Star\", \"2 Stars\", \"3 Stars\", \"4 Stars\", \"5 Stars\"]\n",
        ")\n",
        "\n",
        "\n",
        "def fasttext_prediction_in_sklearn_format(classifier, texts):\n",
        "    res = []\n",
        "    labels, probabilities = classifier.predict(texts, 10)\n",
        "    for label, probs, text in zip(labels, probabilities, texts):\n",
        "        order = np.argsort(np.array(label))\n",
        "        res.append(probs[order])\n",
        "\n",
        "    return np.array(res)\n",
        "\n",
        "# Review to explain\n",
        "review = \"this is a good restaurant.\"\n",
        "\n",
        "preprocessed_review = strip_formatting(review)\n",
        "\n",
        "# Make a prediction and explain it!\n",
        "exp = explainer.explain_instance(\n",
        "    preprocessed_review,\n",
        "    classifier_fn=lambda x: fasttext_prediction_in_sklearn_format(classifier, x),\n",
        "    top_labels=1,\n",
        "    num_features=20,\n",
        ")\n",
        "\n",
        "\n",
        "output_filename = Path(__file__).parent / \"explanation.html\"\n",
        "exp.save_to_file(output_filename)\n",
        "webbrowser.open(output_filename.as_uri())"
      ],
      "execution_count": 0,
      "outputs": []
    }
  ]
}