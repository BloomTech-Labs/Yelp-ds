{
 "cells": [
  {
   "cell_type": "code",
   "execution_count": 17,
   "metadata": {},
   "outputs": [],
   "source": [
    "import pandas as pd\n",
    "import sagemaker"
   ]
  },
  {
   "cell_type": "code",
   "execution_count": 3,
   "metadata": {},
   "outputs": [],
   "source": [
    "df = pd.read_csv(\"s3://yelp-dataset-pt-9/spencer/data/sentiment/en/test_small.csv\")"
   ]
  },
  {
   "cell_type": "code",
   "execution_count": 4,
   "metadata": {},
   "outputs": [
    {
     "data": {
      "text/plain": [
       "(200000, 5)"
      ]
     },
     "execution_count": 4,
     "metadata": {},
     "output_type": "execute_result"
    }
   ],
   "source": [
    "df.shape"
   ]
  },
  {
   "cell_type": "code",
   "execution_count": 5,
   "metadata": {},
   "outputs": [
    {
     "data": {
      "text/html": [
       "<div>\n",
       "<style scoped>\n",
       "    .dataframe tbody tr th:only-of-type {\n",
       "        vertical-align: middle;\n",
       "    }\n",
       "\n",
       "    .dataframe tbody tr th {\n",
       "        vertical-align: top;\n",
       "    }\n",
       "\n",
       "    .dataframe thead th {\n",
       "        text-align: right;\n",
       "    }\n",
       "</style>\n",
       "<table border=\"1\" class=\"dataframe\">\n",
       "  <thead>\n",
       "    <tr style=\"text-align: right;\">\n",
       "      <th></th>\n",
       "      <th>text</th>\n",
       "      <th>stars</th>\n",
       "      <th>pos_neg_neu</th>\n",
       "      <th>pos_neg_3_is_pos</th>\n",
       "      <th>pos_neg_3_is_neg</th>\n",
       "    </tr>\n",
       "  </thead>\n",
       "  <tbody>\n",
       "    <tr>\n",
       "      <th>0</th>\n",
       "      <td>this club is really pretty and played good mus...</td>\n",
       "      <td>4.0</td>\n",
       "      <td>POSITIVE</td>\n",
       "      <td>POSITIVE</td>\n",
       "      <td>POSITIVE</td>\n",
       "    </tr>\n",
       "    <tr>\n",
       "      <th>1</th>\n",
       "      <td>Took my staff out for Lunch.  We had a great t...</td>\n",
       "      <td>5.0</td>\n",
       "      <td>POSITIVE</td>\n",
       "      <td>POSITIVE</td>\n",
       "      <td>POSITIVE</td>\n",
       "    </tr>\n",
       "    <tr>\n",
       "      <th>2</th>\n",
       "      <td>I like this place! Tasty food, delicious drink...</td>\n",
       "      <td>5.0</td>\n",
       "      <td>POSITIVE</td>\n",
       "      <td>POSITIVE</td>\n",
       "      <td>POSITIVE</td>\n",
       "    </tr>\n",
       "    <tr>\n",
       "      <th>3</th>\n",
       "      <td>Best chain ever for fresh squeezed juices and ...</td>\n",
       "      <td>5.0</td>\n",
       "      <td>POSITIVE</td>\n",
       "      <td>POSITIVE</td>\n",
       "      <td>POSITIVE</td>\n",
       "    </tr>\n",
       "    <tr>\n",
       "      <th>4</th>\n",
       "      <td>Amazing place!! Definitely super busy during w...</td>\n",
       "      <td>5.0</td>\n",
       "      <td>POSITIVE</td>\n",
       "      <td>POSITIVE</td>\n",
       "      <td>POSITIVE</td>\n",
       "    </tr>\n",
       "  </tbody>\n",
       "</table>\n",
       "</div>"
      ],
      "text/plain": [
       "                                                text  stars pos_neg_neu  \\\n",
       "0  this club is really pretty and played good mus...    4.0    POSITIVE   \n",
       "1  Took my staff out for Lunch.  We had a great t...    5.0    POSITIVE   \n",
       "2  I like this place! Tasty food, delicious drink...    5.0    POSITIVE   \n",
       "3  Best chain ever for fresh squeezed juices and ...    5.0    POSITIVE   \n",
       "4  Amazing place!! Definitely super busy during w...    5.0    POSITIVE   \n",
       "\n",
       "  pos_neg_3_is_pos pos_neg_3_is_neg  \n",
       "0         POSITIVE         POSITIVE  \n",
       "1         POSITIVE         POSITIVE  \n",
       "2         POSITIVE         POSITIVE  \n",
       "3         POSITIVE         POSITIVE  \n",
       "4         POSITIVE         POSITIVE  "
      ]
     },
     "execution_count": 5,
     "metadata": {},
     "output_type": "execute_result"
    }
   ],
   "source": [
    "df.head()"
   ]
  },
  {
   "cell_type": "code",
   "execution_count": 7,
   "metadata": {},
   "outputs": [],
   "source": [
    "mean_str_len = df['text'].str.len().mean()"
   ]
  },
  {
   "cell_type": "code",
   "execution_count": 8,
   "metadata": {},
   "outputs": [],
   "source": [
    "median_str_len = df['text'].str.len().median()"
   ]
  },
  {
   "cell_type": "code",
   "execution_count": 9,
   "metadata": {},
   "outputs": [
    {
     "data": {
      "text/plain": [
       "(590.133825, 417.0)"
      ]
     },
     "execution_count": 9,
     "metadata": {},
     "output_type": "execute_result"
    }
   ],
   "source": [
    "mean_str_len, median_str_len"
   ]
  },
  {
   "cell_type": "code",
   "execution_count": 16,
   "metadata": {},
   "outputs": [
    {
     "data": {
      "text/plain": [
       "count    200000.000000\n",
       "mean        590.133825\n",
       "std         557.094094\n",
       "min          10.000000\n",
       "25%         233.000000\n",
       "50%         417.000000\n",
       "75%         746.000000\n",
       "max        5000.000000\n",
       "Name: text, dtype: float64"
      ]
     },
     "execution_count": 16,
     "metadata": {},
     "output_type": "execute_result"
    }
   ],
   "source": [
    "df['text'].str.len().describe()"
   ]
  },
  {
   "cell_type": "code",
   "execution_count": 20,
   "metadata": {},
   "outputs": [],
   "source": [
    "sagemaker.s3.S3Downloader.download(\"s3://yelp-dataset-pt-9/spencer/data/sentiment/en/fasttext/models/fasttext-pos-neg-3-is-pos-same-as-bal-copy-06-13/output/model.tar.gz\", \"./\")"
   ]
  },
  {
   "cell_type": "code",
   "execution_count": 21,
   "metadata": {},
   "outputs": [],
   "source": [
    "!tar -xf model.tar.gz"
   ]
  },
  {
   "cell_type": "code",
   "execution_count": 22,
   "metadata": {},
   "outputs": [],
   "source": [
    "import fasttext"
   ]
  },
  {
   "cell_type": "code",
   "execution_count": 23,
   "metadata": {},
   "outputs": [
    {
     "name": "stderr",
     "output_type": "stream",
     "text": [
      "Warning : `load_model` does not return WordVectorModel or SupervisedModel any more, but a `FastText` object which is very similar.\n"
     ]
    }
   ],
   "source": [
    "model = fasttext.load_model(\"model.bin\")"
   ]
  },
  {
   "cell_type": "code",
   "execution_count": 26,
   "metadata": {},
   "outputs": [
    {
     "name": "stdout",
     "output_type": "stream",
     "text": [
      "INFO: Pandarallel will run on 4 workers.\n",
      "INFO: Pandarallel will use standard multiprocessing data transfer (pipe) to transfer data between the main process and workers.\n"
     ]
    }
   ],
   "source": [
    "from pandarallel import pandarallel\n",
    "pandarallel.initialize(progress_bar=True)"
   ]
  },
  {
   "cell_type": "code",
   "execution_count": 30,
   "metadata": {},
   "outputs": [],
   "source": [
    "import nltk"
   ]
  },
  {
   "cell_type": "code",
   "execution_count": 31,
   "metadata": {},
   "outputs": [],
   "source": [
    "def predict(text):\n",
    "    return model.predict(\" \".join(nltk.word_tokenize(text)))"
   ]
  },
  {
   "cell_type": "code",
   "execution_count": 32,
   "metadata": {},
   "outputs": [
    {
     "data": {
      "application/vnd.jupyter.widget-view+json": {
       "model_id": "884c37ef44964bc5ae5203901562c73b",
       "version_major": 2,
       "version_minor": 0
      },
      "text/plain": [
       "VBox(children=(HBox(children=(IntProgress(value=0, description='0.00%', max=50000), Label(value='0 / 50000')))…"
      ]
     },
     "metadata": {},
     "output_type": "display_data"
    }
   ],
   "source": [
    "preds = df['text'].parallel_apply(predict)"
   ]
  },
  {
   "cell_type": "code",
   "execution_count": 33,
   "metadata": {},
   "outputs": [
    {
     "data": {
      "text/plain": [
       "0         ((__label__POSITIVE,), [0.9996795654296875])\n",
       "1         ((__label__POSITIVE,), [0.9999239444732666])\n",
       "2         ((__label__POSITIVE,), [0.9999966621398926])\n",
       "3         ((__label__POSITIVE,), [0.9996669292449951])\n",
       "4         ((__label__POSITIVE,), [0.9992591738700867])\n",
       "                              ...                     \n",
       "199995    ((__label__POSITIVE,), [0.9997562766075134])\n",
       "199996    ((__label__POSITIVE,), [0.9999953508377075])\n",
       "199997    ((__label__POSITIVE,), [0.9993935823440552])\n",
       "199998    ((__label__NEGATIVE,), [0.9990699887275696])\n",
       "199999    ((__label__POSITIVE,), [0.7241793274879456])\n",
       "Name: text, Length: 200000, dtype: object"
      ]
     },
     "execution_count": 33,
     "metadata": {},
     "output_type": "execute_result"
    }
   ],
   "source": [
    "preds"
   ]
  },
  {
   "cell_type": "code",
   "execution_count": 46,
   "metadata": {},
   "outputs": [
    {
     "data": {
      "text/plain": [
       "0         POSITIVE\n",
       "1         POSITIVE\n",
       "2         POSITIVE\n",
       "3         POSITIVE\n",
       "4         POSITIVE\n",
       "            ...   \n",
       "199995    POSITIVE\n",
       "199996    POSITIVE\n",
       "199997    POSITIVE\n",
       "199998    NEGATIVE\n",
       "199999    POSITIVE\n",
       "Name: text, Length: 200000, dtype: object"
      ]
     },
     "execution_count": 46,
     "metadata": {},
     "output_type": "execute_result"
    }
   ],
   "source": [
    "preds.str[0].str[0].str.split(\"__\").str[-1]"
   ]
  },
  {
   "cell_type": "code",
   "execution_count": 47,
   "metadata": {},
   "outputs": [],
   "source": [
    "pred_labels = preds.str[0].str[0].str.split(\"__\").str[-1]"
   ]
  },
  {
   "cell_type": "code",
   "execution_count": 74,
   "metadata": {},
   "outputs": [
    {
     "data": {
      "text/plain": [
       "0         0.999680\n",
       "1         0.999924\n",
       "2         0.999997\n",
       "3         0.999667\n",
       "4         0.999259\n",
       "            ...   \n",
       "199995    0.999756\n",
       "199996    0.999995\n",
       "199997    0.999394\n",
       "199998    0.999070\n",
       "199999    0.724179\n",
       "Name: text, Length: 200000, dtype: float64"
      ]
     },
     "execution_count": 74,
     "metadata": {},
     "output_type": "execute_result"
    }
   ],
   "source": [
    "preds.str[1].str[0]"
   ]
  },
  {
   "cell_type": "code",
   "execution_count": 75,
   "metadata": {},
   "outputs": [],
   "source": [
    "pred_prob = preds.str[1].str[0]"
   ]
  },
  {
   "cell_type": "code",
   "execution_count": 48,
   "metadata": {},
   "outputs": [],
   "source": [
    "df['pred'] = pred_labels"
   ]
  },
  {
   "cell_type": "code",
   "execution_count": 76,
   "metadata": {},
   "outputs": [],
   "source": [
    "df['pred_prob'] = pred_prob"
   ]
  },
  {
   "cell_type": "code",
   "execution_count": 77,
   "metadata": {},
   "outputs": [
    {
     "data": {
      "text/html": [
       "<div>\n",
       "<style scoped>\n",
       "    .dataframe tbody tr th:only-of-type {\n",
       "        vertical-align: middle;\n",
       "    }\n",
       "\n",
       "    .dataframe tbody tr th {\n",
       "        vertical-align: top;\n",
       "    }\n",
       "\n",
       "    .dataframe thead th {\n",
       "        text-align: right;\n",
       "    }\n",
       "</style>\n",
       "<table border=\"1\" class=\"dataframe\">\n",
       "  <thead>\n",
       "    <tr style=\"text-align: right;\">\n",
       "      <th></th>\n",
       "      <th>text</th>\n",
       "      <th>stars</th>\n",
       "      <th>pos_neg_neu</th>\n",
       "      <th>pos_neg_3_is_pos</th>\n",
       "      <th>pos_neg_3_is_neg</th>\n",
       "      <th>pred</th>\n",
       "      <th>pred_prob</th>\n",
       "    </tr>\n",
       "  </thead>\n",
       "  <tbody>\n",
       "    <tr>\n",
       "      <th>0</th>\n",
       "      <td>this club is really pretty and played good mus...</td>\n",
       "      <td>4.0</td>\n",
       "      <td>POSITIVE</td>\n",
       "      <td>POSITIVE</td>\n",
       "      <td>POSITIVE</td>\n",
       "      <td>POSITIVE</td>\n",
       "      <td>0.999680</td>\n",
       "    </tr>\n",
       "    <tr>\n",
       "      <th>1</th>\n",
       "      <td>Took my staff out for Lunch.  We had a great t...</td>\n",
       "      <td>5.0</td>\n",
       "      <td>POSITIVE</td>\n",
       "      <td>POSITIVE</td>\n",
       "      <td>POSITIVE</td>\n",
       "      <td>POSITIVE</td>\n",
       "      <td>0.999924</td>\n",
       "    </tr>\n",
       "    <tr>\n",
       "      <th>2</th>\n",
       "      <td>I like this place! Tasty food, delicious drink...</td>\n",
       "      <td>5.0</td>\n",
       "      <td>POSITIVE</td>\n",
       "      <td>POSITIVE</td>\n",
       "      <td>POSITIVE</td>\n",
       "      <td>POSITIVE</td>\n",
       "      <td>0.999997</td>\n",
       "    </tr>\n",
       "    <tr>\n",
       "      <th>3</th>\n",
       "      <td>Best chain ever for fresh squeezed juices and ...</td>\n",
       "      <td>5.0</td>\n",
       "      <td>POSITIVE</td>\n",
       "      <td>POSITIVE</td>\n",
       "      <td>POSITIVE</td>\n",
       "      <td>POSITIVE</td>\n",
       "      <td>0.999667</td>\n",
       "    </tr>\n",
       "    <tr>\n",
       "      <th>4</th>\n",
       "      <td>Amazing place!! Definitely super busy during w...</td>\n",
       "      <td>5.0</td>\n",
       "      <td>POSITIVE</td>\n",
       "      <td>POSITIVE</td>\n",
       "      <td>POSITIVE</td>\n",
       "      <td>POSITIVE</td>\n",
       "      <td>0.999259</td>\n",
       "    </tr>\n",
       "  </tbody>\n",
       "</table>\n",
       "</div>"
      ],
      "text/plain": [
       "                                                text  stars pos_neg_neu  \\\n",
       "0  this club is really pretty and played good mus...    4.0    POSITIVE   \n",
       "1  Took my staff out for Lunch.  We had a great t...    5.0    POSITIVE   \n",
       "2  I like this place! Tasty food, delicious drink...    5.0    POSITIVE   \n",
       "3  Best chain ever for fresh squeezed juices and ...    5.0    POSITIVE   \n",
       "4  Amazing place!! Definitely super busy during w...    5.0    POSITIVE   \n",
       "\n",
       "  pos_neg_3_is_pos pos_neg_3_is_neg      pred  pred_prob  \n",
       "0         POSITIVE         POSITIVE  POSITIVE   0.999680  \n",
       "1         POSITIVE         POSITIVE  POSITIVE   0.999924  \n",
       "2         POSITIVE         POSITIVE  POSITIVE   0.999997  \n",
       "3         POSITIVE         POSITIVE  POSITIVE   0.999667  \n",
       "4         POSITIVE         POSITIVE  POSITIVE   0.999259  "
      ]
     },
     "execution_count": 77,
     "metadata": {},
     "output_type": "execute_result"
    }
   ],
   "source": [
    "df.head()"
   ]
  },
  {
   "cell_type": "code",
   "execution_count": 50,
   "metadata": {},
   "outputs": [
    {
     "data": {
      "text/plain": [
       "186554"
      ]
     },
     "execution_count": 50,
     "metadata": {},
     "output_type": "execute_result"
    }
   ],
   "source": [
    "sum(df['pos_neg_3_is_pos'] == df['pred'])"
   ]
  },
  {
   "cell_type": "code",
   "execution_count": 51,
   "metadata": {},
   "outputs": [
    {
     "data": {
      "text/plain": [
       "0.93277"
      ]
     },
     "execution_count": 51,
     "metadata": {},
     "output_type": "execute_result"
    }
   ],
   "source": [
    "sum(df['pos_neg_3_is_pos'] == df['pred']) / len(df)"
   ]
  },
  {
   "cell_type": "code",
   "execution_count": 66,
   "metadata": {},
   "outputs": [],
   "source": [
    "false_preds = df[df['pred'] != df['pos_neg_3_is_pos']]"
   ]
  },
  {
   "cell_type": "code",
   "execution_count": 67,
   "metadata": {},
   "outputs": [
    {
     "data": {
      "text/html": [
       "<div>\n",
       "<style scoped>\n",
       "    .dataframe tbody tr th:only-of-type {\n",
       "        vertical-align: middle;\n",
       "    }\n",
       "\n",
       "    .dataframe tbody tr th {\n",
       "        vertical-align: top;\n",
       "    }\n",
       "\n",
       "    .dataframe thead th {\n",
       "        text-align: right;\n",
       "    }\n",
       "</style>\n",
       "<table border=\"1\" class=\"dataframe\">\n",
       "  <thead>\n",
       "    <tr style=\"text-align: right;\">\n",
       "      <th></th>\n",
       "      <th>text</th>\n",
       "      <th>pos_neg_3_is_pos</th>\n",
       "      <th>pred</th>\n",
       "    </tr>\n",
       "  </thead>\n",
       "  <tbody>\n",
       "    <tr>\n",
       "      <th>37</th>\n",
       "      <td>Well. We came back again. The margaritas are g...</td>\n",
       "      <td>NEGATIVE</td>\n",
       "      <td>POSITIVE</td>\n",
       "    </tr>\n",
       "    <tr>\n",
       "      <th>49</th>\n",
       "      <td>Reading some other reviews reminded me that I ...</td>\n",
       "      <td>NEGATIVE</td>\n",
       "      <td>POSITIVE</td>\n",
       "    </tr>\n",
       "    <tr>\n",
       "      <th>53</th>\n",
       "      <td>Fantastic gluten free buffalo wings, though th...</td>\n",
       "      <td>POSITIVE</td>\n",
       "      <td>NEGATIVE</td>\n",
       "    </tr>\n",
       "    <tr>\n",
       "      <th>75</th>\n",
       "      <td>It's okay in terms of selection. I find cute c...</td>\n",
       "      <td>POSITIVE</td>\n",
       "      <td>NEGATIVE</td>\n",
       "    </tr>\n",
       "    <tr>\n",
       "      <th>76</th>\n",
       "      <td>I drove down from Chapel Hill to meet some old...</td>\n",
       "      <td>NEGATIVE</td>\n",
       "      <td>POSITIVE</td>\n",
       "    </tr>\n",
       "  </tbody>\n",
       "</table>\n",
       "</div>"
      ],
      "text/plain": [
       "                                                 text pos_neg_3_is_pos  \\\n",
       "37  Well. We came back again. The margaritas are g...         NEGATIVE   \n",
       "49  Reading some other reviews reminded me that I ...         NEGATIVE   \n",
       "53  Fantastic gluten free buffalo wings, though th...         POSITIVE   \n",
       "75  It's okay in terms of selection. I find cute c...         POSITIVE   \n",
       "76  I drove down from Chapel Hill to meet some old...         NEGATIVE   \n",
       "\n",
       "        pred  \n",
       "37  POSITIVE  \n",
       "49  POSITIVE  \n",
       "53  NEGATIVE  \n",
       "75  NEGATIVE  \n",
       "76  POSITIVE  "
      ]
     },
     "execution_count": 67,
     "metadata": {},
     "output_type": "execute_result"
    }
   ],
   "source": [
    "false_preds[['text', 'pos_neg_3_is_pos', 'pred']].head()"
   ]
  },
  {
   "cell_type": "code",
   "execution_count": 68,
   "metadata": {},
   "outputs": [
    {
     "data": {
      "text/plain": [
       "13446"
      ]
     },
     "execution_count": 68,
     "metadata": {},
     "output_type": "execute_result"
    }
   ],
   "source": [
    "len(false_preds)"
   ]
  },
  {
   "cell_type": "code",
   "execution_count": 59,
   "metadata": {},
   "outputs": [
    {
     "data": {
      "application/vnd.jupyter.widget-view+json": {
       "model_id": "96ee0bdd8fd24b1a9e034039a989c4a9",
       "version_major": 2,
       "version_minor": 0
      },
      "text/plain": [
       "HBox(children=(FloatProgress(value=0.0, description='Downloading', max=1625270765.0, style=ProgressStyle(descr…"
      ]
     },
     "metadata": {},
     "output_type": "display_data"
    },
    {
     "name": "stdout",
     "output_type": "stream",
     "text": [
      "\n"
     ]
    }
   ],
   "source": [
    "from ktrain import text\n",
    "ts = text.TransformerSummarizer()"
   ]
  },
  {
   "cell_type": "code",
   "execution_count": 61,
   "metadata": {},
   "outputs": [],
   "source": [
    "true_preds = df[df['pred'] == df['pos_neg_3_is_pos']]"
   ]
  },
  {
   "cell_type": "code",
   "execution_count": 63,
   "metadata": {},
   "outputs": [
    {
     "data": {
      "text/plain": [
       "count    186554.000000\n",
       "mean        585.296826\n",
       "std         553.222508\n",
       "min          13.000000\n",
       "25%         232.000000\n",
       "50%         414.000000\n",
       "75%         739.000000\n",
       "max        5000.000000\n",
       "Name: text, dtype: float64"
      ]
     },
     "execution_count": 63,
     "metadata": {},
     "output_type": "execute_result"
    }
   ],
   "source": [
    "true_preds['text'].str.len().describe()"
   ]
  },
  {
   "cell_type": "code",
   "execution_count": 64,
   "metadata": {},
   "outputs": [
    {
     "data": {
      "text/plain": [
       "count    13446.000000\n",
       "mean       657.243864\n",
       "std        604.312512\n",
       "min         10.000000\n",
       "25%        254.000000\n",
       "50%        476.000000\n",
       "75%        851.000000\n",
       "max       4993.000000\n",
       "Name: text, dtype: float64"
      ]
     },
     "execution_count": 64,
     "metadata": {},
     "output_type": "execute_result"
    }
   ],
   "source": [
    "false_pred['text'].str.len().describe()"
   ]
  },
  {
   "cell_type": "code",
   "execution_count": 69,
   "metadata": {},
   "outputs": [
    {
     "data": {
      "text/plain": [
       "(414.0, 476.0)"
      ]
     },
     "execution_count": 69,
     "metadata": {},
     "output_type": "execute_result"
    }
   ],
   "source": [
    "true_preds['text'].str.len().median(), false_preds['text'].str.len().median()"
   ]
  },
  {
   "cell_type": "code",
   "execution_count": 70,
   "metadata": {},
   "outputs": [
    {
     "data": {
      "text/plain": [
       "(585.2968255840132, 657.243864346274)"
      ]
     },
     "execution_count": 70,
     "metadata": {},
     "output_type": "execute_result"
    }
   ],
   "source": [
    "true_preds['text'].str.len().mean(), false_preds['text'].str.len().mean()"
   ]
  },
  {
   "cell_type": "code",
   "execution_count": 82,
   "metadata": {},
   "outputs": [
    {
     "data": {
      "text/plain": [
       "NEGATIVE    0.490778\n",
       "NEUTRAL     0.349621\n",
       "POSITIVE    0.159601\n",
       "Name: pos_neg_neu, dtype: float64"
      ]
     },
     "execution_count": 82,
     "metadata": {},
     "output_type": "execute_result"
    }
   ],
   "source": [
    "false_preds['pos_neg_neu'].value_counts(normalize=True)"
   ]
  },
  {
   "cell_type": "code",
   "execution_count": 84,
   "metadata": {},
   "outputs": [
    {
     "data": {
      "text/plain": [
       "1.0    0.152536\n",
       "2.0    0.338242\n",
       "3.0    0.349621\n",
       "4.0    0.078165\n",
       "5.0    0.081437\n",
       "Name: stars, dtype: float64"
      ]
     },
     "execution_count": 84,
     "metadata": {},
     "output_type": "execute_result"
    }
   ],
   "source": [
    "false_preds['stars'].value_counts(normalize=True).sort_index()"
   ]
  },
  {
   "cell_type": "code",
   "execution_count": 60,
   "metadata": {},
   "outputs": [],
   "source": [
    "def summarize(text):\n",
    "    return ts.summarize(text)"
   ]
  },
  {
   "cell_type": "code",
   "execution_count": 78,
   "metadata": {},
   "outputs": [],
   "source": [
    "df['str_len'] = df['text'].str.len()"
   ]
  },
  {
   "cell_type": "code",
   "execution_count": 79,
   "metadata": {},
   "outputs": [
    {
     "data": {
      "text/html": [
       "<div>\n",
       "<style scoped>\n",
       "    .dataframe tbody tr th:only-of-type {\n",
       "        vertical-align: middle;\n",
       "    }\n",
       "\n",
       "    .dataframe tbody tr th {\n",
       "        vertical-align: top;\n",
       "    }\n",
       "\n",
       "    .dataframe thead th {\n",
       "        text-align: right;\n",
       "    }\n",
       "</style>\n",
       "<table border=\"1\" class=\"dataframe\">\n",
       "  <thead>\n",
       "    <tr style=\"text-align: right;\">\n",
       "      <th></th>\n",
       "      <th>text</th>\n",
       "      <th>stars</th>\n",
       "      <th>pos_neg_neu</th>\n",
       "      <th>pos_neg_3_is_pos</th>\n",
       "      <th>pos_neg_3_is_neg</th>\n",
       "      <th>pred</th>\n",
       "      <th>pred_prob</th>\n",
       "      <th>str_len</th>\n",
       "    </tr>\n",
       "  </thead>\n",
       "  <tbody>\n",
       "    <tr>\n",
       "      <th>76930</th>\n",
       "      <td>With new owners --QuadReal Property Management...</td>\n",
       "      <td>3.0</td>\n",
       "      <td>NEUTRAL</td>\n",
       "      <td>POSITIVE</td>\n",
       "      <td>NEGATIVE</td>\n",
       "      <td>POSITIVE</td>\n",
       "      <td>0.500061</td>\n",
       "      <td>519</td>\n",
       "    </tr>\n",
       "    <tr>\n",
       "      <th>2583</th>\n",
       "      <td>Man... people freak out over this place, but I...</td>\n",
       "      <td>3.0</td>\n",
       "      <td>NEUTRAL</td>\n",
       "      <td>POSITIVE</td>\n",
       "      <td>NEGATIVE</td>\n",
       "      <td>NEGATIVE</td>\n",
       "      <td>0.500076</td>\n",
       "      <td>770</td>\n",
       "    </tr>\n",
       "    <tr>\n",
       "      <th>77199</th>\n",
       "      <td>Truly disappointed since Chef Nunez left.  I h...</td>\n",
       "      <td>2.0</td>\n",
       "      <td>NEGATIVE</td>\n",
       "      <td>NEGATIVE</td>\n",
       "      <td>NEGATIVE</td>\n",
       "      <td>POSITIVE</td>\n",
       "      <td>0.500078</td>\n",
       "      <td>936</td>\n",
       "    </tr>\n",
       "    <tr>\n",
       "      <th>37989</th>\n",
       "      <td>This club is close to home but it's time to gi...</td>\n",
       "      <td>2.0</td>\n",
       "      <td>NEGATIVE</td>\n",
       "      <td>NEGATIVE</td>\n",
       "      <td>NEGATIVE</td>\n",
       "      <td>POSITIVE</td>\n",
       "      <td>0.500093</td>\n",
       "      <td>329</td>\n",
       "    </tr>\n",
       "    <tr>\n",
       "      <th>143029</th>\n",
       "      <td>The most boring bar I been to in Mississauga p...</td>\n",
       "      <td>1.0</td>\n",
       "      <td>NEGATIVE</td>\n",
       "      <td>NEGATIVE</td>\n",
       "      <td>NEGATIVE</td>\n",
       "      <td>POSITIVE</td>\n",
       "      <td>0.500099</td>\n",
       "      <td>130</td>\n",
       "    </tr>\n",
       "    <tr>\n",
       "      <th>73874</th>\n",
       "      <td>No amount of research could've prepared me for...</td>\n",
       "      <td>4.0</td>\n",
       "      <td>POSITIVE</td>\n",
       "      <td>POSITIVE</td>\n",
       "      <td>POSITIVE</td>\n",
       "      <td>POSITIVE</td>\n",
       "      <td>0.500100</td>\n",
       "      <td>1708</td>\n",
       "    </tr>\n",
       "    <tr>\n",
       "      <th>114337</th>\n",
       "      <td>NO! Do Not Bother!\\n\\nOrdered 2 pizzas, they w...</td>\n",
       "      <td>1.0</td>\n",
       "      <td>NEGATIVE</td>\n",
       "      <td>NEGATIVE</td>\n",
       "      <td>NEGATIVE</td>\n",
       "      <td>POSITIVE</td>\n",
       "      <td>0.500107</td>\n",
       "      <td>898</td>\n",
       "    </tr>\n",
       "    <tr>\n",
       "      <th>132527</th>\n",
       "      <td>Don't bother with dollar margarita Tuesdays. T...</td>\n",
       "      <td>2.0</td>\n",
       "      <td>NEGATIVE</td>\n",
       "      <td>NEGATIVE</td>\n",
       "      <td>NEGATIVE</td>\n",
       "      <td>NEGATIVE</td>\n",
       "      <td>0.500118</td>\n",
       "      <td>370</td>\n",
       "    </tr>\n",
       "    <tr>\n",
       "      <th>57762</th>\n",
       "      <td>I felt that the performers were very good, esp...</td>\n",
       "      <td>4.0</td>\n",
       "      <td>POSITIVE</td>\n",
       "      <td>POSITIVE</td>\n",
       "      <td>POSITIVE</td>\n",
       "      <td>NEGATIVE</td>\n",
       "      <td>0.500121</td>\n",
       "      <td>662</td>\n",
       "    </tr>\n",
       "    <tr>\n",
       "      <th>163432</th>\n",
       "      <td>Excellent food and service. Have been here 4 t...</td>\n",
       "      <td>4.0</td>\n",
       "      <td>POSITIVE</td>\n",
       "      <td>POSITIVE</td>\n",
       "      <td>POSITIVE</td>\n",
       "      <td>POSITIVE</td>\n",
       "      <td>0.500127</td>\n",
       "      <td>150</td>\n",
       "    </tr>\n",
       "    <tr>\n",
       "      <th>15552</th>\n",
       "      <td>Pizza was good but I called in and ordered 10 ...</td>\n",
       "      <td>1.0</td>\n",
       "      <td>NEGATIVE</td>\n",
       "      <td>NEGATIVE</td>\n",
       "      <td>NEGATIVE</td>\n",
       "      <td>POSITIVE</td>\n",
       "      <td>0.500130</td>\n",
       "      <td>386</td>\n",
       "    </tr>\n",
       "    <tr>\n",
       "      <th>58397</th>\n",
       "      <td>Bought a Groupon with Vonny Ritchy, but after ...</td>\n",
       "      <td>1.0</td>\n",
       "      <td>NEGATIVE</td>\n",
       "      <td>NEGATIVE</td>\n",
       "      <td>NEGATIVE</td>\n",
       "      <td>POSITIVE</td>\n",
       "      <td>0.500144</td>\n",
       "      <td>240</td>\n",
       "    </tr>\n",
       "    <tr>\n",
       "      <th>115874</th>\n",
       "      <td>I came here for a girls weekend to celebrate a...</td>\n",
       "      <td>2.0</td>\n",
       "      <td>NEGATIVE</td>\n",
       "      <td>NEGATIVE</td>\n",
       "      <td>NEGATIVE</td>\n",
       "      <td>NEGATIVE</td>\n",
       "      <td>0.500151</td>\n",
       "      <td>1769</td>\n",
       "    </tr>\n",
       "    <tr>\n",
       "      <th>24330</th>\n",
       "      <td>about to go there this weekend but feedbacks r...</td>\n",
       "      <td>3.0</td>\n",
       "      <td>NEUTRAL</td>\n",
       "      <td>POSITIVE</td>\n",
       "      <td>NEGATIVE</td>\n",
       "      <td>NEGATIVE</td>\n",
       "      <td>0.500157</td>\n",
       "      <td>317</td>\n",
       "    </tr>\n",
       "    <tr>\n",
       "      <th>17039</th>\n",
       "      <td>I had dinner here recently and wait service wa...</td>\n",
       "      <td>2.0</td>\n",
       "      <td>NEGATIVE</td>\n",
       "      <td>NEGATIVE</td>\n",
       "      <td>NEGATIVE</td>\n",
       "      <td>POSITIVE</td>\n",
       "      <td>0.500193</td>\n",
       "      <td>542</td>\n",
       "    </tr>\n",
       "    <tr>\n",
       "      <th>156779</th>\n",
       "      <td>I haven't been to a Kmart in years, but we rec...</td>\n",
       "      <td>1.0</td>\n",
       "      <td>NEGATIVE</td>\n",
       "      <td>NEGATIVE</td>\n",
       "      <td>NEGATIVE</td>\n",
       "      <td>POSITIVE</td>\n",
       "      <td>0.500204</td>\n",
       "      <td>498</td>\n",
       "    </tr>\n",
       "    <tr>\n",
       "      <th>184186</th>\n",
       "      <td>The situation... Daughters prom dress zipper r...</td>\n",
       "      <td>5.0</td>\n",
       "      <td>POSITIVE</td>\n",
       "      <td>POSITIVE</td>\n",
       "      <td>POSITIVE</td>\n",
       "      <td>POSITIVE</td>\n",
       "      <td>0.500219</td>\n",
       "      <td>555</td>\n",
       "    </tr>\n",
       "    <tr>\n",
       "      <th>152973</th>\n",
       "      <td>The restaurant seems to mirror Raising Cane's....</td>\n",
       "      <td>2.0</td>\n",
       "      <td>NEGATIVE</td>\n",
       "      <td>NEGATIVE</td>\n",
       "      <td>NEGATIVE</td>\n",
       "      <td>NEGATIVE</td>\n",
       "      <td>0.500231</td>\n",
       "      <td>649</td>\n",
       "    </tr>\n",
       "    <tr>\n",
       "      <th>117022</th>\n",
       "      <td>Came here for HH after golf late Thur afternoo...</td>\n",
       "      <td>3.0</td>\n",
       "      <td>NEUTRAL</td>\n",
       "      <td>POSITIVE</td>\n",
       "      <td>NEGATIVE</td>\n",
       "      <td>NEGATIVE</td>\n",
       "      <td>0.500251</td>\n",
       "      <td>362</td>\n",
       "    </tr>\n",
       "    <tr>\n",
       "      <th>94687</th>\n",
       "      <td>First of all....I've been here before loved th...</td>\n",
       "      <td>1.0</td>\n",
       "      <td>NEGATIVE</td>\n",
       "      <td>NEGATIVE</td>\n",
       "      <td>NEGATIVE</td>\n",
       "      <td>NEGATIVE</td>\n",
       "      <td>0.500266</td>\n",
       "      <td>628</td>\n",
       "    </tr>\n",
       "  </tbody>\n",
       "</table>\n",
       "</div>"
      ],
      "text/plain": [
       "                                                     text  stars pos_neg_neu  \\\n",
       "76930   With new owners --QuadReal Property Management...    3.0     NEUTRAL   \n",
       "2583    Man... people freak out over this place, but I...    3.0     NEUTRAL   \n",
       "77199   Truly disappointed since Chef Nunez left.  I h...    2.0    NEGATIVE   \n",
       "37989   This club is close to home but it's time to gi...    2.0    NEGATIVE   \n",
       "143029  The most boring bar I been to in Mississauga p...    1.0    NEGATIVE   \n",
       "73874   No amount of research could've prepared me for...    4.0    POSITIVE   \n",
       "114337  NO! Do Not Bother!\\n\\nOrdered 2 pizzas, they w...    1.0    NEGATIVE   \n",
       "132527  Don't bother with dollar margarita Tuesdays. T...    2.0    NEGATIVE   \n",
       "57762   I felt that the performers were very good, esp...    4.0    POSITIVE   \n",
       "163432  Excellent food and service. Have been here 4 t...    4.0    POSITIVE   \n",
       "15552   Pizza was good but I called in and ordered 10 ...    1.0    NEGATIVE   \n",
       "58397   Bought a Groupon with Vonny Ritchy, but after ...    1.0    NEGATIVE   \n",
       "115874  I came here for a girls weekend to celebrate a...    2.0    NEGATIVE   \n",
       "24330   about to go there this weekend but feedbacks r...    3.0     NEUTRAL   \n",
       "17039   I had dinner here recently and wait service wa...    2.0    NEGATIVE   \n",
       "156779  I haven't been to a Kmart in years, but we rec...    1.0    NEGATIVE   \n",
       "184186  The situation... Daughters prom dress zipper r...    5.0    POSITIVE   \n",
       "152973  The restaurant seems to mirror Raising Cane's....    2.0    NEGATIVE   \n",
       "117022  Came here for HH after golf late Thur afternoo...    3.0     NEUTRAL   \n",
       "94687   First of all....I've been here before loved th...    1.0    NEGATIVE   \n",
       "\n",
       "       pos_neg_3_is_pos pos_neg_3_is_neg      pred  pred_prob  str_len  \n",
       "76930          POSITIVE         NEGATIVE  POSITIVE   0.500061      519  \n",
       "2583           POSITIVE         NEGATIVE  NEGATIVE   0.500076      770  \n",
       "77199          NEGATIVE         NEGATIVE  POSITIVE   0.500078      936  \n",
       "37989          NEGATIVE         NEGATIVE  POSITIVE   0.500093      329  \n",
       "143029         NEGATIVE         NEGATIVE  POSITIVE   0.500099      130  \n",
       "73874          POSITIVE         POSITIVE  POSITIVE   0.500100     1708  \n",
       "114337         NEGATIVE         NEGATIVE  POSITIVE   0.500107      898  \n",
       "132527         NEGATIVE         NEGATIVE  NEGATIVE   0.500118      370  \n",
       "57762          POSITIVE         POSITIVE  NEGATIVE   0.500121      662  \n",
       "163432         POSITIVE         POSITIVE  POSITIVE   0.500127      150  \n",
       "15552          NEGATIVE         NEGATIVE  POSITIVE   0.500130      386  \n",
       "58397          NEGATIVE         NEGATIVE  POSITIVE   0.500144      240  \n",
       "115874         NEGATIVE         NEGATIVE  NEGATIVE   0.500151     1769  \n",
       "24330          POSITIVE         NEGATIVE  NEGATIVE   0.500157      317  \n",
       "17039          NEGATIVE         NEGATIVE  POSITIVE   0.500193      542  \n",
       "156779         NEGATIVE         NEGATIVE  POSITIVE   0.500204      498  \n",
       "184186         POSITIVE         POSITIVE  POSITIVE   0.500219      555  \n",
       "152973         NEGATIVE         NEGATIVE  NEGATIVE   0.500231      649  \n",
       "117022         POSITIVE         NEGATIVE  NEGATIVE   0.500251      362  \n",
       "94687          NEGATIVE         NEGATIVE  NEGATIVE   0.500266      628  "
      ]
     },
     "execution_count": 79,
     "metadata": {},
     "output_type": "execute_result"
    }
   ],
   "source": [
    "df.sort_values(\"pred_prob\").head(20)"
   ]
  },
  {
   "cell_type": "code",
   "execution_count": 91,
   "metadata": {},
   "outputs": [
    {
     "name": "stdout",
     "output_type": "stream",
     "text": [
      "2.0\n",
      "Truly disappointed since Chef Nunez left.  I have been back many times & it's not even close to the beginning when there was impeccable service.  \n",
      "\n",
      "Bartenders seem uninterested in serving you, unless you are a regular on video poker & most have no clue about wine.  Not sure why this restaurant was changed from Kennedy's to Presidio to Whist... when it was Kennedy's the menu (tuna chips), bartenders & wine cellar & service was fantastic.  \n",
      "\n",
      "Brunch at Whist used to be delicious w/ a unique Bloody Mary bar.  The Lobster Roll at lunch was my all time fav.  Once it came out, Chef Nunez saw it & ran it back to the kitchen, said that it was on the wrong bread.  Quite the service!  After he left, it's been downhill.  I had the lobster roll twice & both times it came out on different bread so to say the least the service is inconsistent from the kitchen to sitting at the bar.  \n",
      "\n",
      "May come back when they change it to whatever's next.\n"
     ]
    }
   ],
   "source": [
    "single = df.iloc[77199]\n",
    "print(single['stars'])\n",
    "print(single['text'])"
   ]
  },
  {
   "cell_type": "code",
   "execution_count": 92,
   "metadata": {},
   "outputs": [
    {
     "name": "stdout",
     "output_type": "stream",
     "text": [
      "Brunch at Whist used to be delicious w/ a unique Bloody Mary bar. The Lobster Roll at lunch was my all time fav. After he left, it's been downhill. I had the lobster roll twice & both times it came out on different bread. May come back when they change it to whatever's next.\n"
     ]
    }
   ],
   "source": [
    "summary = ts.summarize(single['text'])\n",
    "print(summary)"
   ]
  },
  {
   "cell_type": "code",
   "execution_count": 93,
   "metadata": {},
   "outputs": [
    {
     "data": {
      "text/plain": [
       "(('__label__POSITIVE',), array([0.96482998]))"
      ]
     },
     "execution_count": 93,
     "metadata": {},
     "output_type": "execute_result"
    }
   ],
   "source": [
    "model.predict(\" \".join(nltk.word_tokenize(summary)))"
   ]
  },
  {
   "cell_type": "code",
   "execution_count": 94,
   "metadata": {},
   "outputs": [
    {
     "data": {
      "text/plain": [
       "(('__label__POSITIVE',), array([0.5000785]))"
      ]
     },
     "execution_count": 94,
     "metadata": {},
     "output_type": "execute_result"
    }
   ],
   "source": [
    "model.predict(\" \".join(nltk.word_tokenize(single['text'])))"
   ]
  },
  {
   "cell_type": "code",
   "execution_count": 95,
   "metadata": {},
   "outputs": [],
   "source": [
    "false_samples = false_preds.sample(100, random_state=42)"
   ]
  },
  {
   "cell_type": "code",
   "execution_count": 97,
   "metadata": {},
   "outputs": [],
   "source": [
    "from tqdm.notebook import tqdm\n",
    "tqdm.pandas()"
   ]
  },
  {
   "cell_type": "code",
   "execution_count": 98,
   "metadata": {},
   "outputs": [
    {
     "data": {
      "application/vnd.jupyter.widget-view+json": {
       "model_id": "cde3e868224e4007817ee3fc16fec06a",
       "version_major": 2,
       "version_minor": 0
      },
      "text/plain": [
       "HBox(children=(FloatProgress(value=0.0), HTML(value='')))"
      ]
     },
     "metadata": {},
     "output_type": "display_data"
    },
    {
     "name": "stdout",
     "output_type": "stream",
     "text": [
      "\n"
     ]
    }
   ],
   "source": [
    "false_samples_summaries = false_samples['text'].progress_apply(summarize)"
   ]
  },
  {
   "cell_type": "code",
   "execution_count": 99,
   "metadata": {},
   "outputs": [
    {
     "data": {
      "text/plain": [
       "169993    The portions of pasta could feed a small natio...\n",
       "177078    The restuarant did have a vibrant feel to it a...\n",
       "87157     The Rainforest Cafe was a place my kids liked ...\n",
       "98481     The croissant was ok. A bit too crispy and fla...\n",
       "15037     The pizza should have been remade. They forgot...\n",
       "Name: text, dtype: object"
      ]
     },
     "execution_count": 99,
     "metadata": {},
     "output_type": "execute_result"
    }
   ],
   "source": [
    "false_samples_summaries.head()"
   ]
  },
  {
   "cell_type": "code",
   "execution_count": 100,
   "metadata": {},
   "outputs": [],
   "source": [
    "false_samples['summaries'] = false_samples_summaries"
   ]
  },
  {
   "cell_type": "code",
   "execution_count": 119,
   "metadata": {},
   "outputs": [],
   "source": [
    "def print_text_and_summary(row):\n",
    "    print(row['stars'])\n",
    "    print(\"\\n\")\n",
    "    print(\"---------------------------------------------------------------------------------------------------------------------------\")\n",
    "    print(\"\\n\")\n",
    "    print(row['text'])\n",
    "    print(\"\\n\")\n",
    "    print(\"---------------------------------------------------------------------------------------------------------------------------\")\n",
    "    print(\"\\n\")\n",
    "    print(row['summaries'])"
   ]
  },
  {
   "cell_type": "code",
   "execution_count": 120,
   "metadata": {},
   "outputs": [],
   "source": [
    "false_samples_iter = false_samples.iterrows()"
   ]
  },
  {
   "cell_type": "code",
   "execution_count": 123,
   "metadata": {},
   "outputs": [
    {
     "name": "stdout",
     "output_type": "stream",
     "text": [
      "2.0\n",
      "\n",
      "\n",
      "---------------------------------------------------------------------------------------------------------------------------\n",
      "\n",
      "\n",
      "We took the kids to Las Vegas and stayed at MGM. The Rainforest Cafe was a place my kids liked to hang out. We had breakfast there and we were NOT impressed. The service wasn't great and the food was so-so. However, the atmosphere was great and kept the kids entertained.\n",
      "\n",
      "\n",
      "---------------------------------------------------------------------------------------------------------------------------\n",
      "\n",
      "\n",
      "The Rainforest Cafe was a place my kids liked to hang out. We had breakfast there and we were NOT impressed. The service wasn't great and the food was so-so. However, the atmosphere was great and kept the kids entertained. We took the kids to Las Vegas and stayed at MGM.\n"
     ]
    }
   ],
   "source": [
    "print_text_and_summary(next(false_samples_iter)[1])"
   ]
  },
  {
   "cell_type": "code",
   "execution_count": 124,
   "metadata": {},
   "outputs": [
    {
     "data": {
      "application/vnd.jupyter.widget-view+json": {
       "model_id": "648ca8ecd55949c6b453a3f67f64dcd1",
       "version_major": 2,
       "version_minor": 0
      },
      "text/plain": [
       "VBox(children=(HBox(children=(IntProgress(value=0, description='0.00%', max=25), Label(value='0 / 25'))), HBox…"
      ]
     },
     "metadata": {},
     "output_type": "display_data"
    }
   ],
   "source": [
    "summary_pred = false_samples['summaries'].parallel_apply(predict)"
   ]
  },
  {
   "cell_type": "code",
   "execution_count": 125,
   "metadata": {},
   "outputs": [
    {
     "data": {
      "text/plain": [
       "169993    ((__label__POSITIVE,), [0.5720888376235962])\n",
       "177078    ((__label__POSITIVE,), [0.9473980069160461])\n",
       "87157     ((__label__POSITIVE,), [0.9924427270889282])\n",
       "98481     ((__label__POSITIVE,), [0.9750025868415833])\n",
       "15037     ((__label__NEGATIVE,), [0.8823544979095459])\n",
       "                              ...                     \n",
       "121583    ((__label__POSITIVE,), [0.6000519394874573])\n",
       "6997      ((__label__POSITIVE,), [0.5208702087402344])\n",
       "8107      ((__label__NEGATIVE,), [0.8519806861877441])\n",
       "136615    ((__label__POSITIVE,), [0.7053841948509216])\n",
       "134024    ((__label__POSITIVE,), [0.5641056299209595])\n",
       "Name: summaries, Length: 100, dtype: object"
      ]
     },
     "execution_count": 125,
     "metadata": {},
     "output_type": "execute_result"
    }
   ],
   "source": [
    "summary_pred"
   ]
  },
  {
   "cell_type": "code",
   "execution_count": 126,
   "metadata": {},
   "outputs": [],
   "source": [
    "summary_pred_labels = summary_pred.str[0].str[0].str.split(\"__\").str[-1]"
   ]
  },
  {
   "cell_type": "code",
   "execution_count": 127,
   "metadata": {},
   "outputs": [
    {
     "data": {
      "text/plain": [
       "169993    POSITIVE\n",
       "177078    POSITIVE\n",
       "87157     POSITIVE\n",
       "98481     POSITIVE\n",
       "15037     NEGATIVE\n",
       "            ...   \n",
       "121583    POSITIVE\n",
       "6997      POSITIVE\n",
       "8107      NEGATIVE\n",
       "136615    POSITIVE\n",
       "134024    POSITIVE\n",
       "Name: summaries, Length: 100, dtype: object"
      ]
     },
     "execution_count": 127,
     "metadata": {},
     "output_type": "execute_result"
    }
   ],
   "source": [
    "summary_pred_labels"
   ]
  },
  {
   "cell_type": "code",
   "execution_count": 128,
   "metadata": {},
   "outputs": [],
   "source": [
    "false_samples['summary_pred_label'] = summary_pred_labels"
   ]
  },
  {
   "cell_type": "code",
   "execution_count": 130,
   "metadata": {},
   "outputs": [
    {
     "data": {
      "text/html": [
       "<div>\n",
       "<style scoped>\n",
       "    .dataframe tbody tr th:only-of-type {\n",
       "        vertical-align: middle;\n",
       "    }\n",
       "\n",
       "    .dataframe tbody tr th {\n",
       "        vertical-align: top;\n",
       "    }\n",
       "\n",
       "    .dataframe thead th {\n",
       "        text-align: right;\n",
       "    }\n",
       "</style>\n",
       "<table border=\"1\" class=\"dataframe\">\n",
       "  <thead>\n",
       "    <tr style=\"text-align: right;\">\n",
       "      <th></th>\n",
       "      <th>text</th>\n",
       "      <th>stars</th>\n",
       "      <th>pos_neg_neu</th>\n",
       "      <th>pos_neg_3_is_pos</th>\n",
       "      <th>pos_neg_3_is_neg</th>\n",
       "      <th>pred</th>\n",
       "      <th>summaries</th>\n",
       "      <th>summary_pred_label</th>\n",
       "    </tr>\n",
       "  </thead>\n",
       "  <tbody>\n",
       "    <tr>\n",
       "      <th>169993</th>\n",
       "      <td>So this meal was (for me) the biggest \"dud\" of...</td>\n",
       "      <td>3.0</td>\n",
       "      <td>NEUTRAL</td>\n",
       "      <td>POSITIVE</td>\n",
       "      <td>NEGATIVE</td>\n",
       "      <td>NEGATIVE</td>\n",
       "      <td>The portions of pasta could feed a small natio...</td>\n",
       "      <td>POSITIVE</td>\n",
       "    </tr>\n",
       "    <tr>\n",
       "      <th>177078</th>\n",
       "      <td>I was a bit disappointed with our overall lunc...</td>\n",
       "      <td>3.0</td>\n",
       "      <td>NEUTRAL</td>\n",
       "      <td>POSITIVE</td>\n",
       "      <td>NEGATIVE</td>\n",
       "      <td>NEGATIVE</td>\n",
       "      <td>The restuarant did have a vibrant feel to it a...</td>\n",
       "      <td>POSITIVE</td>\n",
       "    </tr>\n",
       "    <tr>\n",
       "      <th>87157</th>\n",
       "      <td>We took the kids to Las Vegas and stayed at MG...</td>\n",
       "      <td>2.0</td>\n",
       "      <td>NEGATIVE</td>\n",
       "      <td>NEGATIVE</td>\n",
       "      <td>NEGATIVE</td>\n",
       "      <td>POSITIVE</td>\n",
       "      <td>The Rainforest Cafe was a place my kids liked ...</td>\n",
       "      <td>POSITIVE</td>\n",
       "    </tr>\n",
       "    <tr>\n",
       "      <th>98481</th>\n",
       "      <td>Only giving a review on the croissant. I went ...</td>\n",
       "      <td>2.0</td>\n",
       "      <td>NEGATIVE</td>\n",
       "      <td>NEGATIVE</td>\n",
       "      <td>NEGATIVE</td>\n",
       "      <td>POSITIVE</td>\n",
       "      <td>The croissant was ok. A bit too crispy and fla...</td>\n",
       "      <td>POSITIVE</td>\n",
       "    </tr>\n",
       "    <tr>\n",
       "      <th>15037</th>\n",
       "      <td>Basic Pizza Hut pizza. Not good, not horrible....</td>\n",
       "      <td>3.0</td>\n",
       "      <td>NEUTRAL</td>\n",
       "      <td>POSITIVE</td>\n",
       "      <td>NEGATIVE</td>\n",
       "      <td>NEGATIVE</td>\n",
       "      <td>The pizza should have been remade. They forgot...</td>\n",
       "      <td>NEGATIVE</td>\n",
       "    </tr>\n",
       "  </tbody>\n",
       "</table>\n",
       "</div>"
      ],
      "text/plain": [
       "                                                     text  stars pos_neg_neu  \\\n",
       "169993  So this meal was (for me) the biggest \"dud\" of...    3.0     NEUTRAL   \n",
       "177078  I was a bit disappointed with our overall lunc...    3.0     NEUTRAL   \n",
       "87157   We took the kids to Las Vegas and stayed at MG...    2.0    NEGATIVE   \n",
       "98481   Only giving a review on the croissant. I went ...    2.0    NEGATIVE   \n",
       "15037   Basic Pizza Hut pizza. Not good, not horrible....    3.0     NEUTRAL   \n",
       "\n",
       "       pos_neg_3_is_pos pos_neg_3_is_neg      pred  \\\n",
       "169993         POSITIVE         NEGATIVE  NEGATIVE   \n",
       "177078         POSITIVE         NEGATIVE  NEGATIVE   \n",
       "87157          NEGATIVE         NEGATIVE  POSITIVE   \n",
       "98481          NEGATIVE         NEGATIVE  POSITIVE   \n",
       "15037          POSITIVE         NEGATIVE  NEGATIVE   \n",
       "\n",
       "                                                summaries summary_pred_label  \n",
       "169993  The portions of pasta could feed a small natio...           POSITIVE  \n",
       "177078  The restuarant did have a vibrant feel to it a...           POSITIVE  \n",
       "87157   The Rainforest Cafe was a place my kids liked ...           POSITIVE  \n",
       "98481   The croissant was ok. A bit too crispy and fla...           POSITIVE  \n",
       "15037   The pizza should have been remade. They forgot...           NEGATIVE  "
      ]
     },
     "execution_count": 130,
     "metadata": {},
     "output_type": "execute_result"
    }
   ],
   "source": [
    "false_samples.head()"
   ]
  },
  {
   "cell_type": "code",
   "execution_count": 129,
   "metadata": {},
   "outputs": [
    {
     "data": {
      "text/plain": [
       "0.26"
      ]
     },
     "execution_count": 129,
     "metadata": {},
     "output_type": "execute_result"
    }
   ],
   "source": [
    "sum(false_samples['pos_neg_3_is_pos'] == false_samples['summary_pred_label']) / len(false_samples)"
   ]
  },
  {
   "cell_type": "code",
   "execution_count": 132,
   "metadata": {},
   "outputs": [
    {
     "data": {
      "text/plain": [
       "0.0"
      ]
     },
     "execution_count": 132,
     "metadata": {},
     "output_type": "execute_result"
    }
   ],
   "source": [
    "sum(false_samples['pos_neg_3_is_pos'] == false_samples['pred']) / len(false_samples)"
   ]
  },
  {
   "cell_type": "code",
   "execution_count": 133,
   "metadata": {},
   "outputs": [],
   "source": [
    "true_samples = true_preds.sample(100, random_state=42)"
   ]
  },
  {
   "cell_type": "code",
   "execution_count": 134,
   "metadata": {},
   "outputs": [
    {
     "data": {
      "application/vnd.jupyter.widget-view+json": {
       "model_id": "5b4c3f04051649a886b85196e7402eea",
       "version_major": 2,
       "version_minor": 0
      },
      "text/plain": [
       "HBox(children=(FloatProgress(value=0.0), HTML(value='')))"
      ]
     },
     "metadata": {},
     "output_type": "display_data"
    },
    {
     "name": "stdout",
     "output_type": "stream",
     "text": [
      "\n"
     ]
    }
   ],
   "source": [
    "true_samples_summaries = true_samples['text'].progress_apply(summarize)"
   ]
  },
  {
   "cell_type": "code",
   "execution_count": 137,
   "metadata": {},
   "outputs": [
    {
     "data": {
      "text/plain": [
       "164009    The climate control of each exhibit was done p...\n",
       "132178    We had a coupon for 50% off that was printed i...\n",
       "77497     The J.W. Marriot is the only one I would retur...\n",
       "13682     Bring wine, your person and some snacks and en...\n",
       "46718     This is the 1lb cod sandwich on whole wheat. F...\n",
       "Name: text, dtype: object"
      ]
     },
     "execution_count": 137,
     "metadata": {},
     "output_type": "execute_result"
    }
   ],
   "source": [
    "true_samples_summaries.head()"
   ]
  },
  {
   "cell_type": "code",
   "execution_count": 138,
   "metadata": {},
   "outputs": [],
   "source": [
    "true_samples['summaries'] = true_samples_summaries"
   ]
  },
  {
   "cell_type": "code",
   "execution_count": 139,
   "metadata": {},
   "outputs": [],
   "source": [
    "true_samples_iter = true_samples.iterrows()"
   ]
  },
  {
   "cell_type": "code",
   "execution_count": 140,
   "metadata": {},
   "outputs": [
    {
     "name": "stdout",
     "output_type": "stream",
     "text": [
      "2.0\n",
      "\n",
      "\n",
      "---------------------------------------------------------------------------------------------------------------------------\n",
      "\n",
      "\n",
      "Ok, I admit I did expected more from Biodome but then I looked at the price again and realized that what you pay for is what you get.\n",
      "\n",
      "I had student discount offer even though I was just a visitor of Montreal. The climate control of each exhibit was done pretty well. I was sweating like crazy when I was in the rainforest. I liked how the animals were in plain view and it wasn't hard to track them down. Each exhibits were short and before you knew it, it was over. The entire Biodome can be done under an hour which isn't so exciting and a lot of the interactive monitors were either broken or weren't on. So, there were some animals which I have no idea what they were since the info booth was off.\n",
      "\n",
      "I don't think Biodome was worth the full adult price but if you can get it at a discount you'll be much more happier. I was definitely disappointed, makes me wonder how the Insectarium and Botanical Garden would've been like.\n",
      "\n",
      "\n",
      "---------------------------------------------------------------------------------------------------------------------------\n",
      "\n",
      "\n",
      "The climate control of each exhibit was done pretty well. I liked how the animals were in plain view and it wasn't hard to track them down. The entire Biodome can be done under an hour which isn't so exciting and a lot of the interactive monitors were either broken or weren't on. I was definitely disappointed, makes me wonder how the Insectarium and Botanical Garden would've been.\n"
     ]
    }
   ],
   "source": [
    "print_text_and_summary(next(true_samples_iter)[1])"
   ]
  },
  {
   "cell_type": "code",
   "execution_count": 141,
   "metadata": {},
   "outputs": [
    {
     "data": {
      "application/vnd.jupyter.widget-view+json": {
       "model_id": "cfb0755fb996415f9f2d2b7ff3c4d196",
       "version_major": 2,
       "version_minor": 0
      },
      "text/plain": [
       "VBox(children=(HBox(children=(IntProgress(value=0, description='0.00%', max=25), Label(value='0 / 25'))), HBox…"
      ]
     },
     "metadata": {},
     "output_type": "display_data"
    }
   ],
   "source": [
    "summary_pred = true_samples['summaries'].parallel_apply(predict)"
   ]
  },
  {
   "cell_type": "code",
   "execution_count": 142,
   "metadata": {},
   "outputs": [],
   "source": [
    "summary_pred_labels = summary_pred.str[0].str[0].str.split(\"__\").str[-1]"
   ]
  },
  {
   "cell_type": "code",
   "execution_count": 143,
   "metadata": {},
   "outputs": [],
   "source": [
    "true_samples['summary_pred_label'] = summary_pred_labels"
   ]
  },
  {
   "cell_type": "code",
   "execution_count": 144,
   "metadata": {},
   "outputs": [
    {
     "data": {
      "text/html": [
       "<div>\n",
       "<style scoped>\n",
       "    .dataframe tbody tr th:only-of-type {\n",
       "        vertical-align: middle;\n",
       "    }\n",
       "\n",
       "    .dataframe tbody tr th {\n",
       "        vertical-align: top;\n",
       "    }\n",
       "\n",
       "    .dataframe thead th {\n",
       "        text-align: right;\n",
       "    }\n",
       "</style>\n",
       "<table border=\"1\" class=\"dataframe\">\n",
       "  <thead>\n",
       "    <tr style=\"text-align: right;\">\n",
       "      <th></th>\n",
       "      <th>text</th>\n",
       "      <th>stars</th>\n",
       "      <th>pos_neg_neu</th>\n",
       "      <th>pos_neg_3_is_pos</th>\n",
       "      <th>pos_neg_3_is_neg</th>\n",
       "      <th>pred</th>\n",
       "      <th>summaries</th>\n",
       "      <th>summary_pred_label</th>\n",
       "    </tr>\n",
       "  </thead>\n",
       "  <tbody>\n",
       "    <tr>\n",
       "      <th>164009</th>\n",
       "      <td>Ok, I admit I did expected more from Biodome b...</td>\n",
       "      <td>2.0</td>\n",
       "      <td>NEGATIVE</td>\n",
       "      <td>NEGATIVE</td>\n",
       "      <td>NEGATIVE</td>\n",
       "      <td>NEGATIVE</td>\n",
       "      <td>The climate control of each exhibit was done p...</td>\n",
       "      <td>NEGATIVE</td>\n",
       "    </tr>\n",
       "    <tr>\n",
       "      <th>132178</th>\n",
       "      <td>Poor customer service. We had a coupon for 50%...</td>\n",
       "      <td>1.0</td>\n",
       "      <td>NEGATIVE</td>\n",
       "      <td>NEGATIVE</td>\n",
       "      <td>NEGATIVE</td>\n",
       "      <td>NEGATIVE</td>\n",
       "      <td>We had a coupon for 50% off that was printed i...</td>\n",
       "      <td>NEGATIVE</td>\n",
       "    </tr>\n",
       "    <tr>\n",
       "      <th>77497</th>\n",
       "      <td>This is a definite recommendation from me. Las...</td>\n",
       "      <td>5.0</td>\n",
       "      <td>POSITIVE</td>\n",
       "      <td>POSITIVE</td>\n",
       "      <td>POSITIVE</td>\n",
       "      <td>POSITIVE</td>\n",
       "      <td>The J.W. Marriot is the only one I would retur...</td>\n",
       "      <td>POSITIVE</td>\n",
       "    </tr>\n",
       "    <tr>\n",
       "      <th>13682</th>\n",
       "      <td>Free movies under the stars during the summer....</td>\n",
       "      <td>5.0</td>\n",
       "      <td>POSITIVE</td>\n",
       "      <td>POSITIVE</td>\n",
       "      <td>POSITIVE</td>\n",
       "      <td>POSITIVE</td>\n",
       "      <td>Bring wine, your person and some snacks and en...</td>\n",
       "      <td>POSITIVE</td>\n",
       "    </tr>\n",
       "    <tr>\n",
       "      <th>46718</th>\n",
       "      <td>Fabulous cod sandwich and amazing seafood shop...</td>\n",
       "      <td>5.0</td>\n",
       "      <td>POSITIVE</td>\n",
       "      <td>POSITIVE</td>\n",
       "      <td>POSITIVE</td>\n",
       "      <td>POSITIVE</td>\n",
       "      <td>This is the 1lb cod sandwich on whole wheat. F...</td>\n",
       "      <td>POSITIVE</td>\n",
       "    </tr>\n",
       "  </tbody>\n",
       "</table>\n",
       "</div>"
      ],
      "text/plain": [
       "                                                     text  stars pos_neg_neu  \\\n",
       "164009  Ok, I admit I did expected more from Biodome b...    2.0    NEGATIVE   \n",
       "132178  Poor customer service. We had a coupon for 50%...    1.0    NEGATIVE   \n",
       "77497   This is a definite recommendation from me. Las...    5.0    POSITIVE   \n",
       "13682   Free movies under the stars during the summer....    5.0    POSITIVE   \n",
       "46718   Fabulous cod sandwich and amazing seafood shop...    5.0    POSITIVE   \n",
       "\n",
       "       pos_neg_3_is_pos pos_neg_3_is_neg      pred  \\\n",
       "164009         NEGATIVE         NEGATIVE  NEGATIVE   \n",
       "132178         NEGATIVE         NEGATIVE  NEGATIVE   \n",
       "77497          POSITIVE         POSITIVE  POSITIVE   \n",
       "13682          POSITIVE         POSITIVE  POSITIVE   \n",
       "46718          POSITIVE         POSITIVE  POSITIVE   \n",
       "\n",
       "                                                summaries summary_pred_label  \n",
       "164009  The climate control of each exhibit was done p...           NEGATIVE  \n",
       "132178  We had a coupon for 50% off that was printed i...           NEGATIVE  \n",
       "77497   The J.W. Marriot is the only one I would retur...           POSITIVE  \n",
       "13682   Bring wine, your person and some snacks and en...           POSITIVE  \n",
       "46718   This is the 1lb cod sandwich on whole wheat. F...           POSITIVE  "
      ]
     },
     "execution_count": 144,
     "metadata": {},
     "output_type": "execute_result"
    }
   ],
   "source": [
    "true_samples.head()"
   ]
  },
  {
   "cell_type": "code",
   "execution_count": 145,
   "metadata": {},
   "outputs": [
    {
     "data": {
      "text/plain": [
       "0.96"
      ]
     },
     "execution_count": 145,
     "metadata": {},
     "output_type": "execute_result"
    }
   ],
   "source": [
    "sum(true_samples['pos_neg_3_is_pos'] == true_samples['summary_pred_label']) / len(true_samples)"
   ]
  },
  {
   "cell_type": "code",
   "execution_count": 146,
   "metadata": {},
   "outputs": [
    {
     "data": {
      "text/plain": [
       "1.0"
      ]
     },
     "execution_count": 146,
     "metadata": {},
     "output_type": "execute_result"
    }
   ],
   "source": [
    "sum(true_samples['pos_neg_3_is_pos'] == true_samples['pred']) / len(true_samples)"
   ]
  },
  {
   "cell_type": "code",
   "execution_count": 147,
   "metadata": {},
   "outputs": [],
   "source": [
    "samples = pd.concat([true_samples, false_samples])"
   ]
  },
  {
   "cell_type": "code",
   "execution_count": 148,
   "metadata": {},
   "outputs": [
    {
     "data": {
      "text/html": [
       "<div>\n",
       "<style scoped>\n",
       "    .dataframe tbody tr th:only-of-type {\n",
       "        vertical-align: middle;\n",
       "    }\n",
       "\n",
       "    .dataframe tbody tr th {\n",
       "        vertical-align: top;\n",
       "    }\n",
       "\n",
       "    .dataframe thead th {\n",
       "        text-align: right;\n",
       "    }\n",
       "</style>\n",
       "<table border=\"1\" class=\"dataframe\">\n",
       "  <thead>\n",
       "    <tr style=\"text-align: right;\">\n",
       "      <th></th>\n",
       "      <th>text</th>\n",
       "      <th>stars</th>\n",
       "      <th>pos_neg_neu</th>\n",
       "      <th>pos_neg_3_is_pos</th>\n",
       "      <th>pos_neg_3_is_neg</th>\n",
       "      <th>pred</th>\n",
       "      <th>summaries</th>\n",
       "      <th>summary_pred_label</th>\n",
       "    </tr>\n",
       "  </thead>\n",
       "  <tbody>\n",
       "    <tr>\n",
       "      <th>164009</th>\n",
       "      <td>Ok, I admit I did expected more from Biodome b...</td>\n",
       "      <td>2.0</td>\n",
       "      <td>NEGATIVE</td>\n",
       "      <td>NEGATIVE</td>\n",
       "      <td>NEGATIVE</td>\n",
       "      <td>NEGATIVE</td>\n",
       "      <td>The climate control of each exhibit was done p...</td>\n",
       "      <td>NEGATIVE</td>\n",
       "    </tr>\n",
       "    <tr>\n",
       "      <th>132178</th>\n",
       "      <td>Poor customer service. We had a coupon for 50%...</td>\n",
       "      <td>1.0</td>\n",
       "      <td>NEGATIVE</td>\n",
       "      <td>NEGATIVE</td>\n",
       "      <td>NEGATIVE</td>\n",
       "      <td>NEGATIVE</td>\n",
       "      <td>We had a coupon for 50% off that was printed i...</td>\n",
       "      <td>NEGATIVE</td>\n",
       "    </tr>\n",
       "    <tr>\n",
       "      <th>77497</th>\n",
       "      <td>This is a definite recommendation from me. Las...</td>\n",
       "      <td>5.0</td>\n",
       "      <td>POSITIVE</td>\n",
       "      <td>POSITIVE</td>\n",
       "      <td>POSITIVE</td>\n",
       "      <td>POSITIVE</td>\n",
       "      <td>The J.W. Marriot is the only one I would retur...</td>\n",
       "      <td>POSITIVE</td>\n",
       "    </tr>\n",
       "    <tr>\n",
       "      <th>13682</th>\n",
       "      <td>Free movies under the stars during the summer....</td>\n",
       "      <td>5.0</td>\n",
       "      <td>POSITIVE</td>\n",
       "      <td>POSITIVE</td>\n",
       "      <td>POSITIVE</td>\n",
       "      <td>POSITIVE</td>\n",
       "      <td>Bring wine, your person and some snacks and en...</td>\n",
       "      <td>POSITIVE</td>\n",
       "    </tr>\n",
       "    <tr>\n",
       "      <th>46718</th>\n",
       "      <td>Fabulous cod sandwich and amazing seafood shop...</td>\n",
       "      <td>5.0</td>\n",
       "      <td>POSITIVE</td>\n",
       "      <td>POSITIVE</td>\n",
       "      <td>POSITIVE</td>\n",
       "      <td>POSITIVE</td>\n",
       "      <td>This is the 1lb cod sandwich on whole wheat. F...</td>\n",
       "      <td>POSITIVE</td>\n",
       "    </tr>\n",
       "  </tbody>\n",
       "</table>\n",
       "</div>"
      ],
      "text/plain": [
       "                                                     text  stars pos_neg_neu  \\\n",
       "164009  Ok, I admit I did expected more from Biodome b...    2.0    NEGATIVE   \n",
       "132178  Poor customer service. We had a coupon for 50%...    1.0    NEGATIVE   \n",
       "77497   This is a definite recommendation from me. Las...    5.0    POSITIVE   \n",
       "13682   Free movies under the stars during the summer....    5.0    POSITIVE   \n",
       "46718   Fabulous cod sandwich and amazing seafood shop...    5.0    POSITIVE   \n",
       "\n",
       "       pos_neg_3_is_pos pos_neg_3_is_neg      pred  \\\n",
       "164009         NEGATIVE         NEGATIVE  NEGATIVE   \n",
       "132178         NEGATIVE         NEGATIVE  NEGATIVE   \n",
       "77497          POSITIVE         POSITIVE  POSITIVE   \n",
       "13682          POSITIVE         POSITIVE  POSITIVE   \n",
       "46718          POSITIVE         POSITIVE  POSITIVE   \n",
       "\n",
       "                                                summaries summary_pred_label  \n",
       "164009  The climate control of each exhibit was done p...           NEGATIVE  \n",
       "132178  We had a coupon for 50% off that was printed i...           NEGATIVE  \n",
       "77497   The J.W. Marriot is the only one I would retur...           POSITIVE  \n",
       "13682   Bring wine, your person and some snacks and en...           POSITIVE  \n",
       "46718   This is the 1lb cod sandwich on whole wheat. F...           POSITIVE  "
      ]
     },
     "execution_count": 148,
     "metadata": {},
     "output_type": "execute_result"
    }
   ],
   "source": [
    "samples.head()"
   ]
  },
  {
   "cell_type": "code",
   "execution_count": 149,
   "metadata": {},
   "outputs": [
    {
     "data": {
      "text/plain": [
       "0.61"
      ]
     },
     "execution_count": 149,
     "metadata": {},
     "output_type": "execute_result"
    }
   ],
   "source": [
    "sum(samples['pos_neg_3_is_pos'] == samples['summary_pred_label']) / len(samples)"
   ]
  },
  {
   "cell_type": "code",
   "execution_count": 150,
   "metadata": {},
   "outputs": [
    {
     "data": {
      "text/plain": [
       "0.5"
      ]
     },
     "execution_count": 150,
     "metadata": {},
     "output_type": "execute_result"
    }
   ],
   "source": [
    "sum(samples['pos_neg_3_is_pos'] == samples['pred']) / len(samples)"
   ]
  },
  {
   "cell_type": "code",
   "execution_count": 151,
   "metadata": {},
   "outputs": [],
   "source": [
    "random_samples = df.sample(200, random_state=42)"
   ]
  },
  {
   "cell_type": "code",
   "execution_count": 152,
   "metadata": {},
   "outputs": [
    {
     "data": {
      "application/vnd.jupyter.widget-view+json": {
       "model_id": "82272c33c1dd4d2d8060d49f27c12599",
       "version_major": 2,
       "version_minor": 0
      },
      "text/plain": [
       "HBox(children=(FloatProgress(value=0.0, max=200.0), HTML(value='')))"
      ]
     },
     "metadata": {},
     "output_type": "display_data"
    },
    {
     "name": "stdout",
     "output_type": "stream",
     "text": [
      "\n"
     ]
    }
   ],
   "source": [
    "random_samples_summaries = random_samples['text'].progress_apply(summarize)"
   ]
  },
  {
   "cell_type": "code",
   "execution_count": 153,
   "metadata": {},
   "outputs": [],
   "source": [
    "random_samples['summaries'] = random_samples_summaries"
   ]
  },
  {
   "cell_type": "code",
   "execution_count": 154,
   "metadata": {},
   "outputs": [
    {
     "data": {
      "application/vnd.jupyter.widget-view+json": {
       "model_id": "a567c99b1187454d83242a39cc6a695b",
       "version_major": 2,
       "version_minor": 0
      },
      "text/plain": [
       "VBox(children=(HBox(children=(IntProgress(value=0, description='0.00%', max=50), Label(value='0 / 50'))), HBox…"
      ]
     },
     "metadata": {},
     "output_type": "display_data"
    }
   ],
   "source": [
    "summary_pred = random_samples['summaries'].parallel_apply(predict)"
   ]
  },
  {
   "cell_type": "code",
   "execution_count": 155,
   "metadata": {},
   "outputs": [],
   "source": [
    "summary_pred_labels = summary_pred.str[0].str[0].str.split(\"__\").str[-1]"
   ]
  },
  {
   "cell_type": "code",
   "execution_count": 156,
   "metadata": {},
   "outputs": [],
   "source": [
    "random_samples['summary_pred_label'] = summary_pred_labels"
   ]
  },
  {
   "cell_type": "code",
   "execution_count": 158,
   "metadata": {},
   "outputs": [
    {
     "data": {
      "text/plain": [
       "0.92"
      ]
     },
     "execution_count": 158,
     "metadata": {},
     "output_type": "execute_result"
    }
   ],
   "source": [
    "sum(random_samples['pos_neg_3_is_pos'] == random_samples['summary_pred_label']) / len(random_samples)"
   ]
  },
  {
   "cell_type": "code",
   "execution_count": 159,
   "metadata": {},
   "outputs": [
    {
     "data": {
      "text/plain": [
       "0.935"
      ]
     },
     "execution_count": 159,
     "metadata": {},
     "output_type": "execute_result"
    }
   ],
   "source": [
    "sum(random_samples['pos_neg_3_is_pos'] == random_samples['pred']) / len(random_samples)"
   ]
  },
  {
   "cell_type": "code",
   "execution_count": null,
   "metadata": {},
   "outputs": [],
   "source": []
  }
 ],
 "metadata": {
  "kernelspec": {
   "display_name": "Python 3",
   "language": "python",
   "name": "python3"
  },
  "language_info": {
   "codemirror_mode": {
    "name": "ipython",
    "version": 3
   },
   "file_extension": ".py",
   "mimetype": "text/x-python",
   "name": "python",
   "nbconvert_exporter": "python",
   "pygments_lexer": "ipython3",
   "version": "3.7.6"
  }
 },
 "nbformat": 4,
 "nbformat_minor": 4
}
