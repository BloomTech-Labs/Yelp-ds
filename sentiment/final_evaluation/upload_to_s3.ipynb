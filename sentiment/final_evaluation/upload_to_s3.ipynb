{
 "cells": [
  {
   "cell_type": "code",
   "execution_count": 1,
   "metadata": {},
   "outputs": [],
   "source": [
    "import pandas as pd"
   ]
  },
  {
   "cell_type": "code",
   "execution_count": 2,
   "metadata": {},
   "outputs": [],
   "source": [
    "cu_preds = pd.read_csv(\"cu_preds.csv\", header=None, names=['idx', 'text', 'stars', 'pred'])"
   ]
  },
  {
   "cell_type": "code",
   "execution_count": 3,
   "metadata": {},
   "outputs": [
    {
     "data": {
      "text/html": [
       "<div>\n",
       "<style scoped>\n",
       "    .dataframe tbody tr th:only-of-type {\n",
       "        vertical-align: middle;\n",
       "    }\n",
       "\n",
       "    .dataframe tbody tr th {\n",
       "        vertical-align: top;\n",
       "    }\n",
       "\n",
       "    .dataframe thead th {\n",
       "        text-align: right;\n",
       "    }\n",
       "</style>\n",
       "<table border=\"1\" class=\"dataframe\">\n",
       "  <thead>\n",
       "    <tr style=\"text-align: right;\">\n",
       "      <th></th>\n",
       "      <th>idx</th>\n",
       "      <th>text</th>\n",
       "      <th>stars</th>\n",
       "      <th>pred</th>\n",
       "    </tr>\n",
       "  </thead>\n",
       "  <tbody>\n",
       "    <tr>\n",
       "      <th>0</th>\n",
       "      <td>14</td>\n",
       "      <td>Called for a 5:15 morning reservation. The dri...</td>\n",
       "      <td>5.0</td>\n",
       "      <td>5.112949</td>\n",
       "    </tr>\n",
       "    <tr>\n",
       "      <th>1</th>\n",
       "      <td>108</td>\n",
       "      <td>There are good things, and bad things about th...</td>\n",
       "      <td>2.0</td>\n",
       "      <td>2.203524</td>\n",
       "    </tr>\n",
       "    <tr>\n",
       "      <th>2</th>\n",
       "      <td>307</td>\n",
       "      <td>The building is lovely.  The remodel after But...</td>\n",
       "      <td>1.0</td>\n",
       "      <td>1.553763</td>\n",
       "    </tr>\n",
       "    <tr>\n",
       "      <th>3</th>\n",
       "      <td>424</td>\n",
       "      <td>LOVE LOVE LOVE this place! I'm a bit of a suck...</td>\n",
       "      <td>5.0</td>\n",
       "      <td>4.849468</td>\n",
       "    </tr>\n",
       "    <tr>\n",
       "      <th>4</th>\n",
       "      <td>522</td>\n",
       "      <td>The bread company is perfect for lunch. The pr...</td>\n",
       "      <td>4.0</td>\n",
       "      <td>4.852670</td>\n",
       "    </tr>\n",
       "  </tbody>\n",
       "</table>\n",
       "</div>"
      ],
      "text/plain": [
       "   idx                                               text  stars      pred\n",
       "0   14  Called for a 5:15 morning reservation. The dri...    5.0  5.112949\n",
       "1  108  There are good things, and bad things about th...    2.0  2.203524\n",
       "2  307  The building is lovely.  The remodel after But...    1.0  1.553763\n",
       "3  424  LOVE LOVE LOVE this place! I'm a bit of a suck...    5.0  4.849468\n",
       "4  522  The bread company is perfect for lunch. The pr...    4.0  4.852670"
      ]
     },
     "execution_count": 3,
     "metadata": {},
     "output_type": "execute_result"
    }
   ],
   "source": [
    "cu_preds.head()"
   ]
  },
  {
   "cell_type": "code",
   "execution_count": 4,
   "metadata": {},
   "outputs": [],
   "source": [
    "cu_preds.to_csv(\"s3://yelp-dataset-pt-9/spencer/data/sentiment/en/cu_preds.csv\", index=False)"
   ]
  },
  {
   "cell_type": "code",
   "execution_count": 5,
   "metadata": {},
   "outputs": [],
   "source": [
    "cu_preds = pd.read_csv(\"s3://yelp-dataset-pt-9/spencer/data/sentiment/en/cu_preds.csv\")"
   ]
  },
  {
   "cell_type": "code",
   "execution_count": 6,
   "metadata": {},
   "outputs": [
    {
     "data": {
      "text/html": [
       "<div>\n",
       "<style scoped>\n",
       "    .dataframe tbody tr th:only-of-type {\n",
       "        vertical-align: middle;\n",
       "    }\n",
       "\n",
       "    .dataframe tbody tr th {\n",
       "        vertical-align: top;\n",
       "    }\n",
       "\n",
       "    .dataframe thead th {\n",
       "        text-align: right;\n",
       "    }\n",
       "</style>\n",
       "<table border=\"1\" class=\"dataframe\">\n",
       "  <thead>\n",
       "    <tr style=\"text-align: right;\">\n",
       "      <th></th>\n",
       "      <th>idx</th>\n",
       "      <th>text</th>\n",
       "      <th>stars</th>\n",
       "      <th>pred</th>\n",
       "    </tr>\n",
       "  </thead>\n",
       "  <tbody>\n",
       "    <tr>\n",
       "      <th>0</th>\n",
       "      <td>14</td>\n",
       "      <td>Called for a 5:15 morning reservation. The dri...</td>\n",
       "      <td>5.0</td>\n",
       "      <td>5.112949</td>\n",
       "    </tr>\n",
       "    <tr>\n",
       "      <th>1</th>\n",
       "      <td>108</td>\n",
       "      <td>There are good things, and bad things about th...</td>\n",
       "      <td>2.0</td>\n",
       "      <td>2.203524</td>\n",
       "    </tr>\n",
       "    <tr>\n",
       "      <th>2</th>\n",
       "      <td>307</td>\n",
       "      <td>The building is lovely.  The remodel after But...</td>\n",
       "      <td>1.0</td>\n",
       "      <td>1.553763</td>\n",
       "    </tr>\n",
       "    <tr>\n",
       "      <th>3</th>\n",
       "      <td>424</td>\n",
       "      <td>LOVE LOVE LOVE this place! I'm a bit of a suck...</td>\n",
       "      <td>5.0</td>\n",
       "      <td>4.849468</td>\n",
       "    </tr>\n",
       "    <tr>\n",
       "      <th>4</th>\n",
       "      <td>522</td>\n",
       "      <td>The bread company is perfect for lunch. The pr...</td>\n",
       "      <td>4.0</td>\n",
       "      <td>4.852670</td>\n",
       "    </tr>\n",
       "  </tbody>\n",
       "</table>\n",
       "</div>"
      ],
      "text/plain": [
       "   idx                                               text  stars      pred\n",
       "0   14  Called for a 5:15 morning reservation. The dri...    5.0  5.112949\n",
       "1  108  There are good things, and bad things about th...    2.0  2.203524\n",
       "2  307  The building is lovely.  The remodel after But...    1.0  1.553763\n",
       "3  424  LOVE LOVE LOVE this place! I'm a bit of a suck...    5.0  4.849468\n",
       "4  522  The bread company is perfect for lunch. The pr...    4.0  4.852670"
      ]
     },
     "execution_count": 6,
     "metadata": {},
     "output_type": "execute_result"
    }
   ],
   "source": [
    "cu_preds.head()"
   ]
  },
  {
   "cell_type": "code",
   "execution_count": 7,
   "metadata": {},
   "outputs": [],
   "source": [
    "df1 = pd.read_csv(\"preds-copy.csv\", header=None, names=['idx', 'text', 'stars', 'pred'])\n",
    "df2 = pd.read_csv(\"preds.csv\", header=None, names=['idx', 'text', 'stars', 'pred'])"
   ]
  },
  {
   "cell_type": "code",
   "execution_count": 8,
   "metadata": {},
   "outputs": [
    {
     "data": {
      "text/plain": [
       "(837169, 4)"
      ]
     },
     "execution_count": 8,
     "metadata": {},
     "output_type": "execute_result"
    }
   ],
   "source": [
    "df = pd.concat([df1, df2]).reset_index(drop=True)\n",
    "df.shape"
   ]
  },
  {
   "cell_type": "code",
   "execution_count": 9,
   "metadata": {},
   "outputs": [
    {
     "data": {
      "text/plain": [
       "(837169, 4)"
      ]
     },
     "execution_count": 9,
     "metadata": {},
     "output_type": "execute_result"
    }
   ],
   "source": [
    "no_dup = df.drop_duplicates()\n",
    "no_dup.shape"
   ]
  },
  {
   "cell_type": "code",
   "execution_count": 10,
   "metadata": {},
   "outputs": [],
   "source": [
    "no_dup.to_csv(\"s3://yelp-dataset-pt-9/spencer/data/sentiment/en/val_pred.csv\", index=False)"
   ]
  },
  {
   "cell_type": "code",
   "execution_count": 11,
   "metadata": {},
   "outputs": [
    {
     "data": {
      "text/html": [
       "<div>\n",
       "<style scoped>\n",
       "    .dataframe tbody tr th:only-of-type {\n",
       "        vertical-align: middle;\n",
       "    }\n",
       "\n",
       "    .dataframe tbody tr th {\n",
       "        vertical-align: top;\n",
       "    }\n",
       "\n",
       "    .dataframe thead th {\n",
       "        text-align: right;\n",
       "    }\n",
       "</style>\n",
       "<table border=\"1\" class=\"dataframe\">\n",
       "  <thead>\n",
       "    <tr style=\"text-align: right;\">\n",
       "      <th></th>\n",
       "      <th>idx</th>\n",
       "      <th>text</th>\n",
       "      <th>stars</th>\n",
       "      <th>pred</th>\n",
       "    </tr>\n",
       "  </thead>\n",
       "  <tbody>\n",
       "    <tr>\n",
       "      <th>0</th>\n",
       "      <td>0</td>\n",
       "      <td>Really great local auto repair spot... really ...</td>\n",
       "      <td>5.0</td>\n",
       "      <td>4.891084</td>\n",
       "    </tr>\n",
       "    <tr>\n",
       "      <th>1</th>\n",
       "      <td>1</td>\n",
       "      <td>Best Oyster House in Toronto.  Great variety a...</td>\n",
       "      <td>5.0</td>\n",
       "      <td>5.034161</td>\n",
       "    </tr>\n",
       "    <tr>\n",
       "      <th>2</th>\n",
       "      <td>2</td>\n",
       "      <td>We thoroughly enjoy eating here. We go here at...</td>\n",
       "      <td>5.0</td>\n",
       "      <td>4.932011</td>\n",
       "    </tr>\n",
       "    <tr>\n",
       "      <th>3</th>\n",
       "      <td>3</td>\n",
       "      <td>OMG!!! So good!!!!  I was in AZ for work and I...</td>\n",
       "      <td>5.0</td>\n",
       "      <td>5.016096</td>\n",
       "    </tr>\n",
       "    <tr>\n",
       "      <th>4</th>\n",
       "      <td>4</td>\n",
       "      <td>We are here once over a year ago before we mov...</td>\n",
       "      <td>1.0</td>\n",
       "      <td>2.771281</td>\n",
       "    </tr>\n",
       "  </tbody>\n",
       "</table>\n",
       "</div>"
      ],
      "text/plain": [
       "   idx                                               text  stars      pred\n",
       "0    0  Really great local auto repair spot... really ...    5.0  4.891084\n",
       "1    1  Best Oyster House in Toronto.  Great variety a...    5.0  5.034161\n",
       "2    2  We thoroughly enjoy eating here. We go here at...    5.0  4.932011\n",
       "3    3  OMG!!! So good!!!!  I was in AZ for work and I...    5.0  5.016096\n",
       "4    4  We are here once over a year ago before we mov...    1.0  2.771281"
      ]
     },
     "execution_count": 11,
     "metadata": {},
     "output_type": "execute_result"
    }
   ],
   "source": [
    "df = pd.read_csv(\"s3://yelp-dataset-pt-9/spencer/data/sentiment/en/val_pred.csv\")\n",
    "df.head()"
   ]
  },
  {
   "cell_type": "code",
   "execution_count": 12,
   "metadata": {},
   "outputs": [
    {
     "data": {
      "text/html": [
       "<div>\n",
       "<style scoped>\n",
       "    .dataframe tbody tr th:only-of-type {\n",
       "        vertical-align: middle;\n",
       "    }\n",
       "\n",
       "    .dataframe tbody tr th {\n",
       "        vertical-align: top;\n",
       "    }\n",
       "\n",
       "    .dataframe thead th {\n",
       "        text-align: right;\n",
       "    }\n",
       "</style>\n",
       "<table border=\"1\" class=\"dataframe\">\n",
       "  <thead>\n",
       "    <tr style=\"text-align: right;\">\n",
       "      <th></th>\n",
       "      <th>idx</th>\n",
       "      <th>text</th>\n",
       "      <th>stars</th>\n",
       "      <th>pred</th>\n",
       "    </tr>\n",
       "  </thead>\n",
       "  <tbody>\n",
       "    <tr>\n",
       "      <th>837164</th>\n",
       "      <td>837164</td>\n",
       "      <td>I am a bona fide ice cream, fro yo,  and froze...</td>\n",
       "      <td>3.0</td>\n",
       "      <td>2.905407</td>\n",
       "    </tr>\n",
       "    <tr>\n",
       "      <th>837165</th>\n",
       "      <td>837165</td>\n",
       "      <td>Let's start off by saying I've only ever been ...</td>\n",
       "      <td>4.0</td>\n",
       "      <td>4.147695</td>\n",
       "    </tr>\n",
       "    <tr>\n",
       "      <th>837166</th>\n",
       "      <td>837166</td>\n",
       "      <td>\"For an extra dollar would you like to add gua...</td>\n",
       "      <td>1.0</td>\n",
       "      <td>1.884488</td>\n",
       "    </tr>\n",
       "    <tr>\n",
       "      <th>837167</th>\n",
       "      <td>837167</td>\n",
       "      <td>This was my first time here. The service is to...</td>\n",
       "      <td>5.0</td>\n",
       "      <td>4.921843</td>\n",
       "    </tr>\n",
       "    <tr>\n",
       "      <th>837168</th>\n",
       "      <td>837168</td>\n",
       "      <td>By now, I think we all know that Americans lik...</td>\n",
       "      <td>5.0</td>\n",
       "      <td>4.247588</td>\n",
       "    </tr>\n",
       "  </tbody>\n",
       "</table>\n",
       "</div>"
      ],
      "text/plain": [
       "           idx                                               text  stars  \\\n",
       "837164  837164  I am a bona fide ice cream, fro yo,  and froze...    3.0   \n",
       "837165  837165  Let's start off by saying I've only ever been ...    4.0   \n",
       "837166  837166  \"For an extra dollar would you like to add gua...    1.0   \n",
       "837167  837167  This was my first time here. The service is to...    5.0   \n",
       "837168  837168  By now, I think we all know that Americans lik...    5.0   \n",
       "\n",
       "            pred  \n",
       "837164  2.905407  \n",
       "837165  4.147695  \n",
       "837166  1.884488  \n",
       "837167  4.921843  \n",
       "837168  4.247588  "
      ]
     },
     "execution_count": 12,
     "metadata": {},
     "output_type": "execute_result"
    }
   ],
   "source": [
    "df.tail()"
   ]
  },
  {
   "cell_type": "code",
   "execution_count": null,
   "metadata": {},
   "outputs": [],
   "source": []
  }
 ],
 "metadata": {
  "kernelspec": {
   "display_name": "Python 3",
   "language": "python",
   "name": "python3"
  },
  "language_info": {
   "codemirror_mode": {
    "name": "ipython",
    "version": 3
   },
   "file_extension": ".py",
   "mimetype": "text/x-python",
   "name": "python",
   "nbconvert_exporter": "python",
   "pygments_lexer": "ipython3",
   "version": "3.7.6"
  }
 },
 "nbformat": 4,
 "nbformat_minor": 4
}
