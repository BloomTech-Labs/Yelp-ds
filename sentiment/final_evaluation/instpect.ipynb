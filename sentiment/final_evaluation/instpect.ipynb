{
 "cells": [
  {
   "cell_type": "code",
   "execution_count": 1,
   "metadata": {},
   "outputs": [],
   "source": [
    "import pandas as pd\n",
    "from ktrain import text\n",
    "from transformers import AutoTokenizer, AutoConfig, TFAutoModelForSequenceClassification\n",
    "from transformers import pipeline\n",
    "import fasttext\n",
    "import nltk\n",
    "import time"
   ]
  },
  {
   "cell_type": "code",
   "execution_count": 2,
   "metadata": {},
   "outputs": [
    {
     "data": {
      "application/vnd.jupyter.widget-view+json": {
       "model_id": "dab5efe90e884304ba4186228ca94438",
       "version_major": 2,
       "version_minor": 0
      },
      "text/plain": [
       "HBox(children=(FloatProgress(value=0.0, description='Downloading', max=230.0, style=ProgressStyle(description_…"
      ]
     },
     "metadata": {},
     "output_type": "display_data"
    },
    {
     "name": "stdout",
     "output_type": "stream",
     "text": [
      "\n"
     ]
    },
    {
     "name": "stderr",
     "output_type": "stream",
     "text": [
      "Warning : `load_model` does not return WordVectorModel or SupervisedModel any more, but a `FastText` object which is very similar.\n"
     ]
    }
   ],
   "source": [
    "ts = text.TransformerSummarizer()\n",
    "ts2 = pipeline(\"summarization\", model=\"t5-large\", tokenizer=\"t5-large\", framework=\"tf\")\n",
    "tokenizer = AutoTokenizer.from_pretrained('distilbert-base-uncased', use_fast=True)\n",
    "model = TFAutoModelForSequenceClassification.from_pretrained(\"model\")\n",
    "model_ft = fasttext.load_model(\"fasttext/model.bin\")"
   ]
  },
  {
   "cell_type": "code",
   "execution_count": 3,
   "metadata": {},
   "outputs": [],
   "source": [
    "def predict(text):\n",
    "    return model(tokenizer.encode(text, return_tensors='tf', max_length=512))[0].numpy()[0][0]\n",
    "\n",
    "def predict_ft(text):\n",
    "    return model_ft.predict(\" \".join(nltk.word_tokenize(text)))\n",
    "\n",
    "def print_and_summarize(row):\n",
    "    text = row['text']\n",
    "    stars = row['stars']\n",
    "    print(\"ORIGINAL TEXT\")\n",
    "    print(\"\\n\")\n",
    "    print(text)\n",
    "    print(\"\\n\")\n",
    "    print(\"-------------------------------------------------------------\")\n",
    "    print(\"\\n\")\n",
    "    print(\"summarizing...\")\n",
    "    start = time.time()\n",
    "    summary = ts.summarize(text)\n",
    "    print(f\"done. took {time.time() - start} seconds\")\n",
    "    print(\"\\n\")\n",
    "    print(\"SUMMARY\")\n",
    "    print(\"\\n\")\n",
    "    print(summary)\n",
    "    print(\"\\n\")\n",
    "    print(\"-------------------------------------------------------------\")\n",
    "    print(\"\\n\")\n",
    "    print(\"summarizing 2...\")\n",
    "    start = time.time()\n",
    "    summary2 = ts2(text, min_length=42, clean_up_tokenization_spaces=True, max_length=1024)[0]['summary_text']\n",
    "    print(f\"done. took {time.time() - start} seconds\")\n",
    "    print(\"\\n\")\n",
    "    print(\"SUMMARY 2\")\n",
    "    print(\"\\n\")\n",
    "    print(summary2)\n",
    "    print(\"\\n\")\n",
    "    print(\"-------------------------------------------------------------\")\n",
    "    print(\"\\n\")\n",
    "    print(\"original star\", stars)\n",
    "    print(\"\\n\")\n",
    "    print(\"original pred\", predict(text))\n",
    "    print(\"summary pred\", predict(summary))\n",
    "    print(\"summary2 pred\", predict(summary2))\n",
    "    print(\"original ft pred\", predict_ft(text))\n",
    "    print(\"summary ft pred\", predict_ft(summary))\n",
    "    print(\"summary2 ft pred\", predict_ft(summary2))"
   ]
  },
  {
   "cell_type": "code",
   "execution_count": 60,
   "metadata": {},
   "outputs": [],
   "source": [
    "df1 = pd.read_csv(\"preds-copy.csv\", header=None, names=['idx', 'text', 'stars', 'pred'])\n",
    "df2 = pd.read_csv(\"preds.csv\", header=None, names=['idx', 'text', 'stars', 'pred'])"
   ]
  },
  {
   "cell_type": "code",
   "execution_count": 61,
   "metadata": {},
   "outputs": [
    {
     "data": {
      "text/plain": [
       "((300823, 4), (339436, 4))"
      ]
     },
     "execution_count": 61,
     "metadata": {},
     "output_type": "execute_result"
    }
   ],
   "source": [
    "df1.shape, df2.shape"
   ]
  },
  {
   "cell_type": "code",
   "execution_count": 62,
   "metadata": {},
   "outputs": [
    {
     "data": {
      "text/html": [
       "<div>\n",
       "<style scoped>\n",
       "    .dataframe tbody tr th:only-of-type {\n",
       "        vertical-align: middle;\n",
       "    }\n",
       "\n",
       "    .dataframe tbody tr th {\n",
       "        vertical-align: top;\n",
       "    }\n",
       "\n",
       "    .dataframe thead th {\n",
       "        text-align: right;\n",
       "    }\n",
       "</style>\n",
       "<table border=\"1\" class=\"dataframe\">\n",
       "  <thead>\n",
       "    <tr style=\"text-align: right;\">\n",
       "      <th></th>\n",
       "      <th>idx</th>\n",
       "      <th>text</th>\n",
       "      <th>stars</th>\n",
       "      <th>pred</th>\n",
       "    </tr>\n",
       "  </thead>\n",
       "  <tbody>\n",
       "    <tr>\n",
       "      <th>300818</th>\n",
       "      <td>300818</td>\n",
       "      <td>Went for a late lunch around 3:30 and the plac...</td>\n",
       "      <td>4.0</td>\n",
       "      <td>3.385736</td>\n",
       "    </tr>\n",
       "    <tr>\n",
       "      <th>300819</th>\n",
       "      <td>300819</td>\n",
       "      <td>It receives a two star only because I was sitt...</td>\n",
       "      <td>2.0</td>\n",
       "      <td>1.963099</td>\n",
       "    </tr>\n",
       "    <tr>\n",
       "      <th>300820</th>\n",
       "      <td>300820</td>\n",
       "      <td>I ordered breakfast for my family this morning...</td>\n",
       "      <td>1.0</td>\n",
       "      <td>1.218617</td>\n",
       "    </tr>\n",
       "    <tr>\n",
       "      <th>300821</th>\n",
       "      <td>300821</td>\n",
       "      <td>The owner of Plant Wise, Michelle, really did ...</td>\n",
       "      <td>5.0</td>\n",
       "      <td>5.107769</td>\n",
       "    </tr>\n",
       "    <tr>\n",
       "      <th>300822</th>\n",
       "      <td>300822</td>\n",
       "      <td>If you want to go somewhere that you will be w...</td>\n",
       "      <td>5.0</td>\n",
       "      <td>5.020714</td>\n",
       "    </tr>\n",
       "  </tbody>\n",
       "</table>\n",
       "</div>"
      ],
      "text/plain": [
       "           idx                                               text  stars  \\\n",
       "300818  300818  Went for a late lunch around 3:30 and the plac...    4.0   \n",
       "300819  300819  It receives a two star only because I was sitt...    2.0   \n",
       "300820  300820  I ordered breakfast for my family this morning...    1.0   \n",
       "300821  300821  The owner of Plant Wise, Michelle, really did ...    5.0   \n",
       "300822  300822  If you want to go somewhere that you will be w...    5.0   \n",
       "\n",
       "            pred  \n",
       "300818  3.385736  \n",
       "300819  1.963099  \n",
       "300820  1.218617  \n",
       "300821  5.107769  \n",
       "300822  5.020714  "
      ]
     },
     "execution_count": 62,
     "metadata": {},
     "output_type": "execute_result"
    }
   ],
   "source": [
    "df1.tail()"
   ]
  },
  {
   "cell_type": "code",
   "execution_count": 63,
   "metadata": {},
   "outputs": [
    {
     "data": {
      "text/html": [
       "<div>\n",
       "<style scoped>\n",
       "    .dataframe tbody tr th:only-of-type {\n",
       "        vertical-align: middle;\n",
       "    }\n",
       "\n",
       "    .dataframe tbody tr th {\n",
       "        vertical-align: top;\n",
       "    }\n",
       "\n",
       "    .dataframe thead th {\n",
       "        text-align: right;\n",
       "    }\n",
       "</style>\n",
       "<table border=\"1\" class=\"dataframe\">\n",
       "  <thead>\n",
       "    <tr style=\"text-align: right;\">\n",
       "      <th></th>\n",
       "      <th>idx</th>\n",
       "      <th>text</th>\n",
       "      <th>stars</th>\n",
       "      <th>pred</th>\n",
       "    </tr>\n",
       "  </thead>\n",
       "  <tbody>\n",
       "    <tr>\n",
       "      <th>0</th>\n",
       "      <td>300823</td>\n",
       "      <td>We are waiting for our food. Seated in the bar...</td>\n",
       "      <td>2.0</td>\n",
       "      <td>2.385927</td>\n",
       "    </tr>\n",
       "    <tr>\n",
       "      <th>1</th>\n",
       "      <td>300824</td>\n",
       "      <td>This is the letter that I wrote and mailed to ...</td>\n",
       "      <td>2.0</td>\n",
       "      <td>1.487109</td>\n",
       "    </tr>\n",
       "    <tr>\n",
       "      <th>2</th>\n",
       "      <td>300825</td>\n",
       "      <td>My mom was visiting and she wanted to get her ...</td>\n",
       "      <td>5.0</td>\n",
       "      <td>5.124286</td>\n",
       "    </tr>\n",
       "    <tr>\n",
       "      <th>3</th>\n",
       "      <td>300826</td>\n",
       "      <td>Green chile and pork are like peanut butter an...</td>\n",
       "      <td>4.0</td>\n",
       "      <td>5.077338</td>\n",
       "    </tr>\n",
       "    <tr>\n",
       "      <th>4</th>\n",
       "      <td>300827</td>\n",
       "      <td>I booked massages and facials for two friends ...</td>\n",
       "      <td>4.0</td>\n",
       "      <td>5.047493</td>\n",
       "    </tr>\n",
       "  </tbody>\n",
       "</table>\n",
       "</div>"
      ],
      "text/plain": [
       "      idx                                               text  stars      pred\n",
       "0  300823  We are waiting for our food. Seated in the bar...    2.0  2.385927\n",
       "1  300824  This is the letter that I wrote and mailed to ...    2.0  1.487109\n",
       "2  300825  My mom was visiting and she wanted to get her ...    5.0  5.124286\n",
       "3  300826  Green chile and pork are like peanut butter an...    4.0  5.077338\n",
       "4  300827  I booked massages and facials for two friends ...    4.0  5.047493"
      ]
     },
     "execution_count": 63,
     "metadata": {},
     "output_type": "execute_result"
    }
   ],
   "source": [
    "df2.head()"
   ]
  },
  {
   "cell_type": "code",
   "execution_count": 64,
   "metadata": {},
   "outputs": [
    {
     "data": {
      "text/plain": [
       "(640259, 4)"
      ]
     },
     "execution_count": 64,
     "metadata": {},
     "output_type": "execute_result"
    }
   ],
   "source": [
    "df = pd.concat([df1, df2]).reset_index(drop=True)\n",
    "df.shape"
   ]
  },
  {
   "cell_type": "code",
   "execution_count": 9,
   "metadata": {},
   "outputs": [
    {
     "data": {
      "text/html": [
       "<div>\n",
       "<style scoped>\n",
       "    .dataframe tbody tr th:only-of-type {\n",
       "        vertical-align: middle;\n",
       "    }\n",
       "\n",
       "    .dataframe tbody tr th {\n",
       "        vertical-align: top;\n",
       "    }\n",
       "\n",
       "    .dataframe thead th {\n",
       "        text-align: right;\n",
       "    }\n",
       "</style>\n",
       "<table border=\"1\" class=\"dataframe\">\n",
       "  <thead>\n",
       "    <tr style=\"text-align: right;\">\n",
       "      <th></th>\n",
       "      <th>idx</th>\n",
       "      <th>text</th>\n",
       "      <th>stars</th>\n",
       "      <th>pred</th>\n",
       "    </tr>\n",
       "  </thead>\n",
       "  <tbody>\n",
       "    <tr>\n",
       "      <th>0</th>\n",
       "      <td>0</td>\n",
       "      <td>Really great local auto repair spot... really ...</td>\n",
       "      <td>5.0</td>\n",
       "      <td>4.891084</td>\n",
       "    </tr>\n",
       "    <tr>\n",
       "      <th>1</th>\n",
       "      <td>1</td>\n",
       "      <td>Best Oyster House in Toronto.  Great variety a...</td>\n",
       "      <td>5.0</td>\n",
       "      <td>5.034161</td>\n",
       "    </tr>\n",
       "    <tr>\n",
       "      <th>2</th>\n",
       "      <td>2</td>\n",
       "      <td>We thoroughly enjoy eating here. We go here at...</td>\n",
       "      <td>5.0</td>\n",
       "      <td>4.932011</td>\n",
       "    </tr>\n",
       "    <tr>\n",
       "      <th>3</th>\n",
       "      <td>3</td>\n",
       "      <td>OMG!!! So good!!!!  I was in AZ for work and I...</td>\n",
       "      <td>5.0</td>\n",
       "      <td>5.016096</td>\n",
       "    </tr>\n",
       "    <tr>\n",
       "      <th>4</th>\n",
       "      <td>4</td>\n",
       "      <td>We are here once over a year ago before we mov...</td>\n",
       "      <td>1.0</td>\n",
       "      <td>2.771281</td>\n",
       "    </tr>\n",
       "  </tbody>\n",
       "</table>\n",
       "</div>"
      ],
      "text/plain": [
       "   idx                                               text  stars      pred\n",
       "0    0  Really great local auto repair spot... really ...    5.0  4.891084\n",
       "1    1  Best Oyster House in Toronto.  Great variety a...    5.0  5.034161\n",
       "2    2  We thoroughly enjoy eating here. We go here at...    5.0  4.932011\n",
       "3    3  OMG!!! So good!!!!  I was in AZ for work and I...    5.0  5.016096\n",
       "4    4  We are here once over a year ago before we mov...    1.0  2.771281"
      ]
     },
     "execution_count": 9,
     "metadata": {},
     "output_type": "execute_result"
    }
   ],
   "source": [
    "df.head()"
   ]
  },
  {
   "cell_type": "code",
   "execution_count": 10,
   "metadata": {},
   "outputs": [
    {
     "data": {
      "text/html": [
       "<div>\n",
       "<style scoped>\n",
       "    .dataframe tbody tr th:only-of-type {\n",
       "        vertical-align: middle;\n",
       "    }\n",
       "\n",
       "    .dataframe tbody tr th {\n",
       "        vertical-align: top;\n",
       "    }\n",
       "\n",
       "    .dataframe thead th {\n",
       "        text-align: right;\n",
       "    }\n",
       "</style>\n",
       "<table border=\"1\" class=\"dataframe\">\n",
       "  <thead>\n",
       "    <tr style=\"text-align: right;\">\n",
       "      <th></th>\n",
       "      <th>idx</th>\n",
       "      <th>text</th>\n",
       "      <th>stars</th>\n",
       "      <th>pred</th>\n",
       "    </tr>\n",
       "  </thead>\n",
       "  <tbody>\n",
       "    <tr>\n",
       "      <th>522717</th>\n",
       "      <td>522717</td>\n",
       "      <td>The food here is really good but they are pret...</td>\n",
       "      <td>3.0</td>\n",
       "      <td>3.315687</td>\n",
       "    </tr>\n",
       "    <tr>\n",
       "      <th>522718</th>\n",
       "      <td>522718</td>\n",
       "      <td>So so. I've been twice now with my wife and bo...</td>\n",
       "      <td>2.0</td>\n",
       "      <td>2.378754</td>\n",
       "    </tr>\n",
       "    <tr>\n",
       "      <th>522719</th>\n",
       "      <td>522719</td>\n",
       "      <td>I love coming here because the environment is ...</td>\n",
       "      <td>5.0</td>\n",
       "      <td>4.819393</td>\n",
       "    </tr>\n",
       "    <tr>\n",
       "      <th>522720</th>\n",
       "      <td>522720</td>\n",
       "      <td>It just opened a few weeks ago and I came here...</td>\n",
       "      <td>3.0</td>\n",
       "      <td>3.241538</td>\n",
       "    </tr>\n",
       "    <tr>\n",
       "      <th>522721</th>\n",
       "      <td>522721</td>\n",
       "      <td>Absolutely terrible customer service. We paid ...</td>\n",
       "      <td>1.0</td>\n",
       "      <td>1.014941</td>\n",
       "    </tr>\n",
       "  </tbody>\n",
       "</table>\n",
       "</div>"
      ],
      "text/plain": [
       "           idx                                               text  stars  \\\n",
       "522717  522717  The food here is really good but they are pret...    3.0   \n",
       "522718  522718  So so. I've been twice now with my wife and bo...    2.0   \n",
       "522719  522719  I love coming here because the environment is ...    5.0   \n",
       "522720  522720  It just opened a few weeks ago and I came here...    3.0   \n",
       "522721  522721  Absolutely terrible customer service. We paid ...    1.0   \n",
       "\n",
       "            pred  \n",
       "522717  3.315687  \n",
       "522718  2.378754  \n",
       "522719  4.819393  \n",
       "522720  3.241538  \n",
       "522721  1.014941  "
      ]
     },
     "execution_count": 10,
     "metadata": {},
     "output_type": "execute_result"
    }
   ],
   "source": [
    "df.tail()"
   ]
  },
  {
   "cell_type": "code",
   "execution_count": 11,
   "metadata": {},
   "outputs": [
    {
     "data": {
      "text/plain": [
       "idx      0\n",
       "text     0\n",
       "stars    0\n",
       "pred     0\n",
       "dtype: int64"
      ]
     },
     "execution_count": 11,
     "metadata": {},
     "output_type": "execute_result"
    }
   ],
   "source": [
    "df.isna().sum()"
   ]
  },
  {
   "cell_type": "code",
   "execution_count": 12,
   "metadata": {},
   "outputs": [],
   "source": [
    "df['abs_err'] = abs(df['stars'] - df['pred'])"
   ]
  },
  {
   "cell_type": "code",
   "execution_count": 13,
   "metadata": {},
   "outputs": [
    {
     "data": {
      "text/plain": [
       "0.32777879132194904"
      ]
     },
     "execution_count": 13,
     "metadata": {},
     "output_type": "execute_result"
    }
   ],
   "source": [
    "df['abs_err'].mean()"
   ]
  },
  {
   "cell_type": "code",
   "execution_count": 14,
   "metadata": {},
   "outputs": [
    {
     "name": "stdout",
     "output_type": "stream",
     "text": [
      "ORIGINAL TEXT\n",
      "\n",
      "\n",
      "So so so good. Better than Popeyes. Highly recommend. Clean atmosphere, good staff, delicious chicken. Do yourself a favor and go.\n",
      "\n",
      "\n",
      "-------------------------------------------------------------\n",
      "\n",
      "\n",
      "summarizing...\n",
      "done. took 38.41664004325867 seconds\n",
      "\n",
      "\n",
      "SUMMARY\n",
      "\n",
      "\n",
      "Clean atmosphere, good staff, delicious chicken. So so so good. Better than Popeyes. Highly recommend. Do yourself a favor and go. You'll be glad you did. Back to Mail Online home. Backto the page you came from. Back To the pageyou came from, back to the pageYou came from\n",
      "\n",
      "\n",
      "-------------------------------------------------------------\n",
      "\n",
      "\n",
      "summarizing 2...\n",
      "done. took 91.76151490211487 seconds\n",
      "\n",
      "\n",
      "SUMMARY 2\n",
      "\n",
      "\n",
      "better than Popeyes. Highly recommend. clean atmosphere, good staff, delicious chicken. do yourself a favor and go. if you're in the area, ask for a burger and fries.\n",
      "\n",
      "\n",
      "-------------------------------------------------------------\n",
      "\n",
      "\n",
      "original star 5.0\n",
      "\n",
      "\n",
      "original pred 5.058659\n",
      "summary pred 5.035716\n",
      "summary2 pred 4.9599075\n",
      "original ft pred (('__label__POSITIVE',), array([0.99995828]))\n",
      "summary ft pred (('__label__POSITIVE',), array([0.99947232]))\n",
      "summary2 ft pred (('__label__POSITIVE',), array([0.99991369]))\n"
     ]
    }
   ],
   "source": [
    "print_and_summarize(df.sample(1).iloc[0])"
   ]
  },
  {
   "cell_type": "code",
   "execution_count": 15,
   "metadata": {},
   "outputs": [
    {
     "name": "stdout",
     "output_type": "stream",
     "text": [
      "ORIGINAL TEXT\n",
      "\n",
      "\n",
      "My family has been coming for years and have never had a bad meal. It's amazing service from the time you make a reservation to the follow up call the next day. My only real complaint is it's a little to dark people using phones or a flash light to read a menu seems ridiculous. How can you tell if your steak is cooked right? The bone in ribeye is the best in my opinion and butter cake is my dad's hands down favorite dessert\n",
      "\n",
      "\n",
      "-------------------------------------------------------------\n",
      "\n",
      "\n",
      "summarizing...\n",
      "done. took 32.14814496040344 seconds\n",
      "\n",
      "\n",
      "SUMMARY\n",
      "\n",
      "\n",
      "The bone in ribeye is the best in my opinion and butter cake is my dad's hands down favorite dessert. It's amazing service from the time you make a reservation to the follow up call the next day. My only real complaint is it's a little to dark people using phones or a flash light to read a menu seems ridiculous.\n",
      "\n",
      "\n",
      "-------------------------------------------------------------\n",
      "\n",
      "\n",
      "summarizing 2...\n",
      "done. took 119.52936124801636 seconds\n",
      "\n",
      "\n",
      "SUMMARY 2\n",
      "\n",
      "\n",
      "my family has been coming for years and have never had a bad meal. the bone in ribeye is the best in my opinion and the butter cake is my dad's hands down favorite dessert. a little too dark people using phones or a flash light to read a menu seems ridiculous.\n",
      "\n",
      "\n",
      "-------------------------------------------------------------\n",
      "\n",
      "\n",
      "original star 4.0\n",
      "\n",
      "\n",
      "original pred 4.454947\n",
      "summary pred 4.5375843\n",
      "summary2 pred 4.7760396\n",
      "original ft pred (('__label__POSITIVE',), array([0.99628848]))\n",
      "summary ft pred (('__label__POSITIVE',), array([0.99841648]))\n",
      "summary2 ft pred (('__label__POSITIVE',), array([0.99765193]))\n"
     ]
    }
   ],
   "source": [
    "print_and_summarize(df.sample(1).iloc[0])"
   ]
  },
  {
   "cell_type": "code",
   "execution_count": 16,
   "metadata": {},
   "outputs": [
    {
     "name": "stdout",
     "output_type": "stream",
     "text": [
      "ORIGINAL TEXT\n",
      "\n",
      "\n",
      "We visited Paris Crepes, but were very disappointed, we wished it was as beautiful inside as outside, the waiters barely spoke english, we gave the order on the main floor and went to sit on the second floor, our order was almost given to an other table .. Poor communication and organisation .. They should step their game up as they have allot of competition around ... We had crepes and hot drinks, the mugs were very dirty and the dark chocolate of poor quality, definately not worth the stop, i recommend you walk 2 extra blocks and stop by Cacao 70 or Juliette & Chocolat !\n",
      "\n",
      "\n",
      "-------------------------------------------------------------\n",
      "\n",
      "\n",
      "summarizing...\n",
      "done. took 40.997097969055176 seconds\n",
      "\n",
      "\n",
      "SUMMARY\n",
      "\n",
      "\n",
      "We visited Paris Crepes, but were very disappointed, we wished it was as beautiful inside as outside. The waiters barely spoke english, we gave the order on the main floor and went to sit on the second floor, our order was almost given to an other table. We had crepes and hot drinks, the mugs were very dirty and the dark chocolate of poor quality, definately not worth the stop.\n",
      "\n",
      "\n",
      "-------------------------------------------------------------\n",
      "\n",
      "\n",
      "summarizing 2...\n",
      "done. took 94.80360913276672 seconds\n",
      "\n",
      "\n",
      "SUMMARY 2\n",
      "\n",
      "\n",
      "we visited Paris crepes, but were very disappointed. the waiters barely spoke english. i recommend you walk 2 extra blocks and stop by cacao 70 or juliette & choclatet!\n",
      "\n",
      "\n",
      "-------------------------------------------------------------\n",
      "\n",
      "\n",
      "original star 1.0\n",
      "\n",
      "\n",
      "original pred 1.3430997\n",
      "summary pred 1.4835943\n",
      "summary2 pred 1.6601171\n",
      "original ft pred (('__label__NEGATIVE',), array([0.88198549]))\n",
      "summary ft pred (('__label__NEGATIVE',), array([0.97979999]))\n",
      "summary2 ft pred (('__label__NEGATIVE',), array([0.82529128]))\n"
     ]
    }
   ],
   "source": [
    "print_and_summarize(df.sample(1).iloc[0])"
   ]
  },
  {
   "cell_type": "code",
   "execution_count": 17,
   "metadata": {},
   "outputs": [
    {
     "name": "stdout",
     "output_type": "stream",
     "text": [
      "ORIGINAL TEXT\n",
      "\n",
      "\n",
      "Dr. Vu is awesome!!  He took care of my son after I delivered him and was so compassionate with our concerns.  You can tell he really loves children and has an awesome bedside manner.  Our son was going to have a procedure done and we were really scared of what it entailed.  Dr. Vu rearranged his schedule and came to the hospital first thing in the morning to address our concerns.  Not once did we ever feel rushed with him and he answered all of our questions in terms we could understand.  I love the fact that he remembered us from our previous visit and asked us questions pertaining to our last visit.\n",
      "\n",
      "\n",
      "-------------------------------------------------------------\n",
      "\n",
      "\n",
      "summarizing...\n",
      "done. took 41.66192007064819 seconds\n",
      "\n",
      "\n",
      "SUMMARY\n",
      "\n",
      "\n",
      "Dr. Vu is awesome!!  He took care of my son after I delivered him and was so compassionate with our concerns. You can tell he really loves children and has an awesome bedside manner. Our son was going to have a procedure done and we were really scared of what it entailed. Dr. Vu rearranged his schedule and came to the hospital first thing in the morning. Not once did we ever feel rushed with him.\n",
      "\n",
      "\n",
      "-------------------------------------------------------------\n",
      "\n",
      "\n",
      "summarizing 2...\n",
      "done. took 94.91403698921204 seconds\n",
      "\n",
      "\n",
      "SUMMARY 2\n",
      "\n",
      "\n",
      "dr. vu took care of my son after i delivered him and was so compassionate with our concerns. not once did we ever feel rushed with him and he answered all of our questions in terms we could understand.\n",
      "\n",
      "\n",
      "-------------------------------------------------------------\n",
      "\n",
      "\n",
      "original star 5.0\n",
      "\n",
      "\n",
      "original pred 5.121005\n",
      "summary pred 5.1212907\n",
      "summary2 pred 5.0638113\n",
      "original ft pred (('__label__POSITIVE',), array([0.9969582]))\n",
      "summary ft pred (('__label__POSITIVE',), array([0.99664664]))\n",
      "summary2 ft pred (('__label__POSITIVE',), array([0.98964065]))\n"
     ]
    }
   ],
   "source": [
    "print_and_summarize(df.sample(1).iloc[0])"
   ]
  },
  {
   "cell_type": "code",
   "execution_count": 18,
   "metadata": {},
   "outputs": [
    {
     "name": "stdout",
     "output_type": "stream",
     "text": [
      "ORIGINAL TEXT\n",
      "\n",
      "\n",
      "Best dentist office ever! They're all very friendly and organized! I usually hate going to the dentist but they've managed to make my visits comfortable, quick, and painless. I've been coming here for about 2 years and my teeth have never been this healthy. I love them so much that I am now am doing Invisalign through this office, and once again, everything is running smoothly. It's also comforting that Dr. Ghodsi is going through Invisalign too lol Couldn't have asked for a better dentist office! \n",
      "\n",
      "Side note: They text you appointment reminders\n",
      "\n",
      "\n",
      "-------------------------------------------------------------\n",
      "\n",
      "\n",
      "summarizing...\n",
      "done. took 39.12664222717285 seconds\n",
      "\n",
      "\n",
      "SUMMARY\n",
      "\n",
      "\n",
      "Best dentist office ever! They're all very friendly and organized! I usually hate going to the dentist but they've managed to make my visits comfortable, quick, and painless. I've been coming here for about 2 years and my teeth have never been this healthy. I love them so much that I am now am doing Invisalign through this office.\n",
      "\n",
      "\n",
      "-------------------------------------------------------------\n",
      "\n",
      "\n",
      "summarizing 2...\n",
      "done. took 103.50131821632385 seconds\n",
      "\n",
      "\n",
      "SUMMARY 2\n",
      "\n",
      "\n",
      "best dentist office ever! they're all very friendly and organized. i've been coming here for about 2 years and my teeth have never been this healthy. couldn't have asked for a better dentist office.\n",
      "\n",
      "\n",
      "-------------------------------------------------------------\n",
      "\n",
      "\n",
      "original star 5.0\n",
      "\n",
      "\n",
      "original pred 5.1266975\n",
      "summary pred 5.1141434\n",
      "summary2 pred 5.1084776\n",
      "original ft pred (('__label__POSITIVE',), array([0.99114186]))\n",
      "summary ft pred (('__label__POSITIVE',), array([0.99751973]))\n",
      "summary2 ft pred (('__label__POSITIVE',), array([0.99276102]))\n"
     ]
    }
   ],
   "source": [
    "print_and_summarize(df.sample(1).iloc[0])"
   ]
  },
  {
   "cell_type": "code",
   "execution_count": 19,
   "metadata": {},
   "outputs": [
    {
     "name": "stdout",
     "output_type": "stream",
     "text": [
      "ORIGINAL TEXT\n",
      "\n",
      "\n",
      "This company replaced my Air Conditioner with furnace which I had for 26 years.  They worked out all the problems I had in my home so I would have better flow in all rooms, when I put the air on.  They called me a day or two, before they came out, but I wasn't home.  I had to leave a meaage, but they called me back same day and  they gave me a time they would be there to replace the new unit.  I even asked them to put in a wall temperature gauge that I could work easily.  They did everything I asked.  They cleaned and left no mess behind.\n",
      "The technicians answered all questions and were professional, honest and on-time.  \n",
      "This is a good company and I would recommend them for any work or replacement of an old unit.  The company also gave me a great price for my new unit.  Cost me the same for when I put in a new unit in my other home, when I first came out to AZ in 1984.\n",
      "\n",
      "\n",
      "-------------------------------------------------------------\n",
      "\n",
      "\n",
      "summarizing...\n",
      "done. took 34.48610877990723 seconds\n",
      "\n",
      "\n",
      "SUMMARY\n",
      "\n",
      "\n",
      "This company replaced my Air Conditioner with furnace which I had for 26 years. They worked out all the problems I had in my home so I would have better flow in all rooms, when I put the air on. The technicians answered all questions and were professional, honest and on-time.\n",
      "\n",
      "\n",
      "-------------------------------------------------------------\n",
      "\n",
      "\n",
      "summarizing 2...\n",
      "done. took 128.08423614501953 seconds\n",
      "\n",
      "\n",
      "SUMMARY 2\n",
      "\n",
      "\n",
      "this company replaced my air conditioner with furnace which i had for 26 years. they worked out all the problems I had in my home so I would have better flow in all rooms, when I put the air on. this is a good company and i would recommend them for any work or replacement of an old unit.\n",
      "\n",
      "\n",
      "-------------------------------------------------------------\n",
      "\n",
      "\n",
      "original star 5.0\n",
      "\n",
      "\n",
      "original pred 4.9914556\n",
      "summary pred 5.0282583\n",
      "summary2 pred 4.863253\n",
      "original ft pred (('__label__POSITIVE',), array([0.92579436]))\n",
      "summary ft pred (('__label__POSITIVE',), array([0.99763304]))\n",
      "summary2 ft pred (('__label__POSITIVE',), array([0.9258154]))\n"
     ]
    }
   ],
   "source": [
    "print_and_summarize(df.sample(1).iloc[0])"
   ]
  },
  {
   "cell_type": "code",
   "execution_count": 20,
   "metadata": {},
   "outputs": [
    {
     "name": "stdout",
     "output_type": "stream",
     "text": [
      "ORIGINAL TEXT\n",
      "\n",
      "\n",
      "Good was so good I had chicken and French toast and grits. Only thing the management that takes orders and money is a lil slow and confused they need to hire better workers but I loved the food. Building a lil run down and the inside needs work but not bad\n",
      "\n",
      "\n",
      "-------------------------------------------------------------\n",
      "\n",
      "\n",
      "summarizing...\n",
      "done. took 24.121564149856567 seconds\n",
      "\n",
      "\n",
      "SUMMARY\n",
      "\n",
      "\n",
      "Good was so good I had chicken and French toast and grits. Only thing the management that takes orders and money is a lil slow and confused they need to hire better workers but I loved the food. Building a lil run down and the inside needs work but not bad.\n",
      "\n",
      "\n",
      "-------------------------------------------------------------\n",
      "\n",
      "\n",
      "summarizing 2...\n",
      "done. took 105.46954083442688 seconds\n",
      "\n",
      "\n",
      "SUMMARY 2\n",
      "\n",
      "\n",
      "good was so good i had chicken and french toast and grits. only thing the management that takes orders and money is a lil slow and confused they need to hire better workers. building a little run down and the inside needs work.\n",
      "\n",
      "\n",
      "-------------------------------------------------------------\n",
      "\n",
      "\n",
      "original star 4.0\n",
      "\n",
      "\n",
      "original pred 4.185329\n",
      "summary pred 4.177736\n",
      "summary2 pred 3.600436\n",
      "original ft pred (('__label__POSITIVE',), array([0.61773056]))\n",
      "summary ft pred (('__label__POSITIVE',), array([0.55836707]))\n",
      "summary2 ft pred (('__label__NEGATIVE',), array([0.5927164]))\n"
     ]
    }
   ],
   "source": [
    "print_and_summarize(df.sample(1).iloc[0])"
   ]
  },
  {
   "cell_type": "code",
   "execution_count": 21,
   "metadata": {},
   "outputs": [
    {
     "data": {
      "text/plain": [
       "count    5.227220e+05\n",
       "mean     3.277788e-01\n",
       "std      3.804280e-01\n",
       "min      2.384186e-07\n",
       "25%      7.027888e-02\n",
       "50%      1.606859e-01\n",
       "75%      4.913122e-01\n",
       "max      4.127761e+00\n",
       "Name: abs_err, dtype: float64"
      ]
     },
     "execution_count": 21,
     "metadata": {},
     "output_type": "execute_result"
    }
   ],
   "source": [
    "df['abs_err'].describe()"
   ]
  },
  {
   "cell_type": "code",
   "execution_count": 22,
   "metadata": {},
   "outputs": [
    {
     "data": {
      "text/plain": [
       "(133836, 5)"
      ]
     },
     "execution_count": 22,
     "metadata": {},
     "output_type": "execute_result"
    }
   ],
   "source": [
    "top_losses = df[df['abs_err'] > 0.48]\n",
    "top_losses.shape"
   ]
  },
  {
   "cell_type": "code",
   "execution_count": 23,
   "metadata": {},
   "outputs": [
    {
     "data": {
      "text/plain": [
       "0.25603666958727583"
      ]
     },
     "execution_count": 23,
     "metadata": {},
     "output_type": "execute_result"
    }
   ],
   "source": [
    "len(top_losses) / len(df)"
   ]
  },
  {
   "cell_type": "code",
   "execution_count": 24,
   "metadata": {},
   "outputs": [
    {
     "data": {
      "text/plain": [
       "4.0    51008\n",
       "3.0    26014\n",
       "5.0    22605\n",
       "2.0    18342\n",
       "1.0    15867\n",
       "Name: stars, dtype: int64"
      ]
     },
     "execution_count": 24,
     "metadata": {},
     "output_type": "execute_result"
    }
   ],
   "source": [
    "top_losses['stars'].value_counts().sort_values(ascending=False)"
   ]
  },
  {
   "cell_type": "code",
   "execution_count": 25,
   "metadata": {},
   "outputs": [
    {
     "data": {
      "image/png": "[encoded data removed]",
      "text/plain": [
       "<Figure size 432x288 with 1 Axes>"
      ]
     },
     "metadata": {
      "needs_background": "light"
     },
     "output_type": "display_data"
    }
   ],
   "source": [
    "top_losses['stars'].plot.hist();"
   ]
  },
  {
   "cell_type": "code",
   "execution_count": 26,
   "metadata": {},
   "outputs": [
    {
     "data": {
      "image/png": "[encoded data removed]",
      "text/plain": [
       "<Figure size 432x288 with 1 Axes>"
      ]
     },
     "metadata": {
      "needs_background": "light"
     },
     "output_type": "display_data"
    }
   ],
   "source": [
    "df['stars'].plot.hist();"
   ]
  },
  {
   "cell_type": "code",
   "execution_count": 27,
   "metadata": {},
   "outputs": [
    {
     "data": {
      "text/html": [
       "<div>\n",
       "<style scoped>\n",
       "    .dataframe tbody tr th:only-of-type {\n",
       "        vertical-align: middle;\n",
       "    }\n",
       "\n",
       "    .dataframe tbody tr th {\n",
       "        vertical-align: top;\n",
       "    }\n",
       "\n",
       "    .dataframe thead th {\n",
       "        text-align: right;\n",
       "    }\n",
       "</style>\n",
       "<table border=\"1\" class=\"dataframe\">\n",
       "  <thead>\n",
       "    <tr style=\"text-align: right;\">\n",
       "      <th></th>\n",
       "      <th>idx</th>\n",
       "      <th>text</th>\n",
       "      <th>stars</th>\n",
       "      <th>pred</th>\n",
       "      <th>abs_err</th>\n",
       "    </tr>\n",
       "  </thead>\n",
       "  <tbody>\n",
       "    <tr>\n",
       "      <th>162196</th>\n",
       "      <td>162196</td>\n",
       "      <td>This is my second time (and last time) here. I...</td>\n",
       "      <td>1.0</td>\n",
       "      <td>1.480003</td>\n",
       "      <td>0.480003</td>\n",
       "    </tr>\n",
       "    <tr>\n",
       "      <th>98158</th>\n",
       "      <td>98158</td>\n",
       "      <td>Pho tai gan.  the soup broth was yummy. rmeind...</td>\n",
       "      <td>4.0</td>\n",
       "      <td>3.519995</td>\n",
       "      <td>0.480005</td>\n",
       "    </tr>\n",
       "    <tr>\n",
       "      <th>374971</th>\n",
       "      <td>374971</td>\n",
       "      <td>I have been here twice, both for lunch. Found ...</td>\n",
       "      <td>4.0</td>\n",
       "      <td>4.480006</td>\n",
       "      <td>0.480006</td>\n",
       "    </tr>\n",
       "    <tr>\n",
       "      <th>427273</th>\n",
       "      <td>427273</td>\n",
       "      <td>I found this place after reading a review in N...</td>\n",
       "      <td>3.0</td>\n",
       "      <td>3.480010</td>\n",
       "      <td>0.480010</td>\n",
       "    </tr>\n",
       "    <tr>\n",
       "      <th>495554</th>\n",
       "      <td>495554</td>\n",
       "      <td>It was nice..to do once.  In my opinion it was...</td>\n",
       "      <td>3.0</td>\n",
       "      <td>3.480011</td>\n",
       "      <td>0.480011</td>\n",
       "    </tr>\n",
       "    <tr>\n",
       "      <th>128396</th>\n",
       "      <td>128396</td>\n",
       "      <td>I defended the Buffet @ Bellagio even when my ...</td>\n",
       "      <td>1.0</td>\n",
       "      <td>1.480011</td>\n",
       "      <td>0.480011</td>\n",
       "    </tr>\n",
       "    <tr>\n",
       "      <th>181881</th>\n",
       "      <td>181881</td>\n",
       "      <td>Located in San Marco Square in the Venetian - ...</td>\n",
       "      <td>4.0</td>\n",
       "      <td>4.480015</td>\n",
       "      <td>0.480015</td>\n",
       "    </tr>\n",
       "    <tr>\n",
       "      <th>508075</th>\n",
       "      <td>508075</td>\n",
       "      <td>Went back again, music was just right not too ...</td>\n",
       "      <td>4.0</td>\n",
       "      <td>4.480017</td>\n",
       "      <td>0.480017</td>\n",
       "    </tr>\n",
       "    <tr>\n",
       "      <th>319803</th>\n",
       "      <td>319803</td>\n",
       "      <td>I love Javier's.  Great chips, salsa, and guac...</td>\n",
       "      <td>4.0</td>\n",
       "      <td>4.480019</td>\n",
       "      <td>0.480019</td>\n",
       "    </tr>\n",
       "    <tr>\n",
       "      <th>271959</th>\n",
       "      <td>271959</td>\n",
       "      <td>I had an almond mocha custard and it was great...</td>\n",
       "      <td>4.0</td>\n",
       "      <td>4.480022</td>\n",
       "      <td>0.480022</td>\n",
       "    </tr>\n",
       "  </tbody>\n",
       "</table>\n",
       "</div>"
      ],
      "text/plain": [
       "           idx                                               text  stars  \\\n",
       "162196  162196  This is my second time (and last time) here. I...    1.0   \n",
       "98158    98158  Pho tai gan.  the soup broth was yummy. rmeind...    4.0   \n",
       "374971  374971  I have been here twice, both for lunch. Found ...    4.0   \n",
       "427273  427273  I found this place after reading a review in N...    3.0   \n",
       "495554  495554  It was nice..to do once.  In my opinion it was...    3.0   \n",
       "128396  128396  I defended the Buffet @ Bellagio even when my ...    1.0   \n",
       "181881  181881  Located in San Marco Square in the Venetian - ...    4.0   \n",
       "508075  508075  Went back again, music was just right not too ...    4.0   \n",
       "319803  319803  I love Javier's.  Great chips, salsa, and guac...    4.0   \n",
       "271959  271959  I had an almond mocha custard and it was great...    4.0   \n",
       "\n",
       "            pred   abs_err  \n",
       "162196  1.480003  0.480003  \n",
       "98158   3.519995  0.480005  \n",
       "374971  4.480006  0.480006  \n",
       "427273  3.480010  0.480010  \n",
       "495554  3.480011  0.480011  \n",
       "128396  1.480011  0.480011  \n",
       "181881  4.480015  0.480015  \n",
       "508075  4.480017  0.480017  \n",
       "319803  4.480019  0.480019  \n",
       "271959  4.480022  0.480022  "
      ]
     },
     "execution_count": 27,
     "metadata": {},
     "output_type": "execute_result"
    }
   ],
   "source": [
    "top_losses.sort_values('abs_err').head(10)"
   ]
  },
  {
   "cell_type": "code",
   "execution_count": 28,
   "metadata": {},
   "outputs": [
    {
     "data": {
      "text/plain": [
       "(29150, 5)"
      ]
     },
     "execution_count": 28,
     "metadata": {},
     "output_type": "execute_result"
    }
   ],
   "source": [
    "top_losses = df[df['abs_err'] > 1]\n",
    "top_losses.shape"
   ]
  },
  {
   "cell_type": "code",
   "execution_count": 29,
   "metadata": {},
   "outputs": [
    {
     "data": {
      "text/plain": [
       "0.05576577989830158"
      ]
     },
     "execution_count": 29,
     "metadata": {},
     "output_type": "execute_result"
    }
   ],
   "source": [
    "len(top_losses) / len(df)"
   ]
  },
  {
   "cell_type": "code",
   "execution_count": 30,
   "metadata": {},
   "outputs": [
    {
     "data": {
      "image/png": "[encoded data removed]",
      "text/plain": [
       "<Figure size 432x288 with 1 Axes>"
      ]
     },
     "metadata": {
      "needs_background": "light"
     },
     "output_type": "display_data"
    }
   ],
   "source": [
    "top_losses['stars'].plot.hist();"
   ]
  },
  {
   "cell_type": "code",
   "execution_count": 31,
   "metadata": {},
   "outputs": [
    {
     "data": {
      "text/html": [
       "<div>\n",
       "<style scoped>\n",
       "    .dataframe tbody tr th:only-of-type {\n",
       "        vertical-align: middle;\n",
       "    }\n",
       "\n",
       "    .dataframe tbody tr th {\n",
       "        vertical-align: top;\n",
       "    }\n",
       "\n",
       "    .dataframe thead th {\n",
       "        text-align: right;\n",
       "    }\n",
       "</style>\n",
       "<table border=\"1\" class=\"dataframe\">\n",
       "  <thead>\n",
       "    <tr style=\"text-align: right;\">\n",
       "      <th></th>\n",
       "      <th>idx</th>\n",
       "      <th>text</th>\n",
       "      <th>stars</th>\n",
       "      <th>pred</th>\n",
       "      <th>abs_err</th>\n",
       "    </tr>\n",
       "  </thead>\n",
       "  <tbody>\n",
       "    <tr>\n",
       "      <th>216256</th>\n",
       "      <td>216256</td>\n",
       "      <td>Pros: Great meat department, underground parki...</td>\n",
       "      <td>1.0</td>\n",
       "      <td>2.000016</td>\n",
       "      <td>1.000016</td>\n",
       "    </tr>\n",
       "    <tr>\n",
       "      <th>493427</th>\n",
       "      <td>493427</td>\n",
       "      <td>Pizza always tastes good, and their fingers mi...</td>\n",
       "      <td>4.0</td>\n",
       "      <td>2.999981</td>\n",
       "      <td>1.000019</td>\n",
       "    </tr>\n",
       "    <tr>\n",
       "      <th>383922</th>\n",
       "      <td>383922</td>\n",
       "      <td>Nice people.....reviews said her prices were r...</td>\n",
       "      <td>1.0</td>\n",
       "      <td>2.000019</td>\n",
       "      <td>1.000019</td>\n",
       "    </tr>\n",
       "    <tr>\n",
       "      <th>519915</th>\n",
       "      <td>519915</td>\n",
       "      <td>Fireplace and breakfast anytime. Could not be ...</td>\n",
       "      <td>4.0</td>\n",
       "      <td>5.000020</td>\n",
       "      <td>1.000020</td>\n",
       "    </tr>\n",
       "    <tr>\n",
       "      <th>472876</th>\n",
       "      <td>472876</td>\n",
       "      <td>I go to the Mickeys Tavern for the atmosphere ...</td>\n",
       "      <td>4.0</td>\n",
       "      <td>5.000032</td>\n",
       "      <td>1.000032</td>\n",
       "    </tr>\n",
       "    <tr>\n",
       "      <th>109025</th>\n",
       "      <td>109025</td>\n",
       "      <td>Thanks to all the Cats that reviewed this spot...</td>\n",
       "      <td>4.0</td>\n",
       "      <td>5.000041</td>\n",
       "      <td>1.000041</td>\n",
       "    </tr>\n",
       "    <tr>\n",
       "      <th>442231</th>\n",
       "      <td>442231</td>\n",
       "      <td>One of the more iconic sports bars in Phoenix ...</td>\n",
       "      <td>3.0</td>\n",
       "      <td>4.000046</td>\n",
       "      <td>1.000046</td>\n",
       "    </tr>\n",
       "    <tr>\n",
       "      <th>28498</th>\n",
       "      <td>28498</td>\n",
       "      <td>Hidden spot, chic atmosphere, modern and fun ....</td>\n",
       "      <td>4.0</td>\n",
       "      <td>5.000047</td>\n",
       "      <td>1.000047</td>\n",
       "    </tr>\n",
       "    <tr>\n",
       "      <th>95731</th>\n",
       "      <td>95731</td>\n",
       "      <td>Always have a great time at Fix!  Friendly sta...</td>\n",
       "      <td>4.0</td>\n",
       "      <td>5.000047</td>\n",
       "      <td>1.000047</td>\n",
       "    </tr>\n",
       "    <tr>\n",
       "      <th>478220</th>\n",
       "      <td>478220</td>\n",
       "      <td>This really used to be the \"happenin'\" spot, b...</td>\n",
       "      <td>3.0</td>\n",
       "      <td>1.999950</td>\n",
       "      <td>1.000050</td>\n",
       "    </tr>\n",
       "  </tbody>\n",
       "</table>\n",
       "</div>"
      ],
      "text/plain": [
       "           idx                                               text  stars  \\\n",
       "216256  216256  Pros: Great meat department, underground parki...    1.0   \n",
       "493427  493427  Pizza always tastes good, and their fingers mi...    4.0   \n",
       "383922  383922  Nice people.....reviews said her prices were r...    1.0   \n",
       "519915  519915  Fireplace and breakfast anytime. Could not be ...    4.0   \n",
       "472876  472876  I go to the Mickeys Tavern for the atmosphere ...    4.0   \n",
       "109025  109025  Thanks to all the Cats that reviewed this spot...    4.0   \n",
       "442231  442231  One of the more iconic sports bars in Phoenix ...    3.0   \n",
       "28498    28498  Hidden spot, chic atmosphere, modern and fun ....    4.0   \n",
       "95731    95731  Always have a great time at Fix!  Friendly sta...    4.0   \n",
       "478220  478220  This really used to be the \"happenin'\" spot, b...    3.0   \n",
       "\n",
       "            pred   abs_err  \n",
       "216256  2.000016  1.000016  \n",
       "493427  2.999981  1.000019  \n",
       "383922  2.000019  1.000019  \n",
       "519915  5.000020  1.000020  \n",
       "472876  5.000032  1.000032  \n",
       "109025  5.000041  1.000041  \n",
       "442231  4.000046  1.000046  \n",
       "28498   5.000047  1.000047  \n",
       "95731   5.000047  1.000047  \n",
       "478220  1.999950  1.000050  "
      ]
     },
     "execution_count": 31,
     "metadata": {},
     "output_type": "execute_result"
    }
   ],
   "source": [
    "top_losses.sort_values('abs_err').head(10)"
   ]
  },
  {
   "cell_type": "code",
   "execution_count": 59,
   "metadata": {},
   "outputs": [
    {
     "name": "stdout",
     "output_type": "stream",
     "text": [
      "Fireplace and breakfast anytime. Could not be happier. The place even had that wood burning campfire smell. Staff was friendly. I had a late breakfast and the eggs were perfect. The ham was fabulous.\n"
     ]
    }
   ],
   "source": [
    "print(df.iloc[519915]['text'])"
   ]
  },
  {
   "cell_type": "code",
   "execution_count": 32,
   "metadata": {},
   "outputs": [
    {
     "data": {
      "text/plain": [
       "(7679, 5)"
      ]
     },
     "execution_count": 32,
     "metadata": {},
     "output_type": "execute_result"
    }
   ],
   "source": [
    "top_losses = df[df['abs_err'] > 1.5]\n",
    "top_losses.shape"
   ]
  },
  {
   "cell_type": "code",
   "execution_count": 33,
   "metadata": {},
   "outputs": [
    {
     "data": {
      "text/plain": [
       "0.014690409051082601"
      ]
     },
     "execution_count": 33,
     "metadata": {},
     "output_type": "execute_result"
    }
   ],
   "source": [
    "len(top_losses) / len(df)"
   ]
  },
  {
   "cell_type": "code",
   "execution_count": 34,
   "metadata": {},
   "outputs": [
    {
     "data": {
      "image/png": "[encoded data removed]",
      "text/plain": [
       "<Figure size 432x288 with 1 Axes>"
      ]
     },
     "metadata": {
      "needs_background": "light"
     },
     "output_type": "display_data"
    }
   ],
   "source": [
    "top_losses['stars'].plot.hist();"
   ]
  },
  {
   "cell_type": "code",
   "execution_count": 65,
   "metadata": {},
   "outputs": [
    {
     "data": {
      "text/html": [
       "<div>\n",
       "<style scoped>\n",
       "    .dataframe tbody tr th:only-of-type {\n",
       "        vertical-align: middle;\n",
       "    }\n",
       "\n",
       "    .dataframe tbody tr th {\n",
       "        vertical-align: top;\n",
       "    }\n",
       "\n",
       "    .dataframe thead th {\n",
       "        text-align: right;\n",
       "    }\n",
       "</style>\n",
       "<table border=\"1\" class=\"dataframe\">\n",
       "  <thead>\n",
       "    <tr style=\"text-align: right;\">\n",
       "      <th></th>\n",
       "      <th>idx</th>\n",
       "      <th>text</th>\n",
       "      <th>stars</th>\n",
       "      <th>pred</th>\n",
       "      <th>abs_err</th>\n",
       "    </tr>\n",
       "  </thead>\n",
       "  <tbody>\n",
       "    <tr>\n",
       "      <th>315898</th>\n",
       "      <td>315898</td>\n",
       "      <td>Closed down. The all stars at this salon start...</td>\n",
       "      <td>1.0</td>\n",
       "      <td>5.127761</td>\n",
       "      <td>4.127761</td>\n",
       "    </tr>\n",
       "    <tr>\n",
       "      <th>303112</th>\n",
       "      <td>303112</td>\n",
       "      <td>Mike was awesome! Came out and fixed my leaky ...</td>\n",
       "      <td>1.0</td>\n",
       "      <td>5.113144</td>\n",
       "      <td>4.113144</td>\n",
       "    </tr>\n",
       "    <tr>\n",
       "      <th>63140</th>\n",
       "      <td>63140</td>\n",
       "      <td>Best place in town to grab what you need in a ...</td>\n",
       "      <td>1.0</td>\n",
       "      <td>5.111990</td>\n",
       "      <td>4.111990</td>\n",
       "    </tr>\n",
       "    <tr>\n",
       "      <th>101050</th>\n",
       "      <td>101050</td>\n",
       "      <td>Great start for my 1st week! Cant wait to star...</td>\n",
       "      <td>1.0</td>\n",
       "      <td>5.103042</td>\n",
       "      <td>4.103042</td>\n",
       "    </tr>\n",
       "    <tr>\n",
       "      <th>289503</th>\n",
       "      <td>289503</td>\n",
       "      <td>I recently went to a retail store in Hillcrest...</td>\n",
       "      <td>1.0</td>\n",
       "      <td>5.093112</td>\n",
       "      <td>4.093112</td>\n",
       "    </tr>\n",
       "    <tr>\n",
       "      <th>402327</th>\n",
       "      <td>402327</td>\n",
       "      <td>What kind of \"Mexican\" food is this!?!?? For b...</td>\n",
       "      <td>1.0</td>\n",
       "      <td>5.091888</td>\n",
       "      <td>4.091888</td>\n",
       "    </tr>\n",
       "    <tr>\n",
       "      <th>407050</th>\n",
       "      <td>407050</td>\n",
       "      <td>Jennifer's was a wonderful person she truly he...</td>\n",
       "      <td>1.0</td>\n",
       "      <td>5.075114</td>\n",
       "      <td>4.075114</td>\n",
       "    </tr>\n",
       "    <tr>\n",
       "      <th>198983</th>\n",
       "      <td>198983</td>\n",
       "      <td>I love this place every thing about it from th...</td>\n",
       "      <td>1.0</td>\n",
       "      <td>5.072334</td>\n",
       "      <td>4.072334</td>\n",
       "    </tr>\n",
       "    <tr>\n",
       "      <th>187837</th>\n",
       "      <td>187837</td>\n",
       "      <td>Awful service except for Krystal. She was abso...</td>\n",
       "      <td>1.0</td>\n",
       "      <td>5.071167</td>\n",
       "      <td>4.071167</td>\n",
       "    </tr>\n",
       "    <tr>\n",
       "      <th>9804</th>\n",
       "      <td>9804</td>\n",
       "      <td>Heard that Chef Kelly is no longer there.  She...</td>\n",
       "      <td>1.0</td>\n",
       "      <td>5.064618</td>\n",
       "      <td>4.064618</td>\n",
       "    </tr>\n",
       "  </tbody>\n",
       "</table>\n",
       "</div>"
      ],
      "text/plain": [
       "           idx                                               text  stars  \\\n",
       "315898  315898  Closed down. The all stars at this salon start...    1.0   \n",
       "303112  303112  Mike was awesome! Came out and fixed my leaky ...    1.0   \n",
       "63140    63140  Best place in town to grab what you need in a ...    1.0   \n",
       "101050  101050  Great start for my 1st week! Cant wait to star...    1.0   \n",
       "289503  289503  I recently went to a retail store in Hillcrest...    1.0   \n",
       "402327  402327  What kind of \"Mexican\" food is this!?!?? For b...    1.0   \n",
       "407050  407050  Jennifer's was a wonderful person she truly he...    1.0   \n",
       "198983  198983  I love this place every thing about it from th...    1.0   \n",
       "187837  187837  Awful service except for Krystal. She was abso...    1.0   \n",
       "9804      9804  Heard that Chef Kelly is no longer there.  She...    1.0   \n",
       "\n",
       "            pred   abs_err  \n",
       "315898  5.127761  4.127761  \n",
       "303112  5.113144  4.113144  \n",
       "63140   5.111990  4.111990  \n",
       "101050  5.103042  4.103042  \n",
       "289503  5.093112  4.093112  \n",
       "402327  5.091888  4.091888  \n",
       "407050  5.075114  4.075114  \n",
       "198983  5.072334  4.072334  \n",
       "187837  5.071167  4.071167  \n",
       "9804    5.064618  4.064618  "
      ]
     },
     "execution_count": 65,
     "metadata": {},
     "output_type": "execute_result"
    }
   ],
   "source": [
    "top_losses.sort_values('abs_err', ascending=False).head(10)"
   ]
  },
  {
   "cell_type": "code",
   "execution_count": 36,
   "metadata": {},
   "outputs": [],
   "source": [
    "top_top_losses = top_losses[top_losses['abs_err'] > 2]"
   ]
  },
  {
   "cell_type": "code",
   "execution_count": 37,
   "metadata": {},
   "outputs": [
    {
     "data": {
      "text/plain": [
       "(2404, 5)"
      ]
     },
     "execution_count": 37,
     "metadata": {},
     "output_type": "execute_result"
    }
   ],
   "source": [
    "top_top_losses.shape"
   ]
  },
  {
   "cell_type": "code",
   "execution_count": 38,
   "metadata": {},
   "outputs": [
    {
     "data": {
      "image/png": "[encoded data removed]",
      "text/plain": [
       "<Figure size 432x288 with 1 Axes>"
      ]
     },
     "metadata": {
      "needs_background": "light"
     },
     "output_type": "display_data"
    }
   ],
   "source": [
    "top_top_losses['stars'].plot.hist();"
   ]
  },
  {
   "cell_type": "code",
   "execution_count": 39,
   "metadata": {},
   "outputs": [
    {
     "name": "stdout",
     "output_type": "stream",
     "text": [
      "ORIGINAL TEXT\n",
      "\n",
      "\n",
      "All of the products are good, I love the truffle goat cheese. However some of the staff are just rude. I went there for lunch to get a sandwich, meanwhile two other people came in and ordered as well, the guy behind the counter rolled his eyes and huffed: \"of course your here for lunch, we are surrounded by sandwich shops you have just HAVE to come here\"  I thought that was odd and chimed in, \"this place must be the best\" he just seemed annoyed and said: \"it's really not, but I guess you can do whatever\" I found that so off putting, it was the first time I decided to have a deli sandwich for lunch and although good, it's considerably more expensive than the other options as Panera, JJ, and subway are walking distance. I don't understand why he was so annoyed doing his job and why he would encourage customers to go elsewhere.. UPDATE: after the owner resolved the issue I believe my initial review may be too harsh and don't want it to be a deterrent for others trying this place. I do think the products are exceptional and I should speak more to that. The sandwiches are unique and worth trying.\n",
      "\n",
      "\n",
      "-------------------------------------------------------------\n",
      "\n",
      "\n",
      "summarizing...\n",
      "done. took 40.78314208984375 seconds\n",
      "\n",
      "\n",
      "SUMMARY\n",
      "\n",
      "\n",
      "All of the products are good, I love the truffle goat cheese. However some of the staff are just rude. I don't understand why he was so annoyed doing his job and why he would encourage customers to go elsewhere. UPDATE: after the owner resolved the issue I believe my initial review may be too harsh and don't want it to be a deterrent for others trying this place. The sandwiches are unique and worth trying.\n",
      "\n",
      "\n",
      "-------------------------------------------------------------\n",
      "\n",
      "\n",
      "summarizing 2...\n",
      "done. took 161.8351469039917 seconds\n",
      "\n",
      "\n",
      "SUMMARY 2\n",
      "\n",
      "\n",
      "i went there for lunch to get a sandwich, meanwhile two other people came in and ordered as well. the guy behind the counter rolled his eyes and huffed: \"of course your here for lunch, we are surrounded by sandwich shops\" i found that so off putting, it was the first time i decided to have a deli sandwich for lunch.\n",
      "\n",
      "\n",
      "-------------------------------------------------------------\n",
      "\n",
      "\n",
      "original star 5.0\n",
      "\n",
      "\n",
      "original pred 2.9894128\n",
      "summary pred 3.3232377\n",
      "summary2 pred 2.1964278\n",
      "original ft pred (('__label__NEGATIVE',), array([0.55927843]))\n",
      "summary ft pred (('__label__NEGATIVE',), array([0.533571]))\n",
      "summary2 ft pred (('__label__POSITIVE',), array([0.56296301]))\n"
     ]
    }
   ],
   "source": [
    "print_and_summarize(top_top_losses.sample(1).iloc[0])"
   ]
  },
  {
   "cell_type": "code",
   "execution_count": 40,
   "metadata": {},
   "outputs": [
    {
     "name": "stdout",
     "output_type": "stream",
     "text": [
      "ORIGINAL TEXT\n",
      "\n",
      "\n",
      "This is not our normal place in Las Vegas but I like to be open minded and try most of the casinos on the strip. The price was good, but certainly not good enough for what you get.\n",
      "\n",
      "Arrival and check in were relatively easy. The taxi/Uber drop off point is fairly close to check-in. That is not always the case in Las Vegas so it is a nice plus. The line at check-in moved fairly well and the process moved at a decent pace too.\n",
      "\n",
      "There are plenty of elevators which helps. The appearance once you are off the elevator is lacking though. It feels like you are in a parking garage. The hallway leading to our room were in ok shape, but there was some miscellaneous garbage like a beer can scattered about. Not a crazy amount, but enough to notice. Especially since the beer can was still there the next time we went to our room.\n",
      "\n",
      "The sleeping area of the room looks ok in passing. The decor has been updated in the last few years I would assume. I do appreciate there is no carpet, as the general lack of cleanliness in other areas would lead me to believe carpet would have been filthy. There is a good amount of space and a lot of windows. We had a decent view of the High Roller. One of the lamps was not working and the outlets were not conveniently located.\n",
      "\n",
      "The bathroom was a different story. It looks as though it has not been updated since the casino was built. On top of that it looked and felt a little dirty. Everything was in working order at least.\n",
      "\n",
      "We did not eat at any of the restaurants, so I cannot speak to them. That being said, none of them sounded like anything we wanted to try either. The casino area is ok. There are plenty of tables, including plenty of low minimum tables.\n",
      "\n",
      "This casino is in a good location on the strip. It is near the center so you can access most of the other casinos fairly easily. It tends to have a decent price so that can be tempting. If budget is your concern I would look elsewhere.\n",
      "\n",
      "\n",
      "-------------------------------------------------------------\n",
      "\n",
      "\n",
      "summarizing...\n",
      "done. took 41.58231997489929 seconds\n",
      "\n",
      "\n",
      "SUMMARY\n",
      "\n",
      "\n",
      "The price was good, but certainly not good enough for what you get. The hallway leading to our room were in ok shape, but there was some miscellaneous garbage like a beer can scattered about. There is a good amount of space and a lot of windows. The casino area is ok. There are plenty of tables, including plenty of low minimum tables.\n",
      "\n",
      "\n",
      "-------------------------------------------------------------\n",
      "\n",
      "\n",
      "summarizing 2...\n",
      "done. took 136.02834177017212 seconds\n",
      "\n",
      "\n",
      "SUMMARY 2\n",
      "\n",
      "\n",
      "this is not our normal place in lv, but we like to be open minded and try most of the casinos on the strip. the price was good, but certainly not good enough for what you get. one of the lamps was not working and the outlets were not conveniently located.\n",
      "\n",
      "\n",
      "-------------------------------------------------------------\n",
      "\n",
      "\n",
      "original star 1.0\n",
      "\n",
      "\n",
      "original pred 3.000967\n",
      "summary pred 2.810384\n",
      "summary2 pred 3.141711\n",
      "original ft pred (('__label__POSITIVE',), array([0.71851802]))\n",
      "summary ft pred (('__label__POSITIVE',), array([0.94088048]))\n",
      "summary2 ft pred (('__label__POSITIVE',), array([0.80475831]))\n"
     ]
    }
   ],
   "source": [
    "print_and_summarize(top_top_losses.sample(1).iloc[0])"
   ]
  },
  {
   "cell_type": "code",
   "execution_count": 41,
   "metadata": {},
   "outputs": [
    {
     "name": "stdout",
     "output_type": "stream",
     "text": [
      "ORIGINAL TEXT\n",
      "\n",
      "\n",
      "I would rather come here, spend $80 for a ticket and $15 for a drink then go to a sleepy strip club. It's more fun.\n",
      "\n",
      "\n",
      "-------------------------------------------------------------\n",
      "\n",
      "\n",
      "summarizing...\n",
      "done. took 29.74128794670105 seconds\n",
      "\n",
      "\n",
      "SUMMARY\n",
      "\n",
      "\n",
      "\"I would rather come here, spend $80 for a ticket and $15 for a drink then go to a sleepy strip club. It's more fun. I would rather go here than go to the strip club,\" he says. \"It's a lot of fun,\" he adds.\n",
      "\n",
      "\n",
      "-------------------------------------------------------------\n",
      "\n",
      "\n",
      "summarizing 2...\n",
      "done. took 151.19119000434875 seconds\n",
      "\n",
      "\n",
      "SUMMARY 2\n",
      "\n",
      "\n",
      "i would rather come here, spend $80 for a ticket and $15 for an a drink then go to a sleepy strip club. it's more fun. i'd rather go to this than a strip club, i think. the strip club scene is a bit overrated, but i don't think it is that bad.\n",
      "\n",
      "\n",
      "-------------------------------------------------------------\n",
      "\n",
      "\n",
      "original star 5.0\n",
      "\n",
      "\n",
      "original pred 2.0846546\n",
      "summary pred 2.9707377\n",
      "summary2 pred 2.8883824\n",
      "original ft pred (('__label__NEGATIVE',), array([0.59706175]))\n",
      "summary ft pred (('__label__NEGATIVE',), array([0.64509326]))\n",
      "summary2 ft pred (('__label__POSITIVE',), array([0.61993188]))\n"
     ]
    }
   ],
   "source": [
    "print_and_summarize(top_top_losses.sample(1).iloc[0])"
   ]
  },
  {
   "cell_type": "code",
   "execution_count": 42,
   "metadata": {},
   "outputs": [
    {
     "name": "stdout",
     "output_type": "stream",
     "text": [
      "ORIGINAL TEXT\n",
      "\n",
      "\n",
      "First of all, anyone posting about salads at Portillo's should stop posting.  Who rates a restaurant on their salads??\n",
      "\n",
      "And yes there are a lot of Chicagoans who are homesick for foods/establishments from our city.  Because we actually have iconic foods and establishments as opposed to Phoenix.  If you want a good burger avoid  In N Out burgers which are dull and overrated, go to Fat Burger, Greasewood Flats, or San Tan Flats instead.  \n",
      "\n",
      "Portillo's offers an amazing Chicago style beef sandwiches (although in Chicago Mr. Beef's and Al's are better).  We miss good beef sandwiches, great pizza, great hot dogs.  We're tired of Mexican restaurants which are a dime a dozen.  The only REALLY great Mexican restaurant in the area is The Barrios on 16th and Thomas.\n",
      "\n",
      "\n",
      "-------------------------------------------------------------\n",
      "\n",
      "\n",
      "summarizing...\n",
      "done. took 29.174896955490112 seconds\n",
      "\n",
      "\n",
      "SUMMARY\n",
      "\n",
      "\n",
      "Portillo's offers an amazing Chicago style beef sandwiches. The only REALLY great Mexican restaurant in the area is The Barrios on 16th and Thomas. If you want a good burger avoid  In N Out burgers which are dull and overrated, go to Fat Burger, Greasewood Flats, or San Tan Flats instead.\n",
      "\n",
      "\n",
      "-------------------------------------------------------------\n",
      "\n",
      "\n",
      "summarizing 2...\n",
      "done. took 76.64800310134888 seconds\n",
      "\n",
      "\n",
      "SUMMARY 2\n",
      "\n",
      "\n",
      "we miss good beef sandwiches, great pizza, great hot dogs. we're tired of Mexican restaurants which are a dime a dozen. the only REALLY great Mexican restaurant in the area is the barrios.\n",
      "\n",
      "\n",
      "-------------------------------------------------------------\n",
      "\n",
      "\n",
      "original star 5.0\n",
      "\n",
      "\n",
      "original pred 2.8775747\n",
      "summary pred 3.6728556\n",
      "summary2 pred 4.1252093\n",
      "original ft pred (('__label__POSITIVE',), array([0.92180061]))\n",
      "summary ft pred (('__label__POSITIVE',), array([0.89652872]))\n",
      "summary2 ft pred (('__label__POSITIVE',), array([0.99967682]))\n"
     ]
    }
   ],
   "source": [
    "print_and_summarize(top_top_losses.sample(1).iloc[0])"
   ]
  },
  {
   "cell_type": "code",
   "execution_count": 43,
   "metadata": {},
   "outputs": [
    {
     "name": "stdout",
     "output_type": "stream",
     "text": [
      "ORIGINAL TEXT\n",
      "\n",
      "\n",
      "This review has been a year in coming.  I am having the treatment received by Dr. Nack repaired so all the pain is resurfacing.  Dr. Nack removed a bridge in the front of my mouth next to my incisor and in the process broke off a sizeable portion of my incisor.  He used some sort of car repair tool and pounded on my teeth until the bridge flew across the room with the portion of my incisor.  He then used a composite material to attach the bridge to the broken incisor, leaving me looking like modern abstract art.  So, unless you don't mind looking like a hockey player I would rethink the option of using this dentist.  I am making light of this now, but it is my real experience.\n",
      "\n",
      "\n",
      "-------------------------------------------------------------\n",
      "\n",
      "\n",
      "summarizing...\n",
      "done. took 26.239673137664795 seconds\n",
      "\n",
      "\n",
      "SUMMARY\n",
      "\n",
      "\n",
      "Dr. Nack removed a bridge in the front of my mouth next to my incisor. He used some sort of car repair tool and pounded on my teeth until the bridge flew across the room. He then used a composite material to attach the bridge to the brokenincisor, leaving me looking like modern abstract art.\n",
      "\n",
      "\n",
      "-------------------------------------------------------------\n",
      "\n",
      "\n",
      "summarizing 2...\n",
      "done. took 102.46581983566284 seconds\n",
      "\n",
      "\n",
      "SUMMARY 2\n",
      "\n",
      "\n",
      "this review has been a year in coming. i am having the treatment received by dr. nack repaired so all the pain is resurfacing. he removed a bridge and in the process broke off a sizeable portion of my incisor.\n",
      "\n",
      "\n",
      "-------------------------------------------------------------\n",
      "\n",
      "\n",
      "original star 1.0\n",
      "\n",
      "\n",
      "original pred 3.8942966\n",
      "summary pred 4.6703053\n",
      "summary2 pred 4.7778864\n",
      "original ft pred (('__label__POSITIVE',), array([0.6888172]))\n",
      "summary ft pred (('__label__POSITIVE',), array([0.60855776]))\n",
      "summary2 ft pred (('__label__POSITIVE',), array([0.92547917]))\n"
     ]
    }
   ],
   "source": [
    "print_and_summarize(top_top_losses.sample(1).iloc[0])"
   ]
  },
  {
   "cell_type": "code",
   "execution_count": 44,
   "metadata": {},
   "outputs": [
    {
     "name": "stdout",
     "output_type": "stream",
     "text": [
      "ORIGINAL TEXT\n",
      "\n",
      "\n",
      "Went in just to browse, after visiting a couple more stores we returned for the best price and service in town. Cameron the owner tries to sell you what you want not just the high ticket item and encourages you to look around knowing you'll be back for his prices and service.\n",
      "\n",
      "\n",
      "-------------------------------------------------------------\n",
      "\n",
      "\n",
      "summarizing...\n",
      "done. took 21.15838122367859 seconds\n",
      "\n",
      "\n",
      "SUMMARY\n",
      "\n",
      "\n",
      "Cameron the owner tries to sell you what you want not just the high ticket item and encourages you to look around. Went in just to browse, after visiting a couple more stores we returned for the best price and service in town. We'll be back for his prices and service.\n",
      "\n",
      "\n",
      "-------------------------------------------------------------\n",
      "\n",
      "\n",
      "summarizing 2...\n",
      "done. took 84.92835974693298 seconds\n",
      "\n",
      "\n",
      "SUMMARY 2\n",
      "\n",
      "\n",
      "the owner tries to sell you what you want not just the high ticket item. he encourages you to look around knowing you'll be back for his prices and service. the owner is very friendly and helpful.\n",
      "\n",
      "\n",
      "-------------------------------------------------------------\n",
      "\n",
      "\n",
      "original star 5.0\n",
      "\n",
      "\n",
      "original pred 2.339755\n",
      "summary pred 3.7269032\n",
      "summary2 pred 4.2651706\n",
      "original ft pred (('__label__POSITIVE',), array([0.97150862]))\n",
      "summary ft pred (('__label__POSITIVE',), array([0.96024555]))\n",
      "summary2 ft pred (('__label__POSITIVE',), array([0.9959631]))\n"
     ]
    }
   ],
   "source": [
    "print_and_summarize(top_top_losses.sample(1).iloc[0])"
   ]
  },
  {
   "cell_type": "code",
   "execution_count": 45,
   "metadata": {},
   "outputs": [
    {
     "data": {
      "text/html": [
       "<div>\n",
       "<style scoped>\n",
       "    .dataframe tbody tr th:only-of-type {\n",
       "        vertical-align: middle;\n",
       "    }\n",
       "\n",
       "    .dataframe tbody tr th {\n",
       "        vertical-align: top;\n",
       "    }\n",
       "\n",
       "    .dataframe thead th {\n",
       "        text-align: right;\n",
       "    }\n",
       "</style>\n",
       "<table border=\"1\" class=\"dataframe\">\n",
       "  <thead>\n",
       "    <tr style=\"text-align: right;\">\n",
       "      <th></th>\n",
       "      <th>idx</th>\n",
       "      <th>text</th>\n",
       "      <th>stars</th>\n",
       "      <th>pred</th>\n",
       "      <th>abs_err</th>\n",
       "    </tr>\n",
       "  </thead>\n",
       "  <tbody>\n",
       "    <tr>\n",
       "      <th>315898</th>\n",
       "      <td>315898</td>\n",
       "      <td>Closed down. The all stars at this salon start...</td>\n",
       "      <td>1.0</td>\n",
       "      <td>5.127761</td>\n",
       "      <td>4.127761</td>\n",
       "    </tr>\n",
       "    <tr>\n",
       "      <th>303112</th>\n",
       "      <td>303112</td>\n",
       "      <td>Mike was awesome! Came out and fixed my leaky ...</td>\n",
       "      <td>1.0</td>\n",
       "      <td>5.113144</td>\n",
       "      <td>4.113144</td>\n",
       "    </tr>\n",
       "    <tr>\n",
       "      <th>63140</th>\n",
       "      <td>63140</td>\n",
       "      <td>Best place in town to grab what you need in a ...</td>\n",
       "      <td>1.0</td>\n",
       "      <td>5.111990</td>\n",
       "      <td>4.111990</td>\n",
       "    </tr>\n",
       "    <tr>\n",
       "      <th>101050</th>\n",
       "      <td>101050</td>\n",
       "      <td>Great start for my 1st week! Cant wait to star...</td>\n",
       "      <td>1.0</td>\n",
       "      <td>5.103042</td>\n",
       "      <td>4.103042</td>\n",
       "    </tr>\n",
       "    <tr>\n",
       "      <th>289503</th>\n",
       "      <td>289503</td>\n",
       "      <td>I recently went to a retail store in Hillcrest...</td>\n",
       "      <td>1.0</td>\n",
       "      <td>5.093112</td>\n",
       "      <td>4.093112</td>\n",
       "    </tr>\n",
       "    <tr>\n",
       "      <th>402327</th>\n",
       "      <td>402327</td>\n",
       "      <td>What kind of \"Mexican\" food is this!?!?? For b...</td>\n",
       "      <td>1.0</td>\n",
       "      <td>5.091888</td>\n",
       "      <td>4.091888</td>\n",
       "    </tr>\n",
       "    <tr>\n",
       "      <th>407050</th>\n",
       "      <td>407050</td>\n",
       "      <td>Jennifer's was a wonderful person she truly he...</td>\n",
       "      <td>1.0</td>\n",
       "      <td>5.075114</td>\n",
       "      <td>4.075114</td>\n",
       "    </tr>\n",
       "    <tr>\n",
       "      <th>198983</th>\n",
       "      <td>198983</td>\n",
       "      <td>I love this place every thing about it from th...</td>\n",
       "      <td>1.0</td>\n",
       "      <td>5.072334</td>\n",
       "      <td>4.072334</td>\n",
       "    </tr>\n",
       "    <tr>\n",
       "      <th>187837</th>\n",
       "      <td>187837</td>\n",
       "      <td>Awful service except for Krystal. She was abso...</td>\n",
       "      <td>1.0</td>\n",
       "      <td>5.071167</td>\n",
       "      <td>4.071167</td>\n",
       "    </tr>\n",
       "    <tr>\n",
       "      <th>9804</th>\n",
       "      <td>9804</td>\n",
       "      <td>Heard that Chef Kelly is no longer there.  She...</td>\n",
       "      <td>1.0</td>\n",
       "      <td>5.064618</td>\n",
       "      <td>4.064618</td>\n",
       "    </tr>\n",
       "    <tr>\n",
       "      <th>250705</th>\n",
       "      <td>250705</td>\n",
       "      <td>I've treated myself many times in my life and ...</td>\n",
       "      <td>1.0</td>\n",
       "      <td>5.063847</td>\n",
       "      <td>4.063847</td>\n",
       "    </tr>\n",
       "    <tr>\n",
       "      <th>348928</th>\n",
       "      <td>348928</td>\n",
       "      <td>This is the second time this week am posting a...</td>\n",
       "      <td>1.0</td>\n",
       "      <td>5.062220</td>\n",
       "      <td>4.062220</td>\n",
       "    </tr>\n",
       "    <tr>\n",
       "      <th>123140</th>\n",
       "      <td>123140</td>\n",
       "      <td>ALWAYS UPSELLING. These guys are amazing. Ask ...</td>\n",
       "      <td>1.0</td>\n",
       "      <td>5.054130</td>\n",
       "      <td>4.054130</td>\n",
       "    </tr>\n",
       "    <tr>\n",
       "      <th>392255</th>\n",
       "      <td>392255</td>\n",
       "      <td>The best Korean BBQ in town. The decor is what...</td>\n",
       "      <td>1.0</td>\n",
       "      <td>5.052598</td>\n",
       "      <td>4.052598</td>\n",
       "    </tr>\n",
       "    <tr>\n",
       "      <th>424099</th>\n",
       "      <td>424099</td>\n",
       "      <td>----edit----\\n\\nI don't like businesses who ca...</td>\n",
       "      <td>1.0</td>\n",
       "      <td>5.043944</td>\n",
       "      <td>4.043944</td>\n",
       "    </tr>\n",
       "    <tr>\n",
       "      <th>383879</th>\n",
       "      <td>383879</td>\n",
       "      <td>I take everyone that comes to visit me to Caju...</td>\n",
       "      <td>1.0</td>\n",
       "      <td>5.040400</td>\n",
       "      <td>4.040400</td>\n",
       "    </tr>\n",
       "    <tr>\n",
       "      <th>427299</th>\n",
       "      <td>427299</td>\n",
       "      <td>PLEASE realize that  good reviews get taken do...</td>\n",
       "      <td>1.0</td>\n",
       "      <td>5.038177</td>\n",
       "      <td>4.038177</td>\n",
       "    </tr>\n",
       "    <tr>\n",
       "      <th>205893</th>\n",
       "      <td>205893</td>\n",
       "      <td>I joined this gym in May because it was right ...</td>\n",
       "      <td>1.0</td>\n",
       "      <td>5.035353</td>\n",
       "      <td>4.035353</td>\n",
       "    </tr>\n",
       "    <tr>\n",
       "      <th>62215</th>\n",
       "      <td>62215</td>\n",
       "      <td>This place is great. We are so happy that they...</td>\n",
       "      <td>1.0</td>\n",
       "      <td>5.026338</td>\n",
       "      <td>4.026338</td>\n",
       "    </tr>\n",
       "    <tr>\n",
       "      <th>85385</th>\n",
       "      <td>85385</td>\n",
       "      <td>*UPDATE*\\nJaime repaired the damage to the wal...</td>\n",
       "      <td>1.0</td>\n",
       "      <td>5.020807</td>\n",
       "      <td>4.020807</td>\n",
       "    </tr>\n",
       "    <tr>\n",
       "      <th>109416</th>\n",
       "      <td>109416</td>\n",
       "      <td>This is a great dental place for kids my wife ...</td>\n",
       "      <td>1.0</td>\n",
       "      <td>5.017762</td>\n",
       "      <td>4.017762</td>\n",
       "    </tr>\n",
       "    <tr>\n",
       "      <th>376336</th>\n",
       "      <td>376336</td>\n",
       "      <td>Don't go here!\\nHad AC trouble, I had already ...</td>\n",
       "      <td>1.0</td>\n",
       "      <td>5.012883</td>\n",
       "      <td>4.012883</td>\n",
       "    </tr>\n",
       "    <tr>\n",
       "      <th>111358</th>\n",
       "      <td>111358</td>\n",
       "      <td>I booked a 60 minute massage and was surprised...</td>\n",
       "      <td>1.0</td>\n",
       "      <td>5.011949</td>\n",
       "      <td>4.011949</td>\n",
       "    </tr>\n",
       "    <tr>\n",
       "      <th>440566</th>\n",
       "      <td>440566</td>\n",
       "      <td>The worst experience ever! The store was empty...</td>\n",
       "      <td>5.0</td>\n",
       "      <td>0.988931</td>\n",
       "      <td>4.011069</td>\n",
       "    </tr>\n",
       "    <tr>\n",
       "      <th>58254</th>\n",
       "      <td>58254</td>\n",
       "      <td>FYI Dr. Firhaad Ismail is on the top of the li...</td>\n",
       "      <td>1.0</td>\n",
       "      <td>5.010532</td>\n",
       "      <td>4.010532</td>\n",
       "    </tr>\n",
       "    <tr>\n",
       "      <th>250339</th>\n",
       "      <td>250339</td>\n",
       "      <td>Update 1/22/2018 well after thinking this stor...</td>\n",
       "      <td>1.0</td>\n",
       "      <td>5.004597</td>\n",
       "      <td>4.004597</td>\n",
       "    </tr>\n",
       "    <tr>\n",
       "      <th>136663</th>\n",
       "      <td>136663</td>\n",
       "      <td>We were in town for CES and I always like to h...</td>\n",
       "      <td>1.0</td>\n",
       "      <td>5.004546</td>\n",
       "      <td>4.004546</td>\n",
       "    </tr>\n",
       "    <tr>\n",
       "      <th>63451</th>\n",
       "      <td>63451</td>\n",
       "      <td>I am in shock right now. I have been taking my...</td>\n",
       "      <td>1.0</td>\n",
       "      <td>4.999326</td>\n",
       "      <td>3.999326</td>\n",
       "    </tr>\n",
       "    <tr>\n",
       "      <th>234488</th>\n",
       "      <td>234488</td>\n",
       "      <td>I came in not knowing what I wanted or needed ...</td>\n",
       "      <td>1.0</td>\n",
       "      <td>4.998263</td>\n",
       "      <td>3.998263</td>\n",
       "    </tr>\n",
       "    <tr>\n",
       "      <th>91451</th>\n",
       "      <td>91451</td>\n",
       "      <td>hands down the worst service EVER .. went insi...</td>\n",
       "      <td>5.0</td>\n",
       "      <td>1.003542</td>\n",
       "      <td>3.996458</td>\n",
       "    </tr>\n",
       "    <tr>\n",
       "      <th>143938</th>\n",
       "      <td>143938</td>\n",
       "      <td>Pro glass LLC is dishonest.\\nOn June 26 I was ...</td>\n",
       "      <td>5.0</td>\n",
       "      <td>1.004799</td>\n",
       "      <td>3.995201</td>\n",
       "    </tr>\n",
       "    <tr>\n",
       "      <th>240111</th>\n",
       "      <td>240111</td>\n",
       "      <td>I fully expected to give this company a one st...</td>\n",
       "      <td>5.0</td>\n",
       "      <td>1.015090</td>\n",
       "      <td>3.984910</td>\n",
       "    </tr>\n",
       "    <tr>\n",
       "      <th>61902</th>\n",
       "      <td>61902</td>\n",
       "      <td>Absolutely awful service. They argued with me ...</td>\n",
       "      <td>5.0</td>\n",
       "      <td>1.015419</td>\n",
       "      <td>3.984581</td>\n",
       "    </tr>\n",
       "    <tr>\n",
       "      <th>11494</th>\n",
       "      <td>11494</td>\n",
       "      <td>I want to thank all the employees today who ju...</td>\n",
       "      <td>1.0</td>\n",
       "      <td>4.982790</td>\n",
       "      <td>3.982790</td>\n",
       "    </tr>\n",
       "    <tr>\n",
       "      <th>490831</th>\n",
       "      <td>490831</td>\n",
       "      <td>This company will not refund wife's 1,800 afte...</td>\n",
       "      <td>5.0</td>\n",
       "      <td>1.017895</td>\n",
       "      <td>3.982105</td>\n",
       "    </tr>\n",
       "    <tr>\n",
       "      <th>207422</th>\n",
       "      <td>207422</td>\n",
       "      <td>I was in this store and had to witness a rude ...</td>\n",
       "      <td>5.0</td>\n",
       "      <td>1.024048</td>\n",
       "      <td>3.975952</td>\n",
       "    </tr>\n",
       "    <tr>\n",
       "      <th>507223</th>\n",
       "      <td>507223</td>\n",
       "      <td>This place is AWESOME!  I'd recommend everyone...</td>\n",
       "      <td>1.0</td>\n",
       "      <td>4.967365</td>\n",
       "      <td>3.967365</td>\n",
       "    </tr>\n",
       "    <tr>\n",
       "      <th>44793</th>\n",
       "      <td>44793</td>\n",
       "      <td>Best Amazon showroom in Vegas</td>\n",
       "      <td>1.0</td>\n",
       "      <td>4.960824</td>\n",
       "      <td>3.960824</td>\n",
       "    </tr>\n",
       "    <tr>\n",
       "      <th>342064</th>\n",
       "      <td>342064</td>\n",
       "      <td>Call to place a delivery order guy answers the...</td>\n",
       "      <td>5.0</td>\n",
       "      <td>1.042907</td>\n",
       "      <td>3.957093</td>\n",
       "    </tr>\n",
       "    <tr>\n",
       "      <th>214711</th>\n",
       "      <td>214711</td>\n",
       "      <td>Bad service bad food. Never again, if you are ...</td>\n",
       "      <td>5.0</td>\n",
       "      <td>1.047937</td>\n",
       "      <td>3.952063</td>\n",
       "    </tr>\n",
       "    <tr>\n",
       "      <th>326692</th>\n",
       "      <td>326692</td>\n",
       "      <td>So earlier today, I had a leakage in my pipe f...</td>\n",
       "      <td>1.0</td>\n",
       "      <td>4.950500</td>\n",
       "      <td>3.950500</td>\n",
       "    </tr>\n",
       "    <tr>\n",
       "      <th>121421</th>\n",
       "      <td>121421</td>\n",
       "      <td>Been to many AYCE sushi places in town and I l...</td>\n",
       "      <td>1.0</td>\n",
       "      <td>4.949623</td>\n",
       "      <td>3.949623</td>\n",
       "    </tr>\n",
       "    <tr>\n",
       "      <th>321073</th>\n",
       "      <td>321073</td>\n",
       "      <td>I originally brought my 2014 charger at 32000 ...</td>\n",
       "      <td>5.0</td>\n",
       "      <td>1.051378</td>\n",
       "      <td>3.948622</td>\n",
       "    </tr>\n",
       "    <tr>\n",
       "      <th>466547</th>\n",
       "      <td>466547</td>\n",
       "      <td>I came I not expecting to find a dress but my ...</td>\n",
       "      <td>1.0</td>\n",
       "      <td>4.946873</td>\n",
       "      <td>3.946873</td>\n",
       "    </tr>\n",
       "    <tr>\n",
       "      <th>414909</th>\n",
       "      <td>414909</td>\n",
       "      <td>Just spent 10 minutes with Dave in the custom ...</td>\n",
       "      <td>1.0</td>\n",
       "      <td>4.946443</td>\n",
       "      <td>3.946443</td>\n",
       "    </tr>\n",
       "    <tr>\n",
       "      <th>171484</th>\n",
       "      <td>171484</td>\n",
       "      <td>If you want botox or B -12 injections Jennifer...</td>\n",
       "      <td>1.0</td>\n",
       "      <td>4.945913</td>\n",
       "      <td>3.945913</td>\n",
       "    </tr>\n",
       "    <tr>\n",
       "      <th>352836</th>\n",
       "      <td>352836</td>\n",
       "      <td>The eggs benedict was the best ever, definitel...</td>\n",
       "      <td>1.0</td>\n",
       "      <td>4.944785</td>\n",
       "      <td>3.944785</td>\n",
       "    </tr>\n",
       "    <tr>\n",
       "      <th>267874</th>\n",
       "      <td>267874</td>\n",
       "      <td>Booked a flight on Spirit Airlines from Oaklan...</td>\n",
       "      <td>5.0</td>\n",
       "      <td>1.058048</td>\n",
       "      <td>3.941952</td>\n",
       "    </tr>\n",
       "    <tr>\n",
       "      <th>11499</th>\n",
       "      <td>11499</td>\n",
       "      <td>Called needing to have my litter of 8, 8 week ...</td>\n",
       "      <td>5.0</td>\n",
       "      <td>1.058582</td>\n",
       "      <td>3.941418</td>\n",
       "    </tr>\n",
       "    <tr>\n",
       "      <th>123031</th>\n",
       "      <td>123031</td>\n",
       "      <td>You know I'm always telling folks how importan...</td>\n",
       "      <td>5.0</td>\n",
       "      <td>1.058962</td>\n",
       "      <td>3.941038</td>\n",
       "    </tr>\n",
       "  </tbody>\n",
       "</table>\n",
       "</div>"
      ],
      "text/plain": [
       "           idx                                               text  stars  \\\n",
       "315898  315898  Closed down. The all stars at this salon start...    1.0   \n",
       "303112  303112  Mike was awesome! Came out and fixed my leaky ...    1.0   \n",
       "63140    63140  Best place in town to grab what you need in a ...    1.0   \n",
       "101050  101050  Great start for my 1st week! Cant wait to star...    1.0   \n",
       "289503  289503  I recently went to a retail store in Hillcrest...    1.0   \n",
       "402327  402327  What kind of \"Mexican\" food is this!?!?? For b...    1.0   \n",
       "407050  407050  Jennifer's was a wonderful person she truly he...    1.0   \n",
       "198983  198983  I love this place every thing about it from th...    1.0   \n",
       "187837  187837  Awful service except for Krystal. She was abso...    1.0   \n",
       "9804      9804  Heard that Chef Kelly is no longer there.  She...    1.0   \n",
       "250705  250705  I've treated myself many times in my life and ...    1.0   \n",
       "348928  348928  This is the second time this week am posting a...    1.0   \n",
       "123140  123140  ALWAYS UPSELLING. These guys are amazing. Ask ...    1.0   \n",
       "392255  392255  The best Korean BBQ in town. The decor is what...    1.0   \n",
       "424099  424099  ----edit----\\n\\nI don't like businesses who ca...    1.0   \n",
       "383879  383879  I take everyone that comes to visit me to Caju...    1.0   \n",
       "427299  427299  PLEASE realize that  good reviews get taken do...    1.0   \n",
       "205893  205893  I joined this gym in May because it was right ...    1.0   \n",
       "62215    62215  This place is great. We are so happy that they...    1.0   \n",
       "85385    85385  *UPDATE*\\nJaime repaired the damage to the wal...    1.0   \n",
       "109416  109416  This is a great dental place for kids my wife ...    1.0   \n",
       "376336  376336  Don't go here!\\nHad AC trouble, I had already ...    1.0   \n",
       "111358  111358  I booked a 60 minute massage and was surprised...    1.0   \n",
       "440566  440566  The worst experience ever! The store was empty...    5.0   \n",
       "58254    58254  FYI Dr. Firhaad Ismail is on the top of the li...    1.0   \n",
       "250339  250339  Update 1/22/2018 well after thinking this stor...    1.0   \n",
       "136663  136663  We were in town for CES and I always like to h...    1.0   \n",
       "63451    63451  I am in shock right now. I have been taking my...    1.0   \n",
       "234488  234488  I came in not knowing what I wanted or needed ...    1.0   \n",
       "91451    91451  hands down the worst service EVER .. went insi...    5.0   \n",
       "143938  143938  Pro glass LLC is dishonest.\\nOn June 26 I was ...    5.0   \n",
       "240111  240111  I fully expected to give this company a one st...    5.0   \n",
       "61902    61902  Absolutely awful service. They argued with me ...    5.0   \n",
       "11494    11494  I want to thank all the employees today who ju...    1.0   \n",
       "490831  490831  This company will not refund wife's 1,800 afte...    5.0   \n",
       "207422  207422  I was in this store and had to witness a rude ...    5.0   \n",
       "507223  507223  This place is AWESOME!  I'd recommend everyone...    1.0   \n",
       "44793    44793                      Best Amazon showroom in Vegas    1.0   \n",
       "342064  342064  Call to place a delivery order guy answers the...    5.0   \n",
       "214711  214711  Bad service bad food. Never again, if you are ...    5.0   \n",
       "326692  326692  So earlier today, I had a leakage in my pipe f...    1.0   \n",
       "121421  121421  Been to many AYCE sushi places in town and I l...    1.0   \n",
       "321073  321073  I originally brought my 2014 charger at 32000 ...    5.0   \n",
       "466547  466547  I came I not expecting to find a dress but my ...    1.0   \n",
       "414909  414909  Just spent 10 minutes with Dave in the custom ...    1.0   \n",
       "171484  171484  If you want botox or B -12 injections Jennifer...    1.0   \n",
       "352836  352836  The eggs benedict was the best ever, definitel...    1.0   \n",
       "267874  267874  Booked a flight on Spirit Airlines from Oaklan...    5.0   \n",
       "11499    11499  Called needing to have my litter of 8, 8 week ...    5.0   \n",
       "123031  123031  You know I'm always telling folks how importan...    5.0   \n",
       "\n",
       "            pred   abs_err  \n",
       "315898  5.127761  4.127761  \n",
       "303112  5.113144  4.113144  \n",
       "63140   5.111990  4.111990  \n",
       "101050  5.103042  4.103042  \n",
       "289503  5.093112  4.093112  \n",
       "402327  5.091888  4.091888  \n",
       "407050  5.075114  4.075114  \n",
       "198983  5.072334  4.072334  \n",
       "187837  5.071167  4.071167  \n",
       "9804    5.064618  4.064618  \n",
       "250705  5.063847  4.063847  \n",
       "348928  5.062220  4.062220  \n",
       "123140  5.054130  4.054130  \n",
       "392255  5.052598  4.052598  \n",
       "424099  5.043944  4.043944  \n",
       "383879  5.040400  4.040400  \n",
       "427299  5.038177  4.038177  \n",
       "205893  5.035353  4.035353  \n",
       "62215   5.026338  4.026338  \n",
       "85385   5.020807  4.020807  \n",
       "109416  5.017762  4.017762  \n",
       "376336  5.012883  4.012883  \n",
       "111358  5.011949  4.011949  \n",
       "440566  0.988931  4.011069  \n",
       "58254   5.010532  4.010532  \n",
       "250339  5.004597  4.004597  \n",
       "136663  5.004546  4.004546  \n",
       "63451   4.999326  3.999326  \n",
       "234488  4.998263  3.998263  \n",
       "91451   1.003542  3.996458  \n",
       "143938  1.004799  3.995201  \n",
       "240111  1.015090  3.984910  \n",
       "61902   1.015419  3.984581  \n",
       "11494   4.982790  3.982790  \n",
       "490831  1.017895  3.982105  \n",
       "207422  1.024048  3.975952  \n",
       "507223  4.967365  3.967365  \n",
       "44793   4.960824  3.960824  \n",
       "342064  1.042907  3.957093  \n",
       "214711  1.047937  3.952063  \n",
       "326692  4.950500  3.950500  \n",
       "121421  4.949623  3.949623  \n",
       "321073  1.051378  3.948622  \n",
       "466547  4.946873  3.946873  \n",
       "414909  4.946443  3.946443  \n",
       "171484  4.945913  3.945913  \n",
       "352836  4.944785  3.944785  \n",
       "267874  1.058048  3.941952  \n",
       "11499   1.058582  3.941418  \n",
       "123031  1.058962  3.941038  "
      ]
     },
     "execution_count": 45,
     "metadata": {},
     "output_type": "execute_result"
    }
   ],
   "source": [
    "top_top_losses.sort_values(\"abs_err\", ascending=False).head(50)"
   ]
  },
  {
   "cell_type": "code",
   "execution_count": 46,
   "metadata": {},
   "outputs": [
    {
     "name": "stdout",
     "output_type": "stream",
     "text": [
      "Closed down. The all stars at this salon started their own place. Go to LoLo Salon over inside Sola Salons. They are the best!\n",
      "\n",
      "Loved Marianna. Basic interior, not an aveda salon, but the people! They are fantastic. Can't say enough great things about the staff, they are well trained and so personable. I was a wimp on going short after growing my hair out for years, and Marianna was a perfect hairdresser in letting me try my style at one length first and then come back for a tweak after I wanted to go shorter. I recommend! I've now been a repeat client even though I live in Concord.\n"
     ]
    }
   ],
   "source": [
    "print(df.iloc[315898]['text'])"
   ]
  },
  {
   "cell_type": "code",
   "execution_count": 47,
   "metadata": {},
   "outputs": [
    {
     "data": {
      "text/plain": [
       "\"the all stars at this salon started their own place. go to lolo salon over inside sola salons. they are the best! loved Marianna. basic interior, not an aveda salon, but the people! they are fantastic. can't say enough great things about the staff, they are well trained and so personable.\""
      ]
     },
     "execution_count": 47,
     "metadata": {},
     "output_type": "execute_result"
    }
   ],
   "source": [
    "ts2(df.iloc[315898]['text'], min_length=42, clean_up_tokenization_spaces=True, max_length=1024)[0]['summary_text']"
   ]
  },
  {
   "cell_type": "code",
   "execution_count": 48,
   "metadata": {},
   "outputs": [
    {
     "name": "stdout",
     "output_type": "stream",
     "text": [
      "Mike was awesome! Came out and fixed my leaky sink in no time! Highly recommended! He was very kind and courteous. He was fast and arrived on time.\n"
     ]
    }
   ],
   "source": [
    "print(df.iloc[303112]['text'])"
   ]
  },
  {
   "cell_type": "code",
   "execution_count": 58,
   "metadata": {},
   "outputs": [
    {
     "name": "stdout",
     "output_type": "stream",
     "text": [
      "1.0\n",
      "Best place in town to grab what you need in a hurry! The staff is great, friendly, and very informative! I've never been disappointed! Don't waste your time, go and see Shelby at the best dispensary in town!\n"
     ]
    },
    {
     "data": {
      "text/plain": [
       "(None, None)"
      ]
     },
     "execution_count": 58,
     "metadata": {},
     "output_type": "execute_result"
    }
   ],
   "source": [
    "print(df.iloc[63140]['stars']), print(df.iloc[63140]['text'])"
   ]
  },
  {
   "cell_type": "code",
   "execution_count": 50,
   "metadata": {},
   "outputs": [
    {
     "name": "stdout",
     "output_type": "stream",
     "text": [
      "Great start for my 1st week! Cant wait to start seeing results! Everyone has been awesome. I feel excepted as a beginner and have tons of room to grow\n"
     ]
    }
   ],
   "source": [
    "print(df.iloc[101050]['text'])"
   ]
  },
  {
   "cell_type": "code",
   "execution_count": 51,
   "metadata": {},
   "outputs": [
    {
     "name": "stdout",
     "output_type": "stream",
     "text": [
      "Been using this particular Fletcher's location for years: for new tires on multiple vehicles, for all maintenance service, and all suggested service by the technicians performing routine service on my vehicles, for many years. I have spent thousands on repairs and services from this location.\n",
      "\n",
      "So one day when I realized I had a leak in one of the tires I bought from them, I asked them to check it and repair it. I was losing 5-10psi every day, so it was clear I had a leak. The guy in charge assured me if I had bought the tire from them, it would be repaired at no cost.\n",
      "\n",
      "So I drop it off and wait for the repair to be done. Upon receiving the call it was done and that I could pick it up, I was notified the technician looked at it and had determined there was nothing wrong with it. I asked if it had even been dismounted to check for a leak, and the office manager seemed to 'think' that was the case. They simply put air in it and sent in on its way.\n",
      "\n",
      "So, knowing it clearly had a leak, as it was showing low the very next morning, I took it to Discount Tires knowing they would check it and repair it for free. Sure enough it had a nail in it. Discount repaired it free of charge.\n",
      "\n",
      "Not only will Discount Tire be getting all my tire service in the future, I will make sure all my referrals go to them as well.\n"
     ]
    }
   ],
   "source": [
    "print(df.iloc[217335]['text'])"
   ]
  },
  {
   "cell_type": "code",
   "execution_count": 52,
   "metadata": {},
   "outputs": [
    {
     "data": {
      "text/plain": [
       "'a leak in one of the tires i bought from discount tire caused me to take it to discount. the tire had a nail in it, and discount repaired it free of charge. i will make sure all my referrals go to discount tire in the future.'"
      ]
     },
     "execution_count": 52,
     "metadata": {},
     "output_type": "execute_result"
    }
   ],
   "source": [
    "ts2(df.iloc[217335]['text'], min_length=42, clean_up_tokenization_spaces=True, max_length=1024)[0]['summary_text']"
   ]
  },
  {
   "cell_type": "code",
   "execution_count": 53,
   "metadata": {},
   "outputs": [
    {
     "data": {
      "text/plain": [
       "'I was losing 5-10psi every day, so it was clear I had a leak. I took it to Discount Tires knowing they would check it and repair it for free. Sure enough it had a nail in it. Discount repaired it free of charge. I will make sure all my referrals go to them as well.'"
      ]
     },
     "execution_count": 53,
     "metadata": {},
     "output_type": "execute_result"
    }
   ],
   "source": [
    "ts.summarize(df.iloc[217335]['text'])"
   ]
  },
  {
   "cell_type": "code",
   "execution_count": 54,
   "metadata": {},
   "outputs": [
    {
     "name": "stdout",
     "output_type": "stream",
     "text": [
      "Lvaeh (Las Vegas animal emergency hospital) rated my review as \"funny.\" That just validates everything I said- thanks lvaeh!\n"
     ]
    }
   ],
   "source": [
    "print(df.iloc[192620]['text'])"
   ]
  },
  {
   "cell_type": "code",
   "execution_count": 55,
   "metadata": {},
   "outputs": [
    {
     "name": "stdout",
     "output_type": "stream",
     "text": [
      "For the person who says $100 for direct deposit, please check other places and then say they are charging to much. I went to a lot of places and they wanted to charge me up to 500 dollars and some of they would promise me more and try to add more stuff to my tax in order to get me more and for them to keep profit. No one is more honest than here! \n",
      "\n",
      "If you want to be scammed like everyone else, go to other places. \n",
      "\n",
      "Who complain are mostly whom want to scam the IRS!\n"
     ]
    }
   ],
   "source": [
    "print(df.iloc[303630]['text'])"
   ]
  },
  {
   "cell_type": "code",
   "execution_count": 57,
   "metadata": {},
   "outputs": [
    {
     "data": {
      "text/plain": [
       "(('__label__POSITIVE',), array([0.96862572]))"
      ]
     },
     "execution_count": 57,
     "metadata": {},
     "output_type": "execute_result"
    }
   ],
   "source": [
    "model_ft.predict(\"this place isn’t good, i recommend going to Bob’s business instead. That place is the best!\")"
   ]
  },
  {
   "cell_type": "code",
   "execution_count": 66,
   "metadata": {},
   "outputs": [
    {
     "data": {
      "text/html": [
       "<div>\n",
       "<style scoped>\n",
       "    .dataframe tbody tr th:only-of-type {\n",
       "        vertical-align: middle;\n",
       "    }\n",
       "\n",
       "    .dataframe tbody tr th {\n",
       "        vertical-align: top;\n",
       "    }\n",
       "\n",
       "    .dataframe thead th {\n",
       "        text-align: right;\n",
       "    }\n",
       "</style>\n",
       "<table border=\"1\" class=\"dataframe\">\n",
       "  <thead>\n",
       "    <tr style=\"text-align: right;\">\n",
       "      <th></th>\n",
       "      <th>idx</th>\n",
       "      <th>text</th>\n",
       "      <th>stars</th>\n",
       "      <th>pred</th>\n",
       "      <th>abs_err</th>\n",
       "    </tr>\n",
       "  </thead>\n",
       "  <tbody>\n",
       "    <tr>\n",
       "      <th>4</th>\n",
       "      <td>4</td>\n",
       "      <td>We are here once over a year ago before we mov...</td>\n",
       "      <td>1.0</td>\n",
       "      <td>2.771281</td>\n",
       "      <td>1.771281</td>\n",
       "    </tr>\n",
       "    <tr>\n",
       "      <th>263</th>\n",
       "      <td>263</td>\n",
       "      <td>Went in to this establishment with a bunch of ...</td>\n",
       "      <td>3.0</td>\n",
       "      <td>1.398073</td>\n",
       "      <td>1.601927</td>\n",
       "    </tr>\n",
       "    <tr>\n",
       "      <th>336</th>\n",
       "      <td>336</td>\n",
       "      <td>He is at Hooters now!   I came to see him on M...</td>\n",
       "      <td>3.0</td>\n",
       "      <td>4.803566</td>\n",
       "      <td>1.803566</td>\n",
       "    </tr>\n",
       "    <tr>\n",
       "      <th>368</th>\n",
       "      <td>368</td>\n",
       "      <td>So far so good first time at this hotel u will...</td>\n",
       "      <td>3.0</td>\n",
       "      <td>4.738207</td>\n",
       "      <td>1.738207</td>\n",
       "    </tr>\n",
       "    <tr>\n",
       "      <th>384</th>\n",
       "      <td>384</td>\n",
       "      <td>We went for all you can eat prime rib and seaf...</td>\n",
       "      <td>3.0</td>\n",
       "      <td>1.124015</td>\n",
       "      <td>1.875985</td>\n",
       "    </tr>\n",
       "  </tbody>\n",
       "</table>\n",
       "</div>"
      ],
      "text/plain": [
       "     idx                                               text  stars      pred  \\\n",
       "4      4  We are here once over a year ago before we mov...    1.0  2.771281   \n",
       "263  263  Went in to this establishment with a bunch of ...    3.0  1.398073   \n",
       "336  336  He is at Hooters now!   I came to see him on M...    3.0  4.803566   \n",
       "368  368  So far so good first time at this hotel u will...    3.0  4.738207   \n",
       "384  384  We went for all you can eat prime rib and seaf...    3.0  1.124015   \n",
       "\n",
       "      abs_err  \n",
       "4    1.771281  \n",
       "263  1.601927  \n",
       "336  1.803566  \n",
       "368  1.738207  \n",
       "384  1.875985  "
      ]
     },
     "execution_count": 66,
     "metadata": {},
     "output_type": "execute_result"
    }
   ],
   "source": [
    "top_losses.head()"
   ]
  },
  {
   "cell_type": "code",
   "execution_count": 100,
   "metadata": {},
   "outputs": [
    {
     "name": "stdout",
     "output_type": "stream",
     "text": [
      "3.0 4.594041347503662\n",
      "Great little cozy spot on College Street free wifi and great seating.\n"
     ]
    }
   ],
   "source": [
    "sample = top_losses.sample(1).iloc[0]\n",
    "print(sample['stars'], sample['pred'])\n",
    "print(sample['text'])"
   ]
  }
 ],
 "metadata": {
  "kernelspec": {
   "display_name": "Python 3",
   "language": "python",
   "name": "python3"
  },
  "language_info": {
   "codemirror_mode": {
    "name": "ipython",
    "version": 3
   },
   "file_extension": ".py",
   "mimetype": "text/x-python",
   "name": "python",
   "nbconvert_exporter": "python",
   "pygments_lexer": "ipython3",
   "version": "3.7.6"
  }
 },
 "nbformat": 4,
 "nbformat_minor": 4
}
