{
 "cells": [
  {
   "cell_type": "code",
   "execution_count": 1,
   "metadata": {},
   "outputs": [],
   "source": [
    "import pandas as pd\n",
    "from ktrain import text\n",
    "from transformers import AutoTokenizer, AutoConfig, TFAutoModelForSequenceClassification\n",
    "from transformers import pipeline\n",
    "import fasttext\n",
    "import nltk\n",
    "import time"
   ]
  },
  {
   "cell_type": "code",
   "execution_count": 2,
   "metadata": {},
   "outputs": [
    {
     "data": {
      "application/vnd.jupyter.widget-view+json": {
       "model_id": "f25fca14701e4eefa45f8b0bbc738756",
       "version_major": 2,
       "version_minor": 0
      },
      "text/plain": [
       "HBox(children=(FloatProgress(value=0.0, description='Downloading', max=230.0, style=ProgressStyle(description_…"
      ]
     },
     "metadata": {},
     "output_type": "display_data"
    },
    {
     "name": "stdout",
     "output_type": "stream",
     "text": [
      "\n"
     ]
    },
    {
     "name": "stderr",
     "output_type": "stream",
     "text": [
      "Warning : `load_model` does not return WordVectorModel or SupervisedModel any more, but a `FastText` object which is very similar.\n"
     ]
    }
   ],
   "source": [
    "ts = text.TransformerSummarizer()\n",
    "ts2 = pipeline(\"summarization\", model=\"t5-large\", tokenizer=\"t5-large\", framework=\"tf\")\n",
    "tokenizer = AutoTokenizer.from_pretrained('distilbert-base-uncased', use_fast=True)\n",
    "model = TFAutoModelForSequenceClassification.from_pretrained(\"model\")\n",
    "model_ft = fasttext.load_model(\"fasttext/model.bin\")"
   ]
  },
  {
   "cell_type": "code",
   "execution_count": 12,
   "metadata": {},
   "outputs": [],
   "source": [
    "def predict(text):\n",
    "    return model(tokenizer.encode(text, return_tensors='tf', max_length=512))[0].numpy()[0][0]\n",
    "\n",
    "def predict_ft(text):\n",
    "    return model_ft.predict(\" \".join(nltk.word_tokenize(text)))\n",
    "\n",
    "def print_and_summarize(row):\n",
    "    text = row['text']\n",
    "    stars = row['stars']\n",
    "    print(\"ORIGINAL TEXT\")\n",
    "    print(\"\\n\")\n",
    "    print(text)\n",
    "    print(\"\\n\")\n",
    "    print(\"-------------------------------------------------------------\")\n",
    "    print(\"\\n\")\n",
    "    print(\"summarizing...\")\n",
    "    start = time.time()\n",
    "    summary = ts.summarize(text)\n",
    "    print(f\"done. took {time.time() - start} seconds\")\n",
    "    print(\"\\n\")\n",
    "    print(\"SUMMARY\")\n",
    "    print(\"\\n\")\n",
    "    print(summary)\n",
    "    print(\"\\n\")\n",
    "    print(\"-------------------------------------------------------------\")\n",
    "    print(\"\\n\")\n",
    "    print(\"summarizing 2...\")\n",
    "    start = time.time()\n",
    "    summary2 = ts2(text, min_length=42, clean_up_tokenization_spaces=True, max_length=1024)[0]['summary_text']\n",
    "    print(f\"done. took {time.time() - start} seconds\")\n",
    "    print(\"\\n\")\n",
    "    print(\"SUMMARY 2\")\n",
    "    print(\"\\n\")\n",
    "    print(summary2)\n",
    "    print(\"\\n\")\n",
    "    print(\"-------------------------------------------------------------\")\n",
    "    print(\"\\n\")\n",
    "    print(\"original star\", stars)\n",
    "    print(\"\\n\")\n",
    "    print(\"original pred\", predict(text))\n",
    "    print(\"summary pred\", predict(summary))\n",
    "    print(\"summary2 pred\", predict(summary2))\n",
    "    print(\"original ft pred\", predict_ft(text))\n",
    "    print(\"summary ft pred\", predict_ft(summary))\n",
    "    print(\"summary2 ft pred\", predict_ft(summary2))"
   ]
  },
  {
   "cell_type": "code",
   "execution_count": 13,
   "metadata": {},
   "outputs": [
    {
     "data": {
      "text/plain": [
       "(68574, 4)"
      ]
     },
     "execution_count": 13,
     "metadata": {},
     "output_type": "execute_result"
    }
   ],
   "source": [
    "df = pd.read_csv(\"preds.csv\", header=None, names=['idx', 'text', 'stars', 'pred'])\n",
    "df.shape"
   ]
  },
  {
   "cell_type": "code",
   "execution_count": 14,
   "metadata": {},
   "outputs": [
    {
     "data": {
      "text/html": [
       "<div>\n",
       "<style scoped>\n",
       "    .dataframe tbody tr th:only-of-type {\n",
       "        vertical-align: middle;\n",
       "    }\n",
       "\n",
       "    .dataframe tbody tr th {\n",
       "        vertical-align: top;\n",
       "    }\n",
       "\n",
       "    .dataframe thead th {\n",
       "        text-align: right;\n",
       "    }\n",
       "</style>\n",
       "<table border=\"1\" class=\"dataframe\">\n",
       "  <thead>\n",
       "    <tr style=\"text-align: right;\">\n",
       "      <th></th>\n",
       "      <th>idx</th>\n",
       "      <th>text</th>\n",
       "      <th>stars</th>\n",
       "      <th>pred</th>\n",
       "    </tr>\n",
       "  </thead>\n",
       "  <tbody>\n",
       "    <tr>\n",
       "      <th>0</th>\n",
       "      <td>0</td>\n",
       "      <td>Really great local auto repair spot... really ...</td>\n",
       "      <td>5.0</td>\n",
       "      <td>4.891084</td>\n",
       "    </tr>\n",
       "    <tr>\n",
       "      <th>1</th>\n",
       "      <td>1</td>\n",
       "      <td>Best Oyster House in Toronto.  Great variety a...</td>\n",
       "      <td>5.0</td>\n",
       "      <td>5.034161</td>\n",
       "    </tr>\n",
       "    <tr>\n",
       "      <th>2</th>\n",
       "      <td>2</td>\n",
       "      <td>We thoroughly enjoy eating here. We go here at...</td>\n",
       "      <td>5.0</td>\n",
       "      <td>4.932011</td>\n",
       "    </tr>\n",
       "    <tr>\n",
       "      <th>3</th>\n",
       "      <td>3</td>\n",
       "      <td>OMG!!! So good!!!!  I was in AZ for work and I...</td>\n",
       "      <td>5.0</td>\n",
       "      <td>5.016096</td>\n",
       "    </tr>\n",
       "    <tr>\n",
       "      <th>4</th>\n",
       "      <td>4</td>\n",
       "      <td>We are here once over a year ago before we mov...</td>\n",
       "      <td>1.0</td>\n",
       "      <td>2.771281</td>\n",
       "    </tr>\n",
       "  </tbody>\n",
       "</table>\n",
       "</div>"
      ],
      "text/plain": [
       "   idx                                               text  stars      pred\n",
       "0    0  Really great local auto repair spot... really ...    5.0  4.891084\n",
       "1    1  Best Oyster House in Toronto.  Great variety a...    5.0  5.034161\n",
       "2    2  We thoroughly enjoy eating here. We go here at...    5.0  4.932011\n",
       "3    3  OMG!!! So good!!!!  I was in AZ for work and I...    5.0  5.016096\n",
       "4    4  We are here once over a year ago before we mov...    1.0  2.771281"
      ]
     },
     "execution_count": 14,
     "metadata": {},
     "output_type": "execute_result"
    }
   ],
   "source": [
    "df.head()"
   ]
  },
  {
   "cell_type": "code",
   "execution_count": 15,
   "metadata": {},
   "outputs": [
    {
     "data": {
      "text/plain": [
       "idx      0\n",
       "text     0\n",
       "stars    0\n",
       "pred     0\n",
       "dtype: int64"
      ]
     },
     "execution_count": 15,
     "metadata": {},
     "output_type": "execute_result"
    }
   ],
   "source": [
    "df.isna().sum()"
   ]
  },
  {
   "cell_type": "code",
   "execution_count": 16,
   "metadata": {},
   "outputs": [],
   "source": [
    "df['abs_err'] = abs(df['stars'] - df['pred'])"
   ]
  },
  {
   "cell_type": "code",
   "execution_count": 17,
   "metadata": {},
   "outputs": [
    {
     "name": "stdout",
     "output_type": "stream",
     "text": [
      "ORIGINAL TEXT\n",
      "\n",
      "\n",
      "It's 4.35\n",
      "\n",
      "It's overall very good(but it wasn't amazing that I can give it 4.5 or above.  It was very very close though).   All dishes were good but there wasn't a single dish that wowed us(Not a single dish that I would come back for alone).  Service was good.\n",
      "\n",
      "We had the regular tasting menu ($95 each).  It's a 5 course meal but it's more like a 10 course meal because they provided a bunch of amuse bouche that's not listed on the menu.  Overall it was very good value for the amount of food that you get(at least for this type of restaurant).\n",
      "\n",
      "They offered complimentary distilled or sparkling water which was a nice gesture for this type of restaurant.\n",
      "\n",
      "We are not drinkers so we got 2 non-alcoholic drinks:\n",
      "\n",
      "-Pear Tea and lemon ($8): Good mixture of pear tea and lemon taste.  Rating: 4/5\n",
      "-Orange and Almond ($8):  Could taste the orange but lacked almond taste. Rating: 3/5\n",
      "\n",
      " For the tasting menu we had:\n",
      "\n",
      "-To begin(don't know exactly what this is called as they didn't put it on the menu), they provided 4 small pieces of cream cheese puffs and 2 pieces of bite sided foie gras puff pastry:  A very good way the start off.  Nice delicate taste.  Rating: 4/5\n",
      "\n",
      "-English Peas:  Beautifully plated with a chicken skin on the side. Nice crispness on the chicken skin.  Rating: 4/5\n",
      "\n",
      "-Hamachi, Zucchini, Preserved Lemon, Pinenuts:  This was one of the highlights of the night.  Nice big piece of hamachi.  All the ingredients go so well together.  Rating 4.5/5\n",
      "\n",
      "-Pain au Lait: It's milk bread.  Butter was served in a cute little glassware.  It's better than average bread.  Rating: 3.5/5\n",
      "\n",
      "-Dungeness crab, chanterelle mushrooms, garlic scapes, carolina gold rice:  Nice generous pieces of crab goes well with the other ingredients.  Rating: 4.25/5\n",
      "\n",
      "-Morel Mushrooms, shallots, potato, isigny creme fraiche:  Very nicely plated.  This was okay for me.  Rating: 3.5/5\n",
      "\n",
      "-Sea scallop, avocado, vadouvan, finger limes: This was the other highlight.  Scallop was seared to perfection(very tender).  Rating: 4.5/5\n",
      "\n",
      "-Striped bass, baby artichokes, bluefoot chanterelles, hazelnuts:  The bass was bit too salty on this one.  The mixture of ingredients were okay.  Rating: 3.5/5\n",
      "\n",
      "-Rack of pork, swiss chard, walnuts, bing cherries: Nice piece of pork and again very tender. Great mixture when eating with the cherry sauce.  Rating: 4/5 \n",
      "\n",
      "-Moulard duck, fennel, treviso, pistachio:  The duck was a little bit tough.  Very nice piece of pistachio.  Rating: 3.75/5\n",
      "\n",
      "-Sheep's milk yogurt, tomatillo, rye berries: It's for cleansing our palette before going into dessert.  Nice little cool treat.  (I won't rate this.)\n",
      "\n",
      "\n",
      "\n",
      "I think the dessert really fell short here.  Although it was nicely plated.  Taste wise it was not very memorable.  \n",
      "\n",
      "We had:\n",
      "\n",
      "-Carrot, chamomile, lemon balm: This was okay.  Plating looked nice.  Didn't quite go well together. Rating: 3/5\n",
      "\n",
      "-Rhubarb, almond, black pepper: This was a weird dessert.  As there were veggies on the side.  Rating: 3/5\n",
      "\n",
      "-Dark chocolate, mint:  This was better.  Nice dark chocolate taste.  Rating: 4/5\n",
      "\n",
      "\n",
      "I would like to try the tasting menu at the bar next time.\n",
      "\n",
      "\n",
      "-------------------------------------------------------------\n",
      "\n",
      "\n",
      "summarizing...\n",
      "done. took 52.922024965286255 seconds\n",
      "\n",
      "\n",
      "SUMMARY\n",
      "\n",
      "\n",
      "We had the regular tasting menu ($95 each) It's a 5 course meal but it's more like a 10 course meal because they provided a bunch of amuse bouche that's not listed on the menu. All dishes were good but there wasn't a single dish that wowed us. Service was good.\n",
      "\n",
      "\n",
      "-------------------------------------------------------------\n",
      "\n",
      "\n",
      "summarizing 2...\n",
      "done. took 132.9971399307251 seconds\n",
      "\n",
      "\n",
      "SUMMARY 2\n",
      "\n",
      "\n",
      "it's 4.35 It's overall very good(but it wasn't amazing that i can give it 4.5 or above. it was very very close though). service was good. complimentary distilled or sparkling water was a nice gesture for this type of restaurant.\n",
      "\n",
      "\n",
      "-------------------------------------------------------------\n",
      "\n",
      "\n",
      "original star 4.0\n",
      "\n",
      "\n",
      "original pred 4.0551906\n",
      "summary pred 3.8334587\n",
      "summary2 pred 3.774631\n",
      "original ft pred (('__label__POSITIVE',), array([0.96301973]))\n",
      "summary ft pred (('__label__POSITIVE',), array([0.9352451]))\n",
      "summary2 ft pred (('__label__POSITIVE',), array([0.99984002]))\n"
     ]
    }
   ],
   "source": [
    "print_and_summarize(df.sample(1).iloc[0])"
   ]
  },
  {
   "cell_type": "code",
   "execution_count": 18,
   "metadata": {},
   "outputs": [
    {
     "name": "stdout",
     "output_type": "stream",
     "text": [
      "ORIGINAL TEXT\n",
      "\n",
      "\n",
      "Probably the best Italian restaraunt I've ever been to. Literally AMAZING. The owner came up and talked to us a few times, my water was constantly filled, if the waiter didn't know about a specific wine he woukd ask the manager and he personally came to our table to give us additional information about Italian wine. Amazing shrimp & lobster raviolis. I wish I had more!!! 5 stars forsure.\n",
      "\n",
      "\n",
      "-------------------------------------------------------------\n",
      "\n",
      "\n",
      "summarizing...\n",
      "done. took 25.42374610900879 seconds\n",
      "\n",
      "\n",
      "SUMMARY\n",
      "\n",
      "\n",
      "The owner came up and talked to us a few times, my water was constantly filled, if the waiter didn't know about a specific wine he woukd ask the manager and he personally came to our table to give us additional information about Italian wine. Amazing shrimp & lobster raviolis. 5 stars forsure.\n",
      "\n",
      "\n",
      "-------------------------------------------------------------\n",
      "\n",
      "\n",
      "summarizing 2...\n",
      "done. took 137.76110315322876 seconds\n",
      "\n",
      "\n",
      "SUMMARY 2\n",
      "\n",
      "\n",
      "Probably the best italian restaraunt i've ever been to. Literally AMAZING. the owner came up and talked to us a few times, my water was constantly filled, if the waiter didn't know about a specific wine he woukd ask the manager. amazing shrimp & lobster raviolis. i wish i had more!!! 5 stars forsure.\n",
      "\n",
      "\n",
      "-------------------------------------------------------------\n",
      "\n",
      "\n",
      "original star 5.0\n",
      "\n",
      "\n",
      "original pred 5.145906\n",
      "summary pred 4.992886\n",
      "summary2 pred 5.133003\n",
      "original ft pred (('__label__POSITIVE',), array([0.95716143]))\n",
      "summary ft pred (('__label__POSITIVE',), array([0.9368313]))\n",
      "summary2 ft pred (('__label__POSITIVE',), array([0.98088115]))\n"
     ]
    }
   ],
   "source": [
    "print_and_summarize(df.sample(1).iloc[0])"
   ]
  },
  {
   "cell_type": "code",
   "execution_count": 19,
   "metadata": {},
   "outputs": [
    {
     "name": "stdout",
     "output_type": "stream",
     "text": [
      "ORIGINAL TEXT\n",
      "\n",
      "\n",
      "A typical Vietnamese place. Horrible service, average food, sometimes horrible.\n",
      "Sriracha sauce to the rescue!\n",
      "\n",
      "Once I found a live caterpillar in my fresh roll. Another time a whole bunch of hair in my noodles. You get sick sometimes if you eat here regularly. \n",
      "As I said, a typical Vietnamese place.\n",
      "\n",
      "\n",
      "-------------------------------------------------------------\n",
      "\n",
      "\n",
      "summarizing...\n",
      "done. took 24.2817280292511 seconds\n",
      "\n",
      "\n",
      "SUMMARY\n",
      "\n",
      "\n",
      "Sriracha sauce to the rescue! Once I found a live caterpillar in my fresh roll. Another time a whole bunch of hair in my noodles. You get sick sometimes if you eat here regularly. A typical Vietnamese place. Horrible service, average food, sometimes horrible.\n",
      "\n",
      "\n",
      "-------------------------------------------------------------\n",
      "\n",
      "\n",
      "summarizing 2...\n",
      "done. took 70.2481381893158 seconds\n",
      "\n",
      "\n",
      "SUMMARY 2\n",
      "\n",
      "\n",
      "a typical Vietnamese place. Horrible service, average food, sometimes horrible. once i found a live caterpillar in my fresh roll. another time a whole bunch of hair in my noodles.\n",
      "\n",
      "\n",
      "-------------------------------------------------------------\n",
      "\n",
      "\n",
      "original star 2.0\n",
      "\n",
      "\n",
      "original pred 1.7375695\n",
      "summary pred 1.5939327\n",
      "summary2 pred 1.6743578\n",
      "original ft pred (('__label__NEGATIVE',), array([0.60768211]))\n",
      "summary ft pred (('__label__NEGATIVE',), array([0.76519006]))\n",
      "summary2 ft pred (('__label__NEGATIVE',), array([0.87326509]))\n"
     ]
    }
   ],
   "source": [
    "print_and_summarize(df.sample(1).iloc[0])"
   ]
  },
  {
   "cell_type": "code",
   "execution_count": 20,
   "metadata": {},
   "outputs": [
    {
     "name": "stdout",
     "output_type": "stream",
     "text": [
      "ORIGINAL TEXT\n",
      "\n",
      "\n",
      "These guys came out on short notice, did not rip me off! They replaced my pool timer, did not try to up charge me, they did not try to make me pay for more services than what I needed. I will call them again in a hot minute if I ever need a pool guy.\n",
      "\n",
      "\n",
      "-------------------------------------------------------------\n",
      "\n",
      "\n",
      "summarizing...\n",
      "done. took 21.51083278656006 seconds\n",
      "\n",
      "\n",
      "SUMMARY\n",
      "\n",
      "\n",
      "These guys came out on short notice, did not rip me off! They replaced my pool timer and did not try to up charge me. I will call them again in a hot minute if I ever need a pool guy. They did not make me pay for more services than what I needed.\n",
      "\n",
      "\n",
      "-------------------------------------------------------------\n",
      "\n",
      "\n",
      "summarizing 2...\n",
      "done. took 68.79211378097534 seconds\n",
      "\n",
      "\n",
      "SUMMARY 2\n",
      "\n",
      "\n",
      "they replaced my pool timer, did not try to up charge me. i will call them again in a hot minute if i ever need a pool guy. they came out on short notice.\n",
      "\n",
      "\n",
      "-------------------------------------------------------------\n",
      "\n",
      "\n",
      "original star 5.0\n",
      "\n",
      "\n",
      "original pred 5.06611\n",
      "summary pred 5.022257\n",
      "summary2 pred 4.9663777\n",
      "original ft pred (('__label__NEGATIVE',), array([0.80007166]))\n",
      "summary ft pred (('__label__NEGATIVE',), array([0.75257832]))\n",
      "summary2 ft pred (('__label__POSITIVE',), array([0.61549503]))\n"
     ]
    }
   ],
   "source": [
    "print_and_summarize(df.sample(1).iloc[0])"
   ]
  },
  {
   "cell_type": "code",
   "execution_count": null,
   "metadata": {},
   "outputs": [
    {
     "name": "stdout",
     "output_type": "stream",
     "text": [
      "ORIGINAL TEXT\n",
      "\n",
      "\n",
      "I had the porcini mushroom wild rice soup with truffle oil ($10), which came with a cheddar biscuit and a little pocket of sauce on the side. The soup was perfectly fine (I think truffle oil will be one of those acquired taste kinds of items for me) and included a generous portion. \n",
      "\n",
      "The biscuit was delectable! You must try it if you're generally a biscuit fan.\n",
      "\n",
      "\n",
      "-------------------------------------------------------------\n",
      "\n",
      "\n",
      "summarizing...\n",
      "done. took 20.57575011253357 seconds\n",
      "\n",
      "\n",
      "SUMMARY\n",
      "\n",
      "\n",
      "I had the porcini mushroom wild rice soup with truffle oil. It came with a cheddar biscuit and a little pocket of sauce on the side. The biscuit was delectable! You must try it if you're generally a biscuit fan.\n",
      "\n",
      "\n",
      "-------------------------------------------------------------\n",
      "\n",
      "\n",
      "summarizing 2...\n"
     ]
    }
   ],
   "source": [
    "print_and_summarize(df.sample(1).iloc[0])"
   ]
  },
  {
   "cell_type": "code",
   "execution_count": null,
   "metadata": {},
   "outputs": [],
   "source": [
    "print_and_summarize(df.sample(1).iloc[0])"
   ]
  },
  {
   "cell_type": "code",
   "execution_count": null,
   "metadata": {},
   "outputs": [],
   "source": [
    "print_and_summarize(df.sample(1).iloc[0])"
   ]
  },
  {
   "cell_type": "code",
   "execution_count": null,
   "metadata": {},
   "outputs": [],
   "source": [
    "df['abs_err'].describe()"
   ]
  },
  {
   "cell_type": "code",
   "execution_count": null,
   "metadata": {},
   "outputs": [],
   "source": [
    "top_losses = df[df['abs_err'] > 0.48]\n",
    "top_losses.shape"
   ]
  },
  {
   "cell_type": "code",
   "execution_count": null,
   "metadata": {},
   "outputs": [],
   "source": [
    "len(top_losses) / len(df)"
   ]
  },
  {
   "cell_type": "code",
   "execution_count": null,
   "metadata": {},
   "outputs": [],
   "source": [
    "top_losses['stars'].value_counts().sort_values(ascending=False)"
   ]
  },
  {
   "cell_type": "code",
   "execution_count": null,
   "metadata": {},
   "outputs": [],
   "source": [
    "top_losses['stars'].plot.hist();"
   ]
  },
  {
   "cell_type": "code",
   "execution_count": null,
   "metadata": {},
   "outputs": [],
   "source": [
    "df['stars'].plot.hist();"
   ]
  },
  {
   "cell_type": "code",
   "execution_count": null,
   "metadata": {},
   "outputs": [],
   "source": [
    "top_losses.sort_values('abs_err').head(10)"
   ]
  },
  {
   "cell_type": "code",
   "execution_count": null,
   "metadata": {},
   "outputs": [],
   "source": [
    "top_losses = df[df['abs_err'] > 1]\n",
    "top_losses.shape"
   ]
  },
  {
   "cell_type": "code",
   "execution_count": null,
   "metadata": {},
   "outputs": [],
   "source": [
    "len(top_losses) / len(df)"
   ]
  },
  {
   "cell_type": "code",
   "execution_count": null,
   "metadata": {},
   "outputs": [],
   "source": [
    "top_losses['stars'].plot.hist();"
   ]
  },
  {
   "cell_type": "code",
   "execution_count": null,
   "metadata": {},
   "outputs": [],
   "source": [
    "top_losses.sort_values('abs_err').head(10)"
   ]
  },
  {
   "cell_type": "code",
   "execution_count": null,
   "metadata": {},
   "outputs": [],
   "source": [
    "top_losses = df[df['abs_err'] > 1.5]\n",
    "top_losses.shape"
   ]
  },
  {
   "cell_type": "code",
   "execution_count": null,
   "metadata": {},
   "outputs": [],
   "source": [
    "len(top_losses) / len(df)"
   ]
  },
  {
   "cell_type": "code",
   "execution_count": null,
   "metadata": {},
   "outputs": [],
   "source": [
    "top_losses['stars'].plot.hist();"
   ]
  },
  {
   "cell_type": "code",
   "execution_count": null,
   "metadata": {},
   "outputs": [],
   "source": [
    "top_losses.sort_values('abs_err').head(10)"
   ]
  },
  {
   "cell_type": "code",
   "execution_count": null,
   "metadata": {},
   "outputs": [],
   "source": [
    "print_and_summarize(df.iloc[32127])"
   ]
  },
  {
   "cell_type": "code",
   "execution_count": null,
   "metadata": {},
   "outputs": [],
   "source": [
    "print_and_summarize(df.iloc[25782])"
   ]
  },
  {
   "cell_type": "code",
   "execution_count": null,
   "metadata": {},
   "outputs": [],
   "source": [
    "print_and_summarize(df.iloc[31287])"
   ]
  },
  {
   "cell_type": "code",
   "execution_count": null,
   "metadata": {},
   "outputs": [],
   "source": [
    "print_and_summarize(df.iloc[27611])"
   ]
  },
  {
   "cell_type": "code",
   "execution_count": null,
   "metadata": {},
   "outputs": [],
   "source": [
    "top_top_losses = top_losses[top_losses['abs_err'] > 2]"
   ]
  },
  {
   "cell_type": "code",
   "execution_count": null,
   "metadata": {},
   "outputs": [],
   "source": [
    "top_top_losses.shape"
   ]
  },
  {
   "cell_type": "code",
   "execution_count": null,
   "metadata": {},
   "outputs": [],
   "source": [
    "top_top_losses['stars'].plot.hist();"
   ]
  },
  {
   "cell_type": "code",
   "execution_count": null,
   "metadata": {},
   "outputs": [],
   "source": []
  }
 ],
 "metadata": {
  "kernelspec": {
   "display_name": "Python 3",
   "language": "python",
   "name": "python3"
  },
  "language_info": {
   "codemirror_mode": {
    "name": "ipython",
    "version": 3
   },
   "file_extension": ".py",
   "mimetype": "text/x-python",
   "name": "python",
   "nbconvert_exporter": "python",
   "pygments_lexer": "ipython3",
   "version": "3.7.6"
  }
 },
 "nbformat": 4,
 "nbformat_minor": 4
}
