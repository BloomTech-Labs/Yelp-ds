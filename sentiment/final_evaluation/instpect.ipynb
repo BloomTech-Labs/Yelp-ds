{
 "cells": [
  {
   "cell_type": "code",
   "execution_count": 1,
   "metadata": {},
   "outputs": [],
   "source": [
    "import pandas as pd\n",
    "from ktrain import text\n",
    "from transformers import AutoTokenizer, AutoConfig, TFAutoModelForSequenceClassification\n",
    "from transformers import pipeline\n",
    "import fasttext\n",
    "import nltk\n",
    "import time"
   ]
  },
  {
   "cell_type": "code",
   "execution_count": 2,
   "metadata": {},
   "outputs": [
    {
     "data": {
      "application/vnd.jupyter.widget-view+json": {
       "model_id": "43fb392ffae24b0e92cba7ecea10acd5",
       "version_major": 2,
       "version_minor": 0
      },
      "text/plain": [
       "HBox(children=(FloatProgress(value=0.0, description='Downloading', max=230.0, style=ProgressStyle(description_…"
      ]
     },
     "metadata": {},
     "output_type": "display_data"
    },
    {
     "name": "stdout",
     "output_type": "stream",
     "text": [
      "\n"
     ]
    },
    {
     "name": "stderr",
     "output_type": "stream",
     "text": [
      "Warning : `load_model` does not return WordVectorModel or SupervisedModel any more, but a `FastText` object which is very similar.\n"
     ]
    }
   ],
   "source": [
    "ts = text.TransformerSummarizer()\n",
    "ts2 = pipeline(\"summarization\", model=\"t5-large\", tokenizer=\"t5-large\", framework=\"tf\")\n",
    "tokenizer = AutoTokenizer.from_pretrained('distilbert-base-uncased', use_fast=True)\n",
    "model = TFAutoModelForSequenceClassification.from_pretrained(\"model\")\n",
    "model_ft = fasttext.load_model(\"fasttext/model.bin\")"
   ]
  },
  {
   "cell_type": "code",
   "execution_count": 3,
   "metadata": {},
   "outputs": [],
   "source": [
    "def predict(text):\n",
    "    return model(tokenizer.encode(text, return_tensors='tf', max_length=512))[0].numpy()[0][0]\n",
    "\n",
    "def predict_ft(text):\n",
    "    return model_ft.predict(\" \".join(nltk.word_tokenize(text)))\n",
    "\n",
    "def print_and_summarize(row):\n",
    "    text = row['text']\n",
    "    stars = row['stars']\n",
    "    print(\"ORIGINAL TEXT\")\n",
    "    print(\"\\n\")\n",
    "    print(text)\n",
    "    print(\"\\n\")\n",
    "    print(\"-------------------------------------------------------------\")\n",
    "    print(\"\\n\")\n",
    "    print(\"summarizing...\")\n",
    "    start = time.time()\n",
    "    summary = ts.summarize(text)\n",
    "    print(f\"done. took {time.time() - start} seconds\")\n",
    "    print(\"\\n\")\n",
    "    print(\"SUMMARY\")\n",
    "    print(\"\\n\")\n",
    "    print(summary)\n",
    "    print(\"\\n\")\n",
    "    print(\"-------------------------------------------------------------\")\n",
    "    print(\"\\n\")\n",
    "    print(\"summarizing 2...\")\n",
    "    start = time.time()\n",
    "    summary2 = ts2(text, min_length=42, clean_up_tokenization_spaces=True, max_length=1024)[0]['summary_text']\n",
    "    print(f\"done. took {time.time() - start} seconds\")\n",
    "    print(\"\\n\")\n",
    "    print(\"SUMMARY 2\")\n",
    "    print(\"\\n\")\n",
    "    print(summary2)\n",
    "    print(\"\\n\")\n",
    "    print(\"-------------------------------------------------------------\")\n",
    "    print(\"\\n\")\n",
    "    print(\"original star\", stars)\n",
    "    print(\"\\n\")\n",
    "    print(\"original pred\", predict(text))\n",
    "    print(\"summary pred\", predict(summary))\n",
    "    print(\"summary2 pred\", predict(summary2))\n",
    "    print(\"original ft pred\", predict_ft(text))\n",
    "    print(\"summary ft pred\", predict_ft(summary))\n",
    "    print(\"summary2 ft pred\", predict_ft(summary2))"
   ]
  },
  {
   "cell_type": "code",
   "execution_count": 4,
   "metadata": {},
   "outputs": [
    {
     "data": {
      "text/plain": [
       "(250102, 4)"
      ]
     },
     "execution_count": 4,
     "metadata": {},
     "output_type": "execute_result"
    }
   ],
   "source": [
    "df = pd.read_csv(\"preds.csv\", header=None, names=['idx', 'text', 'stars', 'pred'])\n",
    "df.shape"
   ]
  },
  {
   "cell_type": "code",
   "execution_count": 5,
   "metadata": {},
   "outputs": [
    {
     "data": {
      "text/html": [
       "<div>\n",
       "<style scoped>\n",
       "    .dataframe tbody tr th:only-of-type {\n",
       "        vertical-align: middle;\n",
       "    }\n",
       "\n",
       "    .dataframe tbody tr th {\n",
       "        vertical-align: top;\n",
       "    }\n",
       "\n",
       "    .dataframe thead th {\n",
       "        text-align: right;\n",
       "    }\n",
       "</style>\n",
       "<table border=\"1\" class=\"dataframe\">\n",
       "  <thead>\n",
       "    <tr style=\"text-align: right;\">\n",
       "      <th></th>\n",
       "      <th>idx</th>\n",
       "      <th>text</th>\n",
       "      <th>stars</th>\n",
       "      <th>pred</th>\n",
       "    </tr>\n",
       "  </thead>\n",
       "  <tbody>\n",
       "    <tr>\n",
       "      <th>0</th>\n",
       "      <td>0</td>\n",
       "      <td>Really great local auto repair spot... really ...</td>\n",
       "      <td>5.0</td>\n",
       "      <td>4.891084</td>\n",
       "    </tr>\n",
       "    <tr>\n",
       "      <th>1</th>\n",
       "      <td>1</td>\n",
       "      <td>Best Oyster House in Toronto.  Great variety a...</td>\n",
       "      <td>5.0</td>\n",
       "      <td>5.034161</td>\n",
       "    </tr>\n",
       "    <tr>\n",
       "      <th>2</th>\n",
       "      <td>2</td>\n",
       "      <td>We thoroughly enjoy eating here. We go here at...</td>\n",
       "      <td>5.0</td>\n",
       "      <td>4.932011</td>\n",
       "    </tr>\n",
       "    <tr>\n",
       "      <th>3</th>\n",
       "      <td>3</td>\n",
       "      <td>OMG!!! So good!!!!  I was in AZ for work and I...</td>\n",
       "      <td>5.0</td>\n",
       "      <td>5.016096</td>\n",
       "    </tr>\n",
       "    <tr>\n",
       "      <th>4</th>\n",
       "      <td>4</td>\n",
       "      <td>We are here once over a year ago before we mov...</td>\n",
       "      <td>1.0</td>\n",
       "      <td>2.771281</td>\n",
       "    </tr>\n",
       "  </tbody>\n",
       "</table>\n",
       "</div>"
      ],
      "text/plain": [
       "   idx                                               text  stars      pred\n",
       "0    0  Really great local auto repair spot... really ...    5.0  4.891084\n",
       "1    1  Best Oyster House in Toronto.  Great variety a...    5.0  5.034161\n",
       "2    2  We thoroughly enjoy eating here. We go here at...    5.0  4.932011\n",
       "3    3  OMG!!! So good!!!!  I was in AZ for work and I...    5.0  5.016096\n",
       "4    4  We are here once over a year ago before we mov...    1.0  2.771281"
      ]
     },
     "execution_count": 5,
     "metadata": {},
     "output_type": "execute_result"
    }
   ],
   "source": [
    "df.head()"
   ]
  },
  {
   "cell_type": "code",
   "execution_count": 6,
   "metadata": {},
   "outputs": [
    {
     "data": {
      "text/plain": [
       "idx      0\n",
       "text     0\n",
       "stars    0\n",
       "pred     0\n",
       "dtype: int64"
      ]
     },
     "execution_count": 6,
     "metadata": {},
     "output_type": "execute_result"
    }
   ],
   "source": [
    "df.isna().sum()"
   ]
  },
  {
   "cell_type": "code",
   "execution_count": 7,
   "metadata": {},
   "outputs": [],
   "source": [
    "df['abs_err'] = abs(df['stars'] - df['pred'])"
   ]
  },
  {
   "cell_type": "code",
   "execution_count": 8,
   "metadata": {},
   "outputs": [
    {
     "name": "stdout",
     "output_type": "stream",
     "text": [
      "ORIGINAL TEXT\n",
      "\n",
      "\n",
      "The Pleasant bar or \"P-Bar\" is a part of the history of Pleasant Hills.  Known now for its cleaned up family atmosphere, they pack them in on Mondays and Thursdays for \"Burger Night\" $1 burgers.  But the \"P-Bar\" has many nightly specials, and has special event nights, Karaoke, theme nights, and more.  It opens at like 5 or 6AM and serves breakfast to all of the local contractors.  Its not a gourmet restaurant but it is really good bar food, morning, noon, and night.  That said, I give it a five for being such a big part of Pleasant Hills and having the best \"bar food\" around.\n",
      "\n",
      "\n",
      "-------------------------------------------------------------\n",
      "\n",
      "\n",
      "summarizing...\n",
      "done. took 29.416171073913574 seconds\n",
      "\n",
      "\n",
      "SUMMARY\n",
      "\n",
      "\n",
      "The \"P-Bar\" has many nightly specials, and has special event nights, Karaoke, theme nights, and more. It opens at like 5 or 6AM and serves breakfast to all of the local contractors. Its not a gourmet restaurant but it is really good bar food, morning, noon, and night.\n",
      "\n",
      "\n",
      "-------------------------------------------------------------\n",
      "\n",
      "\n",
      "summarizing 2...\n",
      "done. took 119.83121418952942 seconds\n",
      "\n",
      "\n",
      "SUMMARY 2\n",
      "\n",
      "\n",
      "the Pleasant bar or \"p-bar\" is a part of the history of Pleasant hills. known now for its cleaned up family atmosphere, they pack them in on Mondays and Thursdays for \"burger night\" $1 burgers. but the bar has many nightly specials, special event nights, Karaoke, theme nights, and more.\n",
      "\n",
      "\n",
      "-------------------------------------------------------------\n",
      "\n",
      "\n",
      "original star 5.0\n",
      "\n",
      "\n",
      "original pred 4.5902777\n",
      "summary pred 4.1159744\n",
      "summary2 pred 4.061513\n",
      "original ft pred (('__label__POSITIVE',), array([0.96186638]))\n",
      "summary ft pred (('__label__POSITIVE',), array([0.99550366]))\n",
      "summary2 ft pred (('__label__POSITIVE',), array([0.86618406]))\n"
     ]
    }
   ],
   "source": [
    "print_and_summarize(df.sample(1).iloc[0])"
   ]
  },
  {
   "cell_type": "code",
   "execution_count": 9,
   "metadata": {},
   "outputs": [
    {
     "name": "stdout",
     "output_type": "stream",
     "text": [
      "ORIGINAL TEXT\n",
      "\n",
      "\n",
      "Why don't we have a True Food in Boston?\n",
      "\n",
      "I love pretty much everything about this place....love the open, all glass feel of the restaurant itself and the simple honest cuisine\n",
      "\n",
      "We started with juices...Now its hard to screw up a juice, but restaurants in these parts don't even offer it.....You have to go to a juice place\n",
      "\n",
      "I really liked the humus platter with fresh veggies.  They arrive in a pail.  You feel like a rabbit, but the freshness of the veggies and humus is pretty compelling.  Ditto with the chili.  Its fresh...not outsourced or made in a central commissary and shipped\n",
      "\n",
      "Loved the vibe, experience and especially the food\n",
      "\n",
      "\n",
      "-------------------------------------------------------------\n",
      "\n",
      "\n",
      "summarizing...\n",
      "done. took 25.501167058944702 seconds\n",
      "\n",
      "\n",
      "SUMMARY\n",
      "\n",
      "\n",
      "I really liked the humus platter with fresh veggies. You feel like a rabbit, but the freshness of the veggies and humus is pretty compelling. Its fresh...not outsourced or made in a central commissary and shipped in a pail. Why don't we have a True Food in Boston?\n",
      "\n",
      "\n",
      "-------------------------------------------------------------\n",
      "\n",
      "\n",
      "summarizing 2...\n",
      "done. took 103.39548993110657 seconds\n",
      "\n",
      "\n",
      "SUMMARY 2\n",
      "\n",
      "\n",
      "the humus platter with fresh veggies arrived in a pail. you feel like a rabbit, but the freshness of the veggies and hummus is pretty compelling. the chili is made in-house, not outsourced or made by a central commissary and shipped Loved the vibe, experience and food.\n",
      "\n",
      "\n",
      "-------------------------------------------------------------\n",
      "\n",
      "\n",
      "original star 5.0\n",
      "\n",
      "\n",
      "original pred 4.700451\n",
      "summary pred 4.323367\n",
      "summary2 pred 4.36267\n",
      "original ft pred (('__label__POSITIVE',), array([0.94633937]))\n",
      "summary ft pred (('__label__POSITIVE',), array([0.97177088]))\n",
      "summary2 ft pred (('__label__POSITIVE',), array([0.98679]))\n"
     ]
    }
   ],
   "source": [
    "print_and_summarize(df.sample(1).iloc[0])"
   ]
  },
  {
   "cell_type": "code",
   "execution_count": 10,
   "metadata": {},
   "outputs": [
    {
     "name": "stdout",
     "output_type": "stream",
     "text": [
      "ORIGINAL TEXT\n",
      "\n",
      "\n",
      "Food was good but we waited an hour and 20 minutes for the food to be delivered. Granted there was 9 of us, but the place was literally empty! We were the only people in the whole place. The food came out in intervals and finally at 1 hr and 50 minutes in, the last person at our table got their pizza. The waitress didn't once ask how the food was. Didn't once ask if we needed refills on our drinks. We had to flag her down to ask for refills. Terrible service. Won't be Back!\n",
      "\n",
      "\n",
      "-------------------------------------------------------------\n",
      "\n",
      "\n",
      "summarizing...\n",
      "done. took 23.42681384086609 seconds\n",
      "\n",
      "\n",
      "SUMMARY\n",
      "\n",
      "\n",
      "Food was good but we waited an hour and 20 minutes for the food to be delivered. Granted there was 9 of us, but the place was literally empty! We were the only people in the whole place. The waitress didn't once ask how the food was. We had to flag her down to ask for refills.\n",
      "\n",
      "\n",
      "-------------------------------------------------------------\n",
      "\n",
      "\n",
      "summarizing 2...\n",
      "done. took 113.27242279052734 seconds\n",
      "\n",
      "\n",
      "SUMMARY 2\n",
      "\n",
      "\n",
      "food was good but we waited an hour and 20 minutes for the food to be delivered. food came out in intervals and finally at 1 hr and 50 minutes in, the last person at our table got their pizza. waitress didn't once ask how the food was or if we needed refills on drinks.\n",
      "\n",
      "\n",
      "-------------------------------------------------------------\n",
      "\n",
      "\n",
      "original star 2.0\n",
      "\n",
      "\n",
      "original pred 1.3958682\n",
      "summary pred 1.9986562\n",
      "summary2 pred 2.0761058\n",
      "original ft pred (('__label__NEGATIVE',), array([0.85791636]))\n",
      "summary ft pred (('__label__NEGATIVE',), array([0.94683319]))\n",
      "summary2 ft pred (('__label__NEGATIVE',), array([0.65822101]))\n"
     ]
    }
   ],
   "source": [
    "print_and_summarize(df.sample(1).iloc[0])"
   ]
  },
  {
   "cell_type": "code",
   "execution_count": 11,
   "metadata": {},
   "outputs": [
    {
     "name": "stdout",
     "output_type": "stream",
     "text": [
      "ORIGINAL TEXT\n",
      "\n",
      "\n",
      "Honey dew slush is my favorite boba drink so far, hate their milk tea, many great desserts and teas . Their crunchy pork w/rice is decent . Customer service is a little slow and not as helpful but it doesn't bother me anymore . Cute little hang out place for little kids .\n",
      "\n",
      "\n",
      "-------------------------------------------------------------\n",
      "\n",
      "\n",
      "summarizing...\n",
      "done. took 26.494011878967285 seconds\n",
      "\n",
      "\n",
      "SUMMARY\n",
      "\n",
      "\n",
      "Honey dew slush is my favorite boba drink so far, hate their milk tea. Their crunchy pork w/rice is decent. Customer service is a little slow and not as helpful but it doesn't bother me anymore. Cute little hang out place for little kids.\n",
      "\n",
      "\n",
      "-------------------------------------------------------------\n",
      "\n",
      "\n",
      "summarizing 2...\n",
      "done. took 98.03446507453918 seconds\n",
      "\n",
      "\n",
      "SUMMARY 2\n",
      "\n",
      "\n",
      "honey dew slush is my favorite boba drink so far, hate their milk tea, many great desserts and teas. their crunchy pork w/rice is decent. customer service is a little slow and not as helpful but it doesn't bother me anymore.\n",
      "\n",
      "\n",
      "-------------------------------------------------------------\n",
      "\n",
      "\n",
      "original star 3.0\n",
      "\n",
      "\n",
      "original pred 4.213248\n",
      "summary pred 3.9997985\n",
      "summary2 pred 4.117921\n",
      "original ft pred (('__label__POSITIVE',), array([0.99746901]))\n",
      "summary ft pred (('__label__POSITIVE',), array([0.99119186]))\n",
      "summary2 ft pred (('__label__POSITIVE',), array([0.99948901]))\n"
     ]
    }
   ],
   "source": [
    "print_and_summarize(df.sample(1).iloc[0])"
   ]
  },
  {
   "cell_type": "code",
   "execution_count": 12,
   "metadata": {},
   "outputs": [
    {
     "name": "stdout",
     "output_type": "stream",
     "text": [
      "ORIGINAL TEXT\n",
      "\n",
      "\n",
      "SCRUBTASTIC came to Sunrise Hospital (Las Vegas) for Nurses Week selling scrubs. No RETURN/EXCHANGE POLICY posted on-site or even on the e-mail receipt (there is no paper receipt btw!). Few days later I found out their scrubs are overly priced (like $13-$15 over) than online sellers. I purchased 6 pairs of scrubs. So I went to the store to return my purchase and they told me that the policy (which is clearly posted by the cashier at the actual store) is NO RETURN/REFUND and only EXCHANGES could be made. The \"owner\" FRANK K. came over to me as I was talking it out with his employees and said I was being \"argumentative\" and that I have to get out of the store. He then abruptly took my purchases and walked me out of the store saying he cannot help me resolve this issue and that I have to get out. There were customers around and truth is he doesn't want these customers to hear how overly priced their products are. Also, nevermind how overly priced their products are but how he mistreated his customer who came to talk to solve issues with his store and its products. Lesson learned, never buy from an unknown retailer. It's my first time buying from them and never will I ever do another purchase. www.uniformadvantage.com is way better and way cheaper, shipping for purchase more than $99.00 is free. Even tax free! And more items to choose from. Think twice before going to this place, don't let them take your $$$. Also I will make sure this goes out to all my coworkers at Sunrise Hospital and the administration, and friends from other hospitals around the valley too. We from the healthcare team don't need this kind of retailer!\n",
      "\n",
      "\n",
      "-------------------------------------------------------------\n",
      "\n",
      "\n",
      "summarizing...\n",
      "done. took 32.3822979927063 seconds\n",
      "\n",
      "\n",
      "SUMMARY\n",
      "\n",
      "\n",
      "No RETURN/EXCHANGE POLICY posted on-site or even on the e-mail receipt (there is no paper receipt btw!). Few days later I found out their scrubs are overly priced (like $13-$15 over) than online sellers. Lesson learned, never buy from an unknown retailer.\n",
      "\n",
      "\n",
      "-------------------------------------------------------------\n",
      "\n",
      "\n",
      "summarizing 2...\n",
      "done. took 123.78920602798462 seconds\n",
      "\n",
      "\n",
      "SUMMARY 2\n",
      "\n",
      "\n",
      "SCRUBTASTIC came to Sunrise hospital (las vegas) for nurse's week selling scrubs. scrubs were overly priced (like $13-$15 over) than online sellers. \"owner\" FRANK K. came over to me as I was talking it out with his employees.\n",
      "\n",
      "\n",
      "-------------------------------------------------------------\n",
      "\n",
      "\n",
      "original star 1.0\n",
      "\n",
      "\n",
      "original pred 1.0245106\n",
      "summary pred 1.1120049\n",
      "summary2 pred 3.480416\n",
      "original ft pred (('__label__NEGATIVE',), array([0.87542844]))\n",
      "summary ft pred (('__label__NEGATIVE',), array([0.9188233]))\n",
      "summary2 ft pred (('__label__NEGATIVE',), array([0.82296169]))\n"
     ]
    }
   ],
   "source": [
    "print_and_summarize(df.sample(1).iloc[0])"
   ]
  },
  {
   "cell_type": "code",
   "execution_count": 13,
   "metadata": {},
   "outputs": [
    {
     "name": "stdout",
     "output_type": "stream",
     "text": [
      "ORIGINAL TEXT\n",
      "\n",
      "\n",
      "This is one of the best restaurants ever known to man, everything is just perfectly placed and presented, and the food is just heaven sitting on a plate. I would rate 999999999999999999999999999999999 stars, but it only allows 5:(.\n",
      "\n",
      "\n",
      "-------------------------------------------------------------\n",
      "\n",
      "\n",
      "summarizing...\n",
      "done. took 24.494232654571533 seconds\n",
      "\n",
      "\n",
      "SUMMARY\n",
      "\n",
      "\n",
      "This is one of the best restaurants ever known to man. Everything is just perfectly placed and presented. The food is just heaven sitting on a plate. I would rate 9999999999999.99999999999, but it only allows 5.:(. The restaurant is located in the heart of New York City.\n",
      "\n",
      "\n",
      "-------------------------------------------------------------\n",
      "\n",
      "\n",
      "summarizing 2...\n",
      "done. took 73.70894598960876 seconds\n",
      "\n",
      "\n",
      "SUMMARY 2\n",
      "\n",
      "\n",
      "this is one of the best restaurants ever known to man. everything is just perfectly placed and presented, and the food is just heaven sitting on a plate. the staff are very friendly and helpful.\n",
      "\n",
      "\n",
      "-------------------------------------------------------------\n",
      "\n",
      "\n",
      "original star 5.0\n",
      "\n",
      "\n",
      "original pred 5.0428686\n",
      "summary pred 5.112628\n",
      "summary2 pred 5.1147537\n",
      "original ft pred (('__label__POSITIVE',), array([0.99779135]))\n",
      "summary ft pred (('__label__POSITIVE',), array([0.99364555]))\n",
      "summary2 ft pred (('__label__POSITIVE',), array([0.9997533]))\n"
     ]
    }
   ],
   "source": [
    "print_and_summarize(df.sample(1).iloc[0])"
   ]
  },
  {
   "cell_type": "code",
   "execution_count": 14,
   "metadata": {},
   "outputs": [
    {
     "name": "stdout",
     "output_type": "stream",
     "text": [
      "ORIGINAL TEXT\n",
      "\n",
      "\n",
      "Attentive and very friendly service. Best combo fajitas I have had in years. Nice decor and atmosphere. We will be back. Best Mexican food in the area. Great location with plenty of free parking in back too.\n",
      "\n",
      "\n",
      "-------------------------------------------------------------\n",
      "\n",
      "\n",
      "summarizing...\n",
      "done. took 18.28701376914978 seconds\n",
      "\n",
      "\n",
      "SUMMARY\n",
      "\n",
      "\n",
      "Best combo fajitas I have had in years. Attentive and very friendly service. Nice decor and atmosphere. We will be back. Best Mexican food in the area. Great location with plenty of free parking in back too. The food was great and the service was great.\n",
      "\n",
      "\n",
      "-------------------------------------------------------------\n",
      "\n",
      "\n",
      "summarizing 2...\n",
      "done. took 62.80456280708313 seconds\n",
      "\n",
      "\n",
      "SUMMARY 2\n",
      "\n",
      "\n",
      "best combo fajitas i have had in years. nice decor and atmosphere. we will be back. best Mexican food in the area. great location with plenty of free parking in back too.\n",
      "\n",
      "\n",
      "-------------------------------------------------------------\n",
      "\n",
      "\n",
      "original star 4.0\n",
      "\n",
      "\n",
      "original pred 4.984415\n",
      "summary pred 5.004421\n",
      "summary2 pred 5.0068026\n",
      "original ft pred (('__label__POSITIVE',), array([0.99960893]))\n",
      "summary ft pred (('__label__POSITIVE',), array([0.99996555]))\n",
      "summary2 ft pred (('__label__POSITIVE',), array([1.00000656]))\n"
     ]
    }
   ],
   "source": [
    "print_and_summarize(df.sample(1).iloc[0])"
   ]
  },
  {
   "cell_type": "code",
   "execution_count": 15,
   "metadata": {},
   "outputs": [
    {
     "data": {
      "text/plain": [
       "count    2.501020e+05\n",
       "mean     3.261485e-01\n",
       "std      3.787700e-01\n",
       "min      2.384186e-07\n",
       "25%      6.994942e-02\n",
       "50%      1.591508e-01\n",
       "75%      4.884317e-01\n",
       "max      4.111990e+00\n",
       "Name: abs_err, dtype: float64"
      ]
     },
     "execution_count": 15,
     "metadata": {},
     "output_type": "execute_result"
    }
   ],
   "source": [
    "df['abs_err'].describe()"
   ]
  },
  {
   "cell_type": "code",
   "execution_count": 16,
   "metadata": {},
   "outputs": [
    {
     "data": {
      "text/plain": [
       "(63657, 5)"
      ]
     },
     "execution_count": 16,
     "metadata": {},
     "output_type": "execute_result"
    }
   ],
   "source": [
    "top_losses = df[df['abs_err'] > 0.48]\n",
    "top_losses.shape"
   ]
  },
  {
   "cell_type": "code",
   "execution_count": 17,
   "metadata": {},
   "outputs": [
    {
     "data": {
      "text/plain": [
       "0.2545241541451088"
      ]
     },
     "execution_count": 17,
     "metadata": {},
     "output_type": "execute_result"
    }
   ],
   "source": [
    "len(top_losses) / len(df)"
   ]
  },
  {
   "cell_type": "code",
   "execution_count": 18,
   "metadata": {},
   "outputs": [
    {
     "data": {
      "text/plain": [
       "4.0    24201\n",
       "3.0    12390\n",
       "5.0    10748\n",
       "2.0     8691\n",
       "1.0     7627\n",
       "Name: stars, dtype: int64"
      ]
     },
     "execution_count": 18,
     "metadata": {},
     "output_type": "execute_result"
    }
   ],
   "source": [
    "top_losses['stars'].value_counts().sort_values(ascending=False)"
   ]
  },
  {
   "cell_type": "code",
   "execution_count": 19,
   "metadata": {},
   "outputs": [
    {
     "data": {
      "image/png": "[encoded data removed]",
      "text/plain": [
       "<Figure size 432x288 with 1 Axes>"
      ]
     },
     "metadata": {
      "needs_background": "light"
     },
     "output_type": "display_data"
    }
   ],
   "source": [
    "top_losses['stars'].plot.hist();"
   ]
  },
  {
   "cell_type": "code",
   "execution_count": 20,
   "metadata": {},
   "outputs": [
    {
     "data": {
      "image/png": "[encoded data removed]",
      "text/plain": [
       "<Figure size 432x288 with 1 Axes>"
      ]
     },
     "metadata": {
      "needs_background": "light"
     },
     "output_type": "display_data"
    }
   ],
   "source": [
    "df['stars'].plot.hist();"
   ]
  },
  {
   "cell_type": "code",
   "execution_count": 21,
   "metadata": {},
   "outputs": [
    {
     "data": {
      "text/html": [
       "<div>\n",
       "<style scoped>\n",
       "    .dataframe tbody tr th:only-of-type {\n",
       "        vertical-align: middle;\n",
       "    }\n",
       "\n",
       "    .dataframe tbody tr th {\n",
       "        vertical-align: top;\n",
       "    }\n",
       "\n",
       "    .dataframe thead th {\n",
       "        text-align: right;\n",
       "    }\n",
       "</style>\n",
       "<table border=\"1\" class=\"dataframe\">\n",
       "  <thead>\n",
       "    <tr style=\"text-align: right;\">\n",
       "      <th></th>\n",
       "      <th>idx</th>\n",
       "      <th>text</th>\n",
       "      <th>stars</th>\n",
       "      <th>pred</th>\n",
       "      <th>abs_err</th>\n",
       "    </tr>\n",
       "  </thead>\n",
       "  <tbody>\n",
       "    <tr>\n",
       "      <th>162196</th>\n",
       "      <td>162196</td>\n",
       "      <td>This is my second time (and last time) here. I...</td>\n",
       "      <td>1.0</td>\n",
       "      <td>1.480003</td>\n",
       "      <td>0.480003</td>\n",
       "    </tr>\n",
       "    <tr>\n",
       "      <th>98158</th>\n",
       "      <td>98158</td>\n",
       "      <td>Pho tai gan.  the soup broth was yummy. rmeind...</td>\n",
       "      <td>4.0</td>\n",
       "      <td>3.519995</td>\n",
       "      <td>0.480005</td>\n",
       "    </tr>\n",
       "    <tr>\n",
       "      <th>128396</th>\n",
       "      <td>128396</td>\n",
       "      <td>I defended the Buffet @ Bellagio even when my ...</td>\n",
       "      <td>1.0</td>\n",
       "      <td>1.480011</td>\n",
       "      <td>0.480011</td>\n",
       "    </tr>\n",
       "    <tr>\n",
       "      <th>181881</th>\n",
       "      <td>181881</td>\n",
       "      <td>Located in San Marco Square in the Venetian - ...</td>\n",
       "      <td>4.0</td>\n",
       "      <td>4.480015</td>\n",
       "      <td>0.480015</td>\n",
       "    </tr>\n",
       "    <tr>\n",
       "      <th>76984</th>\n",
       "      <td>76984</td>\n",
       "      <td>If I weren't already at Wynn, I wouldn't eat a...</td>\n",
       "      <td>3.0</td>\n",
       "      <td>3.480042</td>\n",
       "      <td>0.480042</td>\n",
       "    </tr>\n",
       "    <tr>\n",
       "      <th>144802</th>\n",
       "      <td>144802</td>\n",
       "      <td>Our visit started a bit rocky but once the roa...</td>\n",
       "      <td>4.0</td>\n",
       "      <td>4.480050</td>\n",
       "      <td>0.480050</td>\n",
       "    </tr>\n",
       "    <tr>\n",
       "      <th>42272</th>\n",
       "      <td>42272</td>\n",
       "      <td>I don't visit bars often but Dodey's is certai...</td>\n",
       "      <td>5.0</td>\n",
       "      <td>4.519950</td>\n",
       "      <td>0.480050</td>\n",
       "    </tr>\n",
       "    <tr>\n",
       "      <th>12162</th>\n",
       "      <td>12162</td>\n",
       "      <td>Fantastic Mexican food, servers are good about...</td>\n",
       "      <td>5.0</td>\n",
       "      <td>4.519940</td>\n",
       "      <td>0.480060</td>\n",
       "    </tr>\n",
       "    <tr>\n",
       "      <th>160388</th>\n",
       "      <td>160388</td>\n",
       "      <td>I actually feel bad for them... :(\\nI went the...</td>\n",
       "      <td>1.0</td>\n",
       "      <td>1.480072</td>\n",
       "      <td>0.480072</td>\n",
       "    </tr>\n",
       "    <tr>\n",
       "      <th>233261</th>\n",
       "      <td>233261</td>\n",
       "      <td>Spent my afternoon there this hot day in Phoen...</td>\n",
       "      <td>5.0</td>\n",
       "      <td>4.519926</td>\n",
       "      <td>0.480074</td>\n",
       "    </tr>\n",
       "  </tbody>\n",
       "</table>\n",
       "</div>"
      ],
      "text/plain": [
       "           idx                                               text  stars  \\\n",
       "162196  162196  This is my second time (and last time) here. I...    1.0   \n",
       "98158    98158  Pho tai gan.  the soup broth was yummy. rmeind...    4.0   \n",
       "128396  128396  I defended the Buffet @ Bellagio even when my ...    1.0   \n",
       "181881  181881  Located in San Marco Square in the Venetian - ...    4.0   \n",
       "76984    76984  If I weren't already at Wynn, I wouldn't eat a...    3.0   \n",
       "144802  144802  Our visit started a bit rocky but once the roa...    4.0   \n",
       "42272    42272  I don't visit bars often but Dodey's is certai...    5.0   \n",
       "12162    12162  Fantastic Mexican food, servers are good about...    5.0   \n",
       "160388  160388  I actually feel bad for them... :(\\nI went the...    1.0   \n",
       "233261  233261  Spent my afternoon there this hot day in Phoen...    5.0   \n",
       "\n",
       "            pred   abs_err  \n",
       "162196  1.480003  0.480003  \n",
       "98158   3.519995  0.480005  \n",
       "128396  1.480011  0.480011  \n",
       "181881  4.480015  0.480015  \n",
       "76984   3.480042  0.480042  \n",
       "144802  4.480050  0.480050  \n",
       "42272   4.519950  0.480050  \n",
       "12162   4.519940  0.480060  \n",
       "160388  1.480072  0.480072  \n",
       "233261  4.519926  0.480074  "
      ]
     },
     "execution_count": 21,
     "metadata": {},
     "output_type": "execute_result"
    }
   ],
   "source": [
    "top_losses.sort_values('abs_err').head(10)"
   ]
  },
  {
   "cell_type": "code",
   "execution_count": 22,
   "metadata": {},
   "outputs": [
    {
     "data": {
      "text/plain": [
       "(13685, 5)"
      ]
     },
     "execution_count": 22,
     "metadata": {},
     "output_type": "execute_result"
    }
   ],
   "source": [
    "top_losses = df[df['abs_err'] > 1]\n",
    "top_losses.shape"
   ]
  },
  {
   "cell_type": "code",
   "execution_count": 23,
   "metadata": {},
   "outputs": [
    {
     "data": {
      "text/plain": [
       "0.05471767518852308"
      ]
     },
     "execution_count": 23,
     "metadata": {},
     "output_type": "execute_result"
    }
   ],
   "source": [
    "len(top_losses) / len(df)"
   ]
  },
  {
   "cell_type": "code",
   "execution_count": 24,
   "metadata": {},
   "outputs": [
    {
     "data": {
      "image/png": "[encoded data removed]",
      "text/plain": [
       "<Figure size 432x288 with 1 Axes>"
      ]
     },
     "metadata": {
      "needs_background": "light"
     },
     "output_type": "display_data"
    }
   ],
   "source": [
    "top_losses['stars'].plot.hist();"
   ]
  },
  {
   "cell_type": "code",
   "execution_count": 25,
   "metadata": {},
   "outputs": [
    {
     "data": {
      "text/html": [
       "<div>\n",
       "<style scoped>\n",
       "    .dataframe tbody tr th:only-of-type {\n",
       "        vertical-align: middle;\n",
       "    }\n",
       "\n",
       "    .dataframe tbody tr th {\n",
       "        vertical-align: top;\n",
       "    }\n",
       "\n",
       "    .dataframe thead th {\n",
       "        text-align: right;\n",
       "    }\n",
       "</style>\n",
       "<table border=\"1\" class=\"dataframe\">\n",
       "  <thead>\n",
       "    <tr style=\"text-align: right;\">\n",
       "      <th></th>\n",
       "      <th>idx</th>\n",
       "      <th>text</th>\n",
       "      <th>stars</th>\n",
       "      <th>pred</th>\n",
       "      <th>abs_err</th>\n",
       "    </tr>\n",
       "  </thead>\n",
       "  <tbody>\n",
       "    <tr>\n",
       "      <th>216256</th>\n",
       "      <td>216256</td>\n",
       "      <td>Pros: Great meat department, underground parki...</td>\n",
       "      <td>1.0</td>\n",
       "      <td>2.000016</td>\n",
       "      <td>1.000016</td>\n",
       "    </tr>\n",
       "    <tr>\n",
       "      <th>109025</th>\n",
       "      <td>109025</td>\n",
       "      <td>Thanks to all the Cats that reviewed this spot...</td>\n",
       "      <td>4.0</td>\n",
       "      <td>5.000041</td>\n",
       "      <td>1.000041</td>\n",
       "    </tr>\n",
       "    <tr>\n",
       "      <th>28498</th>\n",
       "      <td>28498</td>\n",
       "      <td>Hidden spot, chic atmosphere, modern and fun ....</td>\n",
       "      <td>4.0</td>\n",
       "      <td>5.000047</td>\n",
       "      <td>1.000047</td>\n",
       "    </tr>\n",
       "    <tr>\n",
       "      <th>95731</th>\n",
       "      <td>95731</td>\n",
       "      <td>Always have a great time at Fix!  Friendly sta...</td>\n",
       "      <td>4.0</td>\n",
       "      <td>5.000047</td>\n",
       "      <td>1.000047</td>\n",
       "    </tr>\n",
       "    <tr>\n",
       "      <th>32314</th>\n",
       "      <td>32314</td>\n",
       "      <td>I stop at this location often whenever in Phoe...</td>\n",
       "      <td>3.0</td>\n",
       "      <td>1.999944</td>\n",
       "      <td>1.000056</td>\n",
       "    </tr>\n",
       "    <tr>\n",
       "      <th>153994</th>\n",
       "      <td>153994</td>\n",
       "      <td>Not a fan of their fries. Burger was okay. I g...</td>\n",
       "      <td>4.0</td>\n",
       "      <td>2.999937</td>\n",
       "      <td>1.000063</td>\n",
       "    </tr>\n",
       "    <tr>\n",
       "      <th>52939</th>\n",
       "      <td>52939</td>\n",
       "      <td>This place needs two listings!!! The coffee he...</td>\n",
       "      <td>3.0</td>\n",
       "      <td>1.999933</td>\n",
       "      <td>1.000067</td>\n",
       "    </tr>\n",
       "    <tr>\n",
       "      <th>176526</th>\n",
       "      <td>176526</td>\n",
       "      <td>One of the best bar and grill in town! You can...</td>\n",
       "      <td>4.0</td>\n",
       "      <td>5.000104</td>\n",
       "      <td>1.000104</td>\n",
       "    </tr>\n",
       "    <tr>\n",
       "      <th>217094</th>\n",
       "      <td>217094</td>\n",
       "      <td>The food rates a 3 star, but for lunch and wit...</td>\n",
       "      <td>3.0</td>\n",
       "      <td>4.000111</td>\n",
       "      <td>1.000111</td>\n",
       "    </tr>\n",
       "    <tr>\n",
       "      <th>116501</th>\n",
       "      <td>116501</td>\n",
       "      <td>Excellent find. Great pub like atmosphere tuck...</td>\n",
       "      <td>4.0</td>\n",
       "      <td>5.000143</td>\n",
       "      <td>1.000143</td>\n",
       "    </tr>\n",
       "  </tbody>\n",
       "</table>\n",
       "</div>"
      ],
      "text/plain": [
       "           idx                                               text  stars  \\\n",
       "216256  216256  Pros: Great meat department, underground parki...    1.0   \n",
       "109025  109025  Thanks to all the Cats that reviewed this spot...    4.0   \n",
       "28498    28498  Hidden spot, chic atmosphere, modern and fun ....    4.0   \n",
       "95731    95731  Always have a great time at Fix!  Friendly sta...    4.0   \n",
       "32314    32314  I stop at this location often whenever in Phoe...    3.0   \n",
       "153994  153994  Not a fan of their fries. Burger was okay. I g...    4.0   \n",
       "52939    52939  This place needs two listings!!! The coffee he...    3.0   \n",
       "176526  176526  One of the best bar and grill in town! You can...    4.0   \n",
       "217094  217094  The food rates a 3 star, but for lunch and wit...    3.0   \n",
       "116501  116501  Excellent find. Great pub like atmosphere tuck...    4.0   \n",
       "\n",
       "            pred   abs_err  \n",
       "216256  2.000016  1.000016  \n",
       "109025  5.000041  1.000041  \n",
       "28498   5.000047  1.000047  \n",
       "95731   5.000047  1.000047  \n",
       "32314   1.999944  1.000056  \n",
       "153994  2.999937  1.000063  \n",
       "52939   1.999933  1.000067  \n",
       "176526  5.000104  1.000104  \n",
       "217094  4.000111  1.000111  \n",
       "116501  5.000143  1.000143  "
      ]
     },
     "execution_count": 25,
     "metadata": {},
     "output_type": "execute_result"
    }
   ],
   "source": [
    "top_losses.sort_values('abs_err').head(10)"
   ]
  },
  {
   "cell_type": "code",
   "execution_count": 26,
   "metadata": {},
   "outputs": [
    {
     "data": {
      "text/plain": [
       "(3631, 5)"
      ]
     },
     "execution_count": 26,
     "metadata": {},
     "output_type": "execute_result"
    }
   ],
   "source": [
    "top_losses = df[df['abs_err'] > 1.5]\n",
    "top_losses.shape"
   ]
  },
  {
   "cell_type": "code",
   "execution_count": 27,
   "metadata": {},
   "outputs": [
    {
     "data": {
      "text/plain": [
       "0.014518076624737107"
      ]
     },
     "execution_count": 27,
     "metadata": {},
     "output_type": "execute_result"
    }
   ],
   "source": [
    "len(top_losses) / len(df)"
   ]
  },
  {
   "cell_type": "code",
   "execution_count": 28,
   "metadata": {},
   "outputs": [
    {
     "data": {
      "image/png": "[encoded data removed]",
      "text/plain": [
       "<Figure size 432x288 with 1 Axes>"
      ]
     },
     "metadata": {
      "needs_background": "light"
     },
     "output_type": "display_data"
    }
   ],
   "source": [
    "top_losses['stars'].plot.hist();"
   ]
  },
  {
   "cell_type": "code",
   "execution_count": 29,
   "metadata": {},
   "outputs": [
    {
     "data": {
      "text/html": [
       "<div>\n",
       "<style scoped>\n",
       "    .dataframe tbody tr th:only-of-type {\n",
       "        vertical-align: middle;\n",
       "    }\n",
       "\n",
       "    .dataframe tbody tr th {\n",
       "        vertical-align: top;\n",
       "    }\n",
       "\n",
       "    .dataframe thead th {\n",
       "        text-align: right;\n",
       "    }\n",
       "</style>\n",
       "<table border=\"1\" class=\"dataframe\">\n",
       "  <thead>\n",
       "    <tr style=\"text-align: right;\">\n",
       "      <th></th>\n",
       "      <th>idx</th>\n",
       "      <th>text</th>\n",
       "      <th>stars</th>\n",
       "      <th>pred</th>\n",
       "      <th>abs_err</th>\n",
       "    </tr>\n",
       "  </thead>\n",
       "  <tbody>\n",
       "    <tr>\n",
       "      <th>164186</th>\n",
       "      <td>164186</td>\n",
       "      <td>If you want some authentic Chinese food, this ...</td>\n",
       "      <td>3.0</td>\n",
       "      <td>4.500262</td>\n",
       "      <td>1.500262</td>\n",
       "    </tr>\n",
       "    <tr>\n",
       "      <th>236124</th>\n",
       "      <td>236124</td>\n",
       "      <td>Yelp usually helps me find new places to try i...</td>\n",
       "      <td>2.0</td>\n",
       "      <td>3.500432</td>\n",
       "      <td>1.500432</td>\n",
       "    </tr>\n",
       "    <tr>\n",
       "      <th>248347</th>\n",
       "      <td>248347</td>\n",
       "      <td>I was a little disappointed that the app gives...</td>\n",
       "      <td>4.0</td>\n",
       "      <td>2.499429</td>\n",
       "      <td>1.500571</td>\n",
       "    </tr>\n",
       "    <tr>\n",
       "      <th>91282</th>\n",
       "      <td>91282</td>\n",
       "      <td>Came here for a business dinner with a group. ...</td>\n",
       "      <td>3.0</td>\n",
       "      <td>4.500625</td>\n",
       "      <td>1.500625</td>\n",
       "    </tr>\n",
       "    <tr>\n",
       "      <th>204766</th>\n",
       "      <td>204766</td>\n",
       "      <td>I've been here a few times before, and have ra...</td>\n",
       "      <td>4.0</td>\n",
       "      <td>2.499327</td>\n",
       "      <td>1.500673</td>\n",
       "    </tr>\n",
       "    <tr>\n",
       "      <th>32127</th>\n",
       "      <td>32127</td>\n",
       "      <td>Food is great, however it doesn't matter what ...</td>\n",
       "      <td>1.0</td>\n",
       "      <td>2.500680</td>\n",
       "      <td>1.500680</td>\n",
       "    </tr>\n",
       "    <tr>\n",
       "      <th>130801</th>\n",
       "      <td>130801</td>\n",
       "      <td>This place is CRAZY expensive to ride the trai...</td>\n",
       "      <td>1.0</td>\n",
       "      <td>2.500717</td>\n",
       "      <td>1.500717</td>\n",
       "    </tr>\n",
       "    <tr>\n",
       "      <th>107674</th>\n",
       "      <td>107674</td>\n",
       "      <td>The wings are good but the burgers need improv...</td>\n",
       "      <td>4.0</td>\n",
       "      <td>2.498920</td>\n",
       "      <td>1.501080</td>\n",
       "    </tr>\n",
       "    <tr>\n",
       "      <th>56347</th>\n",
       "      <td>56347</td>\n",
       "      <td>Any night that includes Chronic Tacos is sure ...</td>\n",
       "      <td>3.0</td>\n",
       "      <td>1.498629</td>\n",
       "      <td>1.501371</td>\n",
       "    </tr>\n",
       "    <tr>\n",
       "      <th>154850</th>\n",
       "      <td>154850</td>\n",
       "      <td>Super hot, water is really warm, you can't tak...</td>\n",
       "      <td>1.0</td>\n",
       "      <td>2.501575</td>\n",
       "      <td>1.501575</td>\n",
       "    </tr>\n",
       "  </tbody>\n",
       "</table>\n",
       "</div>"
      ],
      "text/plain": [
       "           idx                                               text  stars  \\\n",
       "164186  164186  If you want some authentic Chinese food, this ...    3.0   \n",
       "236124  236124  Yelp usually helps me find new places to try i...    2.0   \n",
       "248347  248347  I was a little disappointed that the app gives...    4.0   \n",
       "91282    91282  Came here for a business dinner with a group. ...    3.0   \n",
       "204766  204766  I've been here a few times before, and have ra...    4.0   \n",
       "32127    32127  Food is great, however it doesn't matter what ...    1.0   \n",
       "130801  130801  This place is CRAZY expensive to ride the trai...    1.0   \n",
       "107674  107674  The wings are good but the burgers need improv...    4.0   \n",
       "56347    56347  Any night that includes Chronic Tacos is sure ...    3.0   \n",
       "154850  154850  Super hot, water is really warm, you can't tak...    1.0   \n",
       "\n",
       "            pred   abs_err  \n",
       "164186  4.500262  1.500262  \n",
       "236124  3.500432  1.500432  \n",
       "248347  2.499429  1.500571  \n",
       "91282   4.500625  1.500625  \n",
       "204766  2.499327  1.500673  \n",
       "32127   2.500680  1.500680  \n",
       "130801  2.500717  1.500717  \n",
       "107674  2.498920  1.501080  \n",
       "56347   1.498629  1.501371  \n",
       "154850  2.501575  1.501575  "
      ]
     },
     "execution_count": 29,
     "metadata": {},
     "output_type": "execute_result"
    }
   ],
   "source": [
    "top_losses.sort_values('abs_err').head(10)"
   ]
  },
  {
   "cell_type": "code",
   "execution_count": 37,
   "metadata": {},
   "outputs": [
    {
     "name": "stdout",
     "output_type": "stream",
     "text": [
      "ORIGINAL TEXT\n",
      "\n",
      "\n",
      "If you want some authentic Chinese food, this is the place to go!  Service was fast and the food was good and cheap!\n",
      "\n",
      "Items ordered:\n",
      "\n",
      "Beef Ramen - Don't expect Japanese Raman or anything near that.  The broth in this soup taste like beef stew and its yummy.  Very tasty and yummy.\n",
      "\n",
      "Salt and Pepper Chicken Wings - Nom Nom Nom.... I love the chicken wings here.  Fried to perfection and the wings were season to perfection too.\n",
      "\n",
      "Shrimp Won-Ton Soup with Udon - This noodle soup was a little bland, but that is how these kind of noodle soup is supposed to be.  \n",
      "\n",
      "Will recommend this place to anyone who want some authentic Chinese food.\n",
      "\n",
      "\n",
      "-------------------------------------------------------------\n",
      "\n",
      "\n",
      "summarizing...\n",
      "done. took 29.815680980682373 seconds\n",
      "\n",
      "\n",
      "SUMMARY\n",
      "\n",
      "\n",
      "Beef Ramen - Don't expect Japanese Raman or anything near that. Salt and Pepper Chicken Wings - Fried to perfection and the wings were season to perfection too. Shrimp Won-Ton Soup with Udon - This noodle soup was a little bland, but that is how these kind of noodle Soup is supposed to be.\n",
      "\n",
      "\n",
      "-------------------------------------------------------------\n",
      "\n",
      "\n",
      "summarizing 2...\n",
      "done. took 66.8122489452362 seconds\n",
      "\n",
      "\n",
      "SUMMARY 2\n",
      "\n",
      "\n",
      "if you want some authentic Chinese food, this is the place to go. service was fast and the food was good and cheap. will recommend this place to anyone who want authentic chinese food.\n",
      "\n",
      "\n",
      "-------------------------------------------------------------\n",
      "\n",
      "\n",
      "original star 3.0\n",
      "\n",
      "\n",
      "original pred 4.500262\n",
      "summary pred 4.370299\n",
      "summary2 pred 4.605001\n",
      "original ft pred (('__label__POSITIVE',), array([0.99575394]))\n",
      "summary ft pred (('__label__POSITIVE',), array([0.83242536]))\n",
      "summary2 ft pred (('__label__POSITIVE',), array([0.99975818]))\n"
     ]
    }
   ],
   "source": [
    "print_and_summarize(df.iloc[164186])"
   ]
  },
  {
   "cell_type": "code",
   "execution_count": 31,
   "metadata": {},
   "outputs": [
    {
     "name": "stdout",
     "output_type": "stream",
     "text": [
      "ORIGINAL TEXT\n",
      "\n",
      "\n",
      "I've been there twice now. First time was just for the frozen hot chocolate. I was expecting more when I tasted it. It was good, but I don't see what was so special about it. I went again recently and decided to try the Deep Fried Oreos. DAMN, this is one of the best desserts i've ever had. The Oreos were covered in a perfect batter, and the oreo's inside were warm and soft. This combo mixed with the cold oreo ice cream is a perfect match. I'd go to this place just for the deep fried oreos.\n",
      "\n",
      "\n",
      "-------------------------------------------------------------\n",
      "\n",
      "\n",
      "summarizing...\n",
      "done. took 23.992511987686157 seconds\n",
      "\n",
      "\n",
      "SUMMARY\n",
      "\n",
      "\n",
      "DAMN, this is one of the best desserts i've ever had. The Oreos were covered in a perfect batter, and the oreo's inside were warm and soft. This combo mixed with the cold oreo ice cream is a perfect match. I'd go to this place just for the deep fried oreos.\n",
      "\n",
      "\n",
      "-------------------------------------------------------------\n",
      "\n",
      "\n",
      "summarizing 2...\n",
      "done. took 85.36718392372131 seconds\n",
      "\n",
      "\n",
      "SUMMARY 2\n",
      "\n",
      "\n",
      "deep fried oreos is one of the best desserts i've ever had. the batter was perfect, and the oro's inside were warm and soft. ice cream is a perfect match.\n",
      "\n",
      "\n",
      "-------------------------------------------------------------\n",
      "\n",
      "\n",
      "original star 3.0\n",
      "\n",
      "\n",
      "original pred 4.502462\n",
      "summary pred 5.044456\n",
      "summary2 pred 4.9614515\n",
      "original ft pred (('__label__POSITIVE',), array([0.98876756]))\n",
      "summary ft pred (('__label__POSITIVE',), array([0.99952674]))\n",
      "summary2 ft pred (('__label__POSITIVE',), array([1.0000093]))\n"
     ]
    }
   ],
   "source": [
    "print_and_summarize(df.iloc[25782])"
   ]
  },
  {
   "cell_type": "code",
   "execution_count": 32,
   "metadata": {},
   "outputs": [
    {
     "name": "stdout",
     "output_type": "stream",
     "text": [
      "ORIGINAL TEXT\n",
      "\n",
      "\n",
      "The male Barista making coffees has to be the slowest Starbucks person I have ever seen in my life. It looks like he is in his kitchen at home leisurely making breakfast for himself on a lazy Sunday morning.\n",
      "\n",
      "\n",
      "-------------------------------------------------------------\n",
      "\n",
      "\n",
      "summarizing...\n",
      "done. took 20.50663185119629 seconds\n",
      "\n",
      "\n",
      "SUMMARY\n",
      "\n",
      "\n",
      "The male Barista making coffees has to be the slowest Starbucks person I have ever seen in my life. It looks like he is in his kitchen at home leisurely making breakfast for himself on a lazy Sunday morning. He has to have been making a cup of coffee for himself at home.\n",
      "\n",
      "\n",
      "-------------------------------------------------------------\n",
      "\n",
      "\n",
      "summarizing 2...\n",
      "done. took 67.48023390769958 seconds\n",
      "\n",
      "\n",
      "SUMMARY 2\n",
      "\n",
      "\n",
      "the male barista making coffees has to be the slowest Starbucks person i have ever seen in my life. it looks like he is in his kitchen at home leisurely making breakfast for himself on a lazy Sunday morning.\n",
      "\n",
      "\n",
      "-------------------------------------------------------------\n",
      "\n",
      "\n",
      "original star 3.0\n",
      "\n",
      "\n",
      "original pred 1.4969857\n",
      "summary pred 1.4132586\n",
      "summary2 pred 1.4969857\n",
      "original ft pred (('__label__NEGATIVE',), array([0.95483607]))\n",
      "summary ft pred (('__label__NEGATIVE',), array([0.91971266]))\n",
      "summary2 ft pred (('__label__NEGATIVE',), array([0.89783186]))\n"
     ]
    }
   ],
   "source": [
    "print_and_summarize(df.iloc[31287])"
   ]
  },
  {
   "cell_type": "code",
   "execution_count": 33,
   "metadata": {},
   "outputs": [
    {
     "name": "stdout",
     "output_type": "stream",
     "text": [
      "ORIGINAL TEXT\n",
      "\n",
      "\n",
      "Their customer service is great just the quality of the haircut I wanted was mediocre. Would not recommend.\n",
      "\n",
      "\n",
      "-------------------------------------------------------------\n",
      "\n",
      "\n",
      "summarizing...\n",
      "done. took 18.974292993545532 seconds\n",
      "\n",
      "\n",
      "SUMMARY\n",
      "\n",
      "\n",
      "The quality of the haircut I wanted was mediocre. Would not recommend. Their customer service is great just the quality of their haircut was mediocre, I would not recommend them to anyone. They are a great place to get a haircut, but the quality is mediocre at best, I wouldn't recommend them.\n",
      "\n",
      "\n",
      "-------------------------------------------------------------\n",
      "\n",
      "\n",
      "summarizing 2...\n",
      "done. took 70.46777486801147 seconds\n",
      "\n",
      "\n",
      "SUMMARY 2\n",
      "\n",
      "\n",
      "the quality of the haircut i wanted was mediocre. their customer service is great. the price was a little steep for what you get. if you want a cut that lasts, it's not worth it.\n",
      "\n",
      "\n",
      "-------------------------------------------------------------\n",
      "\n",
      "\n",
      "original star 3.0\n",
      "\n",
      "\n",
      "original pred 1.4965283\n",
      "summary pred 1.5509105\n",
      "summary2 pred 2.8808875\n",
      "original ft pred (('__label__NEGATIVE',), array([0.98254848]))\n",
      "summary ft pred (('__label__NEGATIVE',), array([0.99575299]))\n",
      "summary2 ft pred (('__label__POSITIVE',), array([0.7655825]))\n"
     ]
    }
   ],
   "source": [
    "print_and_summarize(df.iloc[27611])"
   ]
  },
  {
   "cell_type": "code",
   "execution_count": 34,
   "metadata": {},
   "outputs": [],
   "source": [
    "top_top_losses = top_losses[top_losses['abs_err'] > 2]"
   ]
  },
  {
   "cell_type": "code",
   "execution_count": 35,
   "metadata": {},
   "outputs": [
    {
     "data": {
      "text/plain": [
       "(1138, 5)"
      ]
     },
     "execution_count": 35,
     "metadata": {},
     "output_type": "execute_result"
    }
   ],
   "source": [
    "top_top_losses.shape"
   ]
  },
  {
   "cell_type": "code",
   "execution_count": 36,
   "metadata": {},
   "outputs": [
    {
     "data": {
      "image/png": "[encoded data removed]",
      "text/plain": [
       "<Figure size 432x288 with 1 Axes>"
      ]
     },
     "metadata": {
      "needs_background": "light"
     },
     "output_type": "display_data"
    }
   ],
   "source": [
    "top_top_losses['stars'].plot.hist();"
   ]
  },
  {
   "cell_type": "code",
   "execution_count": 38,
   "metadata": {},
   "outputs": [
    {
     "name": "stdout",
     "output_type": "stream",
     "text": [
      "ORIGINAL TEXT\n",
      "\n",
      "\n",
      "Dear Costco, may I please get a schedule of your samples times? This location has really been slacking on the week days and forcing me to go home and cook for my kids. Problem is.. I can't cook ‍\n",
      "\n",
      "\n",
      "-------------------------------------------------------------\n",
      "\n",
      "\n",
      "summarizing...\n",
      "done. took 29.91914701461792 seconds\n",
      "\n",
      "\n",
      "SUMMARY\n",
      "\n",
      "\n",
      "Costco has been slacking on the week days and forcing me to go home and cook for my kids. Problem is.. I can't cook ‘‘Dear Costco, may I please get a schedule of your samples times?’ ‘This location has really been slacker.’\n",
      "\n",
      "\n",
      "-------------------------------------------------------------\n",
      "\n",
      "\n",
      "summarizing 2...\n",
      "done. took 99.72744703292847 seconds\n",
      "\n",
      "\n",
      "SUMMARY 2\n",
      "\n",
      "\n",
      "costco has really been slacking on the week days and forcing me to go home and cook for my kids. i can't cook. costco may i please get a schedule of your samples times?\n",
      "\n",
      "\n",
      "-------------------------------------------------------------\n",
      "\n",
      "\n",
      "original star 5.0\n",
      "\n",
      "\n",
      "original pred 1.265027\n",
      "summary pred 1.4343383\n",
      "summary2 pred 1.2203983\n",
      "original ft pred (('__label__POSITIVE',), array([0.55444109]))\n",
      "summary ft pred (('__label__POSITIVE',), array([0.61409074]))\n",
      "summary2 ft pred (('__label__POSITIVE',), array([0.70769238]))\n"
     ]
    }
   ],
   "source": [
    "print_and_summarize(top_top_losses.sample(1).iloc[0])"
   ]
  },
  {
   "cell_type": "code",
   "execution_count": 39,
   "metadata": {},
   "outputs": [
    {
     "name": "stdout",
     "output_type": "stream",
     "text": [
      "ORIGINAL TEXT\n",
      "\n",
      "\n",
      "No way Jose! Loved the teeny $12 salt air margarita (really did) and was digging the camarones with black garlic but truth be told, I can get REAL street tacos and AUTHENTIC Chinese food which is MUCH better and about 1/4 of the price.\n",
      "\n",
      "\n",
      "-------------------------------------------------------------\n",
      "\n",
      "\n",
      "summarizing...\n",
      "done. took 20.7531099319458 seconds\n",
      "\n",
      "\n",
      "SUMMARY\n",
      "\n",
      "\n",
      "Loved the teeny $12 salt air margarita (really did) and was digging the camarones with black garlic but truth be told, I can get REAL street tacos and AUTHENTIC Chinese food which is MUCH better and about 1/4 of the price. No way Jose!\n",
      "\n",
      "\n",
      "-------------------------------------------------------------\n",
      "\n",
      "\n",
      "summarizing 2...\n",
      "done. took 95.28222608566284 seconds\n",
      "\n",
      "\n",
      "SUMMARY 2\n",
      "\n",
      "\n",
      "no way jose! loved the teeny $12 salt air margarita (really did) and was digging the camarones with black garlic but truth be told, i can get REAL street tacos and AUTHENTIC Chinese food which is much better and about 1/4 of the price.\n",
      "\n",
      "\n",
      "-------------------------------------------------------------\n",
      "\n",
      "\n",
      "original star 2.0\n",
      "\n",
      "\n",
      "original pred 4.1149454\n",
      "summary pred 3.9469705\n",
      "summary2 pred 4.1149454\n",
      "original ft pred (('__label__NEGATIVE',), array([0.56189483]))\n",
      "summary ft pred (('__label__POSITIVE',), array([0.51024318]))\n",
      "summary2 ft pred (('__label__POSITIVE',), array([0.58166301]))\n"
     ]
    }
   ],
   "source": [
    "print_and_summarize(top_top_losses.sample(1).iloc[0])"
   ]
  },
  {
   "cell_type": "code",
   "execution_count": 40,
   "metadata": {},
   "outputs": [
    {
     "name": "stdout",
     "output_type": "stream",
     "text": [
      "ORIGINAL TEXT\n",
      "\n",
      "\n",
      "Great customer service...and I didn't even buy anything from this location.\n",
      "Called about bamboo for my child's Beta Fish vase and although they didn't have any... they directed me to the appropriate shop. \n",
      "They could of just said \"We don't have any\" and hung up.\n",
      "If they took the time to help me...hense I will take the time to say \"thanks....for taking the time to make a child happy by helping.\"\n",
      "\n",
      "I will be certain to purchase any flower orders in the future from this business and promote the business with friends and family.\n",
      "\n",
      "\n",
      "-------------------------------------------------------------\n",
      "\n",
      "\n",
      "summarizing...\n",
      "done. took 24.903138160705566 seconds\n",
      "\n",
      "\n",
      "SUMMARY\n",
      "\n",
      "\n",
      "Called about bamboo for my child's Beta Fish vase and although they didn't have any... they directed me to the appropriate shop. Great customer service...and I didn't even buy anything from this location. I will be certain to purchase any flower orders in the future from this business.\n",
      "\n",
      "\n",
      "-------------------------------------------------------------\n",
      "\n",
      "\n",
      "summarizing 2...\n",
      "done. took 82.0735981464386 seconds\n",
      "\n",
      "\n",
      "SUMMARY 2\n",
      "\n",
      "\n",
      "great customer service...and i didn't even buy anything from this location. directed me to the appropriate shop for my child's vase. will be certain to purchase any flower orders in the future from this business.\n",
      "\n",
      "\n",
      "-------------------------------------------------------------\n",
      "\n",
      "\n",
      "original star 5.0\n",
      "\n",
      "\n",
      "original pred 2.4284637\n",
      "summary pred 3.2676475\n",
      "summary2 pred 4.220144\n",
      "original ft pred (('__label__NEGATIVE',), array([0.59935051]))\n",
      "summary ft pred (('__label__NEGATIVE',), array([0.91050404]))\n",
      "summary2 ft pred (('__label__POSITIVE',), array([0.54122597]))\n"
     ]
    }
   ],
   "source": [
    "print_and_summarize(top_top_losses.sample(1).iloc[0])"
   ]
  },
  {
   "cell_type": "code",
   "execution_count": 41,
   "metadata": {},
   "outputs": [
    {
     "name": "stdout",
     "output_type": "stream",
     "text": [
      "ORIGINAL TEXT\n",
      "\n",
      "\n",
      "I heard this place Closed, I wanted to try it, can some one tell me so....\n",
      "\n",
      "\n",
      "-------------------------------------------------------------\n",
      "\n",
      "\n",
      "summarizing...\n",
      "done. took 23.659041166305542 seconds\n",
      "\n",
      "\n",
      "SUMMARY\n",
      "\n",
      "\n",
      "\"I heard this place Closed, I wanted to try it, can some one tell me so\" \"I wanted to go to this place, I heard it was closed\" \"It's not closed, it's just closed.\" \"I heard it's closed, I want to go there\" \"Can some one tells me so?\"\n",
      "\n",
      "\n",
      "-------------------------------------------------------------\n",
      "\n",
      "\n",
      "summarizing 2...\n",
      "done. took 64.28693103790283 seconds\n",
      "\n",
      "\n",
      "SUMMARY 2\n",
      "\n",
      "\n",
      "i heard this place Closed, i wanted to try it, can some one tell me so..... if it's closed, it'll be the last time i eat there.\n",
      "\n",
      "\n",
      "-------------------------------------------------------------\n",
      "\n",
      "\n",
      "original star 5.0\n",
      "\n",
      "\n",
      "original pred 2.896124\n",
      "summary pred 2.0493095\n",
      "summary2 pred 2.0315325\n",
      "original ft pred (('__label__NEGATIVE',), array([0.50826418]))\n",
      "summary ft pred (('__label__NEGATIVE',), array([0.98545659]))\n",
      "summary2 ft pred (('__label__NEGATIVE',), array([0.5219847]))\n"
     ]
    }
   ],
   "source": [
    "print_and_summarize(top_top_losses.sample(1).iloc[0])"
   ]
  },
  {
   "cell_type": "code",
   "execution_count": 42,
   "metadata": {},
   "outputs": [
    {
     "name": "stdout",
     "output_type": "stream",
     "text": [
      "ORIGINAL TEXT\n",
      "\n",
      "\n",
      "I guess a part of making a nightclub popular is to be an a$$hole. For this they deserve 6 stars. The place was pretty meh, though admittedly I am not a club going person anymore, there was once a time that I was and I would not have been impressed then either. As expected, the drinks were overpriced, the entry was annoying, and the wait to go inside was too long. But I guess that's part of the \"charm.\" What probably annoyed me the most was that we were in the balcony section and they closed it down, most likely because Cash Cash (the name of the DJ's on that night) sucks and they couldn't get enough people in this craphole to keep the balcony open. The house DJ mixed some good jams and I was sad to have them leave and be exposed to Cash Cash. EDM is not my jam but crappy music is crappy music. And as mentioned previously, shout out to the a$$hole security at this place, you da real POS. Also, I am always surprised to see how much people are willing to pay for bottle service. To each their own.\n",
      "\n",
      "\n",
      "-------------------------------------------------------------\n",
      "\n",
      "\n",
      "summarizing...\n",
      "done. took 33.545249938964844 seconds\n",
      "\n",
      "\n",
      "SUMMARY\n",
      "\n",
      "\n",
      "The place was pretty meh, though admittedly I am not a club going person anymore. As expected, the drinks were overpriced, the entry was annoying, and the wait to go inside was too long. What probably annoyed me the most was that we were in the balcony section and they closed it down, most likely because Cash Cash (the name of the DJ's on that night) sucks.\n",
      "\n",
      "\n",
      "-------------------------------------------------------------\n",
      "\n",
      "\n",
      "summarizing 2...\n",
      "done. took 116.2035608291626 seconds\n",
      "\n",
      "\n",
      "SUMMARY 2\n",
      "\n",
      "\n",
      "I guess a part of making a nightclub popular is to be an a$$hole. for this they deserve 6 stars. the place was pretty meh, though admittedly admittedly I am not a club going person anymore. what probably annoyed me the most was that we were in the balcony section and they closed it down.\n",
      "\n",
      "\n",
      "-------------------------------------------------------------\n",
      "\n",
      "\n",
      "original star 1.0\n",
      "\n",
      "\n",
      "original pred 3.4790437\n",
      "summary pred 2.4344537\n",
      "summary2 pred 3.4808614\n",
      "original ft pred (('__label__NEGATIVE',), array([0.82961637]))\n",
      "summary ft pred (('__label__NEGATIVE',), array([0.78856081]))\n",
      "summary2 ft pred (('__label__NEGATIVE',), array([0.90579891]))\n"
     ]
    }
   ],
   "source": [
    "print_and_summarize(top_top_losses.sample(1).iloc[0])"
   ]
  },
  {
   "cell_type": "code",
   "execution_count": 43,
   "metadata": {},
   "outputs": [
    {
     "name": "stdout",
     "output_type": "stream",
     "text": [
      "ORIGINAL TEXT\n",
      "\n",
      "\n",
      "Ok, I am awful at checking yelp notifications and missed the owner's truly legitimate response, very shortly after my post, to my frustration.   I certainly get that the circumstances were not usual, and take back my one star, or at least hope to balance it with a good update.  If I need a salon or spa on a Sunday again, I'll gladly give this one another  chance.\n",
      "\n",
      "\n",
      "-------------------------------------------------------------\n",
      "\n",
      "\n",
      "summarizing...\n",
      "done. took 20.934199810028076 seconds\n",
      "\n",
      "\n",
      "SUMMARY\n",
      "\n",
      "\n",
      "\"I certainly get that the circumstances were not usual, and take back my one star, or at least hope to balance it with a good update,\" says the reviewer. \"If I need a salon or spa on a Sunday again, I'll gladly give this one another chance,\" she adds.\n",
      "\n",
      "\n",
      "-------------------------------------------------------------\n",
      "\n",
      "\n",
      "summarizing 2...\n",
      "done. took 95.47477984428406 seconds\n",
      "\n",
      "\n",
      "SUMMARY 2\n",
      "\n",
      "\n",
      "if i need a salon or spa on a Sunday again, i'll gladly give this one another chance. the owner's response to my yelp review was very genuine. if you're in the market for a new hair color, this is the place.\n",
      "\n",
      "\n",
      "-------------------------------------------------------------\n",
      "\n",
      "\n",
      "original star 5.0\n",
      "\n",
      "\n",
      "original pred 1.7304118\n",
      "summary pred 1.848428\n",
      "summary2 pred 4.889392\n",
      "original ft pred (('__label__NEGATIVE',), array([0.81520724]))\n",
      "summary ft pred (('__label__NEGATIVE',), array([0.79461879]))\n",
      "summary2 ft pred (('__label__POSITIVE',), array([0.89341497]))\n"
     ]
    }
   ],
   "source": [
    "print_and_summarize(top_top_losses.sample(1).iloc[0])"
   ]
  },
  {
   "cell_type": "code",
   "execution_count": 44,
   "metadata": {},
   "outputs": [],
   "source": [
    "from sklearn.metrics import mean_absolute_error"
   ]
  },
  {
   "cell_type": "code",
   "execution_count": 45,
   "metadata": {},
   "outputs": [],
   "source": [
    "sample = df.sample(1000, random_state=42)"
   ]
  },
  {
   "cell_type": "code",
   "execution_count": 47,
   "metadata": {},
   "outputs": [],
   "source": [
    "def get_summaries(text):\n",
    "    summary1 = ts.summarize(text)\n",
    "    summary2 = ts2(text, min_length=42, clean_up_tokenization_spaces=True, max_length=1024)[0]['summary_text']\n",
    "    return summary1, summary2"
   ]
  },
  {
   "cell_type": "code",
   "execution_count": 49,
   "metadata": {},
   "outputs": [],
   "source": [
    "from tqdm.notebook import tqdm\n",
    "tqdm.pandas()"
   ]
  },
  {
   "cell_type": "code",
   "execution_count": 50,
   "metadata": {},
   "outputs": [
    {
     "data": {
      "application/vnd.jupyter.widget-view+json": {
       "model_id": "f7f0ab8058a242d79b1be66a133e49e3",
       "version_major": 2,
       "version_minor": 0
      },
      "text/plain": [
       "HBox(children=(FloatProgress(value=0.0, max=1000.0), HTML(value='')))"
      ]
     },
     "metadata": {},
     "output_type": "display_data"
    },
    {
     "name": "stdout",
     "output_type": "stream",
     "text": [
      "\n"
     ]
    },
    {
     "ename": "KeyboardInterrupt",
     "evalue": "",
     "output_type": "error",
     "traceback": [
      "\u001b[0;31m---------------------------------------------------------------------------\u001b[0m",
      "\u001b[0;31mKeyboardInterrupt\u001b[0m                         Traceback (most recent call last)",
      "\u001b[0;32m<ipython-input-50-88739f668b41>\u001b[0m in \u001b[0;36m<module>\u001b[0;34m\u001b[0m\n\u001b[0;32m----> 1\u001b[0;31m \u001b[0msample\u001b[0m\u001b[0;34m[\u001b[0m\u001b[0;34m'summary1'\u001b[0m\u001b[0;34m]\u001b[0m\u001b[0;34m,\u001b[0m \u001b[0msample\u001b[0m\u001b[0;34m[\u001b[0m\u001b[0;34m'summary2'\u001b[0m\u001b[0;34m]\u001b[0m \u001b[0;34m=\u001b[0m \u001b[0msample\u001b[0m\u001b[0;34m[\u001b[0m\u001b[0;34m'text'\u001b[0m\u001b[0;34m]\u001b[0m\u001b[0;34m.\u001b[0m\u001b[0mprogress_apply\u001b[0m\u001b[0;34m(\u001b[0m\u001b[0mget_summaries\u001b[0m\u001b[0;34m)\u001b[0m\u001b[0;34m\u001b[0m\u001b[0;34m\u001b[0m\u001b[0m\n\u001b[0m",
      "\u001b[0;32m~/.local/share/virtualenvs/Yelp-ds-xpajUQwb/lib/python3.7/site-packages/tqdm/std.py\u001b[0m in \u001b[0;36minner\u001b[0;34m(df, func, *args, **kwargs)\u001b[0m\n\u001b[1;32m    765\u001b[0m                 \u001b[0;31m# on the df using our wrapper (which provides bar updating)\u001b[0m\u001b[0;34m\u001b[0m\u001b[0;34m\u001b[0m\u001b[0;34m\u001b[0m\u001b[0m\n\u001b[1;32m    766\u001b[0m                 \u001b[0;32mtry\u001b[0m\u001b[0;34m:\u001b[0m\u001b[0;34m\u001b[0m\u001b[0;34m\u001b[0m\u001b[0m\n\u001b[0;32m--> 767\u001b[0;31m                     \u001b[0;32mreturn\u001b[0m \u001b[0mgetattr\u001b[0m\u001b[0;34m(\u001b[0m\u001b[0mdf\u001b[0m\u001b[0;34m,\u001b[0m \u001b[0mdf_function\u001b[0m\u001b[0;34m)\u001b[0m\u001b[0;34m(\u001b[0m\u001b[0mwrapper\u001b[0m\u001b[0;34m,\u001b[0m \u001b[0;34m**\u001b[0m\u001b[0mkwargs\u001b[0m\u001b[0;34m)\u001b[0m\u001b[0;34m\u001b[0m\u001b[0;34m\u001b[0m\u001b[0m\n\u001b[0m\u001b[1;32m    768\u001b[0m                 \u001b[0;32mfinally\u001b[0m\u001b[0;34m:\u001b[0m\u001b[0;34m\u001b[0m\u001b[0;34m\u001b[0m\u001b[0m\n\u001b[1;32m    769\u001b[0m                     \u001b[0mt\u001b[0m\u001b[0;34m.\u001b[0m\u001b[0mclose\u001b[0m\u001b[0;34m(\u001b[0m\u001b[0;34m)\u001b[0m\u001b[0;34m\u001b[0m\u001b[0;34m\u001b[0m\u001b[0m\n",
      "\u001b[0;32m~/.local/share/virtualenvs/Yelp-ds-xpajUQwb/lib/python3.7/site-packages/pandas/core/series.py\u001b[0m in \u001b[0;36mapply\u001b[0;34m(self, func, convert_dtype, args, **kwds)\u001b[0m\n\u001b[1;32m   3846\u001b[0m             \u001b[0;32melse\u001b[0m\u001b[0;34m:\u001b[0m\u001b[0;34m\u001b[0m\u001b[0;34m\u001b[0m\u001b[0m\n\u001b[1;32m   3847\u001b[0m                 \u001b[0mvalues\u001b[0m \u001b[0;34m=\u001b[0m \u001b[0mself\u001b[0m\u001b[0;34m.\u001b[0m\u001b[0mastype\u001b[0m\u001b[0;34m(\u001b[0m\u001b[0mobject\u001b[0m\u001b[0;34m)\u001b[0m\u001b[0;34m.\u001b[0m\u001b[0mvalues\u001b[0m\u001b[0;34m\u001b[0m\u001b[0;34m\u001b[0m\u001b[0m\n\u001b[0;32m-> 3848\u001b[0;31m                 \u001b[0mmapped\u001b[0m \u001b[0;34m=\u001b[0m \u001b[0mlib\u001b[0m\u001b[0;34m.\u001b[0m\u001b[0mmap_infer\u001b[0m\u001b[0;34m(\u001b[0m\u001b[0mvalues\u001b[0m\u001b[0;34m,\u001b[0m \u001b[0mf\u001b[0m\u001b[0;34m,\u001b[0m \u001b[0mconvert\u001b[0m\u001b[0;34m=\u001b[0m\u001b[0mconvert_dtype\u001b[0m\u001b[0;34m)\u001b[0m\u001b[0;34m\u001b[0m\u001b[0;34m\u001b[0m\u001b[0m\n\u001b[0m\u001b[1;32m   3849\u001b[0m \u001b[0;34m\u001b[0m\u001b[0m\n\u001b[1;32m   3850\u001b[0m         \u001b[0;32mif\u001b[0m \u001b[0mlen\u001b[0m\u001b[0;34m(\u001b[0m\u001b[0mmapped\u001b[0m\u001b[0;34m)\u001b[0m \u001b[0;32mand\u001b[0m \u001b[0misinstance\u001b[0m\u001b[0;34m(\u001b[0m\u001b[0mmapped\u001b[0m\u001b[0;34m[\u001b[0m\u001b[0;36m0\u001b[0m\u001b[0;34m]\u001b[0m\u001b[0;34m,\u001b[0m \u001b[0mSeries\u001b[0m\u001b[0;34m)\u001b[0m\u001b[0;34m:\u001b[0m\u001b[0;34m\u001b[0m\u001b[0;34m\u001b[0m\u001b[0m\n",
      "\u001b[0;32mpandas/_libs/lib.pyx\u001b[0m in \u001b[0;36mpandas._libs.lib.map_infer\u001b[0;34m()\u001b[0m\n",
      "\u001b[0;32m~/.local/share/virtualenvs/Yelp-ds-xpajUQwb/lib/python3.7/site-packages/tqdm/std.py\u001b[0m in \u001b[0;36mwrapper\u001b[0;34m(*args, **kwargs)\u001b[0m\n\u001b[1;32m    760\u001b[0m                     \u001b[0;31m# take a fast or slow code path; so stop when t.total==t.n\u001b[0m\u001b[0;34m\u001b[0m\u001b[0;34m\u001b[0m\u001b[0;34m\u001b[0m\u001b[0m\n\u001b[1;32m    761\u001b[0m                     \u001b[0mt\u001b[0m\u001b[0;34m.\u001b[0m\u001b[0mupdate\u001b[0m\u001b[0;34m(\u001b[0m\u001b[0mn\u001b[0m\u001b[0;34m=\u001b[0m\u001b[0;36m1\u001b[0m \u001b[0;32mif\u001b[0m \u001b[0;32mnot\u001b[0m \u001b[0mt\u001b[0m\u001b[0;34m.\u001b[0m\u001b[0mtotal\u001b[0m \u001b[0;32mor\u001b[0m \u001b[0mt\u001b[0m\u001b[0;34m.\u001b[0m\u001b[0mn\u001b[0m \u001b[0;34m<\u001b[0m \u001b[0mt\u001b[0m\u001b[0;34m.\u001b[0m\u001b[0mtotal\u001b[0m \u001b[0;32melse\u001b[0m \u001b[0;36m0\u001b[0m\u001b[0;34m)\u001b[0m\u001b[0;34m\u001b[0m\u001b[0;34m\u001b[0m\u001b[0m\n\u001b[0;32m--> 762\u001b[0;31m                     \u001b[0;32mreturn\u001b[0m \u001b[0mfunc\u001b[0m\u001b[0;34m(\u001b[0m\u001b[0;34m*\u001b[0m\u001b[0margs\u001b[0m\u001b[0;34m,\u001b[0m \u001b[0;34m**\u001b[0m\u001b[0mkwargs\u001b[0m\u001b[0;34m)\u001b[0m\u001b[0;34m\u001b[0m\u001b[0;34m\u001b[0m\u001b[0m\n\u001b[0m\u001b[1;32m    763\u001b[0m \u001b[0;34m\u001b[0m\u001b[0m\n\u001b[1;32m    764\u001b[0m                 \u001b[0;31m# Apply the provided function (in **kwargs)\u001b[0m\u001b[0;34m\u001b[0m\u001b[0;34m\u001b[0m\u001b[0;34m\u001b[0m\u001b[0m\n",
      "\u001b[0;32m<ipython-input-47-4361c3183b5f>\u001b[0m in \u001b[0;36mget_summaries\u001b[0;34m(text)\u001b[0m\n\u001b[1;32m      1\u001b[0m \u001b[0;32mdef\u001b[0m \u001b[0mget_summaries\u001b[0m\u001b[0;34m(\u001b[0m\u001b[0mtext\u001b[0m\u001b[0;34m)\u001b[0m\u001b[0;34m:\u001b[0m\u001b[0;34m\u001b[0m\u001b[0;34m\u001b[0m\u001b[0m\n\u001b[1;32m      2\u001b[0m     \u001b[0msummary1\u001b[0m \u001b[0;34m=\u001b[0m \u001b[0mts\u001b[0m\u001b[0;34m.\u001b[0m\u001b[0msummarize\u001b[0m\u001b[0;34m(\u001b[0m\u001b[0mtext\u001b[0m\u001b[0;34m)\u001b[0m\u001b[0;34m\u001b[0m\u001b[0;34m\u001b[0m\u001b[0m\n\u001b[0;32m----> 3\u001b[0;31m     \u001b[0msummary2\u001b[0m \u001b[0;34m=\u001b[0m \u001b[0mts2\u001b[0m\u001b[0;34m(\u001b[0m\u001b[0mtext\u001b[0m\u001b[0;34m,\u001b[0m \u001b[0mmin_length\u001b[0m\u001b[0;34m=\u001b[0m\u001b[0;36m42\u001b[0m\u001b[0;34m,\u001b[0m \u001b[0mclean_up_tokenization_spaces\u001b[0m\u001b[0;34m=\u001b[0m\u001b[0;32mTrue\u001b[0m\u001b[0;34m,\u001b[0m \u001b[0mmax_length\u001b[0m\u001b[0;34m=\u001b[0m\u001b[0;36m1024\u001b[0m\u001b[0;34m)\u001b[0m\u001b[0;34m[\u001b[0m\u001b[0;36m0\u001b[0m\u001b[0;34m]\u001b[0m\u001b[0;34m[\u001b[0m\u001b[0;34m'summary_text'\u001b[0m\u001b[0;34m]\u001b[0m\u001b[0;34m\u001b[0m\u001b[0;34m\u001b[0m\u001b[0m\n\u001b[0m\u001b[1;32m      4\u001b[0m     \u001b[0;32mreturn\u001b[0m \u001b[0msummary1\u001b[0m\u001b[0;34m,\u001b[0m \u001b[0msummary2\u001b[0m\u001b[0;34m\u001b[0m\u001b[0;34m\u001b[0m\u001b[0m\n",
      "\u001b[0;32m~/.local/share/virtualenvs/Yelp-ds-xpajUQwb/lib/python3.7/site-packages/transformers/pipelines.py\u001b[0m in \u001b[0;36m__call__\u001b[0;34m(self, return_tensors, return_text, clean_up_tokenization_spaces, *documents, **generate_kwargs)\u001b[0m\n\u001b[1;32m   1444\u001b[0m \u001b[0;34m\u001b[0m\u001b[0m\n\u001b[1;32m   1445\u001b[0m             summaries = self.model.generate(\n\u001b[0;32m-> 1446\u001b[0;31m                 \u001b[0minputs\u001b[0m\u001b[0;34m[\u001b[0m\u001b[0;34m\"input_ids\"\u001b[0m\u001b[0;34m]\u001b[0m\u001b[0;34m,\u001b[0m \u001b[0mattention_mask\u001b[0m\u001b[0;34m=\u001b[0m\u001b[0minputs\u001b[0m\u001b[0;34m[\u001b[0m\u001b[0;34m\"attention_mask\"\u001b[0m\u001b[0;34m]\u001b[0m\u001b[0;34m,\u001b[0m \u001b[0;34m**\u001b[0m\u001b[0mgenerate_kwargs\u001b[0m\u001b[0;34m,\u001b[0m\u001b[0;34m\u001b[0m\u001b[0;34m\u001b[0m\u001b[0m\n\u001b[0m\u001b[1;32m   1447\u001b[0m             )\n\u001b[1;32m   1448\u001b[0m \u001b[0;34m\u001b[0m\u001b[0m\n",
      "\u001b[0;32m~/.local/share/virtualenvs/Yelp-ds-xpajUQwb/lib/python3.7/site-packages/transformers/modeling_tf_utils.py\u001b[0m in \u001b[0;36mgenerate\u001b[0;34m(self, input_ids, max_length, min_length, do_sample, early_stopping, num_beams, temperature, top_k, top_p, repetition_penalty, bad_words_ids, bos_token_id, pad_token_id, eos_token_id, length_penalty, no_repeat_ngram_size, num_return_sequences, attention_mask, decoder_start_token_id, use_cache)\u001b[0m\n\u001b[1;32m    780\u001b[0m                 \u001b[0mencoder_outputs\u001b[0m\u001b[0;34m=\u001b[0m\u001b[0mencoder_outputs\u001b[0m\u001b[0;34m,\u001b[0m\u001b[0;34m\u001b[0m\u001b[0;34m\u001b[0m\u001b[0m\n\u001b[1;32m    781\u001b[0m                 \u001b[0mattention_mask\u001b[0m\u001b[0;34m=\u001b[0m\u001b[0mattention_mask\u001b[0m\u001b[0;34m,\u001b[0m\u001b[0;34m\u001b[0m\u001b[0;34m\u001b[0m\u001b[0m\n\u001b[0;32m--> 782\u001b[0;31m                 \u001b[0muse_cache\u001b[0m\u001b[0;34m=\u001b[0m\u001b[0muse_cache\u001b[0m\u001b[0;34m,\u001b[0m\u001b[0;34m\u001b[0m\u001b[0;34m\u001b[0m\u001b[0m\n\u001b[0m\u001b[1;32m    783\u001b[0m             )\n\u001b[1;32m    784\u001b[0m         \u001b[0;32melse\u001b[0m\u001b[0;34m:\u001b[0m\u001b[0;34m\u001b[0m\u001b[0;34m\u001b[0m\u001b[0m\n",
      "\u001b[0;32m~/.local/share/virtualenvs/Yelp-ds-xpajUQwb/lib/python3.7/site-packages/transformers/modeling_tf_utils.py\u001b[0m in \u001b[0;36m_generate_beam_search\u001b[0;34m(self, input_ids, cur_len, max_length, min_length, do_sample, early_stopping, temperature, top_k, top_p, repetition_penalty, no_repeat_ngram_size, bad_words_ids, bos_token_id, pad_token_id, decoder_start_token_id, eos_token_id, batch_size, num_return_sequences, length_penalty, num_beams, vocab_size, encoder_outputs, attention_mask, use_cache)\u001b[0m\n\u001b[1;32m   1027\u001b[0m                 \u001b[0minput_ids\u001b[0m\u001b[0;34m,\u001b[0m \u001b[0mpast\u001b[0m\u001b[0;34m=\u001b[0m\u001b[0mpast\u001b[0m\u001b[0;34m,\u001b[0m \u001b[0mattention_mask\u001b[0m\u001b[0;34m=\u001b[0m\u001b[0mattention_mask\u001b[0m\u001b[0;34m,\u001b[0m \u001b[0muse_cache\u001b[0m\u001b[0;34m=\u001b[0m\u001b[0muse_cache\u001b[0m\u001b[0;34m\u001b[0m\u001b[0;34m\u001b[0m\u001b[0m\n\u001b[1;32m   1028\u001b[0m             )\n\u001b[0;32m-> 1029\u001b[0;31m             \u001b[0moutputs\u001b[0m \u001b[0;34m=\u001b[0m \u001b[0mself\u001b[0m\u001b[0;34m(\u001b[0m\u001b[0;34m**\u001b[0m\u001b[0mmodel_inputs\u001b[0m\u001b[0;34m)\u001b[0m  \u001b[0;31m# (batch_size * num_beams, cur_len, vocab_size)\u001b[0m\u001b[0;34m\u001b[0m\u001b[0;34m\u001b[0m\u001b[0m\n\u001b[0m\u001b[1;32m   1030\u001b[0m             \u001b[0mnext_token_logits\u001b[0m \u001b[0;34m=\u001b[0m \u001b[0moutputs\u001b[0m\u001b[0;34m[\u001b[0m\u001b[0;36m0\u001b[0m\u001b[0;34m]\u001b[0m\u001b[0;34m[\u001b[0m\u001b[0;34m:\u001b[0m\u001b[0;34m,\u001b[0m \u001b[0;34m-\u001b[0m\u001b[0;36m1\u001b[0m\u001b[0;34m,\u001b[0m \u001b[0;34m:\u001b[0m\u001b[0;34m]\u001b[0m  \u001b[0;31m# (batch_size * num_beams, vocab_size)\u001b[0m\u001b[0;34m\u001b[0m\u001b[0;34m\u001b[0m\u001b[0m\n\u001b[1;32m   1031\u001b[0m \u001b[0;34m\u001b[0m\u001b[0m\n",
      "\u001b[0;32m~/.local/share/virtualenvs/Yelp-ds-xpajUQwb/lib/python3.7/site-packages/tensorflow_core/python/keras/engine/base_layer.py\u001b[0m in \u001b[0;36m__call__\u001b[0;34m(self, inputs, *args, **kwargs)\u001b[0m\n\u001b[1;32m    820\u001b[0m           with base_layer_utils.autocast_context_manager(\n\u001b[1;32m    821\u001b[0m               self._compute_dtype):\n\u001b[0;32m--> 822\u001b[0;31m             \u001b[0moutputs\u001b[0m \u001b[0;34m=\u001b[0m \u001b[0mself\u001b[0m\u001b[0;34m.\u001b[0m\u001b[0mcall\u001b[0m\u001b[0;34m(\u001b[0m\u001b[0mcast_inputs\u001b[0m\u001b[0;34m,\u001b[0m \u001b[0;34m*\u001b[0m\u001b[0margs\u001b[0m\u001b[0;34m,\u001b[0m \u001b[0;34m**\u001b[0m\u001b[0mkwargs\u001b[0m\u001b[0;34m)\u001b[0m\u001b[0;34m\u001b[0m\u001b[0;34m\u001b[0m\u001b[0m\n\u001b[0m\u001b[1;32m    823\u001b[0m           \u001b[0mself\u001b[0m\u001b[0;34m.\u001b[0m\u001b[0m_handle_activity_regularization\u001b[0m\u001b[0;34m(\u001b[0m\u001b[0minputs\u001b[0m\u001b[0;34m,\u001b[0m \u001b[0moutputs\u001b[0m\u001b[0;34m)\u001b[0m\u001b[0;34m\u001b[0m\u001b[0;34m\u001b[0m\u001b[0m\n\u001b[1;32m    824\u001b[0m           \u001b[0mself\u001b[0m\u001b[0;34m.\u001b[0m\u001b[0m_set_mask_metadata\u001b[0m\u001b[0;34m(\u001b[0m\u001b[0minputs\u001b[0m\u001b[0;34m,\u001b[0m \u001b[0moutputs\u001b[0m\u001b[0;34m,\u001b[0m \u001b[0minput_masks\u001b[0m\u001b[0;34m)\u001b[0m\u001b[0;34m\u001b[0m\u001b[0;34m\u001b[0m\u001b[0m\n",
      "\u001b[0;32m~/.local/share/virtualenvs/Yelp-ds-xpajUQwb/lib/python3.7/site-packages/transformers/modeling_tf_t5.py\u001b[0m in \u001b[0;36mcall\u001b[0;34m(self, inputs, **kwargs)\u001b[0m\n\u001b[1;32m   1072\u001b[0m         \u001b[0msequence_output\u001b[0m \u001b[0;34m=\u001b[0m \u001b[0mdecoder_outputs\u001b[0m\u001b[0;34m[\u001b[0m\u001b[0;36m0\u001b[0m\u001b[0;34m]\u001b[0m \u001b[0;34m*\u001b[0m \u001b[0;34m(\u001b[0m\u001b[0mself\u001b[0m\u001b[0;34m.\u001b[0m\u001b[0mmodel_dim\u001b[0m \u001b[0;34m**\u001b[0m \u001b[0;34m-\u001b[0m\u001b[0;36m0.5\u001b[0m\u001b[0;34m)\u001b[0m\u001b[0;34m\u001b[0m\u001b[0;34m\u001b[0m\u001b[0m\n\u001b[1;32m   1073\u001b[0m         \u001b[0membed_tokens\u001b[0m \u001b[0;34m=\u001b[0m \u001b[0mself\u001b[0m\u001b[0;34m.\u001b[0m\u001b[0mget_output_embeddings\u001b[0m\u001b[0;34m(\u001b[0m\u001b[0;34m)\u001b[0m\u001b[0;34m\u001b[0m\u001b[0;34m\u001b[0m\u001b[0m\n\u001b[0;32m-> 1074\u001b[0;31m         \u001b[0mlm_logits\u001b[0m \u001b[0;34m=\u001b[0m \u001b[0membed_tokens\u001b[0m\u001b[0;34m(\u001b[0m\u001b[0msequence_output\u001b[0m\u001b[0;34m,\u001b[0m \u001b[0mmode\u001b[0m\u001b[0;34m=\u001b[0m\u001b[0;34m\"linear\"\u001b[0m\u001b[0;34m)\u001b[0m\u001b[0;34m\u001b[0m\u001b[0;34m\u001b[0m\u001b[0m\n\u001b[0m\u001b[1;32m   1075\u001b[0m         \u001b[0mdecoder_outputs\u001b[0m \u001b[0;34m=\u001b[0m \u001b[0;34m(\u001b[0m\u001b[0mlm_logits\u001b[0m\u001b[0;34m,\u001b[0m\u001b[0;34m)\u001b[0m \u001b[0;34m+\u001b[0m \u001b[0mdecoder_outputs\u001b[0m\u001b[0;34m[\u001b[0m\u001b[0;36m1\u001b[0m\u001b[0;34m:\u001b[0m\u001b[0;34m]\u001b[0m\u001b[0;34m\u001b[0m\u001b[0;34m\u001b[0m\u001b[0m\n\u001b[1;32m   1076\u001b[0m \u001b[0;34m\u001b[0m\u001b[0m\n",
      "\u001b[0;32m~/.local/share/virtualenvs/Yelp-ds-xpajUQwb/lib/python3.7/site-packages/tensorflow_core/python/keras/engine/base_layer.py\u001b[0m in \u001b[0;36m__call__\u001b[0;34m(self, inputs, *args, **kwargs)\u001b[0m\n\u001b[1;32m    820\u001b[0m           with base_layer_utils.autocast_context_manager(\n\u001b[1;32m    821\u001b[0m               self._compute_dtype):\n\u001b[0;32m--> 822\u001b[0;31m             \u001b[0moutputs\u001b[0m \u001b[0;34m=\u001b[0m \u001b[0mself\u001b[0m\u001b[0;34m.\u001b[0m\u001b[0mcall\u001b[0m\u001b[0;34m(\u001b[0m\u001b[0mcast_inputs\u001b[0m\u001b[0;34m,\u001b[0m \u001b[0;34m*\u001b[0m\u001b[0margs\u001b[0m\u001b[0;34m,\u001b[0m \u001b[0;34m**\u001b[0m\u001b[0mkwargs\u001b[0m\u001b[0;34m)\u001b[0m\u001b[0;34m\u001b[0m\u001b[0;34m\u001b[0m\u001b[0m\n\u001b[0m\u001b[1;32m    823\u001b[0m           \u001b[0mself\u001b[0m\u001b[0;34m.\u001b[0m\u001b[0m_handle_activity_regularization\u001b[0m\u001b[0;34m(\u001b[0m\u001b[0minputs\u001b[0m\u001b[0;34m,\u001b[0m \u001b[0moutputs\u001b[0m\u001b[0;34m)\u001b[0m\u001b[0;34m\u001b[0m\u001b[0;34m\u001b[0m\u001b[0m\n\u001b[1;32m    824\u001b[0m           \u001b[0mself\u001b[0m\u001b[0;34m.\u001b[0m\u001b[0m_set_mask_metadata\u001b[0m\u001b[0;34m(\u001b[0m\u001b[0minputs\u001b[0m\u001b[0;34m,\u001b[0m \u001b[0moutputs\u001b[0m\u001b[0;34m,\u001b[0m \u001b[0minput_masks\u001b[0m\u001b[0;34m)\u001b[0m\u001b[0;34m\u001b[0m\u001b[0;34m\u001b[0m\u001b[0m\n",
      "\u001b[0;32m~/.local/share/virtualenvs/Yelp-ds-xpajUQwb/lib/python3.7/site-packages/transformers/modeling_tf_utils.py\u001b[0m in \u001b[0;36mcall\u001b[0;34m(self, inputs, mode)\u001b[0m\n\u001b[1;32m   1550\u001b[0m             \u001b[0;32mreturn\u001b[0m \u001b[0mself\u001b[0m\u001b[0;34m.\u001b[0m\u001b[0m_embedding\u001b[0m\u001b[0;34m(\u001b[0m\u001b[0minputs\u001b[0m\u001b[0;34m)\u001b[0m\u001b[0;34m\u001b[0m\u001b[0;34m\u001b[0m\u001b[0m\n\u001b[1;32m   1551\u001b[0m         \u001b[0;32melif\u001b[0m \u001b[0mmode\u001b[0m \u001b[0;34m==\u001b[0m \u001b[0;34m\"linear\"\u001b[0m\u001b[0;34m:\u001b[0m\u001b[0;34m\u001b[0m\u001b[0;34m\u001b[0m\u001b[0m\n\u001b[0;32m-> 1552\u001b[0;31m             \u001b[0;32mreturn\u001b[0m \u001b[0mself\u001b[0m\u001b[0;34m.\u001b[0m\u001b[0m_linear\u001b[0m\u001b[0;34m(\u001b[0m\u001b[0minputs\u001b[0m\u001b[0;34m)\u001b[0m\u001b[0;34m\u001b[0m\u001b[0;34m\u001b[0m\u001b[0m\n\u001b[0m\u001b[1;32m   1553\u001b[0m         \u001b[0;32melse\u001b[0m\u001b[0;34m:\u001b[0m\u001b[0;34m\u001b[0m\u001b[0;34m\u001b[0m\u001b[0m\n\u001b[1;32m   1554\u001b[0m             \u001b[0;32mraise\u001b[0m \u001b[0mValueError\u001b[0m\u001b[0;34m(\u001b[0m\u001b[0;34m\"mode {} is not valid.\"\u001b[0m\u001b[0;34m.\u001b[0m\u001b[0mformat\u001b[0m\u001b[0;34m(\u001b[0m\u001b[0mmode\u001b[0m\u001b[0;34m)\u001b[0m\u001b[0;34m)\u001b[0m\u001b[0;34m\u001b[0m\u001b[0;34m\u001b[0m\u001b[0m\n",
      "\u001b[0;32m~/.local/share/virtualenvs/Yelp-ds-xpajUQwb/lib/python3.7/site-packages/transformers/modeling_tf_utils.py\u001b[0m in \u001b[0;36m_linear\u001b[0;34m(self, inputs)\u001b[0m\n\u001b[1;32m   1568\u001b[0m \u001b[0;34m\u001b[0m\u001b[0m\n\u001b[1;32m   1569\u001b[0m         \u001b[0mx\u001b[0m \u001b[0;34m=\u001b[0m \u001b[0mtf\u001b[0m\u001b[0;34m.\u001b[0m\u001b[0mreshape\u001b[0m\u001b[0;34m(\u001b[0m\u001b[0minputs\u001b[0m\u001b[0;34m,\u001b[0m \u001b[0;34m[\u001b[0m\u001b[0;34m-\u001b[0m\u001b[0;36m1\u001b[0m\u001b[0;34m,\u001b[0m \u001b[0mself\u001b[0m\u001b[0;34m.\u001b[0m\u001b[0mhidden_size\u001b[0m\u001b[0;34m]\u001b[0m\u001b[0;34m)\u001b[0m\u001b[0;34m\u001b[0m\u001b[0;34m\u001b[0m\u001b[0m\n\u001b[0;32m-> 1570\u001b[0;31m         \u001b[0mlogits\u001b[0m \u001b[0;34m=\u001b[0m \u001b[0mtf\u001b[0m\u001b[0;34m.\u001b[0m\u001b[0mmatmul\u001b[0m\u001b[0;34m(\u001b[0m\u001b[0mx\u001b[0m\u001b[0;34m,\u001b[0m \u001b[0mself\u001b[0m\u001b[0;34m.\u001b[0m\u001b[0mweight\u001b[0m\u001b[0;34m,\u001b[0m \u001b[0mtranspose_b\u001b[0m\u001b[0;34m=\u001b[0m\u001b[0;32mTrue\u001b[0m\u001b[0;34m)\u001b[0m\u001b[0;34m\u001b[0m\u001b[0;34m\u001b[0m\u001b[0m\n\u001b[0m\u001b[1;32m   1571\u001b[0m \u001b[0;34m\u001b[0m\u001b[0m\n\u001b[1;32m   1572\u001b[0m         \u001b[0;32mreturn\u001b[0m \u001b[0mtf\u001b[0m\u001b[0;34m.\u001b[0m\u001b[0mreshape\u001b[0m\u001b[0;34m(\u001b[0m\u001b[0mlogits\u001b[0m\u001b[0;34m,\u001b[0m \u001b[0mfirst_dims\u001b[0m \u001b[0;34m+\u001b[0m \u001b[0;34m[\u001b[0m\u001b[0mself\u001b[0m\u001b[0;34m.\u001b[0m\u001b[0mvocab_size\u001b[0m\u001b[0;34m]\u001b[0m\u001b[0;34m)\u001b[0m\u001b[0;34m\u001b[0m\u001b[0;34m\u001b[0m\u001b[0m\n",
      "\u001b[0;32m~/.local/share/virtualenvs/Yelp-ds-xpajUQwb/lib/python3.7/site-packages/tensorflow_core/python/util/dispatch.py\u001b[0m in \u001b[0;36mwrapper\u001b[0;34m(*args, **kwargs)\u001b[0m\n\u001b[1;32m    178\u001b[0m     \u001b[0;34m\"\"\"Call target, and fall back on dispatchers if there is a TypeError.\"\"\"\u001b[0m\u001b[0;34m\u001b[0m\u001b[0;34m\u001b[0m\u001b[0m\n\u001b[1;32m    179\u001b[0m     \u001b[0;32mtry\u001b[0m\u001b[0;34m:\u001b[0m\u001b[0;34m\u001b[0m\u001b[0;34m\u001b[0m\u001b[0m\n\u001b[0;32m--> 180\u001b[0;31m       \u001b[0;32mreturn\u001b[0m \u001b[0mtarget\u001b[0m\u001b[0;34m(\u001b[0m\u001b[0;34m*\u001b[0m\u001b[0margs\u001b[0m\u001b[0;34m,\u001b[0m \u001b[0;34m**\u001b[0m\u001b[0mkwargs\u001b[0m\u001b[0;34m)\u001b[0m\u001b[0;34m\u001b[0m\u001b[0;34m\u001b[0m\u001b[0m\n\u001b[0m\u001b[1;32m    181\u001b[0m     \u001b[0;32mexcept\u001b[0m \u001b[0;34m(\u001b[0m\u001b[0mTypeError\u001b[0m\u001b[0;34m,\u001b[0m \u001b[0mValueError\u001b[0m\u001b[0;34m)\u001b[0m\u001b[0;34m:\u001b[0m\u001b[0;34m\u001b[0m\u001b[0;34m\u001b[0m\u001b[0m\n\u001b[1;32m    182\u001b[0m       \u001b[0;31m# Note: convert_to_eager_tensor currently raises a ValueError, not a\u001b[0m\u001b[0;34m\u001b[0m\u001b[0;34m\u001b[0m\u001b[0;34m\u001b[0m\u001b[0m\n",
      "\u001b[0;32m~/.local/share/virtualenvs/Yelp-ds-xpajUQwb/lib/python3.7/site-packages/tensorflow_core/python/ops/math_ops.py\u001b[0m in \u001b[0;36mmatmul\u001b[0;34m(a, b, transpose_a, transpose_b, adjoint_a, adjoint_b, a_is_sparse, b_is_sparse, name)\u001b[0m\n\u001b[1;32m   2796\u001b[0m     \u001b[0;32melse\u001b[0m\u001b[0;34m:\u001b[0m\u001b[0;34m\u001b[0m\u001b[0;34m\u001b[0m\u001b[0m\n\u001b[1;32m   2797\u001b[0m       return gen_math_ops.mat_mul(\n\u001b[0;32m-> 2798\u001b[0;31m           a, b, transpose_a=transpose_a, transpose_b=transpose_b, name=name)\n\u001b[0m\u001b[1;32m   2799\u001b[0m \u001b[0;34m\u001b[0m\u001b[0m\n\u001b[1;32m   2800\u001b[0m \u001b[0;34m\u001b[0m\u001b[0m\n",
      "\u001b[0;32m~/.local/share/virtualenvs/Yelp-ds-xpajUQwb/lib/python3.7/site-packages/tensorflow_core/python/ops/gen_math_ops.py\u001b[0m in \u001b[0;36mmat_mul\u001b[0;34m(a, b, transpose_a, transpose_b, name)\u001b[0m\n\u001b[1;32m   5604\u001b[0m         \u001b[0m_ctx\u001b[0m\u001b[0;34m.\u001b[0m\u001b[0m_context_handle\u001b[0m\u001b[0;34m,\u001b[0m \u001b[0mtld\u001b[0m\u001b[0;34m.\u001b[0m\u001b[0mdevice_name\u001b[0m\u001b[0;34m,\u001b[0m \u001b[0;34m\"MatMul\"\u001b[0m\u001b[0;34m,\u001b[0m \u001b[0mname\u001b[0m\u001b[0;34m,\u001b[0m\u001b[0;34m\u001b[0m\u001b[0;34m\u001b[0m\u001b[0m\n\u001b[1;32m   5605\u001b[0m         \u001b[0mtld\u001b[0m\u001b[0;34m.\u001b[0m\u001b[0mop_callbacks\u001b[0m\u001b[0;34m,\u001b[0m \u001b[0ma\u001b[0m\u001b[0;34m,\u001b[0m \u001b[0mb\u001b[0m\u001b[0;34m,\u001b[0m \u001b[0;34m\"transpose_a\"\u001b[0m\u001b[0;34m,\u001b[0m \u001b[0mtranspose_a\u001b[0m\u001b[0;34m,\u001b[0m \u001b[0;34m\"transpose_b\"\u001b[0m\u001b[0;34m,\u001b[0m\u001b[0;34m\u001b[0m\u001b[0;34m\u001b[0m\u001b[0m\n\u001b[0;32m-> 5606\u001b[0;31m         transpose_b)\n\u001b[0m\u001b[1;32m   5607\u001b[0m       \u001b[0;32mreturn\u001b[0m \u001b[0m_result\u001b[0m\u001b[0;34m\u001b[0m\u001b[0;34m\u001b[0m\u001b[0m\n\u001b[1;32m   5608\u001b[0m     \u001b[0;32mexcept\u001b[0m \u001b[0m_core\u001b[0m\u001b[0;34m.\u001b[0m\u001b[0m_FallbackException\u001b[0m\u001b[0;34m:\u001b[0m\u001b[0;34m\u001b[0m\u001b[0;34m\u001b[0m\u001b[0m\n",
      "\u001b[0;31mKeyboardInterrupt\u001b[0m: "
     ]
    }
   ],
   "source": [
    "sample['summary1'], sample['summary2'] = sample['text'].progress_apply(get_summaries)"
   ]
  },
  {
   "cell_type": "code",
   "execution_count": null,
   "metadata": {},
   "outputs": [],
   "source": []
  }
 ],
 "metadata": {
  "kernelspec": {
   "display_name": "Python 3",
   "language": "python",
   "name": "python3"
  },
  "language_info": {
   "codemirror_mode": {
    "name": "ipython",
    "version": 3
   },
   "file_extension": ".py",
   "mimetype": "text/x-python",
   "name": "python",
   "nbconvert_exporter": "python",
   "pygments_lexer": "ipython3",
   "version": "3.7.6"
  }
 },
 "nbformat": 4,
 "nbformat_minor": 4
}
