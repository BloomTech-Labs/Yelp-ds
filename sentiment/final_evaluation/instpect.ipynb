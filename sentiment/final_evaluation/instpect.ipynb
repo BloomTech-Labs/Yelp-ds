{
 "cells": [
  {
   "cell_type": "code",
   "execution_count": 1,
   "metadata": {},
   "outputs": [],
   "source": [
    "import pandas as pd\n",
    "from ktrain import text\n",
    "from transformers import AutoTokenizer, AutoConfig, TFAutoModelForSequenceClassification\n",
    "from transformers import pipeline\n",
    "import fasttext\n",
    "import nltk\n",
    "import time"
   ]
  },
  {
   "cell_type": "code",
   "execution_count": 2,
   "metadata": {},
   "outputs": [
    {
     "data": {
      "application/vnd.jupyter.widget-view+json": {
       "model_id": "00d31c79cfbd4d9aa583ea86d798e626",
       "version_major": 2,
       "version_minor": 0
      },
      "text/plain": [
       "HBox(children=(FloatProgress(value=0.0, description='Downloading', max=230.0, style=ProgressStyle(description_…"
      ]
     },
     "metadata": {},
     "output_type": "display_data"
    },
    {
     "name": "stdout",
     "output_type": "stream",
     "text": [
      "\n"
     ]
    },
    {
     "name": "stderr",
     "output_type": "stream",
     "text": [
      "Warning : `load_model` does not return WordVectorModel or SupervisedModel any more, but a `FastText` object which is very similar.\n"
     ]
    }
   ],
   "source": [
    "ts = text.TransformerSummarizer()\n",
    "ts2 = pipeline(\"summarization\", model=\"t5-large\", tokenizer=\"t5-large\", framework=\"tf\")\n",
    "tokenizer = AutoTokenizer.from_pretrained('distilbert-base-uncased', use_fast=True)\n",
    "model = TFAutoModelForSequenceClassification.from_pretrained(\"model\")\n",
    "model_ft = fasttext.load_model(\"fasttext/model.bin\")"
   ]
  },
  {
   "cell_type": "code",
   "execution_count": 3,
   "metadata": {},
   "outputs": [],
   "source": [
    "def predict(text):\n",
    "    return model(tokenizer.encode(text, return_tensors='tf', max_length=512))[0].numpy()[0][0]\n",
    "\n",
    "def predict_ft(text):\n",
    "    return model_ft.predict(\" \".join(nltk.word_tokenize(text)))\n",
    "\n",
    "def print_and_summarize(row):\n",
    "    text = row['text']\n",
    "    stars = row['stars']\n",
    "    print(\"ORIGINAL TEXT\")\n",
    "    print(\"\\n\")\n",
    "    print(text)\n",
    "    print(\"\\n\")\n",
    "    print(\"-------------------------------------------------------------\")\n",
    "    print(\"\\n\")\n",
    "    print(\"summarizing...\")\n",
    "    start = time.time()\n",
    "    summary = ts.summarize(text)\n",
    "    print(f\"done. took {time.time() - start} seconds\")\n",
    "    print(\"\\n\")\n",
    "    print(\"SUMMARY\")\n",
    "    print(\"\\n\")\n",
    "    print(summary)\n",
    "    print(\"\\n\")\n",
    "    print(\"-------------------------------------------------------------\")\n",
    "    print(\"\\n\")\n",
    "    print(\"summarizing 2...\")\n",
    "    start = time.time()\n",
    "    summary2 = ts2(text, min_length=42, clean_up_tokenization_spaces=True, max_length=1024)[0]['summary_text']\n",
    "    print(f\"done. took {time.time() - start} seconds\")\n",
    "    print(\"\\n\")\n",
    "    print(\"SUMMARY 2\")\n",
    "    print(\"\\n\")\n",
    "    print(summary2)\n",
    "    print(\"\\n\")\n",
    "    print(\"-------------------------------------------------------------\")\n",
    "    print(\"\\n\")\n",
    "    print(\"original star\", stars)\n",
    "    print(\"\\n\")\n",
    "    print(\"original pred\", predict(text))\n",
    "    print(\"summary pred\", predict(summary))\n",
    "    print(\"summary2 pred\", predict(summary2))\n",
    "    print(\"original ft pred\", predict_ft(text))\n",
    "    print(\"summary ft pred\", predict_ft(summary))\n",
    "    print(\"summary2 ft pred\", predict_ft(summary2))"
   ]
  },
  {
   "cell_type": "code",
   "execution_count": 4,
   "metadata": {},
   "outputs": [],
   "source": [
    "df1 = pd.read_csv(\"preds-copy.csv\", header=None, names=['idx', 'text', 'stars', 'pred'])\n",
    "df2 = pd.read_csv(\"preds.csv\", header=None, names=['idx', 'text', 'stars', 'pred'])"
   ]
  },
  {
   "cell_type": "code",
   "execution_count": 5,
   "metadata": {},
   "outputs": [
    {
     "data": {
      "text/plain": [
       "((300823, 4), (36258, 4))"
      ]
     },
     "execution_count": 5,
     "metadata": {},
     "output_type": "execute_result"
    }
   ],
   "source": [
    "df1.shape, df2.shape"
   ]
  },
  {
   "cell_type": "code",
   "execution_count": 6,
   "metadata": {},
   "outputs": [
    {
     "data": {
      "text/html": [
       "<div>\n",
       "<style scoped>\n",
       "    .dataframe tbody tr th:only-of-type {\n",
       "        vertical-align: middle;\n",
       "    }\n",
       "\n",
       "    .dataframe tbody tr th {\n",
       "        vertical-align: top;\n",
       "    }\n",
       "\n",
       "    .dataframe thead th {\n",
       "        text-align: right;\n",
       "    }\n",
       "</style>\n",
       "<table border=\"1\" class=\"dataframe\">\n",
       "  <thead>\n",
       "    <tr style=\"text-align: right;\">\n",
       "      <th></th>\n",
       "      <th>idx</th>\n",
       "      <th>text</th>\n",
       "      <th>stars</th>\n",
       "      <th>pred</th>\n",
       "    </tr>\n",
       "  </thead>\n",
       "  <tbody>\n",
       "    <tr>\n",
       "      <th>300818</th>\n",
       "      <td>300818</td>\n",
       "      <td>Went for a late lunch around 3:30 and the plac...</td>\n",
       "      <td>4.0</td>\n",
       "      <td>3.385736</td>\n",
       "    </tr>\n",
       "    <tr>\n",
       "      <th>300819</th>\n",
       "      <td>300819</td>\n",
       "      <td>It receives a two star only because I was sitt...</td>\n",
       "      <td>2.0</td>\n",
       "      <td>1.963099</td>\n",
       "    </tr>\n",
       "    <tr>\n",
       "      <th>300820</th>\n",
       "      <td>300820</td>\n",
       "      <td>I ordered breakfast for my family this morning...</td>\n",
       "      <td>1.0</td>\n",
       "      <td>1.218617</td>\n",
       "    </tr>\n",
       "    <tr>\n",
       "      <th>300821</th>\n",
       "      <td>300821</td>\n",
       "      <td>The owner of Plant Wise, Michelle, really did ...</td>\n",
       "      <td>5.0</td>\n",
       "      <td>5.107769</td>\n",
       "    </tr>\n",
       "    <tr>\n",
       "      <th>300822</th>\n",
       "      <td>300822</td>\n",
       "      <td>If you want to go somewhere that you will be w...</td>\n",
       "      <td>5.0</td>\n",
       "      <td>5.020714</td>\n",
       "    </tr>\n",
       "  </tbody>\n",
       "</table>\n",
       "</div>"
      ],
      "text/plain": [
       "           idx                                               text  stars  \\\n",
       "300818  300818  Went for a late lunch around 3:30 and the plac...    4.0   \n",
       "300819  300819  It receives a two star only because I was sitt...    2.0   \n",
       "300820  300820  I ordered breakfast for my family this morning...    1.0   \n",
       "300821  300821  The owner of Plant Wise, Michelle, really did ...    5.0   \n",
       "300822  300822  If you want to go somewhere that you will be w...    5.0   \n",
       "\n",
       "            pred  \n",
       "300818  3.385736  \n",
       "300819  1.963099  \n",
       "300820  1.218617  \n",
       "300821  5.107769  \n",
       "300822  5.020714  "
      ]
     },
     "execution_count": 6,
     "metadata": {},
     "output_type": "execute_result"
    }
   ],
   "source": [
    "df1.tail()"
   ]
  },
  {
   "cell_type": "code",
   "execution_count": 7,
   "metadata": {},
   "outputs": [
    {
     "data": {
      "text/html": [
       "<div>\n",
       "<style scoped>\n",
       "    .dataframe tbody tr th:only-of-type {\n",
       "        vertical-align: middle;\n",
       "    }\n",
       "\n",
       "    .dataframe tbody tr th {\n",
       "        vertical-align: top;\n",
       "    }\n",
       "\n",
       "    .dataframe thead th {\n",
       "        text-align: right;\n",
       "    }\n",
       "</style>\n",
       "<table border=\"1\" class=\"dataframe\">\n",
       "  <thead>\n",
       "    <tr style=\"text-align: right;\">\n",
       "      <th></th>\n",
       "      <th>idx</th>\n",
       "      <th>text</th>\n",
       "      <th>stars</th>\n",
       "      <th>pred</th>\n",
       "    </tr>\n",
       "  </thead>\n",
       "  <tbody>\n",
       "    <tr>\n",
       "      <th>0</th>\n",
       "      <td>300823</td>\n",
       "      <td>We are waiting for our food. Seated in the bar...</td>\n",
       "      <td>2.0</td>\n",
       "      <td>2.385927</td>\n",
       "    </tr>\n",
       "    <tr>\n",
       "      <th>1</th>\n",
       "      <td>300824</td>\n",
       "      <td>This is the letter that I wrote and mailed to ...</td>\n",
       "      <td>2.0</td>\n",
       "      <td>1.487109</td>\n",
       "    </tr>\n",
       "    <tr>\n",
       "      <th>2</th>\n",
       "      <td>300825</td>\n",
       "      <td>My mom was visiting and she wanted to get her ...</td>\n",
       "      <td>5.0</td>\n",
       "      <td>5.124286</td>\n",
       "    </tr>\n",
       "    <tr>\n",
       "      <th>3</th>\n",
       "      <td>300826</td>\n",
       "      <td>Green chile and pork are like peanut butter an...</td>\n",
       "      <td>4.0</td>\n",
       "      <td>5.077338</td>\n",
       "    </tr>\n",
       "    <tr>\n",
       "      <th>4</th>\n",
       "      <td>300827</td>\n",
       "      <td>I booked massages and facials for two friends ...</td>\n",
       "      <td>4.0</td>\n",
       "      <td>5.047493</td>\n",
       "    </tr>\n",
       "  </tbody>\n",
       "</table>\n",
       "</div>"
      ],
      "text/plain": [
       "      idx                                               text  stars      pred\n",
       "0  300823  We are waiting for our food. Seated in the bar...    2.0  2.385927\n",
       "1  300824  This is the letter that I wrote and mailed to ...    2.0  1.487109\n",
       "2  300825  My mom was visiting and she wanted to get her ...    5.0  5.124286\n",
       "3  300826  Green chile and pork are like peanut butter an...    4.0  5.077338\n",
       "4  300827  I booked massages and facials for two friends ...    4.0  5.047493"
      ]
     },
     "execution_count": 7,
     "metadata": {},
     "output_type": "execute_result"
    }
   ],
   "source": [
    "df2.head()"
   ]
  },
  {
   "cell_type": "code",
   "execution_count": 13,
   "metadata": {},
   "outputs": [
    {
     "data": {
      "text/plain": [
       "(337081, 4)"
      ]
     },
     "execution_count": 13,
     "metadata": {},
     "output_type": "execute_result"
    }
   ],
   "source": [
    "df = pd.concat([df1, df2]).reset_index(drop=True)\n",
    "df.shape"
   ]
  },
  {
   "cell_type": "code",
   "execution_count": 14,
   "metadata": {},
   "outputs": [
    {
     "data": {
      "text/html": [
       "<div>\n",
       "<style scoped>\n",
       "    .dataframe tbody tr th:only-of-type {\n",
       "        vertical-align: middle;\n",
       "    }\n",
       "\n",
       "    .dataframe tbody tr th {\n",
       "        vertical-align: top;\n",
       "    }\n",
       "\n",
       "    .dataframe thead th {\n",
       "        text-align: right;\n",
       "    }\n",
       "</style>\n",
       "<table border=\"1\" class=\"dataframe\">\n",
       "  <thead>\n",
       "    <tr style=\"text-align: right;\">\n",
       "      <th></th>\n",
       "      <th>idx</th>\n",
       "      <th>text</th>\n",
       "      <th>stars</th>\n",
       "      <th>pred</th>\n",
       "    </tr>\n",
       "  </thead>\n",
       "  <tbody>\n",
       "    <tr>\n",
       "      <th>0</th>\n",
       "      <td>0</td>\n",
       "      <td>Really great local auto repair spot... really ...</td>\n",
       "      <td>5.0</td>\n",
       "      <td>4.891084</td>\n",
       "    </tr>\n",
       "    <tr>\n",
       "      <th>1</th>\n",
       "      <td>1</td>\n",
       "      <td>Best Oyster House in Toronto.  Great variety a...</td>\n",
       "      <td>5.0</td>\n",
       "      <td>5.034161</td>\n",
       "    </tr>\n",
       "    <tr>\n",
       "      <th>2</th>\n",
       "      <td>2</td>\n",
       "      <td>We thoroughly enjoy eating here. We go here at...</td>\n",
       "      <td>5.0</td>\n",
       "      <td>4.932011</td>\n",
       "    </tr>\n",
       "    <tr>\n",
       "      <th>3</th>\n",
       "      <td>3</td>\n",
       "      <td>OMG!!! So good!!!!  I was in AZ for work and I...</td>\n",
       "      <td>5.0</td>\n",
       "      <td>5.016096</td>\n",
       "    </tr>\n",
       "    <tr>\n",
       "      <th>4</th>\n",
       "      <td>4</td>\n",
       "      <td>We are here once over a year ago before we mov...</td>\n",
       "      <td>1.0</td>\n",
       "      <td>2.771281</td>\n",
       "    </tr>\n",
       "  </tbody>\n",
       "</table>\n",
       "</div>"
      ],
      "text/plain": [
       "   idx                                               text  stars      pred\n",
       "0    0  Really great local auto repair spot... really ...    5.0  4.891084\n",
       "1    1  Best Oyster House in Toronto.  Great variety a...    5.0  5.034161\n",
       "2    2  We thoroughly enjoy eating here. We go here at...    5.0  4.932011\n",
       "3    3  OMG!!! So good!!!!  I was in AZ for work and I...    5.0  5.016096\n",
       "4    4  We are here once over a year ago before we mov...    1.0  2.771281"
      ]
     },
     "execution_count": 14,
     "metadata": {},
     "output_type": "execute_result"
    }
   ],
   "source": [
    "df.head()"
   ]
  },
  {
   "cell_type": "code",
   "execution_count": 15,
   "metadata": {},
   "outputs": [
    {
     "data": {
      "text/html": [
       "<div>\n",
       "<style scoped>\n",
       "    .dataframe tbody tr th:only-of-type {\n",
       "        vertical-align: middle;\n",
       "    }\n",
       "\n",
       "    .dataframe tbody tr th {\n",
       "        vertical-align: top;\n",
       "    }\n",
       "\n",
       "    .dataframe thead th {\n",
       "        text-align: right;\n",
       "    }\n",
       "</style>\n",
       "<table border=\"1\" class=\"dataframe\">\n",
       "  <thead>\n",
       "    <tr style=\"text-align: right;\">\n",
       "      <th></th>\n",
       "      <th>idx</th>\n",
       "      <th>text</th>\n",
       "      <th>stars</th>\n",
       "      <th>pred</th>\n",
       "    </tr>\n",
       "  </thead>\n",
       "  <tbody>\n",
       "    <tr>\n",
       "      <th>337076</th>\n",
       "      <td>337076</td>\n",
       "      <td>I love Nordstrom's Cafe . This one isn't as ni...</td>\n",
       "      <td>4.0</td>\n",
       "      <td>3.790603</td>\n",
       "    </tr>\n",
       "    <tr>\n",
       "      <th>337077</th>\n",
       "      <td>337077</td>\n",
       "      <td>I kinda don't want to even review this place b...</td>\n",
       "      <td>4.0</td>\n",
       "      <td>3.887439</td>\n",
       "    </tr>\n",
       "    <tr>\n",
       "      <th>337078</th>\n",
       "      <td>337078</td>\n",
       "      <td>This place is small. It is also awesome. And w...</td>\n",
       "      <td>5.0</td>\n",
       "      <td>4.862274</td>\n",
       "    </tr>\n",
       "    <tr>\n",
       "      <th>337079</th>\n",
       "      <td>337079</td>\n",
       "      <td>Is this place still under construction? The Ta...</td>\n",
       "      <td>2.0</td>\n",
       "      <td>1.629497</td>\n",
       "    </tr>\n",
       "    <tr>\n",
       "      <th>337080</th>\n",
       "      <td>337080</td>\n",
       "      <td>Counter person ..... male from Kentucky ..... ...</td>\n",
       "      <td>5.0</td>\n",
       "      <td>5.098188</td>\n",
       "    </tr>\n",
       "  </tbody>\n",
       "</table>\n",
       "</div>"
      ],
      "text/plain": [
       "           idx                                               text  stars  \\\n",
       "337076  337076  I love Nordstrom's Cafe . This one isn't as ni...    4.0   \n",
       "337077  337077  I kinda don't want to even review this place b...    4.0   \n",
       "337078  337078  This place is small. It is also awesome. And w...    5.0   \n",
       "337079  337079  Is this place still under construction? The Ta...    2.0   \n",
       "337080  337080  Counter person ..... male from Kentucky ..... ...    5.0   \n",
       "\n",
       "            pred  \n",
       "337076  3.790603  \n",
       "337077  3.887439  \n",
       "337078  4.862274  \n",
       "337079  1.629497  \n",
       "337080  5.098188  "
      ]
     },
     "execution_count": 15,
     "metadata": {},
     "output_type": "execute_result"
    }
   ],
   "source": [
    "df.tail()"
   ]
  },
  {
   "cell_type": "code",
   "execution_count": 16,
   "metadata": {},
   "outputs": [
    {
     "data": {
      "text/plain": [
       "idx      0\n",
       "text     0\n",
       "stars    0\n",
       "pred     0\n",
       "dtype: int64"
      ]
     },
     "execution_count": 16,
     "metadata": {},
     "output_type": "execute_result"
    }
   ],
   "source": [
    "df.isna().sum()"
   ]
  },
  {
   "cell_type": "code",
   "execution_count": 17,
   "metadata": {},
   "outputs": [],
   "source": [
    "df['abs_err'] = abs(df['stars'] - df['pred'])"
   ]
  },
  {
   "cell_type": "code",
   "execution_count": 18,
   "metadata": {},
   "outputs": [
    {
     "data": {
      "text/plain": [
       "0.3267117477810095"
      ]
     },
     "execution_count": 18,
     "metadata": {},
     "output_type": "execute_result"
    }
   ],
   "source": [
    "df['abs_err'].mean()"
   ]
  },
  {
   "cell_type": "code",
   "execution_count": 19,
   "metadata": {},
   "outputs": [
    {
     "name": "stdout",
     "output_type": "stream",
     "text": [
      "ORIGINAL TEXT\n",
      "\n",
      "\n",
      "Lots of activity at the park saturday. Parked car and was able to find a few trails.\n",
      "\n",
      "Was wanting to get some sun and move around and this place did not disappoint . Did not bring water or sunscreen so walked until i got thirsty then started down.\n",
      "\n",
      "A lot of families out and milling around. Did notice alot of people with inadequate foot wear but to each their own i guess.\n",
      "\n",
      "Will be better prepared next time and go earlier.\n",
      "\n",
      "\n",
      "-------------------------------------------------------------\n",
      "\n",
      "\n",
      "summarizing...\n",
      "done. took 28.72334098815918 seconds\n",
      "\n",
      "\n",
      "SUMMARY\n",
      "\n",
      "\n",
      "A lot of families out and milling around. Did notice alot of people with inadequate foot wear but to each their own i guess. Will be better prepared next time and go earlier. Didn't bring water or sunscreen so walked until i got thirsty then started down. Was wanting to get some sun and move around.\n",
      "\n",
      "\n",
      "-------------------------------------------------------------\n",
      "\n",
      "\n",
      "summarizing 2...\n",
      "done. took 87.49711990356445 seconds\n",
      "\n",
      "\n",
      "SUMMARY 2\n",
      "\n",
      "\n",
      "lots of activity at the park saturday. did not bring water or sunscreen so walked until i got thirsty then started down. noticed alot of people with inadequate foot wear but to each their own i guess.\n",
      "\n",
      "\n",
      "-------------------------------------------------------------\n",
      "\n",
      "\n",
      "original star 4.0\n",
      "\n",
      "\n",
      "original pred 4.2090464\n",
      "summary pred 2.631062\n",
      "summary2 pred 2.8192115\n",
      "original ft pred (('__label__POSITIVE',), array([0.73903495]))\n",
      "summary ft pred (('__label__NEGATIVE',), array([0.739631]))\n",
      "summary2 ft pred (('__label__NEGATIVE',), array([0.78921306]))\n"
     ]
    }
   ],
   "source": [
    "print_and_summarize(df.sample(1).iloc[0])"
   ]
  },
  {
   "cell_type": "code",
   "execution_count": 20,
   "metadata": {},
   "outputs": [
    {
     "name": "stdout",
     "output_type": "stream",
     "text": [
      "ORIGINAL TEXT\n",
      "\n",
      "\n",
      "I'm not sure why I keep going there \n",
      "Look like the Shef is always bored at his job.same stupid jokes no eye contact with his costumers \n",
      "The food is ok but wayyyyyyy to much food for one person \n",
      "I will cut the crazy prices they have a little and serve a little less food \n",
      "We were 6 friends and none of us finish his food \n",
      "Also the drink are way to priced\n",
      "\n",
      "\n",
      "-------------------------------------------------------------\n",
      "\n",
      "\n",
      "summarizing...\n",
      "done. took 28.131993055343628 seconds\n",
      "\n",
      "\n",
      "SUMMARY\n",
      "\n",
      "\n",
      "The food is ok but wayyyyyyy to much food for one person. We were 6 friends and none of us finish his food. Also the drink are way to priced. I'm not sure why I keep going there  I will cut the crazy prices they have a little and serve a little less food.\n",
      "\n",
      "\n",
      "-------------------------------------------------------------\n",
      "\n",
      "\n",
      "summarizing 2...\n",
      "done. took 111.02131199836731 seconds\n",
      "\n",
      "\n",
      "SUMMARY 2\n",
      "\n",
      "\n",
      "I'm not sure why i keep going there Look like the shef is always bored at his job.same stupid jokes no eye contact with his costumers. the food is ok but wayyyyeyy to much food for one person.the drink are way to priced.\n",
      "\n",
      "\n",
      "-------------------------------------------------------------\n",
      "\n",
      "\n",
      "original star 2.0\n",
      "\n",
      "\n",
      "original pred 1.7188565\n",
      "summary pred 2.3872182\n",
      "summary2 pred 1.6233706\n",
      "original ft pred (('__label__NEGATIVE',), array([0.85746944]))\n",
      "summary ft pred (('__label__NEGATIVE',), array([0.76863939]))\n",
      "summary2 ft pred (('__label__NEGATIVE',), array([0.86138004]))\n"
     ]
    }
   ],
   "source": [
    "print_and_summarize(df.sample(1).iloc[0])"
   ]
  },
  {
   "cell_type": "code",
   "execution_count": 21,
   "metadata": {},
   "outputs": [
    {
     "name": "stdout",
     "output_type": "stream",
     "text": [
      "ORIGINAL TEXT\n",
      "\n",
      "\n",
      "Well I Drove 20 mins on my lunch break to try this after seening a Dominic Armato review on FB. And it was ment to be lol Its was greatness! Got a 10 peice dinner, comes with a bunch of fries n 1 peice of white bread and a shot of slaw.  I love the seasoning on the chicken n that mild sauce is so good. Very juicy n crispy wings and Super nice people!\n",
      "\n",
      "\n",
      "-------------------------------------------------------------\n",
      "\n",
      "\n",
      "summarizing...\n",
      "done. took 29.3078670501709 seconds\n",
      "\n",
      "\n",
      "SUMMARY\n",
      "\n",
      "\n",
      "I love the seasoning on the chicken n that mild sauce is so good. Very juicy n crispy wings and Super nice people! Got a 10 peice dinner, comes with a bunch of fries n 1 peice of white bread and a shot of slaw. It was greatness!\n",
      "\n",
      "\n",
      "-------------------------------------------------------------\n",
      "\n",
      "\n",
      "summarizing 2...\n",
      "done. took 103.38708400726318 seconds\n",
      "\n",
      "\n",
      "SUMMARY 2\n",
      "\n",
      "\n",
      "i got a 10 peice dinner, comes with a bunch of fries n 1 peice of white bread and a shot of slaw. i love the seasoning on the chicken n that mild sauce is so good. very juicy n crispy wings and Super nice people!\n",
      "\n",
      "\n",
      "-------------------------------------------------------------\n",
      "\n",
      "\n",
      "original star 5.0\n",
      "\n",
      "\n",
      "original pred 4.772795\n",
      "summary pred 4.8251863\n",
      "summary2 pred 4.736114\n",
      "original ft pred (('__label__POSITIVE',), array([0.9760657]))\n",
      "summary ft pred (('__label__POSITIVE',), array([0.99490911]))\n",
      "summary2 ft pred (('__label__POSITIVE',), array([0.99682432]))\n"
     ]
    }
   ],
   "source": [
    "print_and_summarize(df.sample(1).iloc[0])"
   ]
  },
  {
   "cell_type": "code",
   "execution_count": 22,
   "metadata": {},
   "outputs": [
    {
     "name": "stdout",
     "output_type": "stream",
     "text": [
      "ORIGINAL TEXT\n",
      "\n",
      "\n",
      "Great concept and the staff were nice. I got the hotdog with the red and green sauce mixed together. It had a good spice to it and was pretty good. I love mexican corn so I split one with my gf, Pretty much what I expected it to be, mmmmmm. They have a large selection of hot sauces and have tvs that were showing college hoops.\n",
      "\n",
      "\n",
      "-------------------------------------------------------------\n",
      "\n",
      "\n",
      "summarizing...\n",
      "done. took 30.247546911239624 seconds\n",
      "\n",
      "\n",
      "SUMMARY\n",
      "\n",
      "\n",
      "Great concept and the staff were nice. I got the hotdog with the red and green sauce mixed together. It had a good spice to it and was pretty good. I love mexican corn so I split one with my gf, Pretty much what I expected it to be, mmmmmm.\n",
      "\n",
      "\n",
      "-------------------------------------------------------------\n",
      "\n",
      "\n",
      "summarizing 2...\n",
      "done. took 96.17940902709961 seconds\n",
      "\n",
      "\n",
      "SUMMARY 2\n",
      "\n",
      "\n",
      "they have a large selection of hot sauces and have tvs that were showing college hoops. the staff was nice and the food was good. they also had a selection of tequilas and bottled water.\n",
      "\n",
      "\n",
      "-------------------------------------------------------------\n",
      "\n",
      "\n",
      "original star 5.0\n",
      "\n",
      "\n",
      "original pred 3.8535333\n",
      "summary pred 3.8801832\n",
      "summary2 pred 4.155372\n",
      "original ft pred (('__label__POSITIVE',), array([0.98899704]))\n",
      "summary ft pred (('__label__POSITIVE',), array([0.99396318]))\n",
      "summary2 ft pred (('__label__POSITIVE',), array([0.99898291]))\n"
     ]
    }
   ],
   "source": [
    "print_and_summarize(df.sample(1).iloc[0])"
   ]
  },
  {
   "cell_type": "code",
   "execution_count": 23,
   "metadata": {},
   "outputs": [
    {
     "name": "stdout",
     "output_type": "stream",
     "text": [
      "ORIGINAL TEXT\n",
      "\n",
      "\n",
      "Absolutely love this school and its teachers. My child is growing in leaps and bounds with the support of the great staff.\n",
      "\n",
      "\n",
      "-------------------------------------------------------------\n",
      "\n",
      "\n",
      "summarizing...\n",
      "done. took 24.42532181739807 seconds\n",
      "\n",
      "\n",
      "SUMMARY\n",
      "\n",
      "\n",
      "\"My child is growing in leaps and bounds with the support of the great staff. Absolutely love this school and its teachers,\" says mother. \"I am so proud of my son,\" adds mother of two. \"He is a very happy and healthy boy,\" adds father of one.\n",
      "\n",
      "\n",
      "-------------------------------------------------------------\n",
      "\n",
      "\n",
      "summarizing 2...\n",
      "done. took 90.71064615249634 seconds\n",
      "\n",
      "\n",
      "SUMMARY 2\n",
      "\n",
      "\n",
      "absolutely love this school and its teachers. my child is growing in leaps and bounds with the support of the great staff. i'm so grateful for all the help i get from the staff and parents.\n",
      "\n",
      "\n",
      "-------------------------------------------------------------\n",
      "\n",
      "\n",
      "original star 5.0\n",
      "\n",
      "\n",
      "original pred 5.088924\n",
      "summary pred 5.08199\n",
      "summary2 pred 5.0798078\n",
      "original ft pred (('__label__POSITIVE',), array([0.99884671]))\n",
      "summary ft pred (('__label__POSITIVE',), array([0.96723711]))\n",
      "summary2 ft pred (('__label__POSITIVE',), array([0.99857277]))\n"
     ]
    }
   ],
   "source": [
    "print_and_summarize(df.sample(1).iloc[0])"
   ]
  },
  {
   "cell_type": "code",
   "execution_count": 24,
   "metadata": {},
   "outputs": [
    {
     "name": "stdout",
     "output_type": "stream",
     "text": [
      "ORIGINAL TEXT\n",
      "\n",
      "\n",
      "You expect to exit and instead of Durango you're looking at the ocean off Ala Moana Blvd. That's how authentic this place is. Tasty food served with the spirit of aloha. Mixed plate will give you your best value but everything is always delicious and plentiful.\n",
      "\n",
      "Also. If I am to be stranded on an island with only one thing to eat the rest of my life, let it be their spicy avocado poke. Amazing.\n",
      "\n",
      "\n",
      "-------------------------------------------------------------\n",
      "\n",
      "\n",
      "summarizing...\n",
      "done. took 51.929447174072266 seconds\n",
      "\n",
      "\n",
      "SUMMARY\n",
      "\n",
      "\n",
      "Mixed plate will give you your best value but everything is always delicious and plentiful. You expect to exit and instead of Durango you're looking at the ocean off Ala Moana Blvd. That's how authentic this place is. Tasty food served with the spirit of aloha.\n",
      "\n",
      "\n",
      "-------------------------------------------------------------\n",
      "\n",
      "\n",
      "summarizing 2...\n",
      "done. took 132.92421889305115 seconds\n",
      "\n",
      "\n",
      "SUMMARY 2\n",
      "\n",
      "\n",
      "if i am stranded on an island with only one thing to eat the rest of my life, let it be their spicy avocado poke. amazing. if you're looking for a place to get away from it all, this is the place to go.\n",
      "\n",
      "\n",
      "-------------------------------------------------------------\n",
      "\n",
      "\n",
      "original star 5.0\n",
      "\n",
      "\n",
      "original pred 4.9046216\n",
      "summary pred 4.696514\n",
      "summary2 pred 5.034456\n",
      "original ft pred (('__label__POSITIVE',), array([0.98643261]))\n",
      "summary ft pred (('__label__POSITIVE',), array([0.99853367]))\n",
      "summary2 ft pred (('__label__POSITIVE',), array([0.99560905]))\n"
     ]
    }
   ],
   "source": [
    "print_and_summarize(df.sample(1).iloc[0])"
   ]
  },
  {
   "cell_type": "code",
   "execution_count": 25,
   "metadata": {},
   "outputs": [
    {
     "name": "stdout",
     "output_type": "stream",
     "text": [
      "ORIGINAL TEXT\n",
      "\n",
      "\n",
      "Great experience, I've been looking for an African American dermatologist which has been a little difficult in Charlotte if you want an appointment that's less than 6 months away but I digress. I was able to get an appointment with Dr Chambers pretty quickly, she is a new doctor to the practice but has a lot of experience. \n",
      "She and her team are really nice and attentive. She really listens and asks a lot of questions to understand so she can prescribe the right medicine to fix the issue. I went to another dermatologist before coming to Dr Chambers and was not diagnosed correctly for a discolored spot on my face and Dr Chambers was able to correct diagnose and prescribed me medicine that cleared the spot almost immediately. \n",
      "My appointments are always prompt and quick and the treatment is affordable. I would recommend Dr Chambers to anyone for any dermatology issues.\n",
      "\n",
      "\n",
      "-------------------------------------------------------------\n",
      "\n",
      "\n",
      "summarizing...\n",
      "done. took 53.944732904434204 seconds\n",
      "\n",
      "\n",
      "SUMMARY\n",
      "\n",
      "\n",
      "Dr Chambers is a new doctor to the practice but has a lot of experience. She and her team are really nice and attentive. My appointments are always prompt and quick and the treatment is affordable. I would recommend Dr Chambers to anyone for any dermatology issues. I was not diagnosed correctly for a discolored spot on my face and Dr Chambers was able to correct diagnose and prescribed me medicine that cleared the spot almost immediately.\n",
      "\n",
      "\n",
      "-------------------------------------------------------------\n",
      "\n",
      "\n",
      "summarizing 2...\n",
      "done. took 113.67447400093079 seconds\n",
      "\n",
      "\n",
      "SUMMARY 2\n",
      "\n",
      "\n",
      "dr chambers is a new doctor to the practice but has a lot of experience. she and her team are really nice and attentive. appointments are always prompt and quick and the treatment is affordable.\n",
      "\n",
      "\n",
      "-------------------------------------------------------------\n",
      "\n",
      "\n",
      "original star 5.0\n",
      "\n",
      "\n",
      "original pred 5.064429\n",
      "summary pred 5.0532436\n",
      "summary2 pred 4.9398427\n",
      "original ft pred (('__label__POSITIVE',), array([0.99465734]))\n",
      "summary ft pred (('__label__POSITIVE',), array([0.99957746]))\n",
      "summary2 ft pred (('__label__POSITIVE',), array([0.99994063]))\n"
     ]
    }
   ],
   "source": [
    "print_and_summarize(df.sample(1).iloc[0])"
   ]
  },
  {
   "cell_type": "code",
   "execution_count": 26,
   "metadata": {},
   "outputs": [
    {
     "data": {
      "text/plain": [
       "count    3.370810e+05\n",
       "mean     3.267117e-01\n",
       "std      3.792815e-01\n",
       "min      2.384186e-07\n",
       "25%      7.006383e-02\n",
       "50%      1.599469e-01\n",
       "75%      4.890494e-01\n",
       "max      4.127761e+00\n",
       "Name: abs_err, dtype: float64"
      ]
     },
     "execution_count": 26,
     "metadata": {},
     "output_type": "execute_result"
    }
   ],
   "source": [
    "df['abs_err'].describe()"
   ]
  },
  {
   "cell_type": "code",
   "execution_count": 27,
   "metadata": {},
   "outputs": [
    {
     "data": {
      "text/plain": [
       "(85930, 5)"
      ]
     },
     "execution_count": 27,
     "metadata": {},
     "output_type": "execute_result"
    }
   ],
   "source": [
    "top_losses = df[df['abs_err'] > 0.48]\n",
    "top_losses.shape"
   ]
  },
  {
   "cell_type": "code",
   "execution_count": 28,
   "metadata": {},
   "outputs": [
    {
     "data": {
      "text/plain": [
       "0.2549238906968948"
      ]
     },
     "execution_count": 28,
     "metadata": {},
     "output_type": "execute_result"
    }
   ],
   "source": [
    "len(top_losses) / len(df)"
   ]
  },
  {
   "cell_type": "code",
   "execution_count": 29,
   "metadata": {},
   "outputs": [
    {
     "data": {
      "text/plain": [
       "4.0    32624\n",
       "3.0    16713\n",
       "5.0    14524\n",
       "2.0    11791\n",
       "1.0    10278\n",
       "Name: stars, dtype: int64"
      ]
     },
     "execution_count": 29,
     "metadata": {},
     "output_type": "execute_result"
    }
   ],
   "source": [
    "top_losses['stars'].value_counts().sort_values(ascending=False)"
   ]
  },
  {
   "cell_type": "code",
   "execution_count": 30,
   "metadata": {},
   "outputs": [
    {
     "data": {
      "image/png": "[encoded data removed]",
      "text/plain": [
       "<Figure size 432x288 with 1 Axes>"
      ]
     },
     "metadata": {
      "needs_background": "light"
     },
     "output_type": "display_data"
    }
   ],
   "source": [
    "top_losses['stars'].plot.hist();"
   ]
  },
  {
   "cell_type": "code",
   "execution_count": 31,
   "metadata": {},
   "outputs": [
    {
     "data": {
      "image/png": "[encoded data removed]",
      "text/plain": [
       "<Figure size 432x288 with 1 Axes>"
      ]
     },
     "metadata": {
      "needs_background": "light"
     },
     "output_type": "display_data"
    }
   ],
   "source": [
    "df['stars'].plot.hist();"
   ]
  },
  {
   "cell_type": "code",
   "execution_count": 32,
   "metadata": {},
   "outputs": [
    {
     "data": {
      "text/html": [
       "<div>\n",
       "<style scoped>\n",
       "    .dataframe tbody tr th:only-of-type {\n",
       "        vertical-align: middle;\n",
       "    }\n",
       "\n",
       "    .dataframe tbody tr th {\n",
       "        vertical-align: top;\n",
       "    }\n",
       "\n",
       "    .dataframe thead th {\n",
       "        text-align: right;\n",
       "    }\n",
       "</style>\n",
       "<table border=\"1\" class=\"dataframe\">\n",
       "  <thead>\n",
       "    <tr style=\"text-align: right;\">\n",
       "      <th></th>\n",
       "      <th>idx</th>\n",
       "      <th>text</th>\n",
       "      <th>stars</th>\n",
       "      <th>pred</th>\n",
       "      <th>abs_err</th>\n",
       "    </tr>\n",
       "  </thead>\n",
       "  <tbody>\n",
       "    <tr>\n",
       "      <th>162196</th>\n",
       "      <td>162196</td>\n",
       "      <td>This is my second time (and last time) here. I...</td>\n",
       "      <td>1.0</td>\n",
       "      <td>1.480003</td>\n",
       "      <td>0.480003</td>\n",
       "    </tr>\n",
       "    <tr>\n",
       "      <th>98158</th>\n",
       "      <td>98158</td>\n",
       "      <td>Pho tai gan.  the soup broth was yummy. rmeind...</td>\n",
       "      <td>4.0</td>\n",
       "      <td>3.519995</td>\n",
       "      <td>0.480005</td>\n",
       "    </tr>\n",
       "    <tr>\n",
       "      <th>128396</th>\n",
       "      <td>128396</td>\n",
       "      <td>I defended the Buffet @ Bellagio even when my ...</td>\n",
       "      <td>1.0</td>\n",
       "      <td>1.480011</td>\n",
       "      <td>0.480011</td>\n",
       "    </tr>\n",
       "    <tr>\n",
       "      <th>181881</th>\n",
       "      <td>181881</td>\n",
       "      <td>Located in San Marco Square in the Venetian - ...</td>\n",
       "      <td>4.0</td>\n",
       "      <td>4.480015</td>\n",
       "      <td>0.480015</td>\n",
       "    </tr>\n",
       "    <tr>\n",
       "      <th>319803</th>\n",
       "      <td>319803</td>\n",
       "      <td>I love Javier's.  Great chips, salsa, and guac...</td>\n",
       "      <td>4.0</td>\n",
       "      <td>4.480019</td>\n",
       "      <td>0.480019</td>\n",
       "    </tr>\n",
       "    <tr>\n",
       "      <th>271959</th>\n",
       "      <td>271959</td>\n",
       "      <td>I had an almond mocha custard and it was great...</td>\n",
       "      <td>4.0</td>\n",
       "      <td>4.480022</td>\n",
       "      <td>0.480022</td>\n",
       "    </tr>\n",
       "    <tr>\n",
       "      <th>76984</th>\n",
       "      <td>76984</td>\n",
       "      <td>If I weren't already at Wynn, I wouldn't eat a...</td>\n",
       "      <td>3.0</td>\n",
       "      <td>3.480042</td>\n",
       "      <td>0.480042</td>\n",
       "    </tr>\n",
       "    <tr>\n",
       "      <th>144802</th>\n",
       "      <td>144802</td>\n",
       "      <td>Our visit started a bit rocky but once the roa...</td>\n",
       "      <td>4.0</td>\n",
       "      <td>4.480050</td>\n",
       "      <td>0.480050</td>\n",
       "    </tr>\n",
       "    <tr>\n",
       "      <th>42272</th>\n",
       "      <td>42272</td>\n",
       "      <td>I don't visit bars often but Dodey's is certai...</td>\n",
       "      <td>5.0</td>\n",
       "      <td>4.519950</td>\n",
       "      <td>0.480050</td>\n",
       "    </tr>\n",
       "    <tr>\n",
       "      <th>12162</th>\n",
       "      <td>12162</td>\n",
       "      <td>Fantastic Mexican food, servers are good about...</td>\n",
       "      <td>5.0</td>\n",
       "      <td>4.519940</td>\n",
       "      <td>0.480060</td>\n",
       "    </tr>\n",
       "  </tbody>\n",
       "</table>\n",
       "</div>"
      ],
      "text/plain": [
       "           idx                                               text  stars  \\\n",
       "162196  162196  This is my second time (and last time) here. I...    1.0   \n",
       "98158    98158  Pho tai gan.  the soup broth was yummy. rmeind...    4.0   \n",
       "128396  128396  I defended the Buffet @ Bellagio even when my ...    1.0   \n",
       "181881  181881  Located in San Marco Square in the Venetian - ...    4.0   \n",
       "319803  319803  I love Javier's.  Great chips, salsa, and guac...    4.0   \n",
       "271959  271959  I had an almond mocha custard and it was great...    4.0   \n",
       "76984    76984  If I weren't already at Wynn, I wouldn't eat a...    3.0   \n",
       "144802  144802  Our visit started a bit rocky but once the roa...    4.0   \n",
       "42272    42272  I don't visit bars often but Dodey's is certai...    5.0   \n",
       "12162    12162  Fantastic Mexican food, servers are good about...    5.0   \n",
       "\n",
       "            pred   abs_err  \n",
       "162196  1.480003  0.480003  \n",
       "98158   3.519995  0.480005  \n",
       "128396  1.480011  0.480011  \n",
       "181881  4.480015  0.480015  \n",
       "319803  4.480019  0.480019  \n",
       "271959  4.480022  0.480022  \n",
       "76984   3.480042  0.480042  \n",
       "144802  4.480050  0.480050  \n",
       "42272   4.519950  0.480050  \n",
       "12162   4.519940  0.480060  "
      ]
     },
     "execution_count": 32,
     "metadata": {},
     "output_type": "execute_result"
    }
   ],
   "source": [
    "top_losses.sort_values('abs_err').head(10)"
   ]
  },
  {
   "cell_type": "code",
   "execution_count": 33,
   "metadata": {},
   "outputs": [
    {
     "data": {
      "text/plain": [
       "(18613, 5)"
      ]
     },
     "execution_count": 33,
     "metadata": {},
     "output_type": "execute_result"
    }
   ],
   "source": [
    "top_losses = df[df['abs_err'] > 1]\n",
    "top_losses.shape"
   ]
  },
  {
   "cell_type": "code",
   "execution_count": 34,
   "metadata": {},
   "outputs": [
    {
     "data": {
      "text/plain": [
       "0.05521818197999887"
      ]
     },
     "execution_count": 34,
     "metadata": {},
     "output_type": "execute_result"
    }
   ],
   "source": [
    "len(top_losses) / len(df)"
   ]
  },
  {
   "cell_type": "code",
   "execution_count": 35,
   "metadata": {},
   "outputs": [
    {
     "data": {
      "image/png": "[encoded data removed]",
      "text/plain": [
       "<Figure size 432x288 with 1 Axes>"
      ]
     },
     "metadata": {
      "needs_background": "light"
     },
     "output_type": "display_data"
    }
   ],
   "source": [
    "top_losses['stars'].plot.hist();"
   ]
  },
  {
   "cell_type": "code",
   "execution_count": 36,
   "metadata": {},
   "outputs": [
    {
     "data": {
      "text/html": [
       "<div>\n",
       "<style scoped>\n",
       "    .dataframe tbody tr th:only-of-type {\n",
       "        vertical-align: middle;\n",
       "    }\n",
       "\n",
       "    .dataframe tbody tr th {\n",
       "        vertical-align: top;\n",
       "    }\n",
       "\n",
       "    .dataframe thead th {\n",
       "        text-align: right;\n",
       "    }\n",
       "</style>\n",
       "<table border=\"1\" class=\"dataframe\">\n",
       "  <thead>\n",
       "    <tr style=\"text-align: right;\">\n",
       "      <th></th>\n",
       "      <th>idx</th>\n",
       "      <th>text</th>\n",
       "      <th>stars</th>\n",
       "      <th>pred</th>\n",
       "      <th>abs_err</th>\n",
       "    </tr>\n",
       "  </thead>\n",
       "  <tbody>\n",
       "    <tr>\n",
       "      <th>216256</th>\n",
       "      <td>216256</td>\n",
       "      <td>Pros: Great meat department, underground parki...</td>\n",
       "      <td>1.0</td>\n",
       "      <td>2.000016</td>\n",
       "      <td>1.000016</td>\n",
       "    </tr>\n",
       "    <tr>\n",
       "      <th>109025</th>\n",
       "      <td>109025</td>\n",
       "      <td>Thanks to all the Cats that reviewed this spot...</td>\n",
       "      <td>4.0</td>\n",
       "      <td>5.000041</td>\n",
       "      <td>1.000041</td>\n",
       "    </tr>\n",
       "    <tr>\n",
       "      <th>28498</th>\n",
       "      <td>28498</td>\n",
       "      <td>Hidden spot, chic atmosphere, modern and fun ....</td>\n",
       "      <td>4.0</td>\n",
       "      <td>5.000047</td>\n",
       "      <td>1.000047</td>\n",
       "    </tr>\n",
       "    <tr>\n",
       "      <th>95731</th>\n",
       "      <td>95731</td>\n",
       "      <td>Always have a great time at Fix!  Friendly sta...</td>\n",
       "      <td>4.0</td>\n",
       "      <td>5.000047</td>\n",
       "      <td>1.000047</td>\n",
       "    </tr>\n",
       "    <tr>\n",
       "      <th>32314</th>\n",
       "      <td>32314</td>\n",
       "      <td>I stop at this location often whenever in Phoe...</td>\n",
       "      <td>3.0</td>\n",
       "      <td>1.999944</td>\n",
       "      <td>1.000056</td>\n",
       "    </tr>\n",
       "    <tr>\n",
       "      <th>153994</th>\n",
       "      <td>153994</td>\n",
       "      <td>Not a fan of their fries. Burger was okay. I g...</td>\n",
       "      <td>4.0</td>\n",
       "      <td>2.999937</td>\n",
       "      <td>1.000063</td>\n",
       "    </tr>\n",
       "    <tr>\n",
       "      <th>52939</th>\n",
       "      <td>52939</td>\n",
       "      <td>This place needs two listings!!! The coffee he...</td>\n",
       "      <td>3.0</td>\n",
       "      <td>1.999933</td>\n",
       "      <td>1.000067</td>\n",
       "    </tr>\n",
       "    <tr>\n",
       "      <th>309445</th>\n",
       "      <td>309445</td>\n",
       "      <td>3 Words For You:  BLOODY MARY BAR!\\n\\nSaturday...</td>\n",
       "      <td>4.0</td>\n",
       "      <td>5.000072</td>\n",
       "      <td>1.000072</td>\n",
       "    </tr>\n",
       "    <tr>\n",
       "      <th>266924</th>\n",
       "      <td>266924</td>\n",
       "      <td>This post is for Chris from freevegasclubpasse...</td>\n",
       "      <td>4.0</td>\n",
       "      <td>5.000095</td>\n",
       "      <td>1.000095</td>\n",
       "    </tr>\n",
       "    <tr>\n",
       "      <th>176526</th>\n",
       "      <td>176526</td>\n",
       "      <td>One of the best bar and grill in town! You can...</td>\n",
       "      <td>4.0</td>\n",
       "      <td>5.000104</td>\n",
       "      <td>1.000104</td>\n",
       "    </tr>\n",
       "  </tbody>\n",
       "</table>\n",
       "</div>"
      ],
      "text/plain": [
       "           idx                                               text  stars  \\\n",
       "216256  216256  Pros: Great meat department, underground parki...    1.0   \n",
       "109025  109025  Thanks to all the Cats that reviewed this spot...    4.0   \n",
       "28498    28498  Hidden spot, chic atmosphere, modern and fun ....    4.0   \n",
       "95731    95731  Always have a great time at Fix!  Friendly sta...    4.0   \n",
       "32314    32314  I stop at this location often whenever in Phoe...    3.0   \n",
       "153994  153994  Not a fan of their fries. Burger was okay. I g...    4.0   \n",
       "52939    52939  This place needs two listings!!! The coffee he...    3.0   \n",
       "309445  309445  3 Words For You:  BLOODY MARY BAR!\\n\\nSaturday...    4.0   \n",
       "266924  266924  This post is for Chris from freevegasclubpasse...    4.0   \n",
       "176526  176526  One of the best bar and grill in town! You can...    4.0   \n",
       "\n",
       "            pred   abs_err  \n",
       "216256  2.000016  1.000016  \n",
       "109025  5.000041  1.000041  \n",
       "28498   5.000047  1.000047  \n",
       "95731   5.000047  1.000047  \n",
       "32314   1.999944  1.000056  \n",
       "153994  2.999937  1.000063  \n",
       "52939   1.999933  1.000067  \n",
       "309445  5.000072  1.000072  \n",
       "266924  5.000095  1.000095  \n",
       "176526  5.000104  1.000104  "
      ]
     },
     "execution_count": 36,
     "metadata": {},
     "output_type": "execute_result"
    }
   ],
   "source": [
    "top_losses.sort_values('abs_err').head(10)"
   ]
  },
  {
   "cell_type": "code",
   "execution_count": 37,
   "metadata": {},
   "outputs": [
    {
     "data": {
      "text/plain": [
       "(4934, 5)"
      ]
     },
     "execution_count": 37,
     "metadata": {},
     "output_type": "execute_result"
    }
   ],
   "source": [
    "top_losses = df[df['abs_err'] > 1.5]\n",
    "top_losses.shape"
   ]
  },
  {
   "cell_type": "code",
   "execution_count": 38,
   "metadata": {},
   "outputs": [
    {
     "data": {
      "text/plain": [
       "0.014637431359228197"
      ]
     },
     "execution_count": 38,
     "metadata": {},
     "output_type": "execute_result"
    }
   ],
   "source": [
    "len(top_losses) / len(df)"
   ]
  },
  {
   "cell_type": "code",
   "execution_count": 39,
   "metadata": {},
   "outputs": [
    {
     "data": {
      "image/png": "[encoded data removed]",
      "text/plain": [
       "<Figure size 432x288 with 1 Axes>"
      ]
     },
     "metadata": {
      "needs_background": "light"
     },
     "output_type": "display_data"
    }
   ],
   "source": [
    "top_losses['stars'].plot.hist();"
   ]
  },
  {
   "cell_type": "code",
   "execution_count": 40,
   "metadata": {},
   "outputs": [
    {
     "data": {
      "text/html": [
       "<div>\n",
       "<style scoped>\n",
       "    .dataframe tbody tr th:only-of-type {\n",
       "        vertical-align: middle;\n",
       "    }\n",
       "\n",
       "    .dataframe tbody tr th {\n",
       "        vertical-align: top;\n",
       "    }\n",
       "\n",
       "    .dataframe thead th {\n",
       "        text-align: right;\n",
       "    }\n",
       "</style>\n",
       "<table border=\"1\" class=\"dataframe\">\n",
       "  <thead>\n",
       "    <tr style=\"text-align: right;\">\n",
       "      <th></th>\n",
       "      <th>idx</th>\n",
       "      <th>text</th>\n",
       "      <th>stars</th>\n",
       "      <th>pred</th>\n",
       "      <th>abs_err</th>\n",
       "    </tr>\n",
       "  </thead>\n",
       "  <tbody>\n",
       "    <tr>\n",
       "      <th>312919</th>\n",
       "      <td>312919</td>\n",
       "      <td>Not the best Pho place at all! I definitely wo...</td>\n",
       "      <td>1.0</td>\n",
       "      <td>2.500238</td>\n",
       "      <td>1.500238</td>\n",
       "    </tr>\n",
       "    <tr>\n",
       "      <th>315777</th>\n",
       "      <td>315777</td>\n",
       "      <td>Walked in for breakfast.  Wasn't greeted; coun...</td>\n",
       "      <td>3.0</td>\n",
       "      <td>1.499741</td>\n",
       "      <td>1.500259</td>\n",
       "    </tr>\n",
       "    <tr>\n",
       "      <th>164186</th>\n",
       "      <td>164186</td>\n",
       "      <td>If you want some authentic Chinese food, this ...</td>\n",
       "      <td>3.0</td>\n",
       "      <td>4.500262</td>\n",
       "      <td>1.500262</td>\n",
       "    </tr>\n",
       "    <tr>\n",
       "      <th>236124</th>\n",
       "      <td>236124</td>\n",
       "      <td>Yelp usually helps me find new places to try i...</td>\n",
       "      <td>2.0</td>\n",
       "      <td>3.500432</td>\n",
       "      <td>1.500432</td>\n",
       "    </tr>\n",
       "    <tr>\n",
       "      <th>304180</th>\n",
       "      <td>304180</td>\n",
       "      <td>Great selection of beers on tap.\\n\\nService wa...</td>\n",
       "      <td>1.0</td>\n",
       "      <td>2.500483</td>\n",
       "      <td>1.500483</td>\n",
       "    </tr>\n",
       "    <tr>\n",
       "      <th>248347</th>\n",
       "      <td>248347</td>\n",
       "      <td>I was a little disappointed that the app gives...</td>\n",
       "      <td>4.0</td>\n",
       "      <td>2.499429</td>\n",
       "      <td>1.500571</td>\n",
       "    </tr>\n",
       "    <tr>\n",
       "      <th>287916</th>\n",
       "      <td>287916</td>\n",
       "      <td>I can't wait till they build the new one. This...</td>\n",
       "      <td>1.0</td>\n",
       "      <td>2.500592</td>\n",
       "      <td>1.500592</td>\n",
       "    </tr>\n",
       "    <tr>\n",
       "      <th>91282</th>\n",
       "      <td>91282</td>\n",
       "      <td>Came here for a business dinner with a group. ...</td>\n",
       "      <td>3.0</td>\n",
       "      <td>4.500625</td>\n",
       "      <td>1.500625</td>\n",
       "    </tr>\n",
       "    <tr>\n",
       "      <th>204766</th>\n",
       "      <td>204766</td>\n",
       "      <td>I've been here a few times before, and have ra...</td>\n",
       "      <td>4.0</td>\n",
       "      <td>2.499327</td>\n",
       "      <td>1.500673</td>\n",
       "    </tr>\n",
       "    <tr>\n",
       "      <th>32127</th>\n",
       "      <td>32127</td>\n",
       "      <td>Food is great, however it doesn't matter what ...</td>\n",
       "      <td>1.0</td>\n",
       "      <td>2.500680</td>\n",
       "      <td>1.500680</td>\n",
       "    </tr>\n",
       "  </tbody>\n",
       "</table>\n",
       "</div>"
      ],
      "text/plain": [
       "           idx                                               text  stars  \\\n",
       "312919  312919  Not the best Pho place at all! I definitely wo...    1.0   \n",
       "315777  315777  Walked in for breakfast.  Wasn't greeted; coun...    3.0   \n",
       "164186  164186  If you want some authentic Chinese food, this ...    3.0   \n",
       "236124  236124  Yelp usually helps me find new places to try i...    2.0   \n",
       "304180  304180  Great selection of beers on tap.\\n\\nService wa...    1.0   \n",
       "248347  248347  I was a little disappointed that the app gives...    4.0   \n",
       "287916  287916  I can't wait till they build the new one. This...    1.0   \n",
       "91282    91282  Came here for a business dinner with a group. ...    3.0   \n",
       "204766  204766  I've been here a few times before, and have ra...    4.0   \n",
       "32127    32127  Food is great, however it doesn't matter what ...    1.0   \n",
       "\n",
       "            pred   abs_err  \n",
       "312919  2.500238  1.500238  \n",
       "315777  1.499741  1.500259  \n",
       "164186  4.500262  1.500262  \n",
       "236124  3.500432  1.500432  \n",
       "304180  2.500483  1.500483  \n",
       "248347  2.499429  1.500571  \n",
       "287916  2.500592  1.500592  \n",
       "91282   4.500625  1.500625  \n",
       "204766  2.499327  1.500673  \n",
       "32127   2.500680  1.500680  "
      ]
     },
     "execution_count": 40,
     "metadata": {},
     "output_type": "execute_result"
    }
   ],
   "source": [
    "top_losses.sort_values('abs_err').head(10)"
   ]
  },
  {
   "cell_type": "code",
   "execution_count": 42,
   "metadata": {},
   "outputs": [],
   "source": [
    "top_top_losses = top_losses[top_losses['abs_err'] > 2]"
   ]
  },
  {
   "cell_type": "code",
   "execution_count": 43,
   "metadata": {},
   "outputs": [
    {
     "data": {
      "text/plain": [
       "(1542, 5)"
      ]
     },
     "execution_count": 43,
     "metadata": {},
     "output_type": "execute_result"
    }
   ],
   "source": [
    "top_top_losses.shape"
   ]
  },
  {
   "cell_type": "code",
   "execution_count": 44,
   "metadata": {},
   "outputs": [
    {
     "data": {
      "image/png": "[encoded data removed]",
      "text/plain": [
       "<Figure size 432x288 with 1 Axes>"
      ]
     },
     "metadata": {
      "needs_background": "light"
     },
     "output_type": "display_data"
    }
   ],
   "source": [
    "top_top_losses['stars'].plot.hist();"
   ]
  },
  {
   "cell_type": "code",
   "execution_count": 45,
   "metadata": {},
   "outputs": [
    {
     "name": "stdout",
     "output_type": "stream",
     "text": [
      "ORIGINAL TEXT\n",
      "\n",
      "\n",
      "I bought a new Samsung refrigerator. They delivered it but couldn't hook it up or take the old one because it was hooked up to a water softener. Why on earth didn't they ask that question before delivering it?  I could've had it already to go for them. Am I the only one in the desert with a water softener? The delivery guy even said that previous clients were mad because of this. Like I don't have anything better to do to try to work this out and I'll bet you money it's not a simple phone call. The delivery guys were very nice. I must give a shout out to BARBARA who went above and beyond to help us with our purchase. Super knowledgeable and didn't rush us at all. She gets 5+ STARS!\n",
      "Update: Got someone on the phone right away. No hassle and they came and picked it up.\n",
      "\n",
      "\n",
      "-------------------------------------------------------------\n",
      "\n",
      "\n",
      "summarizing...\n",
      "done. took 125.47715497016907 seconds\n",
      "\n",
      "\n",
      "SUMMARY\n",
      "\n",
      "\n",
      "I bought a new Samsung refrigerator. They delivered it but couldn't hook it up or take the old one because it was hooked up to a water softener. The delivery guy even said that previous clients were mad because of this. Why on earth didn't they ask that question before delivering it? I could've had it already to go for them.\n",
      "\n",
      "\n",
      "-------------------------------------------------------------\n",
      "\n",
      "\n",
      "summarizing 2...\n",
      "done. took 293.1649899482727 seconds\n",
      "\n",
      "\n",
      "SUMMARY 2\n",
      "\n",
      "\n",
      "i bought a new refrigerator but they couldn't hook it up or take the old one because it was hooked up to a water softener. the delivery guys were very nice. i must give a shout out to BARBARA who went above and beyond to help us with our purchase.\n",
      "\n",
      "\n",
      "-------------------------------------------------------------\n",
      "\n",
      "\n",
      "original star 3.0\n",
      "\n",
      "\n",
      "original pred 5.1467447\n",
      "summary pred 1.7395308\n",
      "summary2 pred 5.052451\n",
      "original ft pred (('__label__POSITIVE',), array([0.79636627]))\n",
      "summary ft pred (('__label__NEGATIVE',), array([0.59830207]))\n",
      "summary2 ft pred (('__label__POSITIVE',), array([0.99845606]))\n"
     ]
    }
   ],
   "source": [
    "print_and_summarize(top_top_losses.sample(1).iloc[0])"
   ]
  },
  {
   "cell_type": "code",
   "execution_count": 46,
   "metadata": {},
   "outputs": [
    {
     "name": "stdout",
     "output_type": "stream",
     "text": [
      "ORIGINAL TEXT\n",
      "\n",
      "\n",
      "You can't get any divier that Jack's. This is the low of the low, the dregs of the Burgh, the armpit of the city, the thorn of Carson ST, and the black eye of the South Side. It's so bad you have to love it. Open 365 days a year (yes, they are even open Christmas Day) this is a bar you can get falling down, pee on a cop car drunk for under 10 bucks. Don't EVEN ask for a fancy shmancy drink here, odds are they won't know how to make it. This is your atypical steel city shot and a beer bar, enter at your own risk, you have been warned.\n",
      "\n",
      "\n",
      "-------------------------------------------------------------\n",
      "\n",
      "\n",
      "summarizing...\n",
      "done. took 118.5261869430542 seconds\n",
      "\n",
      "\n",
      "SUMMARY\n",
      "\n",
      "\n",
      "Jack's is open 365 days a year. You can get falling down, pee on a cop car drunk for under 10 bucks. Don't EVEN ask for a fancy shmancy drink here, odds are they won't know how to make it. This is your atypical steel city shot and a beer bar, enter at your own risk.\n",
      "\n",
      "\n",
      "-------------------------------------------------------------\n",
      "\n",
      "\n",
      "summarizing 2...\n",
      "done. took 394.40881609916687 seconds\n",
      "\n",
      "\n",
      "SUMMARY 2\n",
      "\n",
      "\n",
      "you can get falling down, pee on a cop car drunk for under 10 bucks. don't even ask for a fancy shancy drink here, odds are they won't know how to make it. this is your atypical steel city shot and a beer bar, enter at your own risk.\n",
      "\n",
      "\n",
      "-------------------------------------------------------------\n",
      "\n",
      "\n",
      "original star 1.0\n",
      "\n",
      "\n",
      "original pred 3.9927464\n",
      "summary pred 2.274668\n",
      "summary2 pred 1.3258924\n",
      "original ft pred (('__label__POSITIVE',), array([0.51910186]))\n",
      "summary ft pred (('__label__POSITIVE',), array([0.58017677]))\n",
      "summary2 ft pred (('__label__NEGATIVE',), array([0.68474191]))\n"
     ]
    }
   ],
   "source": [
    "print_and_summarize(top_top_losses.sample(1).iloc[0])"
   ]
  },
  {
   "cell_type": "code",
   "execution_count": 47,
   "metadata": {},
   "outputs": [
    {
     "name": "stdout",
     "output_type": "stream",
     "text": [
      "ORIGINAL TEXT\n",
      "\n",
      "\n",
      "Not bad service was good what I order sweet and sour vegetables an beef and sticky rice was good little to pricey but I'll come back.\n",
      "\n",
      "\n",
      "-------------------------------------------------------------\n",
      "\n",
      "\n",
      "summarizing...\n",
      "done. took 128.84621024131775 seconds\n",
      "\n",
      "\n",
      "SUMMARY\n",
      "\n",
      "\n",
      "The food was good but a little to pricey but I'll come back. Not bad service was good what I order sweet and sour vegetables an beef and sticky rice was good little to expensive but I will come back to this restaurant again. The food is good and the service is good, not bad at all.\n",
      "\n",
      "\n",
      "-------------------------------------------------------------\n",
      "\n",
      "\n",
      "summarizing 2...\n",
      "done. took 200.9393081665039 seconds\n",
      "\n",
      "\n",
      "SUMMARY 2\n",
      "\n",
      "\n",
      "not bad service was good what i order sweet and sour vegetables an beef and sticky rice was good little to pricey but i'll come back. a little to expensive but hey, it's a korean restaurant.\n",
      "\n",
      "\n",
      "-------------------------------------------------------------\n",
      "\n",
      "\n",
      "original star 1.0\n",
      "\n",
      "\n",
      "original pred 3.668353\n",
      "summary pred 3.962785\n",
      "summary2 pred 3.6694803\n",
      "original ft pred (('__label__POSITIVE',), array([0.90906346]))\n",
      "summary ft pred (('__label__POSITIVE',), array([0.99365675]))\n",
      "summary2 ft pred (('__label__POSITIVE',), array([0.99686539]))\n"
     ]
    }
   ],
   "source": [
    "print_and_summarize(top_top_losses.sample(1).iloc[0])"
   ]
  },
  {
   "cell_type": "code",
   "execution_count": 48,
   "metadata": {},
   "outputs": [
    {
     "name": "stdout",
     "output_type": "stream",
     "text": [
      "ORIGINAL TEXT\n",
      "\n",
      "\n",
      "Good times.  Great for St. Patty's!!  Get in early to grab yourself a table and start collecting the celebratory plastic cups.\n",
      "\n",
      "\n",
      "-------------------------------------------------------------\n",
      "\n",
      "\n",
      "summarizing...\n",
      "done. took 64.69370198249817 seconds\n",
      "\n",
      "\n",
      "SUMMARY\n",
      "\n",
      "\n",
      "Get in early to grab yourself a table and start collecting the celebratory plastic cups. Good times.  Great for St. Patty's!!  Get in early, grab yourself an early table and begin collecting the Celebratory Plastic Cups. Good Times. Great For St.Patty's!!\n",
      "\n",
      "\n",
      "-------------------------------------------------------------\n",
      "\n",
      "\n",
      "summarizing 2...\n",
      "done. took 161.23333978652954 seconds\n",
      "\n",
      "\n",
      "SUMMARY 2\n",
      "\n",
      "\n",
      "get in early to grab yourself a table and start collecting the celebratory plastic cups. if you're going to eat, make sure you have a plate and a glass of wine.\n",
      "\n",
      "\n",
      "-------------------------------------------------------------\n",
      "\n",
      "\n",
      "original star 2.0\n",
      "\n",
      "\n",
      "original pred 4.315111\n",
      "summary pred 4.3797874\n",
      "summary2 pred 2.4374237\n",
      "original ft pred (('__label__POSITIVE',), array([0.71968865]))\n",
      "summary ft pred (('__label__POSITIVE',), array([0.90485656]))\n",
      "summary2 ft pred (('__label__POSITIVE',), array([0.78852528]))\n"
     ]
    }
   ],
   "source": [
    "print_and_summarize(top_top_losses.sample(1).iloc[0])"
   ]
  },
  {
   "cell_type": "code",
   "execution_count": 49,
   "metadata": {},
   "outputs": [
    {
     "name": "stdout",
     "output_type": "stream",
     "text": [
      "ORIGINAL TEXT\n",
      "\n",
      "\n",
      "I love this place and all the people working, But Abbass makes me feel uncomfortable and he is a bit rude\n",
      "\n",
      "\n",
      "-------------------------------------------------------------\n",
      "\n",
      "\n",
      "summarizing...\n",
      "done. took 86.1896071434021 seconds\n",
      "\n",
      "\n",
      "SUMMARY\n",
      "\n",
      "\n",
      "\"I love this place and all the people working, But Abbass makes me feel uncomfortable and he is a bit rude,\" she says. \"I love the people and the place, but Abbass is rude and he makes me uncomfortable,\" she adds. \"He's a bit of a jerk,\" adds the singer, who has worked with Abbass in the past.\n",
      "\n",
      "\n",
      "-------------------------------------------------------------\n",
      "\n",
      "\n",
      "summarizing 2...\n",
      "done. took 177.99539613723755 seconds\n",
      "\n",
      "\n",
      "SUMMARY 2\n",
      "\n",
      "\n",
      "I love this place and all the people working, but abbass makes me feel uncomfortable and he is a bit rude. i would not recommend this place to anyone. the staff are very friendly and the food is good.\n",
      "\n",
      "\n",
      "-------------------------------------------------------------\n",
      "\n",
      "\n",
      "original star 1.0\n",
      "\n",
      "\n",
      "original pred 3.390498\n",
      "summary pred 2.8887484\n",
      "summary2 pred 2.7683115\n",
      "original ft pred (('__label__POSITIVE',), array([0.98252386]))\n",
      "summary ft pred (('__label__POSITIVE',), array([0.59209222]))\n",
      "summary2 ft pred (('__label__POSITIVE',), array([0.88310325]))\n"
     ]
    }
   ],
   "source": [
    "print_and_summarize(top_top_losses.sample(1).iloc[0])"
   ]
  },
  {
   "cell_type": "code",
   "execution_count": 50,
   "metadata": {},
   "outputs": [
    {
     "name": "stdout",
     "output_type": "stream",
     "text": [
      "ORIGINAL TEXT\n",
      "\n",
      "\n",
      "Joshua left without installing the drain pipe to the washer and water got everywhere in our laundry room on our first run. Thank god we were home and caught it early, otherwise, we would've been screwed. He came back to finish the job, but I don't know how you miss something so significant.\n",
      "\n",
      "\n",
      "-------------------------------------------------------------\n",
      "\n",
      "\n",
      "summarizing...\n",
      "done. took 59.45236778259277 seconds\n",
      "\n",
      "\n",
      "SUMMARY\n",
      "\n",
      "\n",
      "Joshua left without installing the drain pipe to the washer and water got everywhere in our laundry room on our first run. Thank god we were home and caught it early, otherwise, we would've been screwed. He came back to finish the job, but I don't know how you miss something so significant.\n",
      "\n",
      "\n",
      "-------------------------------------------------------------\n",
      "\n",
      "\n",
      "summarizing 2...\n",
      "done. took 157.19093704223633 seconds\n",
      "\n",
      "\n",
      "SUMMARY 2\n",
      "\n",
      "\n",
      "Joshua left without installing the drain pipe to the washer. he came back to finish the job, but i don't know how you miss something so significant. it's a good thing he was able to fix it himself.\n",
      "\n",
      "\n",
      "-------------------------------------------------------------\n",
      "\n",
      "\n",
      "original star 1.0\n",
      "\n",
      "\n",
      "original pred 3.7027817\n",
      "summary pred 3.7027817\n",
      "summary2 pred 4.619165\n",
      "original ft pred (('__label__NEGATIVE',), array([0.62780136]))\n",
      "summary ft pred (('__label__NEGATIVE',), array([0.62780136]))\n",
      "summary2 ft pred (('__label__POSITIVE',), array([0.93538362]))\n"
     ]
    }
   ],
   "source": [
    "print_and_summarize(top_top_losses.sample(1).iloc[0])"
   ]
  },
  {
   "cell_type": "code",
   "execution_count": 53,
   "metadata": {},
   "outputs": [
    {
     "data": {
      "text/html": [
       "<div>\n",
       "<style scoped>\n",
       "    .dataframe tbody tr th:only-of-type {\n",
       "        vertical-align: middle;\n",
       "    }\n",
       "\n",
       "    .dataframe tbody tr th {\n",
       "        vertical-align: top;\n",
       "    }\n",
       "\n",
       "    .dataframe thead th {\n",
       "        text-align: right;\n",
       "    }\n",
       "</style>\n",
       "<table border=\"1\" class=\"dataframe\">\n",
       "  <thead>\n",
       "    <tr style=\"text-align: right;\">\n",
       "      <th></th>\n",
       "      <th>idx</th>\n",
       "      <th>text</th>\n",
       "      <th>stars</th>\n",
       "      <th>pred</th>\n",
       "      <th>abs_err</th>\n",
       "    </tr>\n",
       "  </thead>\n",
       "  <tbody>\n",
       "    <tr>\n",
       "      <th>315898</th>\n",
       "      <td>315898</td>\n",
       "      <td>Closed down. The all stars at this salon start...</td>\n",
       "      <td>1.0</td>\n",
       "      <td>5.127761</td>\n",
       "      <td>4.127761</td>\n",
       "    </tr>\n",
       "    <tr>\n",
       "      <th>303112</th>\n",
       "      <td>303112</td>\n",
       "      <td>Mike was awesome! Came out and fixed my leaky ...</td>\n",
       "      <td>1.0</td>\n",
       "      <td>5.113144</td>\n",
       "      <td>4.113144</td>\n",
       "    </tr>\n",
       "    <tr>\n",
       "      <th>63140</th>\n",
       "      <td>63140</td>\n",
       "      <td>Best place in town to grab what you need in a ...</td>\n",
       "      <td>1.0</td>\n",
       "      <td>5.111990</td>\n",
       "      <td>4.111990</td>\n",
       "    </tr>\n",
       "    <tr>\n",
       "      <th>101050</th>\n",
       "      <td>101050</td>\n",
       "      <td>Great start for my 1st week! Cant wait to star...</td>\n",
       "      <td>1.0</td>\n",
       "      <td>5.103042</td>\n",
       "      <td>4.103042</td>\n",
       "    </tr>\n",
       "    <tr>\n",
       "      <th>289503</th>\n",
       "      <td>289503</td>\n",
       "      <td>I recently went to a retail store in Hillcrest...</td>\n",
       "      <td>1.0</td>\n",
       "      <td>5.093112</td>\n",
       "      <td>4.093112</td>\n",
       "    </tr>\n",
       "  </tbody>\n",
       "</table>\n",
       "</div>"
      ],
      "text/plain": [
       "           idx                                               text  stars  \\\n",
       "315898  315898  Closed down. The all stars at this salon start...    1.0   \n",
       "303112  303112  Mike was awesome! Came out and fixed my leaky ...    1.0   \n",
       "63140    63140  Best place in town to grab what you need in a ...    1.0   \n",
       "101050  101050  Great start for my 1st week! Cant wait to star...    1.0   \n",
       "289503  289503  I recently went to a retail store in Hillcrest...    1.0   \n",
       "\n",
       "            pred   abs_err  \n",
       "315898  5.127761  4.127761  \n",
       "303112  5.113144  4.113144  \n",
       "63140   5.111990  4.111990  \n",
       "101050  5.103042  4.103042  \n",
       "289503  5.093112  4.093112  "
      ]
     },
     "execution_count": 53,
     "metadata": {},
     "output_type": "execute_result"
    }
   ],
   "source": [
    "top_top_losses.sort_values(\"abs_err\", ascending=False).head()"
   ]
  },
  {
   "cell_type": "code",
   "execution_count": null,
   "metadata": {},
   "outputs": [],
   "source": []
  }
 ],
 "metadata": {
  "kernelspec": {
   "display_name": "Python 3",
   "language": "python",
   "name": "python3"
  },
  "language_info": {
   "codemirror_mode": {
    "name": "ipython",
    "version": 3
   },
   "file_extension": ".py",
   "mimetype": "text/x-python",
   "name": "python",
   "nbconvert_exporter": "python",
   "pygments_lexer": "ipython3",
   "version": "3.7.6"
  }
 },
 "nbformat": 4,
 "nbformat_minor": 4
}
