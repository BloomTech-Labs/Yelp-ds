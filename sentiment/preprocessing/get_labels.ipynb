{
 "cells": [
  {
   "cell_type": "code",
   "execution_count": 3,
   "metadata": {},
   "outputs": [],
   "source": [
    "import pandas as pd\n",
    "import time\n",
    "from IPython.display import clear_output"
   ]
  },
  {
   "cell_type": "code",
   "execution_count": 2,
   "metadata": {},
   "outputs": [],
   "source": [
    "files = ['train_bal', 'train_same_size_as_bal', 'test_small']"
   ]
  },
  {
   "cell_type": "code",
   "execution_count": 4,
   "metadata": {},
   "outputs": [],
   "source": [
    "def convert_label_pos_neg_neu(star_rating):\n",
    "    return \"POSITIVE\" if star_rating >= 4 else \"NEUTRAL\" if star_rating == 3 else \"NEGATIVE\"\n",
    "\n",
    "def convert_label_pos_neg_1(star_rating):\n",
    "    return \"POSITIVE\" if star_rating >= 4 else \"NEGATIVE\"\n",
    "\n",
    "def convert_label_pos_neg_2(star_rating):\n",
    "    return \"POSITIVE\" if star_rating >= 3 else \"NEGATIVE\"\n",
    "\n",
    "def get_labels(filename):\n",
    "    start = time.time()\n",
    "    path = f\"s3://yelp-dataset-pt-9/spencer/data/sentiment/en/{filename}.csv\"\n",
    "    df = pd.read_csv(path)\n",
    "    print(f'{filename} has {len(df):,} rows')\n",
    "    \n",
    "    df['pos_neg_neu'] = df['stars'].apply(convert_label_pos_neg_neu)\n",
    "    df['pos_neg_3_is_pos'] = df['stars'].apply(convert_label_pos_neg_2)\n",
    "    df['pos_neg_3_is_neg'] = df['stars'].apply(convert_label_pos_neg_1)\n",
    "    \n",
    "    df.to_csv(path, index=False)\n",
    "    \n",
    "    print(f'Took {time.time() - start:.2f} seconds')\n",
    "    "
   ]
  },
  {
   "cell_type": "code",
   "execution_count": 5,
   "metadata": {},
   "outputs": [
    {
     "name": "stdout",
     "output_type": "stream",
     "text": [
      "test_small has 200,000 rows\n",
      "Took 54.14 seconds\n"
     ]
    }
   ],
   "source": [
    "for filename in files:\n",
    "    get_labels(filename)\n",
    "    clear_output(wait=True)"
   ]
  },
  {
   "cell_type": "code",
   "execution_count": 6,
   "metadata": {},
   "outputs": [],
   "source": [
    "filename = files[0]\n",
    "path = f\"s3://yelp-dataset-pt-9/spencer/data/sentiment/en/{filename}.csv\""
   ]
  },
  {
   "cell_type": "code",
   "execution_count": 7,
   "metadata": {},
   "outputs": [],
   "source": [
    "df = pd.read_csv(path)"
   ]
  },
  {
   "cell_type": "code",
   "execution_count": 8,
   "metadata": {},
   "outputs": [
    {
     "data": {
      "text/html": [
       "<div>\n",
       "<style scoped>\n",
       "    .dataframe tbody tr th:only-of-type {\n",
       "        vertical-align: middle;\n",
       "    }\n",
       "\n",
       "    .dataframe tbody tr th {\n",
       "        vertical-align: top;\n",
       "    }\n",
       "\n",
       "    .dataframe thead th {\n",
       "        text-align: right;\n",
       "    }\n",
       "</style>\n",
       "<table border=\"1\" class=\"dataframe\">\n",
       "  <thead>\n",
       "    <tr style=\"text-align: right;\">\n",
       "      <th></th>\n",
       "      <th>text</th>\n",
       "      <th>stars</th>\n",
       "      <th>pos_neg_neu</th>\n",
       "      <th>pos_neg_3_is_pos</th>\n",
       "      <th>pos_neg_3_is_neg</th>\n",
       "    </tr>\n",
       "  </thead>\n",
       "  <tbody>\n",
       "    <tr>\n",
       "      <th>0</th>\n",
       "      <td>I wast here to attend the Tuesday Blend event....</td>\n",
       "      <td>2.0</td>\n",
       "      <td>NEGATIVE</td>\n",
       "      <td>NEGATIVE</td>\n",
       "      <td>NEGATIVE</td>\n",
       "    </tr>\n",
       "    <tr>\n",
       "      <th>1</th>\n",
       "      <td>If I could give a zero I would. Have not staye...</td>\n",
       "      <td>1.0</td>\n",
       "      <td>NEGATIVE</td>\n",
       "      <td>NEGATIVE</td>\n",
       "      <td>NEGATIVE</td>\n",
       "    </tr>\n",
       "    <tr>\n",
       "      <th>2</th>\n",
       "      <td>I really want to like this place.\\n\\nI have go...</td>\n",
       "      <td>2.0</td>\n",
       "      <td>NEGATIVE</td>\n",
       "      <td>NEGATIVE</td>\n",
       "      <td>NEGATIVE</td>\n",
       "    </tr>\n",
       "    <tr>\n",
       "      <th>3</th>\n",
       "      <td>I came here once to see a world cup game on th...</td>\n",
       "      <td>3.0</td>\n",
       "      <td>NEUTRAL</td>\n",
       "      <td>POSITIVE</td>\n",
       "      <td>NEGATIVE</td>\n",
       "    </tr>\n",
       "    <tr>\n",
       "      <th>4</th>\n",
       "      <td>Horrible service. Did not even try it. I went ...</td>\n",
       "      <td>1.0</td>\n",
       "      <td>NEGATIVE</td>\n",
       "      <td>NEGATIVE</td>\n",
       "      <td>NEGATIVE</td>\n",
       "    </tr>\n",
       "  </tbody>\n",
       "</table>\n",
       "</div>"
      ],
      "text/plain": [
       "                                                text  stars pos_neg_neu  \\\n",
       "0  I wast here to attend the Tuesday Blend event....    2.0    NEGATIVE   \n",
       "1  If I could give a zero I would. Have not staye...    1.0    NEGATIVE   \n",
       "2  I really want to like this place.\\n\\nI have go...    2.0    NEGATIVE   \n",
       "3  I came here once to see a world cup game on th...    3.0     NEUTRAL   \n",
       "4  Horrible service. Did not even try it. I went ...    1.0    NEGATIVE   \n",
       "\n",
       "  pos_neg_3_is_pos pos_neg_3_is_neg  \n",
       "0         NEGATIVE         NEGATIVE  \n",
       "1         NEGATIVE         NEGATIVE  \n",
       "2         NEGATIVE         NEGATIVE  \n",
       "3         POSITIVE         NEGATIVE  \n",
       "4         NEGATIVE         NEGATIVE  "
      ]
     },
     "execution_count": 8,
     "metadata": {},
     "output_type": "execute_result"
    }
   ],
   "source": [
    "df.head()"
   ]
  },
  {
   "cell_type": "code",
   "execution_count": null,
   "metadata": {},
   "outputs": [],
   "source": []
  }
 ],
 "metadata": {
  "kernelspec": {
   "display_name": "Python 3",
   "language": "python",
   "name": "python3"
  },
  "language_info": {
   "codemirror_mode": {
    "name": "ipython",
    "version": 3
   },
   "file_extension": ".py",
   "mimetype": "text/x-python",
   "name": "python",
   "nbconvert_exporter": "python",
   "pygments_lexer": "ipython3",
   "version": "3.7.6"
  }
 },
 "nbformat": 4,
 "nbformat_minor": 4
}
