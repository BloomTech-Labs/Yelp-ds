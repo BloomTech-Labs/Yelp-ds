{
 "cells": [
  {
   "cell_type": "code",
   "execution_count": 1,
   "metadata": {},
   "outputs": [],
   "source": [
    "import pandas as pd"
   ]
  },
  {
   "cell_type": "code",
   "execution_count": 2,
   "metadata": {},
   "outputs": [],
   "source": [
    "train_bal = pd.read_csv(\"s3://yelp-dataset-pt-9/spencer/data/sentiment/en/train_bal.csv\")\n",
    "train_non_bal = pd.read_csv(\"s3://yelp-dataset-pt-9/spencer/data/sentiment/en/train_same_size_as_bal.csv\")\n",
    "\n",
    "test = pd.read_csv(\"s3://yelp-dataset-pt-9/spencer/data/sentiment/en/test_small.csv\")"
   ]
  },
  {
   "cell_type": "code",
   "execution_count": 3,
   "metadata": {},
   "outputs": [
    {
     "data": {
      "text/plain": [
       "((318045, 2), (318045, 2), (200000, 2))"
      ]
     },
     "execution_count": 3,
     "metadata": {},
     "output_type": "execute_result"
    }
   ],
   "source": [
    "train_bal.shape, train_non_bal.shape, test.shape"
   ]
  },
  {
   "cell_type": "code",
   "execution_count": 4,
   "metadata": {},
   "outputs": [
    {
     "name": "stdout",
     "output_type": "stream",
     "text": [
      "[nltk_data] Downloading package punkt to /home/ec2-user/nltk_data...\n",
      "[nltk_data]   Package punkt is already up-to-date!\n"
     ]
    },
    {
     "data": {
      "text/plain": [
       "True"
      ]
     },
     "execution_count": 4,
     "metadata": {},
     "output_type": "execute_result"
    }
   ],
   "source": [
    "import nltk\n",
    "nltk.download('punkt')"
   ]
  },
  {
   "cell_type": "code",
   "execution_count": 5,
   "metadata": {},
   "outputs": [],
   "source": [
    "def tokenize(row):\n",
    "    star = row['stars']\n",
    "    text = row['text']\n",
    "    return f\"__label__{str(int(star))} {' '.join(nltk.word_tokenize(text.lower()))}\".split(\" \")"
   ]
  },
  {
   "cell_type": "code",
   "execution_count": 6,
   "metadata": {},
   "outputs": [],
   "source": [
    "tokens = train_bal.sample(5, random_state=42).apply(tokenize, axis=1).to_list()"
   ]
  },
  {
   "cell_type": "code",
   "execution_count": 7,
   "metadata": {
    "collapsed": true,
    "jupyter": {
     "outputs_hidden": true
    }
   },
   "outputs": [
    {
     "data": {
      "text/plain": [
       "['__label__1',\n",
       " 'huffman',\n",
       " \"'s\",\n",
       " 'has',\n",
       " 'a',\n",
       " 'great',\n",
       " 'atmosphere',\n",
       " 'and',\n",
       " 'a',\n",
       " 'great',\n",
       " 'staff',\n",
       " '.',\n",
       " 'i',\n",
       " 'was',\n",
       " 'also',\n",
       " 'really',\n",
       " 'impressed',\n",
       " 'with',\n",
       " 'the',\n",
       " 'wonderful',\n",
       " 'milkshake',\n",
       " 'bar',\n",
       " 'right',\n",
       " 'in',\n",
       " 'the',\n",
       " 'middle',\n",
       " 'of',\n",
       " 'the',\n",
       " 'restaurant',\n",
       " '.',\n",
       " 'they',\n",
       " 'even',\n",
       " 'have',\n",
       " 'a',\n",
       " 'game',\n",
       " 'room',\n",
       " '.',\n",
       " 'that',\n",
       " 'gave',\n",
       " 'me',\n",
       " 'a',\n",
       " 'blast',\n",
       " 'from',\n",
       " 'the',\n",
       " 'past',\n",
       " '.',\n",
       " 'but',\n",
       " '...',\n",
       " '...',\n",
       " '...',\n",
       " '..',\n",
       " 'we',\n",
       " 'probably',\n",
       " 'should',\n",
       " 'have',\n",
       " 'paid',\n",
       " 'attention',\n",
       " 'to',\n",
       " 'the',\n",
       " 'number',\n",
       " 'of',\n",
       " 'people',\n",
       " 'in',\n",
       " 'the',\n",
       " 'restaurant',\n",
       " 'when',\n",
       " 'we',\n",
       " 'arrived',\n",
       " '.',\n",
       " 'there',\n",
       " 'was',\n",
       " 'absolutely',\n",
       " 'no',\n",
       " 'one',\n",
       " 'there',\n",
       " '.',\n",
       " 'and',\n",
       " 'after',\n",
       " 'our',\n",
       " 'meals',\n",
       " 'were',\n",
       " 'given',\n",
       " 'to',\n",
       " 'us',\n",
       " ',',\n",
       " 'we',\n",
       " 'understood',\n",
       " 'why',\n",
       " '.',\n",
       " 'the',\n",
       " 'portions',\n",
       " 'were',\n",
       " 'great',\n",
       " '.',\n",
       " 'you',\n",
       " 'definitely',\n",
       " 'would',\n",
       " \"'ve\",\n",
       " 'left',\n",
       " 'the',\n",
       " 'place',\n",
       " 'full',\n",
       " 'but',\n",
       " 'we',\n",
       " 'did',\n",
       " \"n't\",\n",
       " 'even',\n",
       " 'finish',\n",
       " 'our',\n",
       " 'food',\n",
       " '.',\n",
       " 'let',\n",
       " \"'s\",\n",
       " 'start',\n",
       " 'with',\n",
       " 'the',\n",
       " 'side',\n",
       " 'items',\n",
       " '.',\n",
       " 'between',\n",
       " 'the',\n",
       " 'two',\n",
       " 'of',\n",
       " 'us',\n",
       " 'we',\n",
       " 'tried',\n",
       " '4',\n",
       " 'different',\n",
       " 'sides',\n",
       " 'so',\n",
       " 'we',\n",
       " 'could',\n",
       " 'sample',\n",
       " 'each',\n",
       " 'other',\n",
       " \"'s\",\n",
       " '.',\n",
       " 'all',\n",
       " 'four',\n",
       " 'side',\n",
       " 'items',\n",
       " 'were',\n",
       " 'just',\n",
       " 'not',\n",
       " 'good',\n",
       " '.',\n",
       " 'baked',\n",
       " 'beans',\n",
       " ',',\n",
       " 'cole',\n",
       " 'slaw',\n",
       " ',',\n",
       " 'mashed',\n",
       " 'potatoes',\n",
       " 'and',\n",
       " 'mac',\n",
       " 'and',\n",
       " 'cheese',\n",
       " '.',\n",
       " 'you',\n",
       " 'would',\n",
       " 'think',\n",
       " 'one',\n",
       " 'would',\n",
       " \"'ve\",\n",
       " 'been',\n",
       " 'acceptable',\n",
       " '.',\n",
       " 'well',\n",
       " ',',\n",
       " '4',\n",
       " 'strikes',\n",
       " '.',\n",
       " 'can',\n",
       " 'you',\n",
       " 'even',\n",
       " 'get',\n",
       " '4',\n",
       " 'strikes',\n",
       " '?',\n",
       " 'yep',\n",
       " '!',\n",
       " 'i',\n",
       " 'remember',\n",
       " 'driving',\n",
       " 'past',\n",
       " 'the',\n",
       " 'sign',\n",
       " 'seeing',\n",
       " 'home',\n",
       " 'made',\n",
       " 'chicken',\n",
       " '.',\n",
       " 'after',\n",
       " 'weeks',\n",
       " 'of',\n",
       " 'that',\n",
       " 'and',\n",
       " 'finally',\n",
       " 'deciding',\n",
       " 'to',\n",
       " 'go',\n",
       " ',',\n",
       " 'it',\n",
       " 'had',\n",
       " 'to',\n",
       " 'be',\n",
       " 'one',\n",
       " 'of',\n",
       " 'my',\n",
       " 'biggest',\n",
       " 'disappointments',\n",
       " 'of',\n",
       " 'my',\n",
       " 'month',\n",
       " '.',\n",
       " 'if',\n",
       " 'your',\n",
       " 'saying',\n",
       " 'you',\n",
       " \"'re\",\n",
       " 'a',\n",
       " 'chicken',\n",
       " 'restaurant',\n",
       " ',',\n",
       " 'people',\n",
       " 'set',\n",
       " 'higher',\n",
       " 'expectations',\n",
       " '.',\n",
       " 'the',\n",
       " 'chicken',\n",
       " 'was',\n",
       " 'just',\n",
       " 'not',\n",
       " 'good',\n",
       " '.',\n",
       " 'they',\n",
       " 'made',\n",
       " 'me',\n",
       " 'appreciate',\n",
       " 'kfc',\n",
       " '.']"
      ]
     },
     "execution_count": 7,
     "metadata": {},
     "output_type": "execute_result"
    }
   ],
   "source": [
    "tokens[1]"
   ]
  },
  {
   "cell_type": "code",
   "execution_count": 8,
   "metadata": {},
   "outputs": [
    {
     "name": "stdout",
     "output_type": "stream",
     "text": [
      "INFO: Pandarallel will run on 4 workers.\n",
      "INFO: Pandarallel will use Memory file system to transfer data between the main process and workers.\n"
     ]
    }
   ],
   "source": [
    "from pandarallel import pandarallel\n",
    "pandarallel.initialize(progress_bar=True)"
   ]
  },
  {
   "cell_type": "code",
   "execution_count": 12,
   "metadata": {},
   "outputs": [],
   "source": [
    "import csv\n",
    "def save_csv(output_file, tokens):\n",
    "    with open(output_file, 'w') as csvoutfile:\n",
    "        csv_writer = csv.writer(csvoutfile, delimiter=' ', lineterminator='\\n')\n",
    "        csv_writer.writerows(tokens)"
   ]
  },
  {
   "cell_type": "code",
   "execution_count": 9,
   "metadata": {},
   "outputs": [
    {
     "data": {
      "application/vnd.jupyter.widget-view+json": {
       "model_id": "cc6b8fc5bdaa4e819a05d03f33a13c91",
       "version_major": 2,
       "version_minor": 0
      },
      "text/plain": [
       "VBox(children=(HBox(children=(IntProgress(value=0, description='0.00%', max=79512), Label(value='0 / 79512')))…"
      ]
     },
     "metadata": {},
     "output_type": "display_data"
    }
   ],
   "source": [
    "tokens_bal = train_bal.parallel_apply(tokenize, axis=1)"
   ]
  },
  {
   "cell_type": "code",
   "execution_count": 16,
   "metadata": {},
   "outputs": [],
   "source": [
    "import time"
   ]
  },
  {
   "cell_type": "code",
   "execution_count": 17,
   "metadata": {},
   "outputs": [],
   "source": [
    "start = time.time()\n",
    "save_csv(\"tokens_bal.csv\", tokens_bal.to_list())\n",
    "time.time() - start\n",
    "\n",
    "tokens_bal = None"
   ]
  },
  {
   "cell_type": "code",
   "execution_count": 10,
   "metadata": {
    "collapsed": true,
    "jupyter": {
     "outputs_hidden": true
    }
   },
   "outputs": [
    {
     "data": {
      "application/vnd.jupyter.widget-view+json": {
       "model_id": "152d0ee4c790475a9ac0db6c9d2b9089",
       "version_major": 2,
       "version_minor": 0
      },
      "text/plain": [
       "VBox(children=(HBox(children=(IntProgress(value=0, description='0.00%', max=79512), Label(value='0 / 79512')))…"
      ]
     },
     "metadata": {},
     "output_type": "display_data"
    },
    {
     "name": "stderr",
     "output_type": "stream",
     "text": [
      "Process ForkPoolWorker-8:\n",
      "Traceback (most recent call last):\n",
      "Process ForkPoolWorker-10:\n",
      "  File \"/home/ec2-user/anaconda3/envs/python3/lib/python3.6/multiprocessing/process.py\", line 258, in _bootstrap\n",
      "    self.run()\n",
      "  File \"/home/ec2-user/anaconda3/envs/python3/lib/python3.6/multiprocessing/process.py\", line 93, in run\n",
      "    self._target(*self._args, **self._kwargs)\n",
      "  File \"/home/ec2-user/anaconda3/envs/python3/lib/python3.6/multiprocessing/pool.py\", line 119, in worker\n",
      "    result = (True, func(*args, **kwds))\n",
      "Traceback (most recent call last):\n",
      "  File \"/home/ec2-user/anaconda3/envs/python3/lib/python3.6/multiprocessing/pool.py\", line 44, in mapstar\n",
      "    return list(map(*args))\n",
      "  File \"/home/ec2-user/anaconda3/envs/python3/lib/python3.6/multiprocessing/process.py\", line 258, in _bootstrap\n",
      "    self.run()\n",
      "  File \"/home/ec2-user/anaconda3/envs/python3/lib/python3.6/site-packages/pandarallel/pandarallel.py\", line 59, in global_worker\n",
      "    return _func(x)\n",
      "  File \"/home/ec2-user/anaconda3/envs/python3/lib/python3.6/multiprocessing/process.py\", line 93, in run\n",
      "    self._target(*self._args, **self._kwargs)\n",
      "  File \"/home/ec2-user/anaconda3/envs/python3/lib/python3.6/site-packages/pandarallel/pandarallel.py\", line 111, in wrapper\n",
      "    **kwargs\n",
      "  File \"/home/ec2-user/anaconda3/envs/python3/lib/python3.6/multiprocessing/pool.py\", line 119, in worker\n",
      "    result = (True, func(*args, **kwds))\n",
      "Process ForkPoolWorker-7:\n",
      "  File \"/home/ec2-user/anaconda3/envs/python3/lib/python3.6/site-packages/pandarallel/data_types/dataframe.py\", line 31, in worker\n",
      "    return df.apply(func, *args, **kwargs)\n",
      "  File \"/home/ec2-user/anaconda3/envs/python3/lib/python3.6/multiprocessing/pool.py\", line 44, in mapstar\n",
      "    return list(map(*args))\n",
      "  File \"/home/ec2-user/anaconda3/envs/python3/lib/python3.6/site-packages/pandas/core/frame.py\", line 6878, in apply\n",
      "    return op.get_result()\n",
      "  File \"/home/ec2-user/anaconda3/envs/python3/lib/python3.6/site-packages/pandas/core/apply.py\", line 186, in get_result\n",
      "    return self.apply_standard()\n",
      "  File \"/home/ec2-user/anaconda3/envs/python3/lib/python3.6/site-packages/pandas/core/apply.py\", line 296, in apply_standard\n",
      "    values, self.f, axis=self.axis, dummy=dummy, labels=labels\n",
      "  File \"pandas/_libs/reduction.pyx\", line 620, in pandas._libs.reduction.compute_reduction\n",
      "Process ForkPoolWorker-9:\n",
      "Traceback (most recent call last):\n",
      "  File \"/home/ec2-user/anaconda3/envs/python3/lib/python3.6/site-packages/pandarallel/pandarallel.py\", line 59, in global_worker\n",
      "    return _func(x)\n",
      "Traceback (most recent call last):\n",
      "  File \"/home/ec2-user/anaconda3/envs/python3/lib/python3.6/site-packages/pandarallel/pandarallel.py\", line 111, in wrapper\n",
      "    **kwargs\n",
      "  File \"/home/ec2-user/anaconda3/envs/python3/lib/python3.6/multiprocessing/process.py\", line 258, in _bootstrap\n",
      "    self.run()\n",
      "  File \"/home/ec2-user/anaconda3/envs/python3/lib/python3.6/multiprocessing/process.py\", line 258, in _bootstrap\n",
      "    self.run()\n",
      "  File \"pandas/_libs/reduction.pyx\", line 128, in pandas._libs.reduction.Reducer.get_result\n",
      "  File \"/home/ec2-user/anaconda3/envs/python3/lib/python3.6/multiprocessing/process.py\", line 93, in run\n",
      "    self._target(*self._args, **self._kwargs)\n",
      "  File \"/home/ec2-user/anaconda3/envs/python3/lib/python3.6/multiprocessing/process.py\", line 93, in run\n",
      "    self._target(*self._args, **self._kwargs)\n",
      "  File \"/home/ec2-user/anaconda3/envs/python3/lib/python3.6/multiprocessing/pool.py\", line 119, in worker\n",
      "    result = (True, func(*args, **kwds))\n",
      "  File \"/home/ec2-user/anaconda3/envs/python3/lib/python3.6/multiprocessing/pool.py\", line 119, in worker\n",
      "    result = (True, func(*args, **kwds))\n",
      "  File \"/home/ec2-user/anaconda3/envs/python3/lib/python3.6/multiprocessing/pool.py\", line 44, in mapstar\n",
      "    return list(map(*args))\n",
      "  File \"<ipython-input-5-3ecd03ce79bb>\", line 4, in tokenize\n",
      "    return f\"__label__{str(int(star))} {' '.join(nltk.word_tokenize(text.lower()))}\".split(\" \")\n",
      "  File \"/home/ec2-user/anaconda3/envs/python3/lib/python3.6/site-packages/pandarallel/data_types/dataframe.py\", line 31, in worker\n",
      "    return df.apply(func, *args, **kwargs)\n",
      "  File \"/home/ec2-user/anaconda3/envs/python3/lib/python3.6/multiprocessing/pool.py\", line 44, in mapstar\n",
      "    return list(map(*args))\n",
      "  File \"/home/ec2-user/anaconda3/envs/python3/lib/python3.6/site-packages/nltk/tokenize/__init__.py\", line 129, in word_tokenize\n",
      "    return [token for sent in sentences\n",
      "  File \"/home/ec2-user/anaconda3/envs/python3/lib/python3.6/site-packages/pandas/core/frame.py\", line 6878, in apply\n",
      "    return op.get_result()\n",
      "  File \"/home/ec2-user/anaconda3/envs/python3/lib/python3.6/site-packages/pandarallel/pandarallel.py\", line 59, in global_worker\n",
      "    return _func(x)\n",
      "  File \"/home/ec2-user/anaconda3/envs/python3/lib/python3.6/site-packages/pandarallel/pandarallel.py\", line 59, in global_worker\n",
      "    return _func(x)\n",
      "  File \"/home/ec2-user/anaconda3/envs/python3/lib/python3.6/site-packages/nltk/tokenize/__init__.py\", line 130, in <listcomp>\n",
      "    for token in _treebank_word_tokenizer.tokenize(sent)]\n",
      "  File \"/home/ec2-user/anaconda3/envs/python3/lib/python3.6/site-packages/pandas/core/apply.py\", line 186, in get_result\n",
      "    return self.apply_standard()\n",
      "  File \"/home/ec2-user/anaconda3/envs/python3/lib/python3.6/site-packages/pandarallel/pandarallel.py\", line 111, in wrapper\n",
      "    **kwargs\n",
      "  File \"/home/ec2-user/anaconda3/envs/python3/lib/python3.6/site-packages/pandarallel/pandarallel.py\", line 111, in wrapper\n",
      "    **kwargs\n",
      "  File \"/home/ec2-user/anaconda3/envs/python3/lib/python3.6/site-packages/pandarallel/data_types/dataframe.py\", line 31, in worker\n",
      "    return df.apply(func, *args, **kwargs)\n",
      "  File \"/home/ec2-user/anaconda3/envs/python3/lib/python3.6/site-packages/pandas/core/apply.py\", line 296, in apply_standard\n",
      "    values, self.f, axis=self.axis, dummy=dummy, labels=labels\n",
      "  File \"/home/ec2-user/anaconda3/envs/python3/lib/python3.6/site-packages/nltk/tokenize/treebank.py\", line 136, in tokenize\n",
      "    text = regexp.sub(r' \\1 \\2 ', text)\n",
      "  File \"/home/ec2-user/anaconda3/envs/python3/lib/python3.6/site-packages/pandarallel/data_types/dataframe.py\", line 31, in worker\n",
      "    return df.apply(func, *args, **kwargs)\n",
      "  File \"pandas/_libs/reduction.pyx\", line 620, in pandas._libs.reduction.compute_reduction\n",
      "KeyboardInterrupt\n",
      "  File \"/home/ec2-user/anaconda3/envs/python3/lib/python3.6/site-packages/pandas/core/frame.py\", line 6878, in apply\n",
      "    return op.get_result()\n",
      "  File \"/home/ec2-user/anaconda3/envs/python3/lib/python3.6/site-packages/pandas/core/frame.py\", line 6878, in apply\n",
      "    return op.get_result()\n",
      "  File \"pandas/_libs/reduction.pyx\", line 128, in pandas._libs.reduction.Reducer.get_result\n",
      "  File \"/home/ec2-user/anaconda3/envs/python3/lib/python3.6/site-packages/pandas/core/apply.py\", line 186, in get_result\n",
      "    return self.apply_standard()\n",
      "  File \"/home/ec2-user/anaconda3/envs/python3/lib/python3.6/site-packages/pandas/core/apply.py\", line 296, in apply_standard\n",
      "    values, self.f, axis=self.axis, dummy=dummy, labels=labels\n",
      "  File \"pandas/_libs/reduction.pyx\", line 620, in pandas._libs.reduction.compute_reduction\n",
      "  File \"/home/ec2-user/anaconda3/envs/python3/lib/python3.6/site-packages/pandas/core/apply.py\", line 186, in get_result\n",
      "    return self.apply_standard()\n",
      "  File \"<ipython-input-5-3ecd03ce79bb>\", line 4, in tokenize\n",
      "    return f\"__label__{str(int(star))} {' '.join(nltk.word_tokenize(text.lower()))}\".split(\" \")\n",
      "  File \"/home/ec2-user/anaconda3/envs/python3/lib/python3.6/site-packages/pandas/core/apply.py\", line 296, in apply_standard\n",
      "    values, self.f, axis=self.axis, dummy=dummy, labels=labels\n",
      "  File \"pandas/_libs/reduction.pyx\", line 620, in pandas._libs.reduction.compute_reduction\n",
      "  File \"pandas/_libs/reduction.pyx\", line 128, in pandas._libs.reduction.Reducer.get_result\n",
      "  File \"<ipython-input-5-3ecd03ce79bb>\", line 4, in tokenize\n",
      "    return f\"__label__{str(int(star))} {' '.join(nltk.word_tokenize(text.lower()))}\".split(\" \")\n",
      "  File \"/home/ec2-user/anaconda3/envs/python3/lib/python3.6/site-packages/nltk/tokenize/__init__.py\", line 129, in word_tokenize\n",
      "    return [token for sent in sentences\n",
      "  File \"/home/ec2-user/anaconda3/envs/python3/lib/python3.6/site-packages/nltk/tokenize/__init__.py\", line 130, in <listcomp>\n",
      "    for token in _treebank_word_tokenizer.tokenize(sent)]\n",
      "KeyboardInterrupt\n",
      "  File \"/home/ec2-user/anaconda3/envs/python3/lib/python3.6/site-packages/pandas/core/series.py\", line 871, in __getitem__\n",
      "    result = self.index.get_value(self, key)\n",
      "  File \"<ipython-input-5-3ecd03ce79bb>\", line 4, in tokenize\n",
      "    return f\"__label__{str(int(star))} {' '.join(nltk.word_tokenize(text.lower()))}\".split(\" \")\n",
      "  File \"pandas/_libs/reduction.pyx\", line 128, in pandas._libs.reduction.Reducer.get_result\n",
      "  File \"/home/ec2-user/anaconda3/envs/python3/lib/python3.6/site-packages/nltk/tokenize/__init__.py\", line 128, in word_tokenize\n",
      "    sentences = [text] if preserve_line else sent_tokenize(text, language)\n",
      "  File \"/home/ec2-user/anaconda3/envs/python3/lib/python3.6/site-packages/pandas/core/indexes/base.py\", line 4401, in get_value\n",
      "    k = com.values_from_object(key)\n"
     ]
    },
    {
     "ename": "KeyboardInterrupt",
     "evalue": "",
     "output_type": "error",
     "traceback": [
      "\u001b[0;31m---------------------------------------------------------------------------\u001b[0m",
      "\u001b[0;31mKeyboardInterrupt\u001b[0m                         Traceback (most recent call last)",
      "\u001b[0;32m<ipython-input-10-b83e93fe167a>\u001b[0m in \u001b[0;36m<module>\u001b[0;34m()\u001b[0m\n\u001b[0;32m----> 1\u001b[0;31m \u001b[0mtokens_non_bal\u001b[0m \u001b[0;34m=\u001b[0m \u001b[0mtrain_non_bal\u001b[0m\u001b[0;34m.\u001b[0m\u001b[0mparallel_apply\u001b[0m\u001b[0;34m(\u001b[0m\u001b[0mtokenize\u001b[0m\u001b[0;34m,\u001b[0m \u001b[0maxis\u001b[0m\u001b[0;34m=\u001b[0m\u001b[0;36m1\u001b[0m\u001b[0;34m)\u001b[0m\u001b[0;34m\u001b[0m\u001b[0m\n\u001b[0m",
      "\u001b[0;32m~/anaconda3/envs/python3/lib/python3.6/site-packages/pandarallel/pandarallel.py\u001b[0m in \u001b[0;36mclosure\u001b[0;34m(data, func, *args, **kwargs)\u001b[0m\n\u001b[1;32m    455\u001b[0m                 \u001b[0minput_files\u001b[0m\u001b[0;34m,\u001b[0m\u001b[0;34m\u001b[0m\u001b[0m\n\u001b[1;32m    456\u001b[0m                 \u001b[0moutput_files\u001b[0m\u001b[0;34m,\u001b[0m\u001b[0;34m\u001b[0m\u001b[0m\n\u001b[0;32m--> 457\u001b[0;31m                 \u001b[0mmap_result\u001b[0m\u001b[0;34m,\u001b[0m\u001b[0;34m\u001b[0m\u001b[0m\n\u001b[0m\u001b[1;32m    458\u001b[0m             )\n\u001b[1;32m    459\u001b[0m \u001b[0;34m\u001b[0m\u001b[0m\n",
      "\u001b[0;32m~/anaconda3/envs/python3/lib/python3.6/site-packages/pandarallel/pandarallel.py\u001b[0m in \u001b[0;36mget_workers_result\u001b[0;34m(use_memory_fs, nb_workers, show_progress_bar, nb_columns, queue, chunk_lengths, input_files, output_files, map_result)\u001b[0m\n\u001b[1;32m    359\u001b[0m \u001b[0;34m\u001b[0m\u001b[0m\n\u001b[1;32m    360\u001b[0m     \u001b[0;32mwhile\u001b[0m \u001b[0;32mnot\u001b[0m \u001b[0mall\u001b[0m\u001b[0;34m(\u001b[0m\u001b[0mfinished_workers\u001b[0m\u001b[0;34m)\u001b[0m\u001b[0;34m:\u001b[0m\u001b[0;34m\u001b[0m\u001b[0m\n\u001b[0;32m--> 361\u001b[0;31m         \u001b[0mmessage_type\u001b[0m\u001b[0;34m,\u001b[0m \u001b[0mmessage\u001b[0m \u001b[0;34m=\u001b[0m \u001b[0mqueue\u001b[0m\u001b[0;34m.\u001b[0m\u001b[0mget\u001b[0m\u001b[0;34m(\u001b[0m\u001b[0;34m)\u001b[0m\u001b[0;34m\u001b[0m\u001b[0m\n\u001b[0m\u001b[1;32m    362\u001b[0m \u001b[0;34m\u001b[0m\u001b[0m\n\u001b[1;32m    363\u001b[0m         \u001b[0;32mif\u001b[0m \u001b[0mmessage_type\u001b[0m \u001b[0;32mis\u001b[0m \u001b[0mINPUT_FILE_READ\u001b[0m\u001b[0;34m:\u001b[0m\u001b[0;34m\u001b[0m\u001b[0m\n",
      "\u001b[0;32m<string>\u001b[0m in \u001b[0;36mget\u001b[0;34m(self, *args, **kwds)\u001b[0m\n",
      "\u001b[0;32m~/anaconda3/envs/python3/lib/python3.6/multiprocessing/managers.py\u001b[0m in \u001b[0;36m_callmethod\u001b[0;34m(self, methodname, args, kwds)\u001b[0m\n\u001b[1;32m    755\u001b[0m \u001b[0;34m\u001b[0m\u001b[0m\n\u001b[1;32m    756\u001b[0m         \u001b[0mconn\u001b[0m\u001b[0;34m.\u001b[0m\u001b[0msend\u001b[0m\u001b[0;34m(\u001b[0m\u001b[0;34m(\u001b[0m\u001b[0mself\u001b[0m\u001b[0;34m.\u001b[0m\u001b[0m_id\u001b[0m\u001b[0;34m,\u001b[0m \u001b[0mmethodname\u001b[0m\u001b[0;34m,\u001b[0m \u001b[0margs\u001b[0m\u001b[0;34m,\u001b[0m \u001b[0mkwds\u001b[0m\u001b[0;34m)\u001b[0m\u001b[0;34m)\u001b[0m\u001b[0;34m\u001b[0m\u001b[0m\n\u001b[0;32m--> 757\u001b[0;31m         \u001b[0mkind\u001b[0m\u001b[0;34m,\u001b[0m \u001b[0mresult\u001b[0m \u001b[0;34m=\u001b[0m \u001b[0mconn\u001b[0m\u001b[0;34m.\u001b[0m\u001b[0mrecv\u001b[0m\u001b[0;34m(\u001b[0m\u001b[0;34m)\u001b[0m\u001b[0;34m\u001b[0m\u001b[0m\n\u001b[0m\u001b[1;32m    758\u001b[0m \u001b[0;34m\u001b[0m\u001b[0m\n\u001b[1;32m    759\u001b[0m         \u001b[0;32mif\u001b[0m \u001b[0mkind\u001b[0m \u001b[0;34m==\u001b[0m \u001b[0;34m'#RETURN'\u001b[0m\u001b[0;34m:\u001b[0m\u001b[0;34m\u001b[0m\u001b[0m\n",
      "\u001b[0;32m~/anaconda3/envs/python3/lib/python3.6/multiprocessing/connection.py\u001b[0m in \u001b[0;36mrecv\u001b[0;34m(self)\u001b[0m\n\u001b[1;32m    248\u001b[0m         \u001b[0mself\u001b[0m\u001b[0;34m.\u001b[0m\u001b[0m_check_closed\u001b[0m\u001b[0;34m(\u001b[0m\u001b[0;34m)\u001b[0m\u001b[0;34m\u001b[0m\u001b[0m\n\u001b[1;32m    249\u001b[0m         \u001b[0mself\u001b[0m\u001b[0;34m.\u001b[0m\u001b[0m_check_readable\u001b[0m\u001b[0;34m(\u001b[0m\u001b[0;34m)\u001b[0m\u001b[0;34m\u001b[0m\u001b[0m\n\u001b[0;32m--> 250\u001b[0;31m         \u001b[0mbuf\u001b[0m \u001b[0;34m=\u001b[0m \u001b[0mself\u001b[0m\u001b[0;34m.\u001b[0m\u001b[0m_recv_bytes\u001b[0m\u001b[0;34m(\u001b[0m\u001b[0;34m)\u001b[0m\u001b[0;34m\u001b[0m\u001b[0m\n\u001b[0m\u001b[1;32m    251\u001b[0m         \u001b[0;32mreturn\u001b[0m \u001b[0m_ForkingPickler\u001b[0m\u001b[0;34m.\u001b[0m\u001b[0mloads\u001b[0m\u001b[0;34m(\u001b[0m\u001b[0mbuf\u001b[0m\u001b[0;34m.\u001b[0m\u001b[0mgetbuffer\u001b[0m\u001b[0;34m(\u001b[0m\u001b[0;34m)\u001b[0m\u001b[0;34m)\u001b[0m\u001b[0;34m\u001b[0m\u001b[0m\n\u001b[1;32m    252\u001b[0m \u001b[0;34m\u001b[0m\u001b[0m\n",
      "\u001b[0;32m~/anaconda3/envs/python3/lib/python3.6/multiprocessing/connection.py\u001b[0m in \u001b[0;36m_recv_bytes\u001b[0;34m(self, maxsize)\u001b[0m\n\u001b[1;32m    405\u001b[0m \u001b[0;34m\u001b[0m\u001b[0m\n\u001b[1;32m    406\u001b[0m     \u001b[0;32mdef\u001b[0m \u001b[0m_recv_bytes\u001b[0m\u001b[0;34m(\u001b[0m\u001b[0mself\u001b[0m\u001b[0;34m,\u001b[0m \u001b[0mmaxsize\u001b[0m\u001b[0;34m=\u001b[0m\u001b[0;32mNone\u001b[0m\u001b[0;34m)\u001b[0m\u001b[0;34m:\u001b[0m\u001b[0;34m\u001b[0m\u001b[0m\n\u001b[0;32m--> 407\u001b[0;31m         \u001b[0mbuf\u001b[0m \u001b[0;34m=\u001b[0m \u001b[0mself\u001b[0m\u001b[0;34m.\u001b[0m\u001b[0m_recv\u001b[0m\u001b[0;34m(\u001b[0m\u001b[0;36m4\u001b[0m\u001b[0;34m)\u001b[0m\u001b[0;34m\u001b[0m\u001b[0m\n\u001b[0m\u001b[1;32m    408\u001b[0m         \u001b[0msize\u001b[0m\u001b[0;34m,\u001b[0m \u001b[0;34m=\u001b[0m \u001b[0mstruct\u001b[0m\u001b[0;34m.\u001b[0m\u001b[0munpack\u001b[0m\u001b[0;34m(\u001b[0m\u001b[0;34m\"!i\"\u001b[0m\u001b[0;34m,\u001b[0m \u001b[0mbuf\u001b[0m\u001b[0;34m.\u001b[0m\u001b[0mgetvalue\u001b[0m\u001b[0;34m(\u001b[0m\u001b[0;34m)\u001b[0m\u001b[0;34m)\u001b[0m\u001b[0;34m\u001b[0m\u001b[0m\n\u001b[1;32m    409\u001b[0m         \u001b[0;32mif\u001b[0m \u001b[0mmaxsize\u001b[0m \u001b[0;32mis\u001b[0m \u001b[0;32mnot\u001b[0m \u001b[0;32mNone\u001b[0m \u001b[0;32mand\u001b[0m \u001b[0msize\u001b[0m \u001b[0;34m>\u001b[0m \u001b[0mmaxsize\u001b[0m\u001b[0;34m:\u001b[0m\u001b[0;34m\u001b[0m\u001b[0m\n",
      "\u001b[0;32m~/anaconda3/envs/python3/lib/python3.6/multiprocessing/connection.py\u001b[0m in \u001b[0;36m_recv\u001b[0;34m(self, size, read)\u001b[0m\n\u001b[1;32m    377\u001b[0m         \u001b[0mremaining\u001b[0m \u001b[0;34m=\u001b[0m \u001b[0msize\u001b[0m\u001b[0;34m\u001b[0m\u001b[0m\n\u001b[1;32m    378\u001b[0m         \u001b[0;32mwhile\u001b[0m \u001b[0mremaining\u001b[0m \u001b[0;34m>\u001b[0m \u001b[0;36m0\u001b[0m\u001b[0;34m:\u001b[0m\u001b[0;34m\u001b[0m\u001b[0m\n\u001b[0;32m--> 379\u001b[0;31m             \u001b[0mchunk\u001b[0m \u001b[0;34m=\u001b[0m \u001b[0mread\u001b[0m\u001b[0;34m(\u001b[0m\u001b[0mhandle\u001b[0m\u001b[0;34m,\u001b[0m \u001b[0mremaining\u001b[0m\u001b[0;34m)\u001b[0m\u001b[0;34m\u001b[0m\u001b[0m\n\u001b[0m\u001b[1;32m    380\u001b[0m             \u001b[0mn\u001b[0m \u001b[0;34m=\u001b[0m \u001b[0mlen\u001b[0m\u001b[0;34m(\u001b[0m\u001b[0mchunk\u001b[0m\u001b[0;34m)\u001b[0m\u001b[0;34m\u001b[0m\u001b[0m\n\u001b[1;32m    381\u001b[0m             \u001b[0;32mif\u001b[0m \u001b[0mn\u001b[0m \u001b[0;34m==\u001b[0m \u001b[0;36m0\u001b[0m\u001b[0;34m:\u001b[0m\u001b[0;34m\u001b[0m\u001b[0m\n",
      "\u001b[0;31mKeyboardInterrupt\u001b[0m: "
     ]
    },
    {
     "name": "stderr",
     "output_type": "stream",
     "text": [
      "KeyboardInterrupt\n",
      "  File \"/home/ec2-user/anaconda3/envs/python3/lib/python3.6/site-packages/nltk/tokenize/__init__.py\", line 95, in sent_tokenize\n",
      "    return tokenizer.tokenize(text)\n",
      "  File \"/home/ec2-user/anaconda3/envs/python3/lib/python3.6/site-packages/nltk/tokenize/punkt.py\", line 1241, in tokenize\n",
      "    return list(self.sentences_from_text(text, realign_boundaries))\n",
      "  File \"/home/ec2-user/anaconda3/envs/python3/lib/python3.6/site-packages/nltk/tokenize/punkt.py\", line 1291, in sentences_from_text\n",
      "    return [text[s:e] for s, e in self.span_tokenize(text, realign_boundaries)]\n",
      "  File \"/home/ec2-user/anaconda3/envs/python3/lib/python3.6/site-packages/nltk/tokenize/punkt.py\", line 1291, in <listcomp>\n",
      "    return [text[s:e] for s, e in self.span_tokenize(text, realign_boundaries)]\n",
      "  File \"/home/ec2-user/anaconda3/envs/python3/lib/python3.6/site-packages/nltk/tokenize/punkt.py\", line 1281, in span_tokenize\n",
      "    for sl in slices:\n",
      "  File \"/home/ec2-user/anaconda3/envs/python3/lib/python3.6/site-packages/nltk/tokenize/punkt.py\", line 1322, in _realign_boundaries\n",
      "    for sl1, sl2 in _pair_iter(slices):\n",
      "  File \"/home/ec2-user/anaconda3/envs/python3/lib/python3.6/site-packages/nltk/tokenize/punkt.py\", line 314, in _pair_iter\n",
      "    for el in it:\n",
      "  File \"/home/ec2-user/anaconda3/envs/python3/lib/python3.6/site-packages/nltk/tokenize/punkt.py\", line 1297, in _slices_from_text\n",
      "    if self.text_contains_sentbreak(context):\n",
      "  File \"/home/ec2-user/anaconda3/envs/python3/lib/python3.6/site-packages/nltk/tokenize/punkt.py\", line 1343, in text_contains_sentbreak\n",
      "    for t in self._annotate_tokens(self._tokenize_words(text)):\n",
      "  File \"/home/ec2-user/anaconda3/envs/python3/lib/python3.6/site-packages/nltk/tokenize/punkt.py\", line 1478, in _annotate_second_pass\n",
      "    for t1, t2 in _pair_iter(tokens):\n",
      "  File \"/home/ec2-user/anaconda3/envs/python3/lib/python3.6/site-packages/nltk/tokenize/punkt.py\", line 313, in _pair_iter\n",
      "    prev = next(it)\n",
      "  File \"/home/ec2-user/anaconda3/envs/python3/lib/python3.6/site-packages/nltk/tokenize/punkt.py\", line 584, in _annotate_first_pass\n",
      "    for aug_tok in tokens:\n",
      "  File \"/home/ec2-user/anaconda3/envs/python3/lib/python3.6/site-packages/nltk/tokenize/punkt.py\", line 555, in _tokenize_words\n",
      "    parastart=parastart, linestart=True)\n",
      "  File \"/home/ec2-user/anaconda3/envs/python3/lib/python3.6/site-packages/nltk/tokenize/punkt.py\", line 395, in __init__\n",
      "    self.type = self._get_type(tok)\n",
      "  File \"/home/ec2-user/anaconda3/envs/python3/lib/python3.6/site-packages/nltk/tokenize/punkt.py\", line 418, in _get_type\n",
      "    return self._RE_NUMERIC.sub('##number##', tok.lower())\n",
      "KeyboardInterrupt\n"
     ]
    }
   ],
   "source": [
    "tokens_non_bal = train_non_bal.parallel_apply(tokenize, axis=1)"
   ]
  },
  {
   "cell_type": "code",
   "execution_count": null,
   "metadata": {},
   "outputs": [],
   "source": [
    "tokens_test = test.parallel_apply(tokenize, axis=1)"
   ]
  },
  {
   "cell_type": "code",
   "execution_count": 13,
   "metadata": {},
   "outputs": [],
   "source": [
    "tokens_bal_output = \"tokens_bal.csv\"\n",
    "tokens_non_bal_output = \"tokens_non_bal.csv\"\n",
    "test_output = \"test.csv\""
   ]
  },
  {
   "cell_type": "code",
   "execution_count": 14,
   "metadata": {},
   "outputs": [],
   "source": [
    "save_csv(\"test.csv\", tokens_bal.to_list()[:10])"
   ]
  },
  {
   "cell_type": "code",
   "execution_count": null,
   "metadata": {},
   "outputs": [],
   "source": [
    "save_csv(\"test2.csv\", tokens_bal[:10])"
   ]
  }
 ],
 "metadata": {
  "kernelspec": {
   "display_name": "Python 3",
   "language": "python",
   "name": "python3"
  },
  "language_info": {
   "codemirror_mode": {
    "name": "ipython",
    "version": 3
   },
   "file_extension": ".py",
   "mimetype": "text/x-python",
   "name": "python",
   "nbconvert_exporter": "python",
   "pygments_lexer": "ipython3",
   "version": "3.7.6"
  }
 },
 "nbformat": 4,
 "nbformat_minor": 4
}
