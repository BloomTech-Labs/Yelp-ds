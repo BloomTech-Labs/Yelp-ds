{
 "cells": [
  {
   "cell_type": "code",
   "execution_count": 1,
   "metadata": {},
   "outputs": [],
   "source": [
    "from ktrain import text\n",
    "import pandas as pd\n",
    "from tqdm.notebook import tqdm\n",
    "tqdm.pandas()\n",
    "ts = text.TransformerSummarizer(device=\"cuda\")"
   ]
  },
  {
   "cell_type": "code",
   "execution_count": 2,
   "metadata": {},
   "outputs": [],
   "source": [
    "df = pd.read_csv(\"s3://yelp-dataset-pt-9/spencer/data/sentiment/en/test_small.csv\")"
   ]
  },
  {
   "cell_type": "code",
   "execution_count": 6,
   "metadata": {},
   "outputs": [],
   "source": [
    "def summarize(text):\n",
    "    return ts.summarize(text)"
   ]
  },
  {
   "cell_type": "code",
   "execution_count": 10,
   "metadata": {},
   "outputs": [],
   "source": [
    "sample = df.sample(100, random_state=42)"
   ]
  },
  {
   "cell_type": "code",
   "execution_count": 11,
   "metadata": {},
   "outputs": [
    {
     "data": {
      "application/vnd.jupyter.widget-view+json": {
       "model_id": "18529a8fc865473c9dd2975dafc62804",
       "version_major": 2,
       "version_minor": 0
      },
      "text/plain": [
       "HBox(children=(FloatProgress(value=0.0), HTML(value='')))"
      ]
     },
     "metadata": {},
     "output_type": "display_data"
    },
    {
     "name": "stdout",
     "output_type": "stream",
     "text": [
      "\n"
     ]
    }
   ],
   "source": [
    "summaries = sample['text'].progress_apply(summarize)"
   ]
  },
  {
   "cell_type": "code",
   "execution_count": 12,
   "metadata": {},
   "outputs": [
    {
     "data": {
      "text/plain": [
       "119737    Marie is very friendly, and is detail oriented...\n",
       "72272     Chocolate chip cake with white cream cheese fr...\n",
       "158154    The food was great and Josh, our server was aw...\n",
       "65426     The Original Philly Sandwich from Philly's Fam...\n",
       "30074     The pizza was amazing. The service was quick a...\n",
       "                                ...                        \n",
       "182091    The Fertility Center of Las Vegas has the high...\n",
       "31929     Great food especially the goat curry and mango...\n",
       "78446     Jedd's is one of my FAVORITE places to crunch ...\n",
       "145114    We used the $49 voucher for 2 - each includes ...\n",
       "96761     The food was amazing and the service was quick...\n",
       "Name: text, Length: 100, dtype: object"
      ]
     },
     "execution_count": 12,
     "metadata": {},
     "output_type": "execute_result"
    }
   ],
   "source": [
    "summaries"
   ]
  },
  {
   "cell_type": "code",
   "execution_count": 13,
   "metadata": {},
   "outputs": [],
   "source": [
    "sample['summaries'] = summaries"
   ]
  },
  {
   "cell_type": "code",
   "execution_count": 17,
   "metadata": {},
   "outputs": [],
   "source": [
    "sample['str_len'] = sample['text'].str.len()"
   ]
  },
  {
   "cell_type": "code",
   "execution_count": 19,
   "metadata": {},
   "outputs": [
    {
     "data": {
      "text/html": [
       "<div>\n",
       "<style scoped>\n",
       "    .dataframe tbody tr th:only-of-type {\n",
       "        vertical-align: middle;\n",
       "    }\n",
       "\n",
       "    .dataframe tbody tr th {\n",
       "        vertical-align: top;\n",
       "    }\n",
       "\n",
       "    .dataframe thead th {\n",
       "        text-align: right;\n",
       "    }\n",
       "</style>\n",
       "<table border=\"1\" class=\"dataframe\">\n",
       "  <thead>\n",
       "    <tr style=\"text-align: right;\">\n",
       "      <th></th>\n",
       "      <th>text</th>\n",
       "      <th>stars</th>\n",
       "      <th>pos_neg_neu</th>\n",
       "      <th>pos_neg_3_is_pos</th>\n",
       "      <th>pos_neg_3_is_neg</th>\n",
       "      <th>summaries</th>\n",
       "      <th>str_len</th>\n",
       "    </tr>\n",
       "  </thead>\n",
       "  <tbody>\n",
       "    <tr>\n",
       "      <th>182091</th>\n",
       "      <td>My wife and I (we are a lesbian couple) had al...</td>\n",
       "      <td>5.0</td>\n",
       "      <td>POSITIVE</td>\n",
       "      <td>POSITIVE</td>\n",
       "      <td>POSITIVE</td>\n",
       "      <td>The Fertility Center of Las Vegas has the high...</td>\n",
       "      <td>2994</td>\n",
       "    </tr>\n",
       "    <tr>\n",
       "      <th>41259</th>\n",
       "      <td>I'm from California down for Mother's Day week...</td>\n",
       "      <td>1.0</td>\n",
       "      <td>NEGATIVE</td>\n",
       "      <td>NEGATIVE</td>\n",
       "      <td>NEGATIVE</td>\n",
       "      <td>\"I waited an hour and a half and she wants me ...</td>\n",
       "      <td>2703</td>\n",
       "    </tr>\n",
       "    <tr>\n",
       "      <th>137859</th>\n",
       "      <td>Jumpin' in the Hood\\n\\nI had never heard of th...</td>\n",
       "      <td>1.0</td>\n",
       "      <td>NEGATIVE</td>\n",
       "      <td>NEGATIVE</td>\n",
       "      <td>NEGATIVE</td>\n",
       "      <td>The trampolines are made of a more slippery ma...</td>\n",
       "      <td>1741</td>\n",
       "    </tr>\n",
       "    <tr>\n",
       "      <th>164774</th>\n",
       "      <td>We had to make the very unfortunate decision t...</td>\n",
       "      <td>5.0</td>\n",
       "      <td>POSITIVE</td>\n",
       "      <td>POSITIVE</td>\n",
       "      <td>POSITIVE</td>\n",
       "      <td>\"We had to make the very unfortunate decision ...</td>\n",
       "      <td>1484</td>\n",
       "    </tr>\n",
       "    <tr>\n",
       "      <th>181498</th>\n",
       "      <td>A friend of mine had been raving with love for...</td>\n",
       "      <td>4.0</td>\n",
       "      <td>POSITIVE</td>\n",
       "      <td>POSITIVE</td>\n",
       "      <td>POSITIVE</td>\n",
       "      <td>A friend of mine had been raving with love for...</td>\n",
       "      <td>1428</td>\n",
       "    </tr>\n",
       "  </tbody>\n",
       "</table>\n",
       "</div>"
      ],
      "text/plain": [
       "                                                     text  stars pos_neg_neu  \\\n",
       "182091  My wife and I (we are a lesbian couple) had al...    5.0    POSITIVE   \n",
       "41259   I'm from California down for Mother's Day week...    1.0    NEGATIVE   \n",
       "137859  Jumpin' in the Hood\\n\\nI had never heard of th...    1.0    NEGATIVE   \n",
       "164774  We had to make the very unfortunate decision t...    5.0    POSITIVE   \n",
       "181498  A friend of mine had been raving with love for...    4.0    POSITIVE   \n",
       "\n",
       "       pos_neg_3_is_pos pos_neg_3_is_neg  \\\n",
       "182091         POSITIVE         POSITIVE   \n",
       "41259          NEGATIVE         NEGATIVE   \n",
       "137859         NEGATIVE         NEGATIVE   \n",
       "164774         POSITIVE         POSITIVE   \n",
       "181498         POSITIVE         POSITIVE   \n",
       "\n",
       "                                                summaries  str_len  \n",
       "182091  The Fertility Center of Las Vegas has the high...     2994  \n",
       "41259   \"I waited an hour and a half and she wants me ...     2703  \n",
       "137859  The trampolines are made of a more slippery ma...     1741  \n",
       "164774  \"We had to make the very unfortunate decision ...     1484  \n",
       "181498  A friend of mine had been raving with love for...     1428  "
      ]
     },
     "execution_count": 19,
     "metadata": {},
     "output_type": "execute_result"
    }
   ],
   "source": [
    "sample.sort_values('str_len', ascending=False).head()"
   ]
  },
  {
   "cell_type": "code",
   "execution_count": 29,
   "metadata": {},
   "outputs": [
    {
     "name": "stdout",
     "output_type": "stream",
     "text": [
      "We had to make the very unfortunate decision to put my cat to sleep this morning. I've had him for 14 years so this has been a very difficult decision. I called at 8:30am and they got us in at 9:30am. My husband went in and paid and signed the form and came out to get me and my cat. My husband said it was so nice inside and didn't feel like a vets office at all.  We went into a side room away from the lobby. What I noticed most was that my cat wasn't laying on a cold metal table.  Instead there was a nice soft blanket waiting for him. They took him and did a paw print and got the catheter started.  We were given as much time as needed.  Dr. Bestic was wonderful.  I've euthanized pets in the past but this was the absolute best experience.  He went so quickly and peacefully. They gave us as much time as we needed afterwards.  I chose to have him privately cremated with Paws Awhile which they take care of for me.  He will be returned to me in about a week in a nice wood box with his name engraved on it.  I couldn't be happier and I'm certain that Dr. Bestic will become the veterinarian for our dog and other cats.\n",
      "\n",
      "Update: It's been five days since my cat was put to sleep and it was a sweet surprise to come home and find flowers were delivered from the vet's office. It further solidified our decision to take all of our animals to this veterinarian.\n",
      "\n",
      "Update again: I got a call today that my cats ashes were ready. I was pleased with the way his ashes were presented.\n"
     ]
    }
   ],
   "source": [
    "print(sample.loc[164774]['text'])"
   ]
  },
  {
   "cell_type": "code",
   "execution_count": 30,
   "metadata": {},
   "outputs": [
    {
     "name": "stdout",
     "output_type": "stream",
     "text": [
      "\"We had to make the very unfortunate decision to put my cat to sleep this morning. I've had him for 14 years so this has been a very difficult decision\" \"Dr. Bestic was wonderful.  I've euthanized pets in the past but this was the absolute best experience. He went so quickly and peacefully\"\n"
     ]
    }
   ],
   "source": [
    "print(sample.loc[164774]['summaries'])"
   ]
  },
  {
   "cell_type": "code",
   "execution_count": 24,
   "metadata": {},
   "outputs": [],
   "source": [
    "from transformers import pipeline"
   ]
  },
  {
   "cell_type": "code",
   "execution_count": 25,
   "metadata": {},
   "outputs": [
    {
     "data": {
      "application/vnd.jupyter.widget-view+json": {
       "model_id": "24761bedb50945f2b1fdf3be1800e5bc",
       "version_major": 2,
       "version_minor": 0
      },
      "text/plain": [
       "HBox(children=(FloatProgress(value=0.0, description='Downloading', max=230.0, style=ProgressStyle(description_…"
      ]
     },
     "metadata": {},
     "output_type": "display_data"
    },
    {
     "name": "stdout",
     "output_type": "stream",
     "text": [
      "\n"
     ]
    }
   ],
   "source": [
    "sentiment = pipeline(\"sentiment-analysis\")"
   ]
  },
  {
   "cell_type": "code",
   "execution_count": 31,
   "metadata": {},
   "outputs": [
    {
     "data": {
      "text/plain": [
       "[{'label': 'POSITIVE', 'score': 0.9985255002975464}]"
      ]
     },
     "execution_count": 31,
     "metadata": {},
     "output_type": "execute_result"
    }
   ],
   "source": [
    "sentiment(sample.loc[164774]['summaries'])"
   ]
  },
  {
   "cell_type": "code",
   "execution_count": 36,
   "metadata": {},
   "outputs": [
    {
     "name": "stdout",
     "output_type": "stream",
     "text": [
      "I would argue that this is one of the best restaurants in all of Champaign. The Pimento Cheese appetizer was a jar of pepery cheese spread served with crackers, pickles, and celery. The Nashville Hot quarter chicken was juicy as well and nice and spicy.\n"
     ]
    }
   ],
   "source": [
    "doc = \"\"\"I have passed by this place a couple of times and wondered what kind of place this was. I did go to it in April, but I was there for the special burger because it was after Ebertfest. It was good, but I wanted to come back for the real deal dinner of chicken and such. \n",
    "\n",
    "I would argue that this is one of the best restaurants in all of Champaign. \n",
    "\n",
    "My dad and I were down in Champaign for the Illini Football game. I remembered wanting to try this place and we knew they had some pretty generous hours so we would be able to catch dinner. \n",
    "\n",
    "My dad went with a couple of craft beers, but I tried their palaoma. They are not shy about the booze so the $12 price tag was worth it! \n",
    "\n",
    "We started with the Pimento Cheese appetizer which was a jar of pepery cheese spread served with crackers, pickles, and celery. I didn't think we had enough crackers at the beginning, but there was actually a perfect amount. The cheese also had a kick, but was not overly spicy which my dad liked. \n",
    "\n",
    "For dinner, my dad got the pulled chicken sandwich. He let me try some of it and it was extremely flavorful and juicy. He also liked that it had a taste, but wasn't spicy. I went the other end and got the Nashville Hot quarter chicken. It was juicy as well and nice and spicy. It was very spicy, but not super spicy. They also didn't drown the bird so the sauce was more like a rub on the skin. This kept the chicken crispy! \n",
    "\n",
    "If you are looking for a great late night bite, this is a great option! They have a great dinner, brunch, and late night menu. Check it out!\"\"\"\n",
    "\n",
    "print(ts.summarize(doc))"
   ]
  },
  {
   "cell_type": "code",
   "execution_count": null,
   "metadata": {},
   "outputs": [],
   "source": []
  }
 ],
 "metadata": {
  "kernelspec": {
   "display_name": "conda_tensorflow_p36",
   "language": "python",
   "name": "conda_tensorflow_p36"
  },
  "language_info": {
   "codemirror_mode": {
    "name": "ipython",
    "version": 3
   },
   "file_extension": ".py",
   "mimetype": "text/x-python",
   "name": "python",
   "nbconvert_exporter": "python",
   "pygments_lexer": "ipython3",
   "version": "3.6.6"
  }
 },
 "nbformat": 4,
 "nbformat_minor": 4
}
