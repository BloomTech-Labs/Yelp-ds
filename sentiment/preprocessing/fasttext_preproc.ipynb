{
 "cells": [
  {
   "cell_type": "code",
   "execution_count": 1,
   "metadata": {},
   "outputs": [
    {
     "name": "stdout",
     "output_type": "stream",
     "text": [
      "INFO: Pandarallel will run on 4 workers.\n",
      "INFO: Pandarallel will use Memory file system to transfer data between the main process and workers.\n",
      "[nltk_data] Downloading package punkt to /home/ec2-user/nltk_data...\n",
      "[nltk_data]   Package punkt is already up-to-date!\n"
     ]
    },
    {
     "data": {
      "text/plain": [
       "True"
      ]
     },
     "execution_count": 1,
     "metadata": {},
     "output_type": "execute_result"
    }
   ],
   "source": [
    "import pandas as pd\n",
    "import nltk\n",
    "from pandarallel import pandarallel\n",
    "import csv\n",
    "import time\n",
    "from IPython.display import clear_output\n",
    "\n",
    "pandarallel.initialize(progress_bar=True)\n",
    "nltk.download('punkt')"
   ]
  },
  {
   "cell_type": "code",
   "execution_count": 2,
   "metadata": {},
   "outputs": [],
   "source": [
    "def tokenize(row):\n",
    "    star = row['stars']\n",
    "    text = row['text']\n",
    "    return f\"__label__{str(int(star))} {' '.join(nltk.word_tokenize(text.lower()))}\".split(\" \")\n",
    "    \n",
    "def save_csv(output_file, tokens):\n",
    "    with open(output_file, 'w') as csvoutfile:\n",
    "        csv_writer = csv.writer(csvoutfile, delimiter=' ', lineterminator='\\n')\n",
    "        csv_writer.writerows(tokens)\n",
    "\n",
    "def preproc(filename):\n",
    "    start = time.time()\n",
    "    path = f\"s3://yelp-dataset-pt-9/spencer/data/sentiment/en/{filename}.csv\"\n",
    "    df = pd.read_csv(path)\n",
    "    print(f'{filename} has {len(df):,} rows')\n",
    "    \n",
    "    tokens = df.parallel_apply(tokenize, axis=1)\n",
    "    save_csv(f\"tokens_{filename}.csv\", tokens.to_list())\n",
    "    \n",
    "    print(f'Took {time.time() - start:.2f} seconds')"
   ]
  },
  {
   "cell_type": "code",
   "execution_count": 3,
   "metadata": {},
   "outputs": [],
   "source": [
    "files = ['train_bal', 'train_same_size_as_bal', 'test_small']"
   ]
  },
  {
   "cell_type": "code",
   "execution_count": 4,
   "metadata": {},
   "outputs": [
    {
     "name": "stdout",
     "output_type": "stream",
     "text": [
      "test_small has 200,000 rows\n"
     ]
    },
    {
     "data": {
      "application/vnd.jupyter.widget-view+json": {
       "model_id": "60962059457d43e280f3aab9fc929884",
       "version_major": 2,
       "version_minor": 0
      },
      "text/plain": [
       "VBox(children=(HBox(children=(IntProgress(value=0, description='0.00%', max=50000), Label(value='0 / 50000')))…"
      ]
     },
     "metadata": {},
     "output_type": "display_data"
    },
    {
     "name": "stdout",
     "output_type": "stream",
     "text": [
      "Took 98.41 seconds\n"
     ]
    }
   ],
   "source": [
    "for filename in files:\n",
    "    preproc(filename)\n",
    "    clear_output(wait=True)"
   ]
  },
  {
   "cell_type": "code",
   "execution_count": 5,
   "metadata": {},
   "outputs": [],
   "source": [
    "import sagemaker\n",
    "\n",
    "sess = sagemaker.Session()"
   ]
  },
  {
   "cell_type": "code",
   "execution_count": 6,
   "metadata": {},
   "outputs": [],
   "source": [
    "bucket = \"yelp-dataset-pt-9\""
   ]
  },
  {
   "cell_type": "code",
   "execution_count": 8,
   "metadata": {},
   "outputs": [],
   "source": [
    "for filename in files:\n",
    "    sess.upload_data(path=f'tokens_{filename}.csv', bucket=bucket, key_prefix=f'spencer/data/sentiment/en')"
   ]
  },
  {
   "cell_type": "code",
   "execution_count": null,
   "metadata": {},
   "outputs": [],
   "source": []
  }
 ],
 "metadata": {
  "kernelspec": {
   "display_name": "conda_python3",
   "language": "python",
   "name": "conda_python3"
  },
  "language_info": {
   "codemirror_mode": {
    "name": "ipython",
    "version": 3
   },
   "file_extension": ".py",
   "mimetype": "text/x-python",
   "name": "python",
   "nbconvert_exporter": "python",
   "pygments_lexer": "ipython3",
   "version": "3.6.5"
  }
 },
 "nbformat": 4,
 "nbformat_minor": 4
}
