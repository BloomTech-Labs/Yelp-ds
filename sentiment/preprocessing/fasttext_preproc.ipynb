{
 "cells": [
  {
   "cell_type": "code",
   "execution_count": 1,
   "metadata": {},
   "outputs": [
    {
     "name": "stdout",
     "output_type": "stream",
     "text": [
      "INFO: Pandarallel will run on 4 workers.\n",
      "INFO: Pandarallel will use standard multiprocessing data transfer (pipe) to transfer data between the main process and workers.\n"
     ]
    },
    {
     "name": "stderr",
     "output_type": "stream",
     "text": [
      "[nltk_data] Downloading package punkt to\n",
      "[nltk_data]     /Users/spenceradams/nltk_data...\n",
      "[nltk_data]   Package punkt is already up-to-date!\n"
     ]
    },
    {
     "data": {
      "text/plain": [
       "True"
      ]
     },
     "execution_count": 1,
     "metadata": {},
     "output_type": "execute_result"
    }
   ],
   "source": [
    "import pandas as pd\n",
    "import nltk\n",
    "from pandarallel import pandarallel\n",
    "import csv\n",
    "import time\n",
    "from IPython.display import clear_output\n",
    "import logging\n",
    "import boto3\n",
    "from botocore.exceptions import ClientError\n",
    "from tqdm.notebook import tqdm\n",
    "\n",
    "pandarallel.initialize(progress_bar=True)\n",
    "nltk.download('punkt')"
   ]
  },
  {
   "cell_type": "code",
   "execution_count": 8,
   "metadata": {},
   "outputs": [],
   "source": [
    "def upload_file(file_name, bucket, object_name=None):\n",
    "    \"\"\"Upload a file to an S3 bucket\n",
    "\n",
    "    :param file_name: File to upload\n",
    "    :param bucket: Bucket to upload to\n",
    "    :param object_name: S3 object name. If not specified then file_name is used\n",
    "    :return: True if file was uploaded, else False\n",
    "    \"\"\"\n",
    "\n",
    "    # If S3 object_name was not specified, use file_name\n",
    "    if object_name is None:\n",
    "        object_name = file_name\n",
    "\n",
    "    # Upload the file\n",
    "    s3_client = boto3.client('s3')\n",
    "    try:\n",
    "        response = s3_client.upload_file(file_name, bucket, object_name)\n",
    "    except ClientError as e:\n",
    "        logging.error(e)\n",
    "        return False\n",
    "    return True\n",
    "\n",
    "def tokenize(row):\n",
    "    text = row['text']\n",
    "    \n",
    "    tokens = nltk.word_tokenize(text.lower())\n",
    "\n",
    "    return tokens\n",
    "    \n",
    "def save_csv(output_file, tokens):\n",
    "    with open(output_file, 'w') as csvoutfile:\n",
    "        csv_writer = csv.writer(csvoutfile, delimiter=' ', lineterminator='\\n')\n",
    "        csv_writer.writerows(tokens)\n",
    "        \n",
    "    bucket = \"yelp-dataset-pt-9\"\n",
    "    upload_file(output_file, bucket, f'spencer/data/sentiment/en/fasttext/{output_file}')\n",
    "\n",
    "def preproc(filename):\n",
    "    start = time.time()\n",
    "    path = f\"s3://yelp-dataset-pt-9/spencer/data/sentiment/en/{filename}.csv\"\n",
    "    df = pd.read_csv(path)\n",
    "    print(f'{filename} has {len(df):,} rows')\n",
    "    \n",
    "    labels = ['stars', 'pos_neg_neu',\n",
    "             'pos_neg_3_is_pos', 'pos_neg_3_is_neg']\n",
    "    \n",
    "    tokens = df.parallel_apply(tokenize, axis=1)\n",
    "    print(\"Done tokenizing, time to apply to each label.\")\n",
    "    \n",
    "    for label in tqdm(labels):\n",
    "        if label == 'stars':\n",
    "            labels_df = ('__label__' + df['stars'].astype(int).astype(str)).str.split(\" \")\n",
    "        else:\n",
    "            labels_df = ('__label__' + df[label].astype(str)).str.split(\" \")\n",
    "        tokens_and_labels = labels_df + tokens\n",
    "        print(tokens_and_labels.tail())\n",
    "        print(\"Saving to csv.\")\n",
    "        save_csv(f\"{label}_tokens_{filename}.csv\", tokens_and_labels.to_list())\n",
    "        print(\"CSV saved.\")\n",
    "    \n",
    "    print(f'Took {time.time() - start:.2f} seconds')"
   ]
  },
  {
   "cell_type": "code",
   "execution_count": 9,
   "metadata": {},
   "outputs": [],
   "source": [
    "files = ['train_bal', 'train_same_size_as_bal', 'test_small']"
   ]
  },
  {
   "cell_type": "code",
   "execution_count": 10,
   "metadata": {},
   "outputs": [
    {
     "name": "stdout",
     "output_type": "stream",
     "text": [
      "test_small has 200,000 rows\n"
     ]
    },
    {
     "data": {
      "application/vnd.jupyter.widget-view+json": {
       "model_id": "a68a3d78ab06492f911df1294206aa7f",
       "version_major": 2,
       "version_minor": 0
      },
      "text/plain": [
       "VBox(children=(HBox(children=(IntProgress(value=0, description='0.00%', max=50000), Label(value='0 / 50000')))…"
      ]
     },
     "metadata": {},
     "output_type": "display_data"
    },
    {
     "name": "stdout",
     "output_type": "stream",
     "text": [
      "Done tokenizing, time to apply to each label.\n"
     ]
    },
    {
     "data": {
      "application/vnd.jupyter.widget-view+json": {
       "model_id": "97ee6de3b0204cdaab7f0e632b71d4ef",
       "version_major": 2,
       "version_minor": 0
      },
      "text/plain": [
       "HBox(children=(FloatProgress(value=0.0, max=4.0), HTML(value='')))"
      ]
     },
     "metadata": {},
     "output_type": "display_data"
    },
    {
     "name": "stdout",
     "output_type": "stream",
     "text": [
      "199995    [__label__4, the, ribs, are, excellent, (, so,...\n",
      "199996    [__label__4, this, place, is, great, !, noodle...\n",
      "199997    [__label__5, love, the, food, here, ., the, gr...\n",
      "199998    [__label__2, the, food, was, okay, ,, but, two...\n",
      "199999    [__label__3, great, location, in, the, peoria,...\n",
      "dtype: object\n",
      "Saving to csv.\n",
      "CSV saved.\n",
      "199995    [__label__POSITIVE, the, ribs, are, excellent,...\n",
      "199996    [__label__POSITIVE, this, place, is, great, !,...\n",
      "199997    [__label__POSITIVE, love, the, food, here, ., ...\n",
      "199998    [__label__NEGATIVE, the, food, was, okay, ,, b...\n",
      "199999    [__label__NEUTRAL, great, location, in, the, p...\n",
      "dtype: object\n",
      "Saving to csv.\n",
      "CSV saved.\n",
      "199995    [__label__POSITIVE, the, ribs, are, excellent,...\n",
      "199996    [__label__POSITIVE, this, place, is, great, !,...\n",
      "199997    [__label__POSITIVE, love, the, food, here, ., ...\n",
      "199998    [__label__NEGATIVE, the, food, was, okay, ,, b...\n",
      "199999    [__label__POSITIVE, great, location, in, the, ...\n",
      "dtype: object\n",
      "Saving to csv.\n",
      "CSV saved.\n",
      "199995    [__label__POSITIVE, the, ribs, are, excellent,...\n",
      "199996    [__label__POSITIVE, this, place, is, great, !,...\n",
      "199997    [__label__POSITIVE, love, the, food, here, ., ...\n",
      "199998    [__label__NEGATIVE, the, food, was, okay, ,, b...\n",
      "199999    [__label__NEGATIVE, great, location, in, the, ...\n",
      "dtype: object\n",
      "Saving to csv.\n",
      "CSV saved.\n",
      "\n",
      "Took 489.80 seconds\n"
     ]
    }
   ],
   "source": [
    "for filename in files:\n",
    "    preproc(filename)\n",
    "    clear_output(wait=True)"
   ]
  },
  {
   "cell_type": "code",
   "execution_count": null,
   "metadata": {},
   "outputs": [],
   "source": []
  }
 ],
 "metadata": {
  "kernelspec": {
   "display_name": "Python 3",
   "language": "python",
   "name": "python3"
  },
  "language_info": {
   "codemirror_mode": {
    "name": "ipython",
    "version": 3
   },
   "file_extension": ".py",
   "mimetype": "text/x-python",
   "name": "python",
   "nbconvert_exporter": "python",
   "pygments_lexer": "ipython3",
   "version": "3.7.6"
  }
 },
 "nbformat": 4,
 "nbformat_minor": 4
}
