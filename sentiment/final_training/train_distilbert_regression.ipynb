{
 "cells": [
  {
   "cell_type": "code",
   "execution_count": 1,
   "metadata": {},
   "outputs": [
    {
     "data": {
      "text/plain": [
       "'1.55.3'"
      ]
     },
     "execution_count": 1,
     "metadata": {},
     "output_type": "execute_result"
    }
   ],
   "source": [
    "from sagemaker.tensorflow import TensorFlow\n",
    "import sagemaker\n",
    "from sagemaker import get_execution_role\n",
    "role = get_execution_role()\n",
    "sagemaker.__version__"
   ]
  },
  {
   "cell_type": "code",
   "execution_count": 2,
   "metadata": {},
   "outputs": [],
   "source": [
    "local_estimator = TensorFlow(source_dir='train_script',\n",
    "                             entry_point='launcher.sh',\n",
    "                             model_dir = '/opt/ml/model',\n",
    "                             train_instance_type='ml.g4dn.12xlarge',\n",
    "                             train_volume_size=50,\n",
    "                             train_instance_count=1,\n",
    "                             role=role,\n",
    "                             base_job_name='distilbert-regression',\n",
    "                             framework_version='2.1.0',\n",
    "                             py_version=\"py3\",\n",
    "                             script_mode=True)"
   ]
  },
  {
   "cell_type": "code",
   "execution_count": 3,
   "metadata": {},
   "outputs": [],
   "source": [
    "inputs = {\n",
    "    'train': 's3://yelp-dataset-pt-9/spencer/data/sentiment/en/ktrain/regression/long/small/trn.p',\n",
    "    'test': 's3://yelp-dataset-pt-9/spencer/data/sentiment/en/ktrain/regression/long/small/val.p',\n",
    "    'preproc': 's3://yelp-dataset-pt-9/spencer/data/sentiment/en/ktrain/regression/long/small/preproc.p'\n",
    "}"
   ]
  },
  {
   "cell_type": "code",
   "execution_count": null,
   "metadata": {},
   "outputs": [
    {
     "name": "stdout",
     "output_type": "stream",
     "text": [
      "2020-06-15 06:14:52 Starting - Starting the training job...\n",
      "2020-06-15 06:14:54 Starting - Launching requested ML instances.........\n",
      "2020-06-15 06:16:51 Starting - Preparing the instances for training......\n",
      "2020-06-15 06:17:47 Downloading - Downloading input data......."
     ]
    }
   ],
   "source": [
    "local_estimator.fit(inputs)"
   ]
  },
  {
   "cell_type": "code",
   "execution_count": null,
   "metadata": {},
   "outputs": [],
   "source": []
  }
 ],
 "metadata": {
  "kernelspec": {
   "display_name": "conda_python3",
   "language": "python",
   "name": "conda_python3"
  },
  "language_info": {
   "codemirror_mode": {
    "name": "ipython",
    "version": 3
   },
   "file_extension": ".py",
   "mimetype": "text/x-python",
   "name": "python",
   "nbconvert_exporter": "python",
   "pygments_lexer": "ipython3",
   "version": "3.6.5"
  }
 },
 "nbformat": 4,
 "nbformat_minor": 4
}
