{
 "cells": [
  {
   "cell_type": "code",
   "execution_count": 1,
   "metadata": {},
   "outputs": [],
   "source": [
    "import time\n",
    "import pandas as pd"
   ]
  },
  {
   "cell_type": "code",
   "execution_count": 2,
   "metadata": {},
   "outputs": [
    {
     "data": {
      "text/plain": [
       "34.45745491981506"
      ]
     },
     "execution_count": 2,
     "metadata": {},
     "output_type": "execute_result"
    }
   ],
   "source": [
    "start = time.time()\n",
    "df = pd.read_csv(\"../../../en.csv\")\n",
    "time.time() - start"
   ]
  },
  {
   "cell_type": "code",
   "execution_count": 3,
   "metadata": {},
   "outputs": [
    {
     "data": {
      "text/plain": [
       "(7967838, 2)"
      ]
     },
     "execution_count": 3,
     "metadata": {},
     "output_type": "execute_result"
    }
   ],
   "source": [
    "df.shape"
   ]
  },
  {
   "cell_type": "code",
   "execution_count": 4,
   "metadata": {},
   "outputs": [
    {
     "data": {
      "text/html": [
       "<div>\n",
       "<style scoped>\n",
       "    .dataframe tbody tr th:only-of-type {\n",
       "        vertical-align: middle;\n",
       "    }\n",
       "\n",
       "    .dataframe tbody tr th {\n",
       "        vertical-align: top;\n",
       "    }\n",
       "\n",
       "    .dataframe thead th {\n",
       "        text-align: right;\n",
       "    }\n",
       "</style>\n",
       "<table border=\"1\" class=\"dataframe\">\n",
       "  <thead>\n",
       "    <tr style=\"text-align: right;\">\n",
       "      <th></th>\n",
       "      <th>text</th>\n",
       "      <th>stars</th>\n",
       "    </tr>\n",
       "  </thead>\n",
       "  <tbody>\n",
       "    <tr>\n",
       "      <th>0</th>\n",
       "      <td>As someone who has worked with many museums, I...</td>\n",
       "      <td>2.0</td>\n",
       "    </tr>\n",
       "    <tr>\n",
       "      <th>1</th>\n",
       "      <td>I am actually horrified this place is still in...</td>\n",
       "      <td>1.0</td>\n",
       "    </tr>\n",
       "    <tr>\n",
       "      <th>2</th>\n",
       "      <td>I love Deagan's. I do. I really do. The atmosp...</td>\n",
       "      <td>5.0</td>\n",
       "    </tr>\n",
       "    <tr>\n",
       "      <th>3</th>\n",
       "      <td>Oh happy day, finally have a Canes near my cas...</td>\n",
       "      <td>4.0</td>\n",
       "    </tr>\n",
       "    <tr>\n",
       "      <th>4</th>\n",
       "      <td>This is definitely my favorite fast food sub s...</td>\n",
       "      <td>5.0</td>\n",
       "    </tr>\n",
       "  </tbody>\n",
       "</table>\n",
       "</div>"
      ],
      "text/plain": [
       "                                                text  stars\n",
       "0  As someone who has worked with many museums, I...    2.0\n",
       "1  I am actually horrified this place is still in...    1.0\n",
       "2  I love Deagan's. I do. I really do. The atmosp...    5.0\n",
       "3  Oh happy day, finally have a Canes near my cas...    4.0\n",
       "4  This is definitely my favorite fast food sub s...    5.0"
      ]
     },
     "execution_count": 4,
     "metadata": {},
     "output_type": "execute_result"
    }
   ],
   "source": [
    "df.head()"
   ]
  },
  {
   "cell_type": "code",
   "execution_count": 5,
   "metadata": {},
   "outputs": [
    {
     "data": {
      "text/plain": [
       "text     0\n",
       "stars    0\n",
       "dtype: int64"
      ]
     },
     "execution_count": 5,
     "metadata": {},
     "output_type": "execute_result"
    }
   ],
   "source": [
    "df.isna().sum()"
   ]
  },
  {
   "cell_type": "code",
   "execution_count": 6,
   "metadata": {
    "collapsed": true,
    "jupyter": {
     "outputs_hidden": true
    }
   },
   "outputs": [
    {
     "name": "stdout",
     "output_type": "stream",
     "text": [
      "Requirement already satisfied: spacy in /home/ec2-user/anaconda3/envs/python3/lib/python3.6/site-packages (2.2.4)\n",
      "Requirement already satisfied: blis<0.5.0,>=0.4.0 in /home/ec2-user/anaconda3/envs/python3/lib/python3.6/site-packages (from spacy) (0.4.1)\n",
      "Requirement already satisfied: catalogue<1.1.0,>=0.0.7 in /home/ec2-user/anaconda3/envs/python3/lib/python3.6/site-packages (from spacy) (1.0.0)\n",
      "Requirement already satisfied: setuptools in /home/ec2-user/anaconda3/envs/python3/lib/python3.6/site-packages (from spacy) (39.1.0)\n",
      "Requirement already satisfied: murmurhash<1.1.0,>=0.28.0 in /home/ec2-user/anaconda3/envs/python3/lib/python3.6/site-packages (from spacy) (1.0.2)\n",
      "Requirement already satisfied: tqdm<5.0.0,>=4.38.0 in /home/ec2-user/anaconda3/envs/python3/lib/python3.6/site-packages (from spacy) (4.46.0)\n",
      "Requirement already satisfied: wasabi<1.1.0,>=0.4.0 in /home/ec2-user/anaconda3/envs/python3/lib/python3.6/site-packages (from spacy) (0.6.0)\n",
      "Requirement already satisfied: srsly<1.1.0,>=1.0.2 in /home/ec2-user/anaconda3/envs/python3/lib/python3.6/site-packages (from spacy) (1.0.2)\n",
      "Requirement already satisfied: cymem<2.1.0,>=2.0.2 in /home/ec2-user/anaconda3/envs/python3/lib/python3.6/site-packages (from spacy) (2.0.3)\n",
      "Requirement already satisfied: requests<3.0.0,>=2.13.0 in /home/ec2-user/anaconda3/envs/python3/lib/python3.6/site-packages (from spacy) (2.20.0)\n",
      "Requirement already satisfied: preshed<3.1.0,>=3.0.2 in /home/ec2-user/anaconda3/envs/python3/lib/python3.6/site-packages (from spacy) (3.0.2)\n",
      "Requirement already satisfied: numpy>=1.15.0 in /home/ec2-user/anaconda3/envs/python3/lib/python3.6/site-packages (from spacy) (1.18.4)\n",
      "Requirement already satisfied: plac<1.2.0,>=0.9.6 in /home/ec2-user/anaconda3/envs/python3/lib/python3.6/site-packages (from spacy) (1.1.3)\n",
      "Requirement already satisfied: thinc==7.4.0 in /home/ec2-user/anaconda3/envs/python3/lib/python3.6/site-packages (from spacy) (7.4.0)\n",
      "Requirement already satisfied: importlib-metadata>=0.20; python_version < \"3.8\" in /home/ec2-user/anaconda3/envs/python3/lib/python3.6/site-packages (from catalogue<1.1.0,>=0.0.7->spacy) (1.5.0)\n",
      "Requirement already satisfied: urllib3<1.25,>=1.21.1 in /home/ec2-user/anaconda3/envs/python3/lib/python3.6/site-packages (from requests<3.0.0,>=2.13.0->spacy) (1.23)\n",
      "Requirement already satisfied: idna<2.8,>=2.5 in /home/ec2-user/anaconda3/envs/python3/lib/python3.6/site-packages (from requests<3.0.0,>=2.13.0->spacy) (2.6)\n",
      "Requirement already satisfied: chardet<3.1.0,>=3.0.2 in /home/ec2-user/anaconda3/envs/python3/lib/python3.6/site-packages (from requests<3.0.0,>=2.13.0->spacy) (3.0.4)\n",
      "Requirement already satisfied: certifi>=2017.4.17 in /home/ec2-user/anaconda3/envs/python3/lib/python3.6/site-packages (from requests<3.0.0,>=2.13.0->spacy) (2019.11.28)\n",
      "Requirement already satisfied: zipp>=0.5 in /home/ec2-user/anaconda3/envs/python3/lib/python3.6/site-packages (from importlib-metadata>=0.20; python_version < \"3.8\"->catalogue<1.1.0,>=0.0.7->spacy) (3.0.0)\n",
      "\u001b[33mYou are using pip version 10.0.1, however version 20.2b1 is available.\n",
      "You should consider upgrading via the 'pip install --upgrade pip' command.\u001b[0m\n",
      "Requirement already satisfied: en_core_web_sm==2.2.5 from https://github.com/explosion/spacy-models/releases/download/en_core_web_sm-2.2.5/en_core_web_sm-2.2.5.tar.gz#egg=en_core_web_sm==2.2.5 in /home/ec2-user/anaconda3/envs/python3/lib/python3.6/site-packages (2.2.5)\n",
      "Requirement already satisfied: spacy>=2.2.2 in /home/ec2-user/anaconda3/envs/python3/lib/python3.6/site-packages (from en_core_web_sm==2.2.5) (2.2.4)\n",
      "Requirement already satisfied: murmurhash<1.1.0,>=0.28.0 in /home/ec2-user/anaconda3/envs/python3/lib/python3.6/site-packages (from spacy>=2.2.2->en_core_web_sm==2.2.5) (1.0.2)\n",
      "Requirement already satisfied: blis<0.5.0,>=0.4.0 in /home/ec2-user/anaconda3/envs/python3/lib/python3.6/site-packages (from spacy>=2.2.2->en_core_web_sm==2.2.5) (0.4.1)\n",
      "Requirement already satisfied: numpy>=1.15.0 in /home/ec2-user/anaconda3/envs/python3/lib/python3.6/site-packages (from spacy>=2.2.2->en_core_web_sm==2.2.5) (1.18.4)\n",
      "Requirement already satisfied: plac<1.2.0,>=0.9.6 in /home/ec2-user/anaconda3/envs/python3/lib/python3.6/site-packages (from spacy>=2.2.2->en_core_web_sm==2.2.5) (1.1.3)\n",
      "Requirement already satisfied: cymem<2.1.0,>=2.0.2 in /home/ec2-user/anaconda3/envs/python3/lib/python3.6/site-packages (from spacy>=2.2.2->en_core_web_sm==2.2.5) (2.0.3)\n",
      "Requirement already satisfied: thinc==7.4.0 in /home/ec2-user/anaconda3/envs/python3/lib/python3.6/site-packages (from spacy>=2.2.2->en_core_web_sm==2.2.5) (7.4.0)\n",
      "Requirement already satisfied: tqdm<5.0.0,>=4.38.0 in /home/ec2-user/anaconda3/envs/python3/lib/python3.6/site-packages (from spacy>=2.2.2->en_core_web_sm==2.2.5) (4.46.0)\n",
      "Requirement already satisfied: preshed<3.1.0,>=3.0.2 in /home/ec2-user/anaconda3/envs/python3/lib/python3.6/site-packages (from spacy>=2.2.2->en_core_web_sm==2.2.5) (3.0.2)\n",
      "Requirement already satisfied: setuptools in /home/ec2-user/anaconda3/envs/python3/lib/python3.6/site-packages (from spacy>=2.2.2->en_core_web_sm==2.2.5) (39.1.0)\n",
      "Requirement already satisfied: requests<3.0.0,>=2.13.0 in /home/ec2-user/anaconda3/envs/python3/lib/python3.6/site-packages (from spacy>=2.2.2->en_core_web_sm==2.2.5) (2.20.0)\n",
      "Requirement already satisfied: srsly<1.1.0,>=1.0.2 in /home/ec2-user/anaconda3/envs/python3/lib/python3.6/site-packages (from spacy>=2.2.2->en_core_web_sm==2.2.5) (1.0.2)\n",
      "Requirement already satisfied: catalogue<1.1.0,>=0.0.7 in /home/ec2-user/anaconda3/envs/python3/lib/python3.6/site-packages (from spacy>=2.2.2->en_core_web_sm==2.2.5) (1.0.0)\n",
      "Requirement already satisfied: wasabi<1.1.0,>=0.4.0 in /home/ec2-user/anaconda3/envs/python3/lib/python3.6/site-packages (from spacy>=2.2.2->en_core_web_sm==2.2.5) (0.6.0)\n",
      "Requirement already satisfied: chardet<3.1.0,>=3.0.2 in /home/ec2-user/anaconda3/envs/python3/lib/python3.6/site-packages (from requests<3.0.0,>=2.13.0->spacy>=2.2.2->en_core_web_sm==2.2.5) (3.0.4)\n",
      "Requirement already satisfied: idna<2.8,>=2.5 in /home/ec2-user/anaconda3/envs/python3/lib/python3.6/site-packages (from requests<3.0.0,>=2.13.0->spacy>=2.2.2->en_core_web_sm==2.2.5) (2.6)\n",
      "Requirement already satisfied: urllib3<1.25,>=1.21.1 in /home/ec2-user/anaconda3/envs/python3/lib/python3.6/site-packages (from requests<3.0.0,>=2.13.0->spacy>=2.2.2->en_core_web_sm==2.2.5) (1.23)\n",
      "Requirement already satisfied: certifi>=2017.4.17 in /home/ec2-user/anaconda3/envs/python3/lib/python3.6/site-packages (from requests<3.0.0,>=2.13.0->spacy>=2.2.2->en_core_web_sm==2.2.5) (2019.11.28)\n",
      "Requirement already satisfied: importlib-metadata>=0.20; python_version < \"3.8\" in /home/ec2-user/anaconda3/envs/python3/lib/python3.6/site-packages (from catalogue<1.1.0,>=0.0.7->spacy>=2.2.2->en_core_web_sm==2.2.5) (1.5.0)\n",
      "Requirement already satisfied: zipp>=0.5 in /home/ec2-user/anaconda3/envs/python3/lib/python3.6/site-packages (from importlib-metadata>=0.20; python_version < \"3.8\"->catalogue<1.1.0,>=0.0.7->spacy>=2.2.2->en_core_web_sm==2.2.5) (3.0.0)\n",
      "\u001b[33mYou are using pip version 10.0.1, however version 20.2b1 is available.\n",
      "You should consider upgrading via the 'pip install --upgrade pip' command.\u001b[0m\n",
      "\u001b[38;5;2m✔ Download and installation successful\u001b[0m\n",
      "You can now load the model via spacy.load('en_core_web_sm')\n"
     ]
    }
   ],
   "source": [
    "!pip install spacy\n",
    "!python -m spacy download en_core_web_sm"
   ]
  },
  {
   "cell_type": "code",
   "execution_count": 7,
   "metadata": {},
   "outputs": [],
   "source": [
    "from sklearn.feature_extraction.text import CountVectorizer\n",
    "from collections import defaultdict\n",
    "import spacy\n",
    "from tqdm.notebook import tqdm\n",
    "\n",
    "nlp = spacy.load(\"en_core_web_sm\")"
   ]
  },
  {
   "cell_type": "code",
   "execution_count": 8,
   "metadata": {},
   "outputs": [],
   "source": [
    "def get_lemmas(text):\n",
    "    lemmas = []\n",
    "    \n",
    "    doc = nlp(text, disable=[\"ner\", \"parser\", \"textcat\"])\n",
    "    for token in doc:\n",
    "        if ((token.is_stop == False) and (token.is_punct == False)) and (token.pos_ != 'PRON') and (token.pos_ != 'SPACE') and (token.pos_ != 'NUM'):\n",
    "            lemmas.append(token.lemma_)\n",
    "    return lemmas"
   ]
  },
  {
   "cell_type": "code",
   "execution_count": 9,
   "metadata": {},
   "outputs": [],
   "source": [
    "df['text'] = df['text'].str.lower()"
   ]
  },
  {
   "cell_type": "code",
   "execution_count": 12,
   "metadata": {},
   "outputs": [],
   "source": [
    "good = df[df['stars'].isin([4,5])].sample(700_000, random_state=42)['text']\n",
    "neutral = df[df['stars'] == 3].sample(700_000, random_state=42)['text']\n",
    "bad = df[df['stars'].isin([1,2])].sample(700_000, random_state=42)['text']"
   ]
  },
  {
   "cell_type": "code",
   "execution_count": 13,
   "metadata": {},
   "outputs": [
    {
     "name": "stdout",
     "output_type": "stream",
     "text": [
      "len good: 700,000\n",
      "len neutral: 700,000\n",
      "len bad: 700,000\n"
     ]
    }
   ],
   "source": [
    "print(f'len good: {len(good):,}')\n",
    "print(f'len neutral: {len(neutral):,}')\n",
    "print(f'len bad: {len(bad):,}')"
   ]
  },
  {
   "cell_type": "code",
   "execution_count": 14,
   "metadata": {},
   "outputs": [
    {
     "name": "stdout",
     "output_type": "stream",
     "text": [
      "INFO: Pandarallel will run on 36 workers.\n",
      "INFO: Pandarallel will use Memory file system to transfer data between the main process and workers.\n"
     ]
    }
   ],
   "source": [
    "from pandarallel import pandarallel\n",
    "pandarallel.initialize(progress_bar=True)"
   ]
  },
  {
   "cell_type": "code",
   "execution_count": 15,
   "metadata": {},
   "outputs": [
    {
     "data": {
      "application/vnd.jupyter.widget-view+json": {
       "model_id": "c598780777b649ce894d9986b3334e12",
       "version_major": 2,
       "version_minor": 0
      },
      "text/plain": [
       "VBox(children=(HBox(children=(IntProgress(value=0, description='0.00%', max=19445), Label(value='0 / 19445')))…"
      ]
     },
     "metadata": {},
     "output_type": "display_data"
    },
    {
     "data": {
      "application/vnd.jupyter.widget-view+json": {
       "model_id": "1ca3e9799b3644dc941c671a4cbfb71f",
       "version_major": 2,
       "version_minor": 0
      },
      "text/plain": [
       "VBox(children=(HBox(children=(IntProgress(value=0, description='0.00%', max=19445), Label(value='0 / 19445')))…"
      ]
     },
     "metadata": {},
     "output_type": "display_data"
    },
    {
     "data": {
      "application/vnd.jupyter.widget-view+json": {
       "model_id": "cbfe51ae3eb74911ba63bde05b61ef92",
       "version_major": 2,
       "version_minor": 0
      },
      "text/plain": [
       "VBox(children=(HBox(children=(IntProgress(value=0, description='0.00%', max=19445), Label(value='0 / 19445')))…"
      ]
     },
     "metadata": {},
     "output_type": "display_data"
    }
   ],
   "source": [
    "good_tokens = good.parallel_apply(get_lemmas)\n",
    "neutral_tokens = neutral.parallel_apply(get_lemmas)\n",
    "bad_tokens = bad.parallel_apply(get_lemmas)"
   ]
  },
  {
   "cell_type": "code",
   "execution_count": 16,
   "metadata": {},
   "outputs": [
    {
     "data": {
      "text/plain": [
       "1202445    [good, vietnamese, restaurant, find, calgary, ...\n",
       "4553955    [reservation, dinner, labor, day, weekend, wai...\n",
       "1781331    [amazing, place, chocolate, malt, good, kid, w...\n",
       "2560289    [go, desert, matt, server, huge, help, choosin...\n",
       "1675185    [1st, time, great, selection, import, tea, rea...\n",
       "                                 ...                        \n",
       "2867704    [have, difficult, financial, situation, past, ...\n",
       "4202797    [close, office, frequent, week, big, fan, nood...\n",
       "6223705    [absolutely, adorable, place, variety, homemad...\n",
       "3258890    [good, spot, date, night, client, entertaining...\n",
       "2776543    [extremely, happy, speed, service, smog, auto,...\n",
       "Name: text, Length: 700000, dtype: object"
      ]
     },
     "execution_count": 16,
     "metadata": {},
     "output_type": "execute_result"
    }
   ],
   "source": [
    "good_tokens"
   ]
  },
  {
   "cell_type": "code",
   "execution_count": 17,
   "metadata": {},
   "outputs": [
    {
     "data": {
      "text/plain": [
       "3396074    [santisis, place, sport, fan, look, like, stup...\n",
       "5090170    [sushi, excellent, cody, bartender, good, grip...\n",
       "1115718    [place, great, modern, look, w, rothko, ish, p...\n",
       "4881854    [floor, look, nice, issue, get, finish, bathro...\n",
       "6845977    [stop, store, arrive, hour, early, appointment...\n",
       "                                 ...                        \n",
       "214227     [visit, cracker, barrel, drive, phoenix, retur...\n",
       "6258515    [grow, charlotte, brewery, scene, pilot, brewi...\n",
       "1661294    [hot, bowl, great, wife, caesar, salad, price,...\n",
       "3670316    [understand, lure, joey, think, partial, chain...\n",
       "342625     [small, clean, location, limited, seating, fin...\n",
       "Name: text, Length: 700000, dtype: object"
      ]
     },
     "execution_count": 17,
     "metadata": {},
     "output_type": "execute_result"
    }
   ],
   "source": [
    "neutral_tokens"
   ]
  },
  {
   "cell_type": "code",
   "execution_count": 18,
   "metadata": {},
   "outputs": [
    {
     "data": {
      "text/plain": [
       "5619671    [sephora, hell, avoid, rage, purple, haired, w...\n",
       "1527091    [place, fuckin, suck, reserve, double, room, d...\n",
       "6203374    [disappointed, receive, little, $, +, tax, sim...\n",
       "1482890    [avoid, place, walk, go, birthday, night, want...\n",
       "3766496    [indirectly, customer, dealership, buy, vespa,...\n",
       "                                 ...                        \n",
       "1563975    [go, friday, night, mistake, people, wait, tab...\n",
       "7872632    [work, starbuck, damn, exactly, work, guy, lob...\n",
       "6357872    [second, time, visit, restaurant, time, year, ...\n",
       "774580     [high, price, burger, pretty, vegas, cheap, se...\n",
       "514190     [high, ticket, price, seat, recline, tiny, the...\n",
       "Name: text, Length: 700000, dtype: object"
      ]
     },
     "execution_count": 18,
     "metadata": {},
     "output_type": "execute_result"
    }
   ],
   "source": [
    "bad_tokens"
   ]
  },
  {
   "cell_type": "code",
   "execution_count": 19,
   "metadata": {},
   "outputs": [],
   "source": [
    "from collections import Counter\n",
    "\n",
    "def counts(tokens):\n",
    "    word_counts = Counter()\n",
    "\n",
    "    for _, token in tqdm(tokens.iteritems(), total=len(tokens)):\n",
    "        word_counts.update(token)\n",
    "\n",
    "    return dict(word_counts)"
   ]
  },
  {
   "cell_type": "code",
   "execution_count": 20,
   "metadata": {},
   "outputs": [
    {
     "data": {
      "application/vnd.jupyter.widget-view+json": {
       "model_id": "d9c6c577ba594f32a4c238358f63cd74",
       "version_major": 2,
       "version_minor": 0
      },
      "text/plain": [
       "HBox(children=(FloatProgress(value=0.0, max=700000.0), HTML(value='')))"
      ]
     },
     "metadata": {},
     "output_type": "display_data"
    },
    {
     "name": "stdout",
     "output_type": "stream",
     "text": [
      "\n"
     ]
    },
    {
     "data": {
      "application/vnd.jupyter.widget-view+json": {
       "model_id": "38ab9faa83974421a6f01e3394e2bc86",
       "version_major": 2,
       "version_minor": 0
      },
      "text/plain": [
       "HBox(children=(FloatProgress(value=0.0, max=700000.0), HTML(value='')))"
      ]
     },
     "metadata": {},
     "output_type": "display_data"
    },
    {
     "name": "stdout",
     "output_type": "stream",
     "text": [
      "\n"
     ]
    },
    {
     "data": {
      "application/vnd.jupyter.widget-view+json": {
       "model_id": "15e8a7fdb59c44ce9e55126e691c075c",
       "version_major": 2,
       "version_minor": 0
      },
      "text/plain": [
       "HBox(children=(FloatProgress(value=0.0, max=700000.0), HTML(value='')))"
      ]
     },
     "metadata": {},
     "output_type": "display_data"
    },
    {
     "name": "stdout",
     "output_type": "stream",
     "text": [
      "\n"
     ]
    }
   ],
   "source": [
    "good_counts = counts(good_tokens)\n",
    "neutral_counts = counts(neutral_tokens)\n",
    "bad_counts = counts(bad_tokens)"
   ]
  },
  {
   "cell_type": "code",
   "execution_count": 137,
   "metadata": {},
   "outputs": [],
   "source": [
    "good_counts_df = pd.DataFrame(list(good_counts.items()), columns=['word', 'count']).sort_values(ascending=False, by=\"count\")\n",
    "neutral_counts_df = pd.DataFrame(list(neutral_counts.items()), columns=['word', 'count']).sort_values(ascending=False, by=\"count\")\n",
    "bad_counts_df = pd.DataFrame(list(bad_counts.items()), columns=['word', 'count']).sort_values(ascending=False, by=\"count\")"
   ]
  },
  {
   "cell_type": "code",
   "execution_count": 138,
   "metadata": {},
   "outputs": [
    {
     "data": {
      "text/html": [
       "<div>\n",
       "<style scoped>\n",
       "    .dataframe tbody tr th:only-of-type {\n",
       "        vertical-align: middle;\n",
       "    }\n",
       "\n",
       "    .dataframe tbody tr th {\n",
       "        vertical-align: top;\n",
       "    }\n",
       "\n",
       "    .dataframe thead th {\n",
       "        text-align: right;\n",
       "    }\n",
       "</style>\n",
       "<table border=\"1\" class=\"dataframe\">\n",
       "  <thead>\n",
       "    <tr style=\"text-align: right;\">\n",
       "      <th></th>\n",
       "      <th>word</th>\n",
       "      <th>count</th>\n",
       "    </tr>\n",
       "  </thead>\n",
       "  <tbody>\n",
       "    <tr>\n",
       "      <th>0</th>\n",
       "      <td>good</td>\n",
       "      <td>476984</td>\n",
       "    </tr>\n",
       "    <tr>\n",
       "      <th>34</th>\n",
       "      <td>great</td>\n",
       "      <td>386742</td>\n",
       "    </tr>\n",
       "    <tr>\n",
       "      <th>67</th>\n",
       "      <td>place</td>\n",
       "      <td>373394</td>\n",
       "    </tr>\n",
       "    <tr>\n",
       "      <th>6</th>\n",
       "      <td>food</td>\n",
       "      <td>325496</td>\n",
       "    </tr>\n",
       "    <tr>\n",
       "      <th>101</th>\n",
       "      <td>time</td>\n",
       "      <td>264039</td>\n",
       "    </tr>\n",
       "  </tbody>\n",
       "</table>\n",
       "</div>"
      ],
      "text/plain": [
       "      word   count\n",
       "0     good  476984\n",
       "34   great  386742\n",
       "67   place  373394\n",
       "6     food  325496\n",
       "101   time  264039"
      ]
     },
     "execution_count": 138,
     "metadata": {},
     "output_type": "execute_result"
    }
   ],
   "source": [
    "good_counts_df.head()"
   ]
  },
  {
   "cell_type": "code",
   "execution_count": 139,
   "metadata": {},
   "outputs": [
    {
     "data": {
      "text/html": [
       "<div>\n",
       "<style scoped>\n",
       "    .dataframe tbody tr th:only-of-type {\n",
       "        vertical-align: middle;\n",
       "    }\n",
       "\n",
       "    .dataframe tbody tr th {\n",
       "        vertical-align: top;\n",
       "    }\n",
       "\n",
       "    .dataframe thead th {\n",
       "        text-align: right;\n",
       "    }\n",
       "</style>\n",
       "<table border=\"1\" class=\"dataframe\">\n",
       "  <thead>\n",
       "    <tr style=\"text-align: right;\">\n",
       "      <th></th>\n",
       "      <th>word</th>\n",
       "      <th>count</th>\n",
       "    </tr>\n",
       "  </thead>\n",
       "  <tbody>\n",
       "    <tr>\n",
       "      <th>106</th>\n",
       "      <td>good</td>\n",
       "      <td>639871</td>\n",
       "    </tr>\n",
       "    <tr>\n",
       "      <th>68</th>\n",
       "      <td>food</td>\n",
       "      <td>502198</td>\n",
       "    </tr>\n",
       "    <tr>\n",
       "      <th>1</th>\n",
       "      <td>place</td>\n",
       "      <td>440121</td>\n",
       "    </tr>\n",
       "    <tr>\n",
       "      <th>5</th>\n",
       "      <td>like</td>\n",
       "      <td>396793</td>\n",
       "    </tr>\n",
       "    <tr>\n",
       "      <th>292</th>\n",
       "      <td>order</td>\n",
       "      <td>362025</td>\n",
       "    </tr>\n",
       "  </tbody>\n",
       "</table>\n",
       "</div>"
      ],
      "text/plain": [
       "      word   count\n",
       "106   good  639871\n",
       "68    food  502198\n",
       "1    place  440121\n",
       "5     like  396793\n",
       "292  order  362025"
      ]
     },
     "execution_count": 139,
     "metadata": {},
     "output_type": "execute_result"
    }
   ],
   "source": [
    "neutral_counts_df.head()"
   ]
  },
  {
   "cell_type": "code",
   "execution_count": 140,
   "metadata": {},
   "outputs": [
    {
     "data": {
      "text/html": [
       "<div>\n",
       "<style scoped>\n",
       "    .dataframe tbody tr th:only-of-type {\n",
       "        vertical-align: middle;\n",
       "    }\n",
       "\n",
       "    .dataframe tbody tr th {\n",
       "        vertical-align: top;\n",
       "    }\n",
       "\n",
       "    .dataframe thead th {\n",
       "        text-align: right;\n",
       "    }\n",
       "</style>\n",
       "<table border=\"1\" class=\"dataframe\">\n",
       "  <thead>\n",
       "    <tr style=\"text-align: right;\">\n",
       "      <th></th>\n",
       "      <th>word</th>\n",
       "      <th>count</th>\n",
       "    </tr>\n",
       "  </thead>\n",
       "  <tbody>\n",
       "    <tr>\n",
       "      <th>37</th>\n",
       "      <td>time</td>\n",
       "      <td>406346</td>\n",
       "    </tr>\n",
       "    <tr>\n",
       "      <th>290</th>\n",
       "      <td>food</td>\n",
       "      <td>388675</td>\n",
       "    </tr>\n",
       "    <tr>\n",
       "      <th>275</th>\n",
       "      <td>order</td>\n",
       "      <td>378748</td>\n",
       "    </tr>\n",
       "    <tr>\n",
       "      <th>107</th>\n",
       "      <td>place</td>\n",
       "      <td>366175</td>\n",
       "    </tr>\n",
       "    <tr>\n",
       "      <th>38</th>\n",
       "      <td>come</td>\n",
       "      <td>362609</td>\n",
       "    </tr>\n",
       "  </tbody>\n",
       "</table>\n",
       "</div>"
      ],
      "text/plain": [
       "      word   count\n",
       "37    time  406346\n",
       "290   food  388675\n",
       "275  order  378748\n",
       "107  place  366175\n",
       "38    come  362609"
      ]
     },
     "execution_count": 140,
     "metadata": {},
     "output_type": "execute_result"
    }
   ],
   "source": [
    "bad_counts_df.head()"
   ]
  },
  {
   "cell_type": "code",
   "execution_count": 141,
   "metadata": {},
   "outputs": [
    {
     "data": {
      "text/plain": [
       "((201727, 2), (207577, 2), (226935, 2))"
      ]
     },
     "execution_count": 141,
     "metadata": {},
     "output_type": "execute_result"
    }
   ],
   "source": [
    "good_counts_df.shape, neutral_counts_df.shape, bad_counts_df.shape"
   ]
  },
  {
   "cell_type": "code",
   "execution_count": 142,
   "metadata": {},
   "outputs": [
    {
     "data": {
      "text/plain": [
       "count    201727.000000\n",
       "mean        144.894560\n",
       "std        2951.400878\n",
       "min           1.000000\n",
       "25%           1.000000\n",
       "50%           1.000000\n",
       "75%           4.000000\n",
       "max      476984.000000\n",
       "Name: count, dtype: float64"
      ]
     },
     "execution_count": 142,
     "metadata": {},
     "output_type": "execute_result"
    }
   ],
   "source": [
    "good_counts_df['count'].describe()"
   ]
  },
  {
   "cell_type": "code",
   "execution_count": 143,
   "metadata": {},
   "outputs": [
    {
     "data": {
      "text/plain": [
       "count    207577.000000\n",
       "mean        187.050955\n",
       "std        3874.569024\n",
       "min           1.000000\n",
       "25%           1.000000\n",
       "50%           1.000000\n",
       "75%           4.000000\n",
       "max      639871.000000\n",
       "Name: count, dtype: float64"
      ]
     },
     "execution_count": 143,
     "metadata": {},
     "output_type": "execute_result"
    }
   ],
   "source": [
    "neutral_counts_df['count'].describe()"
   ]
  },
  {
   "cell_type": "code",
   "execution_count": 144,
   "metadata": {},
   "outputs": [
    {
     "data": {
      "text/plain": [
       "count    226935.000000\n",
       "mean        175.781594\n",
       "std        3659.919839\n",
       "min           1.000000\n",
       "25%           1.000000\n",
       "50%           1.000000\n",
       "75%           4.000000\n",
       "max      406346.000000\n",
       "Name: count, dtype: float64"
      ]
     },
     "execution_count": 144,
     "metadata": {},
     "output_type": "execute_result"
    }
   ],
   "source": [
    "bad_counts_df['count'].describe()"
   ]
  },
  {
   "cell_type": "code",
   "execution_count": 160,
   "metadata": {},
   "outputs": [],
   "source": [
    "bad_counts_df = bad_counts_df[bad_counts_df['count'] > 100]\n",
    "neutral_counts_df = neutral_counts_df[neutral_counts_df['count'] > 100]\n",
    "good_counts_df = good_counts_df[good_counts_df['count'] > 100]"
   ]
  },
  {
   "cell_type": "code",
   "execution_count": 161,
   "metadata": {},
   "outputs": [
    {
     "data": {
      "text/plain": [
       "((8119, 4), (8019, 4), (7572, 4))"
      ]
     },
     "execution_count": 161,
     "metadata": {},
     "output_type": "execute_result"
    }
   ],
   "source": [
    "bad_counts_df.shape, neutral_counts_df.shape, good_counts_df.shape "
   ]
  },
  {
   "cell_type": "code",
   "execution_count": 162,
   "metadata": {},
   "outputs": [],
   "source": [
    "good_counts_df['diff'] = good_counts_df['count'] - (neutral_counts_df['count'] + bad_counts_df['count'])"
   ]
  },
  {
   "cell_type": "code",
   "execution_count": 163,
   "metadata": {},
   "outputs": [],
   "source": [
    "neutral_counts_df['diff'] = neutral_counts_df['count'] - (good_counts_df['count'] + bad_counts_df['count'])"
   ]
  },
  {
   "cell_type": "code",
   "execution_count": 164,
   "metadata": {},
   "outputs": [],
   "source": [
    "bad_counts_df['diff'] = bad_counts_df['count'] - (good_counts_df['count'] + neutral_counts_df['count'])"
   ]
  },
  {
   "cell_type": "code",
   "execution_count": 165,
   "metadata": {},
   "outputs": [
    {
     "data": {
      "text/html": [
       "<div>\n",
       "<style scoped>\n",
       "    .dataframe tbody tr th:only-of-type {\n",
       "        vertical-align: middle;\n",
       "    }\n",
       "\n",
       "    .dataframe tbody tr th {\n",
       "        vertical-align: top;\n",
       "    }\n",
       "\n",
       "    .dataframe thead th {\n",
       "        text-align: right;\n",
       "    }\n",
       "</style>\n",
       "<table border=\"1\" class=\"dataframe\">\n",
       "  <thead>\n",
       "    <tr style=\"text-align: right;\">\n",
       "      <th></th>\n",
       "      <th>word</th>\n",
       "      <th>count</th>\n",
       "      <th>diff</th>\n",
       "      <th>diff_pct</th>\n",
       "    </tr>\n",
       "  </thead>\n",
       "  <tbody>\n",
       "    <tr>\n",
       "      <th>37</th>\n",
       "      <td>time</td>\n",
       "      <td>406346</td>\n",
       "      <td>405512.0</td>\n",
       "      <td>0.995904</td>\n",
       "    </tr>\n",
       "    <tr>\n",
       "      <th>107</th>\n",
       "      <td>place</td>\n",
       "      <td>366175</td>\n",
       "      <td>342457.0</td>\n",
       "      <td>0.878336</td>\n",
       "    </tr>\n",
       "    <tr>\n",
       "      <th>275</th>\n",
       "      <td>order</td>\n",
       "      <td>378748</td>\n",
       "      <td>332435.0</td>\n",
       "      <td>0.782088</td>\n",
       "    </tr>\n",
       "    <tr>\n",
       "      <th>376</th>\n",
       "      <td>service</td>\n",
       "      <td>342134</td>\n",
       "      <td>312226.0</td>\n",
       "      <td>0.839222</td>\n",
       "    </tr>\n",
       "    <tr>\n",
       "      <th>25</th>\n",
       "      <td>go</td>\n",
       "      <td>338809</td>\n",
       "      <td>300806.0</td>\n",
       "      <td>0.798292</td>\n",
       "    </tr>\n",
       "    <tr>\n",
       "      <th>...</th>\n",
       "      <td>...</td>\n",
       "      <td>...</td>\n",
       "      <td>...</td>\n",
       "      <td>...</td>\n",
       "    </tr>\n",
       "    <tr>\n",
       "      <th>3148</th>\n",
       "      <td>socially</td>\n",
       "      <td>101</td>\n",
       "      <td>NaN</td>\n",
       "      <td>-0.913896</td>\n",
       "    </tr>\n",
       "    <tr>\n",
       "      <th>15796</th>\n",
       "      <td>evolve</td>\n",
       "      <td>101</td>\n",
       "      <td>NaN</td>\n",
       "      <td>-0.308219</td>\n",
       "    </tr>\n",
       "    <tr>\n",
       "      <th>22238</th>\n",
       "      <td>fairy</td>\n",
       "      <td>101</td>\n",
       "      <td>NaN</td>\n",
       "      <td>0.303226</td>\n",
       "    </tr>\n",
       "    <tr>\n",
       "      <th>14378</th>\n",
       "      <td>giveaway</td>\n",
       "      <td>101</td>\n",
       "      <td>NaN</td>\n",
       "      <td>0.004975</td>\n",
       "    </tr>\n",
       "    <tr>\n",
       "      <th>12884</th>\n",
       "      <td>worship</td>\n",
       "      <td>101</td>\n",
       "      <td>NaN</td>\n",
       "      <td>-0.182186</td>\n",
       "    </tr>\n",
       "  </tbody>\n",
       "</table>\n",
       "<p>8119 rows × 4 columns</p>\n",
       "</div>"
      ],
      "text/plain": [
       "           word   count      diff  diff_pct\n",
       "37         time  406346  405512.0  0.995904\n",
       "107       place  366175  342457.0  0.878336\n",
       "275       order  378748  332435.0  0.782088\n",
       "376     service  342134  312226.0  0.839222\n",
       "25           go  338809  300806.0  0.798292\n",
       "...         ...     ...       ...       ...\n",
       "3148   socially     101       NaN -0.913896\n",
       "15796    evolve     101       NaN -0.308219\n",
       "22238     fairy     101       NaN  0.303226\n",
       "14378  giveaway     101       NaN  0.004975\n",
       "12884   worship     101       NaN -0.182186\n",
       "\n",
       "[8119 rows x 4 columns]"
      ]
     },
     "execution_count": 165,
     "metadata": {},
     "output_type": "execute_result"
    }
   ],
   "source": [
    "bad_counts_df.sort_values('diff', ascending=False)"
   ]
  },
  {
   "cell_type": "code",
   "execution_count": 166,
   "metadata": {},
   "outputs": [
    {
     "data": {
      "text/html": [
       "<div>\n",
       "<style scoped>\n",
       "    .dataframe tbody tr th:only-of-type {\n",
       "        vertical-align: middle;\n",
       "    }\n",
       "\n",
       "    .dataframe tbody tr th {\n",
       "        vertical-align: top;\n",
       "    }\n",
       "\n",
       "    .dataframe thead th {\n",
       "        text-align: right;\n",
       "    }\n",
       "</style>\n",
       "<table border=\"1\" class=\"dataframe\">\n",
       "  <thead>\n",
       "    <tr style=\"text-align: right;\">\n",
       "      <th></th>\n",
       "      <th>word</th>\n",
       "      <th>count</th>\n",
       "      <th>diff</th>\n",
       "      <th>diff_pct</th>\n",
       "    </tr>\n",
       "  </thead>\n",
       "  <tbody>\n",
       "    <tr>\n",
       "      <th>6</th>\n",
       "      <td>food</td>\n",
       "      <td>325496</td>\n",
       "      <td>323012.0</td>\n",
       "      <td>0.984853</td>\n",
       "    </tr>\n",
       "    <tr>\n",
       "      <th>67</th>\n",
       "      <td>place</td>\n",
       "      <td>373394</td>\n",
       "      <td>296846.0</td>\n",
       "      <td>0.659743</td>\n",
       "    </tr>\n",
       "    <tr>\n",
       "      <th>118</th>\n",
       "      <td>like</td>\n",
       "      <td>219635</td>\n",
       "      <td>185530.0</td>\n",
       "      <td>0.731182</td>\n",
       "    </tr>\n",
       "    <tr>\n",
       "      <th>17</th>\n",
       "      <td>try</td>\n",
       "      <td>170310</td>\n",
       "      <td>167520.0</td>\n",
       "      <td>0.967764</td>\n",
       "    </tr>\n",
       "    <tr>\n",
       "      <th>34</th>\n",
       "      <td>great</td>\n",
       "      <td>386742</td>\n",
       "      <td>154705.0</td>\n",
       "      <td>0.250017</td>\n",
       "    </tr>\n",
       "    <tr>\n",
       "      <th>...</th>\n",
       "      <td>...</td>\n",
       "      <td>...</td>\n",
       "      <td>...</td>\n",
       "      <td>...</td>\n",
       "    </tr>\n",
       "    <tr>\n",
       "      <th>13559</th>\n",
       "      <td>terrasse</td>\n",
       "      <td>101</td>\n",
       "      <td>NaN</td>\n",
       "      <td>-0.427762</td>\n",
       "    </tr>\n",
       "    <tr>\n",
       "      <th>11639</th>\n",
       "      <td>understated</td>\n",
       "      <td>101</td>\n",
       "      <td>NaN</td>\n",
       "      <td>0.128492</td>\n",
       "    </tr>\n",
       "    <tr>\n",
       "      <th>18801</th>\n",
       "      <td>acquaintance</td>\n",
       "      <td>101</td>\n",
       "      <td>NaN</td>\n",
       "      <td>-0.158333</td>\n",
       "    </tr>\n",
       "    <tr>\n",
       "      <th>19522</th>\n",
       "      <td>dipper</td>\n",
       "      <td>101</td>\n",
       "      <td>NaN</td>\n",
       "      <td>0.086022</td>\n",
       "    </tr>\n",
       "    <tr>\n",
       "      <th>16088</th>\n",
       "      <td>dolmade</td>\n",
       "      <td>101</td>\n",
       "      <td>NaN</td>\n",
       "      <td>-0.042654</td>\n",
       "    </tr>\n",
       "  </tbody>\n",
       "</table>\n",
       "<p>7572 rows × 4 columns</p>\n",
       "</div>"
      ],
      "text/plain": [
       "               word   count      diff  diff_pct\n",
       "6              food  325496  323012.0  0.984853\n",
       "67            place  373394  296846.0  0.659743\n",
       "118            like  219635  185530.0  0.731182\n",
       "17              try  170310  167520.0  0.967764\n",
       "34            great  386742  154705.0  0.250017\n",
       "...             ...     ...       ...       ...\n",
       "13559      terrasse     101       NaN -0.427762\n",
       "11639   understated     101       NaN  0.128492\n",
       "18801  acquaintance     101       NaN -0.158333\n",
       "19522        dipper     101       NaN  0.086022\n",
       "16088       dolmade     101       NaN -0.042654\n",
       "\n",
       "[7572 rows x 4 columns]"
      ]
     },
     "execution_count": 166,
     "metadata": {},
     "output_type": "execute_result"
    }
   ],
   "source": [
    "good_counts_df.sort_values('diff', ascending=False)"
   ]
  },
  {
   "cell_type": "code",
   "execution_count": 167,
   "metadata": {},
   "outputs": [],
   "source": [
    "good_counts_df = good_counts_df.dropna()\n",
    "neutral_counts_df = neutral_counts_df.dropna()\n",
    "bad_counts_df = bad_counts_df.dropna()"
   ]
  },
  {
   "cell_type": "code",
   "execution_count": 168,
   "metadata": {},
   "outputs": [
    {
     "data": {
      "text/plain": [
       "((4590, 4), (4590, 4), (4590, 4))"
      ]
     },
     "execution_count": 168,
     "metadata": {},
     "output_type": "execute_result"
    }
   ],
   "source": [
    "bad_counts_df.shape, neutral_counts_df.shape, good_counts_df.shape "
   ]
  },
  {
   "cell_type": "code",
   "execution_count": 169,
   "metadata": {},
   "outputs": [],
   "source": [
    "good_counts_df['diff_pct'] = good_counts_df['diff'] / (good_counts_df['count'] + neutral_counts_df['count'] + bad_counts_df['count'])"
   ]
  },
  {
   "cell_type": "code",
   "execution_count": 170,
   "metadata": {},
   "outputs": [
    {
     "data": {
      "text/html": [
       "<div>\n",
       "<style scoped>\n",
       "    .dataframe tbody tr th:only-of-type {\n",
       "        vertical-align: middle;\n",
       "    }\n",
       "\n",
       "    .dataframe tbody tr th {\n",
       "        vertical-align: top;\n",
       "    }\n",
       "\n",
       "    .dataframe thead th {\n",
       "        text-align: right;\n",
       "    }\n",
       "</style>\n",
       "<table border=\"1\" class=\"dataframe\">\n",
       "  <thead>\n",
       "    <tr style=\"text-align: right;\">\n",
       "      <th></th>\n",
       "      <th>word</th>\n",
       "      <th>count</th>\n",
       "      <th>diff</th>\n",
       "      <th>diff_pct</th>\n",
       "    </tr>\n",
       "  </thead>\n",
       "  <tbody>\n",
       "    <tr>\n",
       "      <th>6</th>\n",
       "      <td>food</td>\n",
       "      <td>325496</td>\n",
       "      <td>323012.0</td>\n",
       "      <td>0.984853</td>\n",
       "    </tr>\n",
       "    <tr>\n",
       "      <th>17</th>\n",
       "      <td>try</td>\n",
       "      <td>170310</td>\n",
       "      <td>167520.0</td>\n",
       "      <td>0.967764</td>\n",
       "    </tr>\n",
       "    <tr>\n",
       "      <th>135</th>\n",
       "      <td>definitely</td>\n",
       "      <td>122389</td>\n",
       "      <td>119836.0</td>\n",
       "      <td>0.959133</td>\n",
       "    </tr>\n",
       "    <tr>\n",
       "      <th>2160</th>\n",
       "      <td>noodle</td>\n",
       "      <td>21417</td>\n",
       "      <td>20939.0</td>\n",
       "      <td>0.956337</td>\n",
       "    </tr>\n",
       "    <tr>\n",
       "      <th>522</th>\n",
       "      <td>crab</td>\n",
       "      <td>13469</td>\n",
       "      <td>13115.0</td>\n",
       "      <td>0.948781</td>\n",
       "    </tr>\n",
       "    <tr>\n",
       "      <th>212</th>\n",
       "      <td>cheese</td>\n",
       "      <td>55559</td>\n",
       "      <td>53984.0</td>\n",
       "      <td>0.944866</td>\n",
       "    </tr>\n",
       "    <tr>\n",
       "      <th>957</th>\n",
       "      <td>wine</td>\n",
       "      <td>27698</td>\n",
       "      <td>26754.0</td>\n",
       "      <td>0.934083</td>\n",
       "    </tr>\n",
       "    <tr>\n",
       "      <th>608</th>\n",
       "      <td>receive</td>\n",
       "      <td>14623</td>\n",
       "      <td>14085.0</td>\n",
       "      <td>0.929028</td>\n",
       "    </tr>\n",
       "    <tr>\n",
       "      <th>1693</th>\n",
       "      <td>eye</td>\n",
       "      <td>11536</td>\n",
       "      <td>11097.0</td>\n",
       "      <td>0.926681</td>\n",
       "    </tr>\n",
       "    <tr>\n",
       "      <th>393</th>\n",
       "      <td>professional</td>\n",
       "      <td>28129</td>\n",
       "      <td>27058.0</td>\n",
       "      <td>0.926644</td>\n",
       "    </tr>\n",
       "    <tr>\n",
       "      <th>1186</th>\n",
       "      <td>miss</td>\n",
       "      <td>16133</td>\n",
       "      <td>15449.0</td>\n",
       "      <td>0.918654</td>\n",
       "    </tr>\n",
       "    <tr>\n",
       "      <th>2278</th>\n",
       "      <td>veggie</td>\n",
       "      <td>15115</td>\n",
       "      <td>14459.0</td>\n",
       "      <td>0.916809</td>\n",
       "    </tr>\n",
       "    <tr>\n",
       "      <th>2227</th>\n",
       "      <td>girlfriend</td>\n",
       "      <td>5536</td>\n",
       "      <td>5295.0</td>\n",
       "      <td>0.916566</td>\n",
       "    </tr>\n",
       "    <tr>\n",
       "      <th>503</th>\n",
       "      <td>level</td>\n",
       "      <td>13104</td>\n",
       "      <td>12494.0</td>\n",
       "      <td>0.911040</td>\n",
       "    </tr>\n",
       "    <tr>\n",
       "      <th>1913</th>\n",
       "      <td>better</td>\n",
       "      <td>14196</td>\n",
       "      <td>13527.0</td>\n",
       "      <td>0.909990</td>\n",
       "    </tr>\n",
       "    <tr>\n",
       "      <th>1019</th>\n",
       "      <td>remember</td>\n",
       "      <td>16580</td>\n",
       "      <td>15792.0</td>\n",
       "      <td>0.909258</td>\n",
       "    </tr>\n",
       "    <tr>\n",
       "      <th>3139</th>\n",
       "      <td>present</td>\n",
       "      <td>5127</td>\n",
       "      <td>4879.0</td>\n",
       "      <td>0.907721</td>\n",
       "    </tr>\n",
       "    <tr>\n",
       "      <th>136</th>\n",
       "      <td>need</td>\n",
       "      <td>85368</td>\n",
       "      <td>80576.0</td>\n",
       "      <td>0.893700</td>\n",
       "    </tr>\n",
       "    <tr>\n",
       "      <th>1214</th>\n",
       "      <td>park</td>\n",
       "      <td>13615</td>\n",
       "      <td>12831.0</td>\n",
       "      <td>0.891104</td>\n",
       "    </tr>\n",
       "    <tr>\n",
       "      <th>1024</th>\n",
       "      <td>actually</td>\n",
       "      <td>28430</td>\n",
       "      <td>26771.0</td>\n",
       "      <td>0.889727</td>\n",
       "    </tr>\n",
       "  </tbody>\n",
       "</table>\n",
       "</div>"
      ],
      "text/plain": [
       "              word   count      diff  diff_pct\n",
       "6             food  325496  323012.0  0.984853\n",
       "17             try  170310  167520.0  0.967764\n",
       "135     definitely  122389  119836.0  0.959133\n",
       "2160        noodle   21417   20939.0  0.956337\n",
       "522           crab   13469   13115.0  0.948781\n",
       "212         cheese   55559   53984.0  0.944866\n",
       "957           wine   27698   26754.0  0.934083\n",
       "608        receive   14623   14085.0  0.929028\n",
       "1693           eye   11536   11097.0  0.926681\n",
       "393   professional   28129   27058.0  0.926644\n",
       "1186          miss   16133   15449.0  0.918654\n",
       "2278        veggie   15115   14459.0  0.916809\n",
       "2227    girlfriend    5536    5295.0  0.916566\n",
       "503          level   13104   12494.0  0.911040\n",
       "1913        better   14196   13527.0  0.909990\n",
       "1019      remember   16580   15792.0  0.909258\n",
       "3139       present    5127    4879.0  0.907721\n",
       "136           need   85368   80576.0  0.893700\n",
       "1214          park   13615   12831.0  0.891104\n",
       "1024      actually   28430   26771.0  0.889727"
      ]
     },
     "execution_count": 170,
     "metadata": {},
     "output_type": "execute_result"
    }
   ],
   "source": [
    "good_counts_df.sort_values(by='diff_pct', ascending=False).head(20)"
   ]
  },
  {
   "cell_type": "code",
   "execution_count": 171,
   "metadata": {},
   "outputs": [],
   "source": [
    "bad_counts_df['diff_pct'] = bad_counts_df['diff'] / (good_counts_df['count'] + neutral_counts_df['count'] + bad_counts_df['count'])"
   ]
  },
  {
   "cell_type": "code",
   "execution_count": 172,
   "metadata": {},
   "outputs": [
    {
     "data": {
      "text/html": [
       "<div>\n",
       "<style scoped>\n",
       "    .dataframe tbody tr th:only-of-type {\n",
       "        vertical-align: middle;\n",
       "    }\n",
       "\n",
       "    .dataframe tbody tr th {\n",
       "        vertical-align: top;\n",
       "    }\n",
       "\n",
       "    .dataframe thead th {\n",
       "        text-align: right;\n",
       "    }\n",
       "</style>\n",
       "<table border=\"1\" class=\"dataframe\">\n",
       "  <thead>\n",
       "    <tr style=\"text-align: right;\">\n",
       "      <th></th>\n",
       "      <th>word</th>\n",
       "      <th>count</th>\n",
       "      <th>diff</th>\n",
       "      <th>diff_pct</th>\n",
       "    </tr>\n",
       "  </thead>\n",
       "  <tbody>\n",
       "    <tr>\n",
       "      <th>37</th>\n",
       "      <td>time</td>\n",
       "      <td>406346</td>\n",
       "      <td>405512.0</td>\n",
       "      <td>0.995904</td>\n",
       "    </tr>\n",
       "    <tr>\n",
       "      <th>1077</th>\n",
       "      <td>car</td>\n",
       "      <td>111671</td>\n",
       "      <td>111315.0</td>\n",
       "      <td>0.993644</td>\n",
       "    </tr>\n",
       "    <tr>\n",
       "      <th>399</th>\n",
       "      <td>clean</td>\n",
       "      <td>54473</td>\n",
       "      <td>53948.0</td>\n",
       "      <td>0.980908</td>\n",
       "    </tr>\n",
       "    <tr>\n",
       "      <th>149</th>\n",
       "      <td>way</td>\n",
       "      <td>117924</td>\n",
       "      <td>116656.0</td>\n",
       "      <td>0.978723</td>\n",
       "    </tr>\n",
       "    <tr>\n",
       "      <th>882</th>\n",
       "      <td>close</td>\n",
       "      <td>58968</td>\n",
       "      <td>58290.0</td>\n",
       "      <td>0.977266</td>\n",
       "    </tr>\n",
       "    <tr>\n",
       "      <th>826</th>\n",
       "      <td>appointment</td>\n",
       "      <td>49378</td>\n",
       "      <td>48749.0</td>\n",
       "      <td>0.974844</td>\n",
       "    </tr>\n",
       "    <tr>\n",
       "      <th>973</th>\n",
       "      <td>girl</td>\n",
       "      <td>40628</td>\n",
       "      <td>39973.0</td>\n",
       "      <td>0.968268</td>\n",
       "    </tr>\n",
       "    <tr>\n",
       "      <th>497</th>\n",
       "      <td>home</td>\n",
       "      <td>66990</td>\n",
       "      <td>65676.0</td>\n",
       "      <td>0.961525</td>\n",
       "    </tr>\n",
       "    <tr>\n",
       "      <th>184</th>\n",
       "      <td>good</td>\n",
       "      <td>285204</td>\n",
       "      <td>278936.0</td>\n",
       "      <td>0.956991</td>\n",
       "    </tr>\n",
       "    <tr>\n",
       "      <th>381</th>\n",
       "      <td>location</td>\n",
       "      <td>91001</td>\n",
       "      <td>88969.0</td>\n",
       "      <td>0.956317</td>\n",
       "    </tr>\n",
       "    <tr>\n",
       "      <th>940</th>\n",
       "      <td>sorry</td>\n",
       "      <td>28500</td>\n",
       "      <td>27853.0</td>\n",
       "      <td>0.955604</td>\n",
       "    </tr>\n",
       "    <tr>\n",
       "      <th>2509</th>\n",
       "      <td>light</td>\n",
       "      <td>20866</td>\n",
       "      <td>20377.0</td>\n",
       "      <td>0.954203</td>\n",
       "    </tr>\n",
       "    <tr>\n",
       "      <th>1848</th>\n",
       "      <td>better</td>\n",
       "      <td>22709</td>\n",
       "      <td>22168.0</td>\n",
       "      <td>0.953462</td>\n",
       "    </tr>\n",
       "    <tr>\n",
       "      <th>578</th>\n",
       "      <td>pm</td>\n",
       "      <td>13636</td>\n",
       "      <td>13304.0</td>\n",
       "      <td>0.952463</td>\n",
       "    </tr>\n",
       "    <tr>\n",
       "      <th>709</th>\n",
       "      <td>maybe</td>\n",
       "      <td>49911</td>\n",
       "      <td>48616.0</td>\n",
       "      <td>0.949420</td>\n",
       "    </tr>\n",
       "    <tr>\n",
       "      <th>3125</th>\n",
       "      <td>gross</td>\n",
       "      <td>14377</td>\n",
       "      <td>13986.0</td>\n",
       "      <td>0.947048</td>\n",
       "    </tr>\n",
       "    <tr>\n",
       "      <th>180</th>\n",
       "      <td>walk</td>\n",
       "      <td>101301</td>\n",
       "      <td>98221.0</td>\n",
       "      <td>0.940985</td>\n",
       "    </tr>\n",
       "    <tr>\n",
       "      <th>369</th>\n",
       "      <td>visit</td>\n",
       "      <td>58790</td>\n",
       "      <td>56556.0</td>\n",
       "      <td>0.926783</td>\n",
       "    </tr>\n",
       "    <tr>\n",
       "      <th>366</th>\n",
       "      <td>meal</td>\n",
       "      <td>63271</td>\n",
       "      <td>60751.0</td>\n",
       "      <td>0.923394</td>\n",
       "    </tr>\n",
       "    <tr>\n",
       "      <th>473</th>\n",
       "      <td>drive</td>\n",
       "      <td>54766</td>\n",
       "      <td>52561.0</td>\n",
       "      <td>0.922592</td>\n",
       "    </tr>\n",
       "  </tbody>\n",
       "</table>\n",
       "</div>"
      ],
      "text/plain": [
       "             word   count      diff  diff_pct\n",
       "37           time  406346  405512.0  0.995904\n",
       "1077          car  111671  111315.0  0.993644\n",
       "399         clean   54473   53948.0  0.980908\n",
       "149           way  117924  116656.0  0.978723\n",
       "882         close   58968   58290.0  0.977266\n",
       "826   appointment   49378   48749.0  0.974844\n",
       "973          girl   40628   39973.0  0.968268\n",
       "497          home   66990   65676.0  0.961525\n",
       "184          good  285204  278936.0  0.956991\n",
       "381      location   91001   88969.0  0.956317\n",
       "940         sorry   28500   27853.0  0.955604\n",
       "2509        light   20866   20377.0  0.954203\n",
       "1848       better   22709   22168.0  0.953462\n",
       "578            pm   13636   13304.0  0.952463\n",
       "709         maybe   49911   48616.0  0.949420\n",
       "3125        gross   14377   13986.0  0.947048\n",
       "180          walk  101301   98221.0  0.940985\n",
       "369         visit   58790   56556.0  0.926783\n",
       "366          meal   63271   60751.0  0.923394\n",
       "473         drive   54766   52561.0  0.922592"
      ]
     },
     "execution_count": 172,
     "metadata": {},
     "output_type": "execute_result"
    }
   ],
   "source": [
    "bad_counts_df.sort_values(by='diff_pct', ascending=False).head(20)"
   ]
  },
  {
   "cell_type": "code",
   "execution_count": 173,
   "metadata": {},
   "outputs": [],
   "source": [
    "neutral_counts_df['diff_pct'] = neutral_counts_df['diff'] / (good_counts_df['count'] + neutral_counts_df['count'] + bad_counts_df['count'])"
   ]
  },
  {
   "cell_type": "code",
   "execution_count": 174,
   "metadata": {},
   "outputs": [
    {
     "data": {
      "text/html": [
       "<div>\n",
       "<style scoped>\n",
       "    .dataframe tbody tr th:only-of-type {\n",
       "        vertical-align: middle;\n",
       "    }\n",
       "\n",
       "    .dataframe tbody tr th {\n",
       "        vertical-align: top;\n",
       "    }\n",
       "\n",
       "    .dataframe thead th {\n",
       "        text-align: right;\n",
       "    }\n",
       "</style>\n",
       "<table border=\"1\" class=\"dataframe\">\n",
       "  <thead>\n",
       "    <tr style=\"text-align: right;\">\n",
       "      <th></th>\n",
       "      <th>word</th>\n",
       "      <th>count</th>\n",
       "      <th>diff</th>\n",
       "      <th>diff_pct</th>\n",
       "    </tr>\n",
       "  </thead>\n",
       "  <tbody>\n",
       "    <tr>\n",
       "      <th>208</th>\n",
       "      <td>try</td>\n",
       "      <td>220848</td>\n",
       "      <td>219071.0</td>\n",
       "      <td>0.984036</td>\n",
       "    </tr>\n",
       "    <tr>\n",
       "      <th>103</th>\n",
       "      <td>service</td>\n",
       "      <td>286778</td>\n",
       "      <td>281942.0</td>\n",
       "      <td>0.966833</td>\n",
       "    </tr>\n",
       "    <tr>\n",
       "      <th>310</th>\n",
       "      <td>soft</td>\n",
       "      <td>19199</td>\n",
       "      <td>18837.0</td>\n",
       "      <td>0.962988</td>\n",
       "    </tr>\n",
       "    <tr>\n",
       "      <th>331</th>\n",
       "      <td>star</td>\n",
       "      <td>124957</td>\n",
       "      <td>122403.0</td>\n",
       "      <td>0.959941</td>\n",
       "    </tr>\n",
       "    <tr>\n",
       "      <th>4</th>\n",
       "      <td>look</td>\n",
       "      <td>154117</td>\n",
       "      <td>150863.0</td>\n",
       "      <td>0.958645</td>\n",
       "    </tr>\n",
       "    <tr>\n",
       "      <th>2059</th>\n",
       "      <td>casino</td>\n",
       "      <td>21875</td>\n",
       "      <td>21409.0</td>\n",
       "      <td>0.958283</td>\n",
       "    </tr>\n",
       "    <tr>\n",
       "      <th>447</th>\n",
       "      <td>sure</td>\n",
       "      <td>83131</td>\n",
       "      <td>81319.0</td>\n",
       "      <td>0.957336</td>\n",
       "    </tr>\n",
       "    <tr>\n",
       "      <th>1868</th>\n",
       "      <td>lobster</td>\n",
       "      <td>17531</td>\n",
       "      <td>17094.0</td>\n",
       "      <td>0.951358</td>\n",
       "    </tr>\n",
       "    <tr>\n",
       "      <th>19</th>\n",
       "      <td>small</td>\n",
       "      <td>107171</td>\n",
       "      <td>104473.0</td>\n",
       "      <td>0.950887</td>\n",
       "    </tr>\n",
       "    <tr>\n",
       "      <th>1193</th>\n",
       "      <td>give</td>\n",
       "      <td>79805</td>\n",
       "      <td>77655.0</td>\n",
       "      <td>0.947532</td>\n",
       "    </tr>\n",
       "    <tr>\n",
       "      <th>1208</th>\n",
       "      <td>not</td>\n",
       "      <td>27300</td>\n",
       "      <td>26563.0</td>\n",
       "      <td>0.947427</td>\n",
       "    </tr>\n",
       "    <tr>\n",
       "      <th>95</th>\n",
       "      <td>chicken</td>\n",
       "      <td>146461</td>\n",
       "      <td>142429.0</td>\n",
       "      <td>0.946416</td>\n",
       "    </tr>\n",
       "    <tr>\n",
       "      <th>534</th>\n",
       "      <td>guy</td>\n",
       "      <td>38001</td>\n",
       "      <td>36903.0</td>\n",
       "      <td>0.943835</td>\n",
       "    </tr>\n",
       "    <tr>\n",
       "      <th>1702</th>\n",
       "      <td>talk</td>\n",
       "      <td>23535</td>\n",
       "      <td>22849.0</td>\n",
       "      <td>0.943355</td>\n",
       "    </tr>\n",
       "    <tr>\n",
       "      <th>1</th>\n",
       "      <td>place</td>\n",
       "      <td>440121</td>\n",
       "      <td>426504.0</td>\n",
       "      <td>0.939979</td>\n",
       "    </tr>\n",
       "    <tr>\n",
       "      <th>1318</th>\n",
       "      <td>live</td>\n",
       "      <td>29361</td>\n",
       "      <td>28427.0</td>\n",
       "      <td>0.938340</td>\n",
       "    </tr>\n",
       "    <tr>\n",
       "      <th>152</th>\n",
       "      <td>hostess</td>\n",
       "      <td>14293</td>\n",
       "      <td>13706.0</td>\n",
       "      <td>0.921102</td>\n",
       "    </tr>\n",
       "    <tr>\n",
       "      <th>1150</th>\n",
       "      <td>horrible</td>\n",
       "      <td>11582</td>\n",
       "      <td>11106.0</td>\n",
       "      <td>0.921048</td>\n",
       "    </tr>\n",
       "    <tr>\n",
       "      <th>2636</th>\n",
       "      <td>soup</td>\n",
       "      <td>55114</td>\n",
       "      <td>52810.0</td>\n",
       "      <td>0.919746</td>\n",
       "    </tr>\n",
       "    <tr>\n",
       "      <th>812</th>\n",
       "      <td>door</td>\n",
       "      <td>30441</td>\n",
       "      <td>29162.0</td>\n",
       "      <td>0.919357</td>\n",
       "    </tr>\n",
       "  </tbody>\n",
       "</table>\n",
       "</div>"
      ],
      "text/plain": [
       "          word   count      diff  diff_pct\n",
       "208        try  220848  219071.0  0.984036\n",
       "103    service  286778  281942.0  0.966833\n",
       "310       soft   19199   18837.0  0.962988\n",
       "331       star  124957  122403.0  0.959941\n",
       "4         look  154117  150863.0  0.958645\n",
       "2059    casino   21875   21409.0  0.958283\n",
       "447       sure   83131   81319.0  0.957336\n",
       "1868   lobster   17531   17094.0  0.951358\n",
       "19       small  107171  104473.0  0.950887\n",
       "1193      give   79805   77655.0  0.947532\n",
       "1208       not   27300   26563.0  0.947427\n",
       "95     chicken  146461  142429.0  0.946416\n",
       "534        guy   38001   36903.0  0.943835\n",
       "1702      talk   23535   22849.0  0.943355\n",
       "1        place  440121  426504.0  0.939979\n",
       "1318      live   29361   28427.0  0.938340\n",
       "152    hostess   14293   13706.0  0.921102\n",
       "1150  horrible   11582   11106.0  0.921048\n",
       "2636      soup   55114   52810.0  0.919746\n",
       "812       door   30441   29162.0  0.919357"
      ]
     },
     "execution_count": 174,
     "metadata": {},
     "output_type": "execute_result"
    }
   ],
   "source": [
    "neutral_counts_df.sort_values(by='diff_pct', ascending=False).head(20)"
   ]
  },
  {
   "cell_type": "code",
   "execution_count": 175,
   "metadata": {},
   "outputs": [
    {
     "name": "stdout",
     "output_type": "stream",
     "text": [
      "Collecting wordcloud\n",
      "\u001b[?25l  Downloading https://files.pythonhosted.org/packages/f6/e7/f4ed7fac1993615b4ba92f473a77e27a3d210c5d23a000c2c98846963f9a/wordcloud-1.7.0-cp36-cp36m-manylinux1_x86_64.whl (364kB)\n",
      "\u001b[K    100% |████████████████████████████████| 368kB 37.7MB/s ta 0:00:01\n",
      "\u001b[?25hRequirement already satisfied: pillow in /home/ec2-user/anaconda3/envs/python3/lib/python3.6/site-packages (from wordcloud) (5.1.0)\n",
      "Requirement already satisfied: matplotlib in /home/ec2-user/anaconda3/envs/python3/lib/python3.6/site-packages (from wordcloud) (3.0.3)\n",
      "Requirement already satisfied: numpy>=1.6.1 in /home/ec2-user/anaconda3/envs/python3/lib/python3.6/site-packages (from wordcloud) (1.18.4)\n",
      "Requirement already satisfied: python-dateutil>=2.1 in /home/ec2-user/anaconda3/envs/python3/lib/python3.6/site-packages (from matplotlib->wordcloud) (2.7.3)\n",
      "Requirement already satisfied: kiwisolver>=1.0.1 in /home/ec2-user/anaconda3/envs/python3/lib/python3.6/site-packages (from matplotlib->wordcloud) (1.0.1)\n",
      "Requirement already satisfied: pyparsing!=2.0.4,!=2.1.2,!=2.1.6,>=2.0.1 in /home/ec2-user/anaconda3/envs/python3/lib/python3.6/site-packages (from matplotlib->wordcloud) (2.2.0)\n",
      "Requirement already satisfied: cycler>=0.10 in /home/ec2-user/anaconda3/envs/python3/lib/python3.6/site-packages (from matplotlib->wordcloud) (0.10.0)\n",
      "Requirement already satisfied: six>=1.5 in /home/ec2-user/anaconda3/envs/python3/lib/python3.6/site-packages (from python-dateutil>=2.1->matplotlib->wordcloud) (1.11.0)\n",
      "Requirement already satisfied: setuptools in /home/ec2-user/anaconda3/envs/python3/lib/python3.6/site-packages (from kiwisolver>=1.0.1->matplotlib->wordcloud) (39.1.0)\n",
      "Installing collected packages: wordcloud\n",
      "Successfully installed wordcloud-1.7.0\n",
      "\u001b[33mYou are using pip version 10.0.1, however version 20.2b1 is available.\n",
      "You should consider upgrading via the 'pip install --upgrade pip' command.\u001b[0m\n"
     ]
    }
   ],
   "source": [
    "!pip install wordcloud"
   ]
  },
  {
   "cell_type": "code",
   "execution_count": 180,
   "metadata": {},
   "outputs": [],
   "source": [
    "import os\n",
    "import numpy as np\n",
    "from PIL import Image\n",
    "from os import path\n",
    "\n",
    "d = path.dirname(__file__) if \"__file__\" in locals() else os.getcwd()\n",
    "good_mask = np.array(Image.open(path.join(d, \"happy.png\")))"
   ]
  },
  {
   "cell_type": "code",
   "execution_count": 189,
   "metadata": {},
   "outputs": [],
   "source": [
    "good_mask = np.invert(good_mask)"
   ]
  },
  {
   "cell_type": "code",
   "execution_count": 190,
   "metadata": {},
   "outputs": [],
   "source": [
    "good_frequency = good_counts_df[['word', 'diff_pct']].to_dict()\n",
    "good_frequency_dict = dict(zip(list(good_frequency['word'].values()), list(good_frequency['diff_pct'].values())))\n",
    "bad_frequency = bad_counts_df[['word', 'diff_pct']].to_dict()\n",
    "bad_frequency_dict = dict(zip(list(bad_frequency['word'].values()), list(bad_frequency['diff_pct'].values())))"
   ]
  },
  {
   "cell_type": "code",
   "execution_count": 191,
   "metadata": {},
   "outputs": [],
   "source": [
    "from wordcloud import WordCloud"
   ]
  },
  {
   "cell_type": "code",
   "execution_count": 202,
   "metadata": {},
   "outputs": [],
   "source": [
    "good = WordCloud(max_font_size=100, background_color=\"white\")\n",
    "bad = WordCloud(max_font_size=100, background_color=\"white\")"
   ]
  },
  {
   "cell_type": "code",
   "execution_count": 203,
   "metadata": {},
   "outputs": [
    {
     "data": {
      "text/plain": [
       "<wordcloud.wordcloud.WordCloud at 0x7f1ea042e9b0>"
      ]
     },
     "execution_count": 203,
     "metadata": {},
     "output_type": "execute_result"
    }
   ],
   "source": [
    "good.generate_from_frequencies(good_frequency_dict)\n",
    "bad.generate_from_frequencies(bad_frequency_dict)"
   ]
  },
  {
   "cell_type": "code",
   "execution_count": 204,
   "metadata": {},
   "outputs": [
    {
     "data": {
      "image/png": "[encoded data removed]",
      "text/plain": [
       "<Figure size 432x288 with 1 Axes>"
      ]
     },
     "metadata": {},
     "output_type": "display_data"
    }
   ],
   "source": [
    "# Display the generated image:\n",
    "# the matplotlib way:\n",
    "import matplotlib.pyplot as plt\n",
    "plt.figure()\n",
    "plt.imshow(good, interpolation=\"bilinear\")\n",
    "plt.axis(\"off\")\n",
    "plt.show()"
   ]
  },
  {
   "cell_type": "code",
   "execution_count": 205,
   "metadata": {},
   "outputs": [
    {
     "data": {
      "image/png": "[encoded data removed]",
      "text/plain": [
       "<Figure size 432x288 with 1 Axes>"
      ]
     },
     "metadata": {},
     "output_type": "display_data"
    }
   ],
   "source": [
    "plt.figure()\n",
    "plt.imshow(bad, interpolation=\"bilinear\")\n",
    "plt.axis(\"off\")\n",
    "plt.show()"
   ]
  },
  {
   "cell_type": "code",
   "execution_count": null,
   "metadata": {},
   "outputs": [],
   "source": []
  }
 ],
 "metadata": {
  "kernelspec": {
   "display_name": "conda_python3",
   "language": "python",
   "name": "conda_python3"
  },
  "language_info": {
   "codemirror_mode": {
    "name": "ipython",
    "version": 3
   },
   "file_extension": ".py",
   "mimetype": "text/x-python",
   "name": "python",
   "nbconvert_exporter": "python",
   "pygments_lexer": "ipython3",
   "version": "3.6.5"
  }
 },
 "nbformat": 4,
 "nbformat_minor": 4
}
