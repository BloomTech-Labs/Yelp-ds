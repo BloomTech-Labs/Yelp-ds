{
 "cells": [
  {
   "cell_type": "code",
   "execution_count": 1,
   "metadata": {},
   "outputs": [],
   "source": [
    "import time\n",
    "import pandas as pd"
   ]
  },
  {
   "cell_type": "code",
   "execution_count": 2,
   "metadata": {},
   "outputs": [
    {
     "name": "stdout",
     "output_type": "stream",
     "text": [
      "231.57853651046753\n"
     ]
    }
   ],
   "source": [
    "start = time.time()\n",
    "df = pd.read_csv(\"s3://yelp-dataset-pt-9/data/csv/reviews.csv\")\n",
    "print(time.time() - start)"
   ]
  },
  {
   "cell_type": "markdown",
   "metadata": {},
   "source": [
    "# Total Reviews"
   ]
  },
  {
   "cell_type": "code",
   "execution_count": 3,
   "metadata": {},
   "outputs": [
    {
     "name": "stdout",
     "output_type": "stream",
     "text": [
      "8,021,124\n"
     ]
    }
   ],
   "source": [
    "print(f'{len(df):,}')"
   ]
  },
  {
   "cell_type": "markdown",
   "metadata": {},
   "source": [
    "# Missing Values "
   ]
  },
  {
   "cell_type": "code",
   "execution_count": 4,
   "metadata": {},
   "outputs": [
    {
     "data": {
      "text/plain": [
       "review_id      0\n",
       "user_id        0\n",
       "business_id    2\n",
       "stars          2\n",
       "useful         2\n",
       "funny          2\n",
       "cool           2\n",
       "text           4\n",
       "date           4\n",
       "dtype: int64"
      ]
     },
     "execution_count": 4,
     "metadata": {},
     "output_type": "execute_result"
    }
   ],
   "source": [
    "df.isna().sum()"
   ]
  },
  {
   "cell_type": "code",
   "execution_count": 5,
   "metadata": {},
   "outputs": [
    {
     "data": {
      "text/plain": [
       "review_id      0\n",
       "user_id        0\n",
       "business_id    0\n",
       "stars          0\n",
       "useful         0\n",
       "funny          0\n",
       "cool           0\n",
       "text           0\n",
       "date           0\n",
       "dtype: int64"
      ]
     },
     "execution_count": 5,
     "metadata": {},
     "output_type": "execute_result"
    }
   ],
   "source": [
    "original = df.copy()\n",
    "df = df.dropna()\n",
    "df.isna().sum()"
   ]
  },
  {
   "cell_type": "code",
   "execution_count": 6,
   "metadata": {},
   "outputs": [
    {
     "name": "stdout",
     "output_type": "stream",
     "text": [
      "8,021,118\n"
     ]
    }
   ],
   "source": [
    "print(f'{len(df):,}')"
   ]
  },
  {
   "cell_type": "markdown",
   "metadata": {},
   "source": [
    "# Languages "
   ]
  },
  {
   "cell_type": "code",
   "execution_count": 7,
   "metadata": {},
   "outputs": [
    {
     "name": "stdout",
     "output_type": "stream",
     "text": [
      "Requirement already satisfied: pycld2 in /home/ec2-user/anaconda3/envs/python3/lib/python3.6/site-packages (0.41)\n",
      "\u001b[33mYou are using pip version 10.0.1, however version 20.2b1 is available.\n",
      "You should consider upgrading via the 'pip install --upgrade pip' command.\u001b[0m\n"
     ]
    }
   ],
   "source": [
    "!pip install pycld2"
   ]
  },
  {
   "cell_type": "code",
   "execution_count": 8,
   "metadata": {},
   "outputs": [
    {
     "name": "stdout",
     "output_type": "stream",
     "text": [
      "INFO: Pandarallel will run on 72 workers.\n",
      "INFO: Pandarallel will use Memory file system to transfer data between the main process and workers.\n"
     ]
    }
   ],
   "source": [
    "import pycld2 as cld2\n",
    "import numpy as np\n",
    "from pandarallel import pandarallel\n",
    "pandarallel.initialize(progress_bar=True)"
   ]
  },
  {
   "cell_type": "code",
   "execution_count": 9,
   "metadata": {},
   "outputs": [],
   "source": [
    "def check_language(review):\n",
    "    try:\n",
    "        isReliable, textBytesFound, details, vectors = cld2.detect(review, returnVectors=True)\n",
    "        return isReliable, textBytesFound, details, vectors, len(vectors)\n",
    "    except:\n",
    "        return np.NaN, np.NaN, np.NaN, np.NaN, np.NaN"
   ]
  },
  {
   "cell_type": "code",
   "execution_count": 10,
   "metadata": {
    "collapsed": true,
    "jupyter": {
     "outputs_hidden": true
    }
   },
   "outputs": [
    {
     "data": {
      "application/vnd.jupyter.widget-view+json": {
       "model_id": "76c8589ca0214e9ab261a8da2a789660",
       "version_major": 2,
       "version_minor": 0
      },
      "text/plain": [
       "VBox(children=(HBox(children=(IntProgress(value=0, description='0.00%', max=111405), Label(value='0 / 111405')…"
      ]
     },
     "metadata": {},
     "output_type": "display_data"
    },
    {
     "data": {
      "text/plain": [
       "66.57341432571411"
      ]
     },
     "execution_count": 10,
     "metadata": {},
     "output_type": "execute_result"
    }
   ],
   "source": [
    "start = time.time()\n",
    "df['isReliable'], df['textBytesFound'], df['details'], df['vectors'], df['lenVectors'] = zip(*df['text'].parallel_apply(check_language, convert_dtype=False))\n",
    "time.time() - start"
   ]
  },
  {
   "cell_type": "code",
   "execution_count": 11,
   "metadata": {},
   "outputs": [
    {
     "data": {
      "text/html": [
       "<div>\n",
       "<style scoped>\n",
       "    .dataframe tbody tr th:only-of-type {\n",
       "        vertical-align: middle;\n",
       "    }\n",
       "\n",
       "    .dataframe tbody tr th {\n",
       "        vertical-align: top;\n",
       "    }\n",
       "\n",
       "    .dataframe thead th {\n",
       "        text-align: right;\n",
       "    }\n",
       "</style>\n",
       "<table border=\"1\" class=\"dataframe\">\n",
       "  <thead>\n",
       "    <tr style=\"text-align: right;\">\n",
       "      <th></th>\n",
       "      <th>review_id</th>\n",
       "      <th>user_id</th>\n",
       "      <th>business_id</th>\n",
       "      <th>stars</th>\n",
       "      <th>useful</th>\n",
       "      <th>funny</th>\n",
       "      <th>cool</th>\n",
       "      <th>text</th>\n",
       "      <th>date</th>\n",
       "      <th>isReliable</th>\n",
       "      <th>textBytesFound</th>\n",
       "      <th>details</th>\n",
       "      <th>vectors</th>\n",
       "      <th>lenVectors</th>\n",
       "    </tr>\n",
       "  </thead>\n",
       "  <tbody>\n",
       "    <tr>\n",
       "      <th>0</th>\n",
       "      <td>xQY8N_XvtGbearJ5X4QryQ</td>\n",
       "      <td>OwjRMXRC0KyPrIlcjaXeFQ</td>\n",
       "      <td>-MhfebM0QIsKt87iDN-FNw</td>\n",
       "      <td>2.0</td>\n",
       "      <td>5.0</td>\n",
       "      <td>0.0</td>\n",
       "      <td>0.0</td>\n",
       "      <td>As someone who has worked with many museums, I...</td>\n",
       "      <td>2015-04-15 05:21:16</td>\n",
       "      <td>1.0</td>\n",
       "      <td>1318.0</td>\n",
       "      <td>((ENGLISH, en, 99, 1321.0), (Unknown, un, 0, 0...</td>\n",
       "      <td>((0, 1373, ENGLISH, en),)</td>\n",
       "      <td>1.0</td>\n",
       "    </tr>\n",
       "    <tr>\n",
       "      <th>1</th>\n",
       "      <td>UmFMZ8PyXZTY2QcwzsfQYA</td>\n",
       "      <td>nIJD_7ZXHq-FX8byPMOkMQ</td>\n",
       "      <td>lbrU8StCq3yDfr-QMnGrmQ</td>\n",
       "      <td>1.0</td>\n",
       "      <td>1.0</td>\n",
       "      <td>1.0</td>\n",
       "      <td>0.0</td>\n",
       "      <td>I am actually horrified this place is still in...</td>\n",
       "      <td>2013-12-07 03:16:52</td>\n",
       "      <td>1.0</td>\n",
       "      <td>1358.0</td>\n",
       "      <td>((ENGLISH, en, 99, 1397.0), (Unknown, un, 0, 0...</td>\n",
       "      <td>((0, 1407, ENGLISH, en),)</td>\n",
       "      <td>1.0</td>\n",
       "    </tr>\n",
       "    <tr>\n",
       "      <th>2</th>\n",
       "      <td>LG2ZaYiOgpr2DK_90pYjNw</td>\n",
       "      <td>V34qejxNsCbcgD8C0HVk-Q</td>\n",
       "      <td>HQl28KMwrEKHqhFrrDqVNQ</td>\n",
       "      <td>5.0</td>\n",
       "      <td>1.0</td>\n",
       "      <td>0.0</td>\n",
       "      <td>0.0</td>\n",
       "      <td>I love Deagan's. I do. I really do. The atmosp...</td>\n",
       "      <td>2015-12-05 03:18:11</td>\n",
       "      <td>1.0</td>\n",
       "      <td>420.0</td>\n",
       "      <td>((ENGLISH, en, 99, 1449.0), (Unknown, un, 0, 0...</td>\n",
       "      <td>((0, 431, ENGLISH, en),)</td>\n",
       "      <td>1.0</td>\n",
       "    </tr>\n",
       "    <tr>\n",
       "      <th>3</th>\n",
       "      <td>i6g_oA9Yf9Y31qt0wibXpw</td>\n",
       "      <td>ofKDkJKXSKZXu5xJNGiiBQ</td>\n",
       "      <td>5JxlZaqCnk1MnbgRirs40Q</td>\n",
       "      <td>1.0</td>\n",
       "      <td>0.0</td>\n",
       "      <td>0.0</td>\n",
       "      <td>0.0</td>\n",
       "      <td>Dismal, lukewarm, defrosted-tasting \"TexMex\" g...</td>\n",
       "      <td>2011-05-27 05:30:52</td>\n",
       "      <td>1.0</td>\n",
       "      <td>380.0</td>\n",
       "      <td>((ENGLISH, en, 99, 986.0), (Unknown, un, 0, 0....</td>\n",
       "      <td>((0, 111, Unknown, un), (111, 290, ENGLISH, en))</td>\n",
       "      <td>2.0</td>\n",
       "    </tr>\n",
       "    <tr>\n",
       "      <th>4</th>\n",
       "      <td>6TdNDKywdbjoTkizeMce8A</td>\n",
       "      <td>UgMW8bLE0QMJDCkQ1Ax5Mg</td>\n",
       "      <td>IS4cv902ykd8wj1TR0N3-A</td>\n",
       "      <td>4.0</td>\n",
       "      <td>0.0</td>\n",
       "      <td>0.0</td>\n",
       "      <td>0.0</td>\n",
       "      <td>Oh happy day, finally have a Canes near my cas...</td>\n",
       "      <td>2017-01-14 21:56:57</td>\n",
       "      <td>1.0</td>\n",
       "      <td>831.0</td>\n",
       "      <td>((ENGLISH, en, 99, 1283.0), (Unknown, un, 0, 0...</td>\n",
       "      <td>((0, 841, ENGLISH, en),)</td>\n",
       "      <td>1.0</td>\n",
       "    </tr>\n",
       "  </tbody>\n",
       "</table>\n",
       "</div>"
      ],
      "text/plain": [
       "                review_id                 user_id             business_id  \\\n",
       "0  xQY8N_XvtGbearJ5X4QryQ  OwjRMXRC0KyPrIlcjaXeFQ  -MhfebM0QIsKt87iDN-FNw   \n",
       "1  UmFMZ8PyXZTY2QcwzsfQYA  nIJD_7ZXHq-FX8byPMOkMQ  lbrU8StCq3yDfr-QMnGrmQ   \n",
       "2  LG2ZaYiOgpr2DK_90pYjNw  V34qejxNsCbcgD8C0HVk-Q  HQl28KMwrEKHqhFrrDqVNQ   \n",
       "3  i6g_oA9Yf9Y31qt0wibXpw  ofKDkJKXSKZXu5xJNGiiBQ  5JxlZaqCnk1MnbgRirs40Q   \n",
       "4  6TdNDKywdbjoTkizeMce8A  UgMW8bLE0QMJDCkQ1Ax5Mg  IS4cv902ykd8wj1TR0N3-A   \n",
       "\n",
       "   stars  useful  funny  cool  \\\n",
       "0    2.0     5.0    0.0   0.0   \n",
       "1    1.0     1.0    1.0   0.0   \n",
       "2    5.0     1.0    0.0   0.0   \n",
       "3    1.0     0.0    0.0   0.0   \n",
       "4    4.0     0.0    0.0   0.0   \n",
       "\n",
       "                                                text                 date  \\\n",
       "0  As someone who has worked with many museums, I...  2015-04-15 05:21:16   \n",
       "1  I am actually horrified this place is still in...  2013-12-07 03:16:52   \n",
       "2  I love Deagan's. I do. I really do. The atmosp...  2015-12-05 03:18:11   \n",
       "3  Dismal, lukewarm, defrosted-tasting \"TexMex\" g...  2011-05-27 05:30:52   \n",
       "4  Oh happy day, finally have a Canes near my cas...  2017-01-14 21:56:57   \n",
       "\n",
       "   isReliable  textBytesFound  \\\n",
       "0         1.0          1318.0   \n",
       "1         1.0          1358.0   \n",
       "2         1.0           420.0   \n",
       "3         1.0           380.0   \n",
       "4         1.0           831.0   \n",
       "\n",
       "                                             details  \\\n",
       "0  ((ENGLISH, en, 99, 1321.0), (Unknown, un, 0, 0...   \n",
       "1  ((ENGLISH, en, 99, 1397.0), (Unknown, un, 0, 0...   \n",
       "2  ((ENGLISH, en, 99, 1449.0), (Unknown, un, 0, 0...   \n",
       "3  ((ENGLISH, en, 99, 986.0), (Unknown, un, 0, 0....   \n",
       "4  ((ENGLISH, en, 99, 1283.0), (Unknown, un, 0, 0...   \n",
       "\n",
       "                                            vectors  lenVectors  \n",
       "0                         ((0, 1373, ENGLISH, en),)         1.0  \n",
       "1                         ((0, 1407, ENGLISH, en),)         1.0  \n",
       "2                          ((0, 431, ENGLISH, en),)         1.0  \n",
       "3  ((0, 111, Unknown, un), (111, 290, ENGLISH, en))         2.0  \n",
       "4                          ((0, 841, ENGLISH, en),)         1.0  "
      ]
     },
     "execution_count": 11,
     "metadata": {},
     "output_type": "execute_result"
    }
   ],
   "source": [
    "df.head()"
   ]
  },
  {
   "cell_type": "code",
   "execution_count": 24,
   "metadata": {},
   "outputs": [],
   "source": [
    "df['lang'] = df['details'].str[0].str[1]"
   ]
  },
  {
   "cell_type": "code",
   "execution_count": 26,
   "metadata": {},
   "outputs": [
    {
     "data": {
      "text/plain": [
       "1.0     8002409\n",
       "3.0       10524\n",
       "2.0        5744\n",
       "5.0        1024\n",
       "4.0         435\n",
       "7.0         296\n",
       "6.0         193\n",
       "9.0         126\n",
       "8.0          77\n",
       "11.0         68\n",
       "0.0          60\n",
       "13.0         19\n",
       "10.0         18\n",
       "14.0         14\n",
       "15.0         13\n",
       "12.0         11\n",
       "16.0         11\n",
       "17.0          8\n",
       "18.0          6\n",
       "19.0          4\n",
       "20.0          3\n",
       "21.0          3\n",
       "23.0          3\n",
       "22.0          2\n",
       "24.0          2\n",
       "25.0          2\n",
       "26.0          2\n",
       "31.0          2\n",
       "30.0          1\n",
       "39.0          1\n",
       "33.0          1\n",
       "29.0          1\n",
       "Name: lenVectors, dtype: int64"
      ]
     },
     "execution_count": 26,
     "metadata": {},
     "output_type": "execute_result"
    }
   ],
   "source": [
    "df['lenVectors'].value_counts()"
   ]
  },
  {
   "cell_type": "code",
   "execution_count": 30,
   "metadata": {},
   "outputs": [
    {
     "data": {
      "text/plain": [
       "en         7982993\n",
       "fr           28480\n",
       "es            3785\n",
       "de            1434\n",
       "un            1139\n",
       "zh            1066\n",
       "ja             715\n",
       "zh-Hant        657\n",
       "pt             282\n",
       "it             177\n",
       "nl              86\n",
       "sv              69\n",
       "da              54\n",
       "tr              43\n",
       "tl              20\n",
       "no              17\n",
       "vi              15\n",
       "sco             11\n",
       "pl              11\n",
       "cs               6\n",
       "sk               5\n",
       "ceb              3\n",
       "la               2\n",
       "id               2\n",
       "rw               1\n",
       "fi               1\n",
       "bs               1\n",
       "lt               1\n",
       "co               1\n",
       "hu               1\n",
       "nn               1\n",
       "ca               1\n",
       "hr               1\n",
       "tlh              1\n",
       "yo               1\n",
       "Name: lang, dtype: int64"
      ]
     },
     "execution_count": 30,
     "metadata": {},
     "output_type": "execute_result"
    }
   ],
   "source": [
    "df['lang'].value_counts()"
   ]
  },
  {
   "cell_type": "code",
   "execution_count": 27,
   "metadata": {},
   "outputs": [],
   "source": [
    "only_en = df[(df['lenVectors'] == 1) & (df['lang'] == 'en') & (df['isReliable'] == True)]"
   ]
  },
  {
   "cell_type": "code",
   "execution_count": 29,
   "metadata": {},
   "outputs": [
    {
     "data": {
      "text/plain": [
       "(7967838, 15)"
      ]
     },
     "execution_count": 29,
     "metadata": {},
     "output_type": "execute_result"
    }
   ],
   "source": [
    "only_en.shape"
   ]
  },
  {
   "cell_type": "code",
   "execution_count": 31,
   "metadata": {},
   "outputs": [
    {
     "data": {
      "text/plain": [
       "en    7967838\n",
       "Name: lang, dtype: int64"
      ]
     },
     "execution_count": 31,
     "metadata": {},
     "output_type": "execute_result"
    }
   ],
   "source": [
    "only_en['lang'].value_counts()"
   ]
  },
  {
   "cell_type": "code",
   "execution_count": 33,
   "metadata": {},
   "outputs": [],
   "source": [
    "only_en[['text', 'stars']].to_csv(\"../../../en.csv\", index=False)"
   ]
  },
  {
   "cell_type": "markdown",
   "metadata": {},
   "source": [
    "### I'll only be working with en reviews from now on "
   ]
  },
  {
   "cell_type": "markdown",
   "metadata": {},
   "source": [
    "# Star Rating Distribution"
   ]
  },
  {
   "cell_type": "code",
   "execution_count": 34,
   "metadata": {},
   "outputs": [],
   "source": [
    "only_en['stars'].plot.hist(xticks=[1,2,3,4,5]);"
   ]
  },
  {
   "cell_type": "markdown",
   "metadata": {},
   "source": [
    "# Review String Length by Star Rating"
   ]
  },
  {
   "cell_type": "code",
   "execution_count": 35,
   "metadata": {},
   "outputs": [
    {
     "name": "stderr",
     "output_type": "stream",
     "text": [
      "/home/ec2-user/anaconda3/envs/python3/lib/python3.6/site-packages/ipykernel/__main__.py:1: SettingWithCopyWarning: \n",
      "A value is trying to be set on a copy of a slice from a DataFrame.\n",
      "Try using .loc[row_indexer,col_indexer] = value instead\n",
      "\n",
      "See the caveats in the documentation: https://pandas.pydata.org/pandas-docs/stable/user_guide/indexing.html#returning-a-view-versus-a-copy\n",
      "  if __name__ == '__main__':\n"
     ]
    }
   ],
   "source": [
    "only_en['length'] = only_en['text'].str.len()"
   ]
  },
  {
   "cell_type": "code",
   "execution_count": 36,
   "metadata": {},
   "outputs": [
    {
     "data": {
      "image/png": "[encoded data removed]",
      "text/plain": [
       "<Figure size 432x288 with 1 Axes>"
      ]
     },
     "metadata": {},
     "output_type": "display_data"
    }
   ],
   "source": [
    "only_en.groupby('stars')['length'].mean().plot(xticks=[1,2,3,4,5], ylim=(0, 1000));"
   ]
  },
  {
   "cell_type": "markdown",
   "metadata": {},
   "source": [
    "# Word Counts by Star Rating"
   ]
  },
  {
   "cell_type": "code",
   "execution_count": 37,
   "metadata": {},
   "outputs": [
    {
     "name": "stdout",
     "output_type": "stream",
     "text": [
      "[nltk_data] Downloading package punkt to /home/ec2-user/nltk_data...\n",
      "[nltk_data]   Unzipping tokenizers/punkt.zip.\n"
     ]
    },
    {
     "data": {
      "text/plain": [
       "True"
      ]
     },
     "execution_count": 37,
     "metadata": {},
     "output_type": "execute_result"
    }
   ],
   "source": [
    "import nltk\n",
    "\n",
    "nltk.download(\"punkt\")"
   ]
  },
  {
   "cell_type": "code",
   "execution_count": 38,
   "metadata": {
    "collapsed": true,
    "jupyter": {
     "outputs_hidden": true
    }
   },
   "outputs": [
    {
     "data": {
      "application/vnd.jupyter.widget-view+json": {
       "model_id": "e38cae8065124ec7a377f8433e812793",
       "version_major": 2,
       "version_minor": 0
      },
      "text/plain": [
       "VBox(children=(HBox(children=(IntProgress(value=0, description='0.00%', max=110665), Label(value='0 / 110665')…"
      ]
     },
     "metadata": {},
     "output_type": "display_data"
    },
    {
     "name": "stderr",
     "output_type": "stream",
     "text": [
      "/home/ec2-user/anaconda3/envs/python3/lib/python3.6/site-packages/ipykernel/__main__.py:2: SettingWithCopyWarning: \n",
      "A value is trying to be set on a copy of a slice from a DataFrame.\n",
      "Try using .loc[row_indexer,col_indexer] = value instead\n",
      "\n",
      "See the caveats in the documentation: https://pandas.pydata.org/pandas-docs/stable/user_guide/indexing.html#returning-a-view-versus-a-copy\n",
      "  from ipykernel import kernelapp as app\n"
     ]
    },
    {
     "data": {
      "text/plain": [
       "439.9731273651123"
      ]
     },
     "execution_count": 38,
     "metadata": {},
     "output_type": "execute_result"
    }
   ],
   "source": [
    "start = time.time()\n",
    "only_en['word_counts'] = only_en['text'].parallel_apply(nltk.word_tokenize).str.len()\n",
    "time.time() - start"
   ]
  },
  {
   "cell_type": "code",
   "execution_count": 40,
   "metadata": {},
   "outputs": [
    {
     "data": {
      "image/png": "[encoded data removed]",
      "text/plain": [
       "<Figure size 432x288 with 1 Axes>"
      ]
     },
     "metadata": {},
     "output_type": "display_data"
    }
   ],
   "source": [
    "only_en.groupby('stars')['word_counts'].mean().plot(xticks=[1,2,3,4,5], ylim=(0, 200));"
   ]
  },
  {
   "cell_type": "markdown",
   "metadata": {},
   "source": [
    "# Review Counts by user "
   ]
  },
  {
   "cell_type": "code",
   "execution_count": 44,
   "metadata": {},
   "outputs": [
    {
     "data": {
      "image/png": "[encoded data removed]",
      "text/plain": [
       "<Figure size 432x288 with 1 Axes>"
      ]
     },
     "metadata": {},
     "output_type": "display_data"
    }
   ],
   "source": [
    "only_en.groupby('user_id')['text'].count().plot.hist();"
   ]
  },
  {
   "cell_type": "code",
   "execution_count": 45,
   "metadata": {},
   "outputs": [],
   "source": [
    "user_review_counts = only_en.groupby('user_id')['text'].count()"
   ]
  },
  {
   "cell_type": "code",
   "execution_count": 50,
   "metadata": {},
   "outputs": [
    {
     "data": {
      "text/plain": [
       "(4.065630032390994, 1.0, 4181)"
      ]
     },
     "execution_count": 50,
     "metadata": {},
     "output_type": "execute_result"
    }
   ],
   "source": [
    "user_review_counts.mean(), user_review_counts.median(),  user_review_counts.max()"
   ]
  },
  {
   "cell_type": "code",
   "execution_count": 51,
   "metadata": {},
   "outputs": [
    {
     "data": {
      "text/plain": [
       "user_id\n",
       "CxDOIDnH8gp9KXzpBHJYXw    4181\n",
       "bLbSNkLggFnqwNNzzq-Ijw    2550\n",
       "ELcQDlf69kb-ihJfxZyL0A    2038\n",
       "PKEzKWv_FktMm2mGPjwd0Q    1924\n",
       "DK57YibC5ShBmqQl97CKog    1813\n",
       "                          ... \n",
       "Z6W5w9YS-9kVOrH62JfGFw       1\n",
       "Z6WCvdORX1mMakLDnjefLg       1\n",
       "Z6WI08l9HO3pJTuloOm1Bw       1\n",
       "Z6WQgnu-aP5eQ-qRrWr3uw       1\n",
       "V-h-MYHLigcZcOiKY5SpSA       1\n",
       "Name: text, Length: 1959804, dtype: int64"
      ]
     },
     "execution_count": 51,
     "metadata": {},
     "output_type": "execute_result"
    }
   ],
   "source": [
    "user_review_counts.sort_values(ascending=False)"
   ]
  },
  {
   "cell_type": "code",
   "execution_count": 78,
   "metadata": {},
   "outputs": [
    {
     "data": {
      "text/html": [
       "<div>\n",
       "<style scoped>\n",
       "    .dataframe tbody tr th:only-of-type {\n",
       "        vertical-align: middle;\n",
       "    }\n",
       "\n",
       "    .dataframe tbody tr th {\n",
       "        vertical-align: top;\n",
       "    }\n",
       "\n",
       "    .dataframe thead th {\n",
       "        text-align: right;\n",
       "    }\n",
       "</style>\n",
       "<table border=\"1\" class=\"dataframe\">\n",
       "  <thead>\n",
       "    <tr style=\"text-align: right;\">\n",
       "      <th></th>\n",
       "      <th>review_id</th>\n",
       "      <th>user_id</th>\n",
       "      <th>business_id</th>\n",
       "      <th>stars</th>\n",
       "      <th>useful</th>\n",
       "      <th>funny</th>\n",
       "      <th>cool</th>\n",
       "      <th>text</th>\n",
       "      <th>date</th>\n",
       "      <th>isReliable</th>\n",
       "      <th>textBytesFound</th>\n",
       "      <th>details</th>\n",
       "      <th>vectors</th>\n",
       "      <th>lenVectors</th>\n",
       "      <th>lang</th>\n",
       "      <th>length</th>\n",
       "      <th>word_counts</th>\n",
       "    </tr>\n",
       "  </thead>\n",
       "  <tbody>\n",
       "    <tr>\n",
       "      <th>1222</th>\n",
       "      <td>IQ7s_l5jjclIqkREXvBL4g</td>\n",
       "      <td>CxDOIDnH8gp9KXzpBHJYXw</td>\n",
       "      <td>w9pwbsusI9DI637UYqMctQ</td>\n",
       "      <td>5.0</td>\n",
       "      <td>6.0</td>\n",
       "      <td>2.0</td>\n",
       "      <td>7.0</td>\n",
       "      <td>Blood Brothers Brewing is worth the trek to at...</td>\n",
       "      <td>2018-07-07 21:26:22</td>\n",
       "      <td>1.0</td>\n",
       "      <td>854.0</td>\n",
       "      <td>((ENGLISH, en, 99, 1302.0), (Unknown, un, 0, 0...</td>\n",
       "      <td>((0, 878, ENGLISH, en),)</td>\n",
       "      <td>1.0</td>\n",
       "      <td>en</td>\n",
       "      <td>878</td>\n",
       "      <td>181</td>\n",
       "    </tr>\n",
       "    <tr>\n",
       "      <th>2060</th>\n",
       "      <td>1WduO2WTk1Ya5n-4mZJRaw</td>\n",
       "      <td>CxDOIDnH8gp9KXzpBHJYXw</td>\n",
       "      <td>ZI8Aa41WiFj1XYJRUC54ug</td>\n",
       "      <td>3.0</td>\n",
       "      <td>2.0</td>\n",
       "      <td>1.0</td>\n",
       "      <td>2.0</td>\n",
       "      <td>Thang Long is another Vietnamese Restaurant wi...</td>\n",
       "      <td>2010-11-22 22:22:46</td>\n",
       "      <td>1.0</td>\n",
       "      <td>1670.0</td>\n",
       "      <td>((ENGLISH, en, 99, 1150.0), (Unknown, un, 0, 0...</td>\n",
       "      <td>((0, 1782, ENGLISH, en),)</td>\n",
       "      <td>1.0</td>\n",
       "      <td>en</td>\n",
       "      <td>1782</td>\n",
       "      <td>365</td>\n",
       "    </tr>\n",
       "    <tr>\n",
       "      <th>2886</th>\n",
       "      <td>YU6Npv4PH5cbNPos0Eg8Mw</td>\n",
       "      <td>CxDOIDnH8gp9KXzpBHJYXw</td>\n",
       "      <td>FaCxpKgHPgUO9vqyOny5CA</td>\n",
       "      <td>4.0</td>\n",
       "      <td>1.0</td>\n",
       "      <td>0.0</td>\n",
       "      <td>0.0</td>\n",
       "      <td>Montreal's bagels. everyone telling me about h...</td>\n",
       "      <td>2012-03-01 03:01:58</td>\n",
       "      <td>1.0</td>\n",
       "      <td>423.0</td>\n",
       "      <td>((ENGLISH, en, 99, 1213.0), (Unknown, un, 0, 0...</td>\n",
       "      <td>((0, 444, ENGLISH, en),)</td>\n",
       "      <td>1.0</td>\n",
       "      <td>en</td>\n",
       "      <td>444</td>\n",
       "      <td>95</td>\n",
       "    </tr>\n",
       "    <tr>\n",
       "      <th>3835</th>\n",
       "      <td>qS7D3jwLxkQ8Z6Yo36enog</td>\n",
       "      <td>CxDOIDnH8gp9KXzpBHJYXw</td>\n",
       "      <td>i6TgZAX3733aPIMnzje5-g</td>\n",
       "      <td>2.0</td>\n",
       "      <td>0.0</td>\n",
       "      <td>0.0</td>\n",
       "      <td>0.0</td>\n",
       "      <td>2.5 star\\n\\nMy experience with Arepa is limite...</td>\n",
       "      <td>2011-10-27 22:52:15</td>\n",
       "      <td>1.0</td>\n",
       "      <td>1745.0</td>\n",
       "      <td>((ENGLISH, en, 99, 1095.0), (Unknown, un, 0, 0...</td>\n",
       "      <td>((0, 1872, ENGLISH, en),)</td>\n",
       "      <td>1.0</td>\n",
       "      <td>en</td>\n",
       "      <td>1872</td>\n",
       "      <td>383</td>\n",
       "    </tr>\n",
       "    <tr>\n",
       "      <th>3987</th>\n",
       "      <td>OzTT0fo8xpYXtVp3Ud7Tkw</td>\n",
       "      <td>CxDOIDnH8gp9KXzpBHJYXw</td>\n",
       "      <td>nGAw4TZ8pBT7ZQxi-Mxf8Q</td>\n",
       "      <td>2.0</td>\n",
       "      <td>2.0</td>\n",
       "      <td>1.0</td>\n",
       "      <td>1.0</td>\n",
       "      <td>I am reviewing Asian King based on their Lunch...</td>\n",
       "      <td>2011-07-28 22:32:01</td>\n",
       "      <td>1.0</td>\n",
       "      <td>594.0</td>\n",
       "      <td>((ENGLISH, en, 99, 1260.0), (Unknown, un, 0, 0...</td>\n",
       "      <td>((0, 641, ENGLISH, en),)</td>\n",
       "      <td>1.0</td>\n",
       "      <td>en</td>\n",
       "      <td>641</td>\n",
       "      <td>139</td>\n",
       "    </tr>\n",
       "  </tbody>\n",
       "</table>\n",
       "</div>"
      ],
      "text/plain": [
       "                   review_id                 user_id             business_id  \\\n",
       "1222  IQ7s_l5jjclIqkREXvBL4g  CxDOIDnH8gp9KXzpBHJYXw  w9pwbsusI9DI637UYqMctQ   \n",
       "2060  1WduO2WTk1Ya5n-4mZJRaw  CxDOIDnH8gp9KXzpBHJYXw  ZI8Aa41WiFj1XYJRUC54ug   \n",
       "2886  YU6Npv4PH5cbNPos0Eg8Mw  CxDOIDnH8gp9KXzpBHJYXw  FaCxpKgHPgUO9vqyOny5CA   \n",
       "3835  qS7D3jwLxkQ8Z6Yo36enog  CxDOIDnH8gp9KXzpBHJYXw  i6TgZAX3733aPIMnzje5-g   \n",
       "3987  OzTT0fo8xpYXtVp3Ud7Tkw  CxDOIDnH8gp9KXzpBHJYXw  nGAw4TZ8pBT7ZQxi-Mxf8Q   \n",
       "\n",
       "      stars  useful  funny  cool  \\\n",
       "1222    5.0     6.0    2.0   7.0   \n",
       "2060    3.0     2.0    1.0   2.0   \n",
       "2886    4.0     1.0    0.0   0.0   \n",
       "3835    2.0     0.0    0.0   0.0   \n",
       "3987    2.0     2.0    1.0   1.0   \n",
       "\n",
       "                                                   text                 date  \\\n",
       "1222  Blood Brothers Brewing is worth the trek to at...  2018-07-07 21:26:22   \n",
       "2060  Thang Long is another Vietnamese Restaurant wi...  2010-11-22 22:22:46   \n",
       "2886  Montreal's bagels. everyone telling me about h...  2012-03-01 03:01:58   \n",
       "3835  2.5 star\\n\\nMy experience with Arepa is limite...  2011-10-27 22:52:15   \n",
       "3987  I am reviewing Asian King based on their Lunch...  2011-07-28 22:32:01   \n",
       "\n",
       "      isReliable  textBytesFound  \\\n",
       "1222         1.0           854.0   \n",
       "2060         1.0          1670.0   \n",
       "2886         1.0           423.0   \n",
       "3835         1.0          1745.0   \n",
       "3987         1.0           594.0   \n",
       "\n",
       "                                                details  \\\n",
       "1222  ((ENGLISH, en, 99, 1302.0), (Unknown, un, 0, 0...   \n",
       "2060  ((ENGLISH, en, 99, 1150.0), (Unknown, un, 0, 0...   \n",
       "2886  ((ENGLISH, en, 99, 1213.0), (Unknown, un, 0, 0...   \n",
       "3835  ((ENGLISH, en, 99, 1095.0), (Unknown, un, 0, 0...   \n",
       "3987  ((ENGLISH, en, 99, 1260.0), (Unknown, un, 0, 0...   \n",
       "\n",
       "                        vectors  lenVectors lang  length  word_counts  \n",
       "1222   ((0, 878, ENGLISH, en),)         1.0   en     878          181  \n",
       "2060  ((0, 1782, ENGLISH, en),)         1.0   en    1782          365  \n",
       "2886   ((0, 444, ENGLISH, en),)         1.0   en     444           95  \n",
       "3835  ((0, 1872, ENGLISH, en),)         1.0   en    1872          383  \n",
       "3987   ((0, 641, ENGLISH, en),)         1.0   en     641          139  "
      ]
     },
     "execution_count": 78,
     "metadata": {},
     "output_type": "execute_result"
    }
   ],
   "source": [
    "only_en[only_en['user_id'] == 'CxDOIDnH8gp9KXzpBHJYXw'].head()"
   ]
  },
  {
   "cell_type": "code",
   "execution_count": 81,
   "metadata": {},
   "outputs": [
    {
     "data": {
      "text/plain": [
       "3.24563501554652"
      ]
     },
     "execution_count": 81,
     "metadata": {},
     "output_type": "execute_result"
    }
   ],
   "source": [
    "only_en[only_en['user_id'] == 'CxDOIDnH8gp9KXzpBHJYXw']['stars'].mean()"
   ]
  },
  {
   "cell_type": "code",
   "execution_count": 82,
   "metadata": {},
   "outputs": [
    {
     "data": {
      "text/plain": [
       "3.324705882352941"
      ]
     },
     "execution_count": 82,
     "metadata": {},
     "output_type": "execute_result"
    }
   ],
   "source": [
    "only_en[only_en['user_id'] == 'bLbSNkLggFnqwNNzzq-Ijw']['stars'].mean()"
   ]
  },
  {
   "cell_type": "code",
   "execution_count": 83,
   "metadata": {},
   "outputs": [
    {
     "data": {
      "text/plain": [
       "3.101570166830226"
      ]
     },
     "execution_count": 83,
     "metadata": {},
     "output_type": "execute_result"
    }
   ],
   "source": [
    "only_en[only_en['user_id'] == 'ELcQDlf69kb-ihJfxZyL0A']['stars'].mean()"
   ]
  },
  {
   "cell_type": "code",
   "execution_count": 62,
   "metadata": {},
   "outputs": [],
   "source": [
    "user_review_avg = only_en.groupby('user_id')['stars'].mean()"
   ]
  },
  {
   "cell_type": "markdown",
   "metadata": {},
   "source": [
    "# Review Counts by Business "
   ]
  },
  {
   "cell_type": "code",
   "execution_count": 54,
   "metadata": {},
   "outputs": [
    {
     "data": {
      "image/png": "[encoded data removed]",
      "text/plain": [
       "<Figure size 432x288 with 1 Axes>"
      ]
     },
     "metadata": {},
     "output_type": "display_data"
    }
   ],
   "source": [
    "only_en.groupby('business_id')['text'].count().plot.hist();"
   ]
  },
  {
   "cell_type": "code",
   "execution_count": 57,
   "metadata": {},
   "outputs": [],
   "source": [
    "business_review_counts = only_en.groupby('business_id')['text'].count()"
   ]
  },
  {
   "cell_type": "code",
   "execution_count": 58,
   "metadata": {},
   "outputs": [
    {
     "data": {
      "text/plain": [
       "(38.074439719023275, 10.0, 10269)"
      ]
     },
     "execution_count": 58,
     "metadata": {},
     "output_type": "execute_result"
    }
   ],
   "source": [
    "business_review_counts.mean(), business_review_counts.median(),  business_review_counts.max()"
   ]
  },
  {
   "cell_type": "code",
   "execution_count": 59,
   "metadata": {},
   "outputs": [
    {
     "data": {
      "text/plain": [
       "business_id\n",
       "RESDUcs7fIiihp38-d6_6g    10269\n",
       "4JNXUYY8wbaaDmk3BPzlWw     9457\n",
       "K7lWdNUhCbcnEvI0NhGewg     7540\n",
       "f4x1YBxkLrZg652xt2KR5g     6840\n",
       "cYwJA2A6I12KNkm2rtXd5g     5536\n",
       "                          ...  \n",
       "H8SC_FBd8Ia7m4u7NmFkEQ        1\n",
       "e42x0b05xrsxM1bY5yX8ug        1\n",
       "dCytjI9WF7pru2cDQzOoMQ        1\n",
       "U2Rt8Xv9Dt3PPx01zYYF2A        1\n",
       "OJ31mKU9eFN9ndf6t1QLBA        1\n",
       "Name: text, Length: 209270, dtype: int64"
      ]
     },
     "execution_count": 59,
     "metadata": {},
     "output_type": "execute_result"
    }
   ],
   "source": [
    "business_review_counts.sort_values(ascending=False)"
   ]
  },
  {
   "cell_type": "code",
   "execution_count": 79,
   "metadata": {},
   "outputs": [
    {
     "data": {
      "text/html": [
       "<div>\n",
       "<style scoped>\n",
       "    .dataframe tbody tr th:only-of-type {\n",
       "        vertical-align: middle;\n",
       "    }\n",
       "\n",
       "    .dataframe tbody tr th {\n",
       "        vertical-align: top;\n",
       "    }\n",
       "\n",
       "    .dataframe thead th {\n",
       "        text-align: right;\n",
       "    }\n",
       "</style>\n",
       "<table border=\"1\" class=\"dataframe\">\n",
       "  <thead>\n",
       "    <tr style=\"text-align: right;\">\n",
       "      <th></th>\n",
       "      <th>review_id</th>\n",
       "      <th>user_id</th>\n",
       "      <th>business_id</th>\n",
       "      <th>stars</th>\n",
       "      <th>useful</th>\n",
       "      <th>funny</th>\n",
       "      <th>cool</th>\n",
       "      <th>text</th>\n",
       "      <th>date</th>\n",
       "      <th>isReliable</th>\n",
       "      <th>textBytesFound</th>\n",
       "      <th>details</th>\n",
       "      <th>vectors</th>\n",
       "      <th>lenVectors</th>\n",
       "      <th>lang</th>\n",
       "      <th>length</th>\n",
       "      <th>word_counts</th>\n",
       "    </tr>\n",
       "  </thead>\n",
       "  <tbody>\n",
       "    <tr>\n",
       "      <th>2370340</th>\n",
       "      <td>_WTGv5XnA-qb_XD1D7Z0jg</td>\n",
       "      <td>6PgdGb3HrZdsfl2GiULo8w</td>\n",
       "      <td>RESDUcs7fIiihp38-d6_6g</td>\n",
       "      <td>5.0</td>\n",
       "      <td>0.0</td>\n",
       "      <td>1.0</td>\n",
       "      <td>0.0</td>\n",
       "      <td>After getting food poisoning at the Palms hote...</td>\n",
       "      <td>2012-12-04 03:10:18</td>\n",
       "      <td>1.0</td>\n",
       "      <td>904.0</td>\n",
       "      <td>((ENGLISH, en, 99, 1248.0), (Unknown, un, 0, 0...</td>\n",
       "      <td>((0, 937, ENGLISH, en),)</td>\n",
       "      <td>1.0</td>\n",
       "      <td>en</td>\n",
       "      <td>937</td>\n",
       "      <td>208</td>\n",
       "    </tr>\n",
       "    <tr>\n",
       "      <th>2370359</th>\n",
       "      <td>JlNnsvMPLK_1-X2hwzK24w</td>\n",
       "      <td>IS9yw8P2uAPBX6FNLLX4KA</td>\n",
       "      <td>RESDUcs7fIiihp38-d6_6g</td>\n",
       "      <td>4.0</td>\n",
       "      <td>39.0</td>\n",
       "      <td>21.0</td>\n",
       "      <td>29.0</td>\n",
       "      <td>\"A feast worthy of Gods\"\\n\\nBaccarnal Buffet i...</td>\n",
       "      <td>2014-01-17 00:50:50</td>\n",
       "      <td>1.0</td>\n",
       "      <td>4689.0</td>\n",
       "      <td>((ENGLISH, en, 99, 1288.0), (Unknown, un, 0, 0...</td>\n",
       "      <td>((0, 4978, ENGLISH, en),)</td>\n",
       "      <td>1.0</td>\n",
       "      <td>en</td>\n",
       "      <td>4975</td>\n",
       "      <td>1043</td>\n",
       "    </tr>\n",
       "    <tr>\n",
       "      <th>2370375</th>\n",
       "      <td>hBkoWffORRb6aqKhC_Li2A</td>\n",
       "      <td>uZdFsE_aHbFBChgN6Xa8tw</td>\n",
       "      <td>RESDUcs7fIiihp38-d6_6g</td>\n",
       "      <td>4.0</td>\n",
       "      <td>1.0</td>\n",
       "      <td>1.0</td>\n",
       "      <td>1.0</td>\n",
       "      <td>The crab legs are better than the ones at Wick...</td>\n",
       "      <td>2015-06-08 18:03:09</td>\n",
       "      <td>1.0</td>\n",
       "      <td>639.0</td>\n",
       "      <td>((ENGLISH, en, 99, 1203.0), (Unknown, un, 0, 0...</td>\n",
       "      <td>((0, 671, ENGLISH, en),)</td>\n",
       "      <td>1.0</td>\n",
       "      <td>en</td>\n",
       "      <td>671</td>\n",
       "      <td>143</td>\n",
       "    </tr>\n",
       "    <tr>\n",
       "      <th>2370413</th>\n",
       "      <td>rbkxvrgZg5kdCL2a66QYmA</td>\n",
       "      <td>8ZWJNAEWsymXDzKx3B0tTQ</td>\n",
       "      <td>RESDUcs7fIiihp38-d6_6g</td>\n",
       "      <td>1.0</td>\n",
       "      <td>0.0</td>\n",
       "      <td>0.0</td>\n",
       "      <td>0.0</td>\n",
       "      <td>Not worth it! Too salty food and expensive! Th...</td>\n",
       "      <td>2016-12-19 16:15:29</td>\n",
       "      <td>1.0</td>\n",
       "      <td>91.0</td>\n",
       "      <td>((ENGLISH, en, 98, 1342.0), (Unknown, un, 0, 0...</td>\n",
       "      <td>((0, 92, ENGLISH, en),)</td>\n",
       "      <td>1.0</td>\n",
       "      <td>en</td>\n",
       "      <td>92</td>\n",
       "      <td>21</td>\n",
       "    </tr>\n",
       "    <tr>\n",
       "      <th>2370502</th>\n",
       "      <td>5tw_pedoHVi9bgeiBNsISg</td>\n",
       "      <td>E0sm4Ve7ifanFYeQMcV8Eg</td>\n",
       "      <td>RESDUcs7fIiihp38-d6_6g</td>\n",
       "      <td>5.0</td>\n",
       "      <td>0.0</td>\n",
       "      <td>0.0</td>\n",
       "      <td>0.0</td>\n",
       "      <td>I would give this infinite stars if I could. M...</td>\n",
       "      <td>2015-07-28 07:13:17</td>\n",
       "      <td>1.0</td>\n",
       "      <td>326.0</td>\n",
       "      <td>((ENGLISH, en, 99, 1260.0), (Unknown, un, 0, 0...</td>\n",
       "      <td>((0, 333, ENGLISH, en),)</td>\n",
       "      <td>1.0</td>\n",
       "      <td>en</td>\n",
       "      <td>333</td>\n",
       "      <td>71</td>\n",
       "    </tr>\n",
       "  </tbody>\n",
       "</table>\n",
       "</div>"
      ],
      "text/plain": [
       "                      review_id                 user_id  \\\n",
       "2370340  _WTGv5XnA-qb_XD1D7Z0jg  6PgdGb3HrZdsfl2GiULo8w   \n",
       "2370359  JlNnsvMPLK_1-X2hwzK24w  IS9yw8P2uAPBX6FNLLX4KA   \n",
       "2370375  hBkoWffORRb6aqKhC_Li2A  uZdFsE_aHbFBChgN6Xa8tw   \n",
       "2370413  rbkxvrgZg5kdCL2a66QYmA  8ZWJNAEWsymXDzKx3B0tTQ   \n",
       "2370502  5tw_pedoHVi9bgeiBNsISg  E0sm4Ve7ifanFYeQMcV8Eg   \n",
       "\n",
       "                    business_id  stars  useful  funny  cool  \\\n",
       "2370340  RESDUcs7fIiihp38-d6_6g    5.0     0.0    1.0   0.0   \n",
       "2370359  RESDUcs7fIiihp38-d6_6g    4.0    39.0   21.0  29.0   \n",
       "2370375  RESDUcs7fIiihp38-d6_6g    4.0     1.0    1.0   1.0   \n",
       "2370413  RESDUcs7fIiihp38-d6_6g    1.0     0.0    0.0   0.0   \n",
       "2370502  RESDUcs7fIiihp38-d6_6g    5.0     0.0    0.0   0.0   \n",
       "\n",
       "                                                      text  \\\n",
       "2370340  After getting food poisoning at the Palms hote...   \n",
       "2370359  \"A feast worthy of Gods\"\\n\\nBaccarnal Buffet i...   \n",
       "2370375  The crab legs are better than the ones at Wick...   \n",
       "2370413  Not worth it! Too salty food and expensive! Th...   \n",
       "2370502  I would give this infinite stars if I could. M...   \n",
       "\n",
       "                        date  isReliable  textBytesFound  \\\n",
       "2370340  2012-12-04 03:10:18         1.0           904.0   \n",
       "2370359  2014-01-17 00:50:50         1.0          4689.0   \n",
       "2370375  2015-06-08 18:03:09         1.0           639.0   \n",
       "2370413  2016-12-19 16:15:29         1.0            91.0   \n",
       "2370502  2015-07-28 07:13:17         1.0           326.0   \n",
       "\n",
       "                                                   details  \\\n",
       "2370340  ((ENGLISH, en, 99, 1248.0), (Unknown, un, 0, 0...   \n",
       "2370359  ((ENGLISH, en, 99, 1288.0), (Unknown, un, 0, 0...   \n",
       "2370375  ((ENGLISH, en, 99, 1203.0), (Unknown, un, 0, 0...   \n",
       "2370413  ((ENGLISH, en, 98, 1342.0), (Unknown, un, 0, 0...   \n",
       "2370502  ((ENGLISH, en, 99, 1260.0), (Unknown, un, 0, 0...   \n",
       "\n",
       "                           vectors  lenVectors lang  length  word_counts  \n",
       "2370340   ((0, 937, ENGLISH, en),)         1.0   en     937          208  \n",
       "2370359  ((0, 4978, ENGLISH, en),)         1.0   en    4975         1043  \n",
       "2370375   ((0, 671, ENGLISH, en),)         1.0   en     671          143  \n",
       "2370413    ((0, 92, ENGLISH, en),)         1.0   en      92           21  \n",
       "2370502   ((0, 333, ENGLISH, en),)         1.0   en     333           71  "
      ]
     },
     "execution_count": 79,
     "metadata": {},
     "output_type": "execute_result"
    }
   ],
   "source": [
    "only_en[only_en['business_id'] == 'RESDUcs7fIiihp38-d6_6g'].head()"
   ]
  },
  {
   "cell_type": "code",
   "execution_count": 61,
   "metadata": {},
   "outputs": [
    {
     "data": {
      "text/plain": [
       "3.774856363813419"
      ]
     },
     "execution_count": 61,
     "metadata": {},
     "output_type": "execute_result"
    }
   ],
   "source": [
    "only_en[only_en['business_id'] == 'RESDUcs7fIiihp38-d6_6g']['stars'].mean()"
   ]
  },
  {
   "cell_type": "code",
   "execution_count": 84,
   "metadata": {},
   "outputs": [
    {
     "data": {
      "text/plain": [
       "3.8923410404624277"
      ]
     },
     "execution_count": 84,
     "metadata": {},
     "output_type": "execute_result"
    }
   ],
   "source": [
    "only_en[only_en['business_id'] == 'cYwJA2A6I12KNkm2rtXd5g']['stars'].mean()"
   ]
  },
  {
   "cell_type": "markdown",
   "metadata": {},
   "source": [
    "# Get Counts of Other Properties "
   ]
  },
  {
   "cell_type": "code",
   "execution_count": 87,
   "metadata": {},
   "outputs": [
    {
     "data": {
      "text/plain": [
       "useful    1.318491\n",
       "funny     0.456882\n",
       "cool      0.569650\n",
       "dtype: float64"
      ]
     },
     "execution_count": 87,
     "metadata": {},
     "output_type": "execute_result"
    }
   ],
   "source": [
    "only_en[['useful', 'funny', 'cool']].mean()"
   ]
  },
  {
   "cell_type": "code",
   "execution_count": 88,
   "metadata": {},
   "outputs": [
    {
     "data": {
      "text/plain": [
       "useful    0.0\n",
       "funny     0.0\n",
       "cool      0.0\n",
       "dtype: float64"
      ]
     },
     "execution_count": 88,
     "metadata": {},
     "output_type": "execute_result"
    }
   ],
   "source": [
    "only_en[['useful', 'funny', 'cool']].median()"
   ]
  },
  {
   "cell_type": "code",
   "execution_count": 89,
   "metadata": {},
   "outputs": [
    {
     "data": {
      "text/plain": [
       "useful    1122.0\n",
       "funny      976.0\n",
       "cool       502.0\n",
       "dtype: float64"
      ]
     },
     "execution_count": 89,
     "metadata": {},
     "output_type": "execute_result"
    }
   ],
   "source": [
    "only_en[['useful', 'funny', 'cool']].max()"
   ]
  },
  {
   "cell_type": "code",
   "execution_count": 97,
   "metadata": {},
   "outputs": [
    {
     "data": {
      "text/html": [
       "<div>\n",
       "<style scoped>\n",
       "    .dataframe tbody tr th:only-of-type {\n",
       "        vertical-align: middle;\n",
       "    }\n",
       "\n",
       "    .dataframe tbody tr th {\n",
       "        vertical-align: top;\n",
       "    }\n",
       "\n",
       "    .dataframe thead th {\n",
       "        text-align: right;\n",
       "    }\n",
       "</style>\n",
       "<table border=\"1\" class=\"dataframe\">\n",
       "  <thead>\n",
       "    <tr style=\"text-align: right;\">\n",
       "      <th></th>\n",
       "      <th>review_id</th>\n",
       "      <th>user_id</th>\n",
       "      <th>business_id</th>\n",
       "      <th>stars</th>\n",
       "      <th>useful</th>\n",
       "      <th>funny</th>\n",
       "      <th>cool</th>\n",
       "      <th>text</th>\n",
       "      <th>date</th>\n",
       "      <th>isReliable</th>\n",
       "      <th>textBytesFound</th>\n",
       "      <th>details</th>\n",
       "      <th>vectors</th>\n",
       "      <th>lenVectors</th>\n",
       "      <th>lang</th>\n",
       "      <th>length</th>\n",
       "      <th>word_counts</th>\n",
       "    </tr>\n",
       "  </thead>\n",
       "  <tbody>\n",
       "    <tr>\n",
       "      <th>6266847</th>\n",
       "      <td>dpfVRGN9BN-iY_l06TOJUg</td>\n",
       "      <td>5TCgTJE7uZ848zOEEUiVNg</td>\n",
       "      <td>DN0b4Un8--Uf6SEWLeh0UA</td>\n",
       "      <td>5.0</td>\n",
       "      <td>93.0</td>\n",
       "      <td>976.0</td>\n",
       "      <td>44.0</td>\n",
       "      <td>I refuse to judge a place before I try it and ...</td>\n",
       "      <td>2014-02-18 16:03:35</td>\n",
       "      <td>1.0</td>\n",
       "      <td>4121.0</td>\n",
       "      <td>((ENGLISH, en, 99, 1285.0), (Unknown, un, 0, 0...</td>\n",
       "      <td>((0, 4279, ENGLISH, en),)</td>\n",
       "      <td>1.0</td>\n",
       "      <td>en</td>\n",
       "      <td>4279</td>\n",
       "      <td>880</td>\n",
       "    </tr>\n",
       "  </tbody>\n",
       "</table>\n",
       "</div>"
      ],
      "text/plain": [
       "                      review_id                 user_id  \\\n",
       "6266847  dpfVRGN9BN-iY_l06TOJUg  5TCgTJE7uZ848zOEEUiVNg   \n",
       "\n",
       "                    business_id  stars  useful  funny  cool  \\\n",
       "6266847  DN0b4Un8--Uf6SEWLeh0UA    5.0    93.0  976.0  44.0   \n",
       "\n",
       "                                                      text  \\\n",
       "6266847  I refuse to judge a place before I try it and ...   \n",
       "\n",
       "                        date  isReliable  textBytesFound  \\\n",
       "6266847  2014-02-18 16:03:35         1.0          4121.0   \n",
       "\n",
       "                                                   details  \\\n",
       "6266847  ((ENGLISH, en, 99, 1285.0), (Unknown, un, 0, 0...   \n",
       "\n",
       "                           vectors  lenVectors lang  length  word_counts  \n",
       "6266847  ((0, 4279, ENGLISH, en),)         1.0   en    4279          880  "
      ]
     },
     "execution_count": 97,
     "metadata": {},
     "output_type": "execute_result"
    }
   ],
   "source": [
    "only_en[only_en['funny'] > 900]"
   ]
  },
  {
   "cell_type": "code",
   "execution_count": 96,
   "metadata": {},
   "outputs": [
    {
     "name": "stdout",
     "output_type": "stream",
     "text": [
      "I refuse to judge a place before I try it and you should too!\n",
      "\n",
      "Like many of you, I watched the season finale of Kitchen Nightmares.  Working in a family business myself and knowing it is never easy, I wondered if owners Amy and Samy could possibly be like they were portrayed on the show or if there was some fancy editing done on the show.  Knowing that reality TV is usually far from reality, off we went last Saturday night for dinner at Amy's Baking Company.\n",
      "\n",
      "I called the Monday before our planned dinner and made reservations for four.  I spoke with Samy and he kindly took my reservation even though he told me we didn't need to make one.  Plans changed and by Saturday night our group had grown to seven but I was reluctant to call and advise them of the change.  I was a little nervous....would they be mad?  Would Samy yell at me?  Silly questions, I know but legitimate ones after watching the show.   He really is a nice guy and I was silly to think otherwise.  My husband and I walked in to the restaurant and informed Samy we had a group or seven total coming and he was more than accommodating.   He set us up for seven and we were seated.   \n",
      "\n",
      "Samy asked if we wanted appetizers so we ordered the herbed flat bread, The bread was soft, flavorful and perfectly seasoned.  Samy had advised us because our party was so big that the food might take a little longer because Amy was preparing everything fresh.  I can tell you that the food service was fast.  We had our appetizers in under 10 minutes.\n",
      "\n",
      "We next ordered our entrees.  Our food came to us in about 15 minutes or so.  Amy made every item we ordered herself and let me tell you, she can cook!   \n",
      "\n",
      "I ordered the Chicken Parmesan with Penne Pasta.  The chicken breast was large and nicely breaded.  The marinara was perfect, not too tangy and not too sweet.  Underneath the layer of cheese were nice large basil leaves.  This really added nicely to the flavor.  The penne was fabulous as well, buttered and spiced nicely.\n",
      " \n",
      "My husband ordered Fettuccine Alfredo with Chicken and boy was it good.  Very creamy and delicious and a nice sized portion, enough to eat some and take home.  I'm having the leftovers for lunch today and can't wait!  Amy was nice enough to advise us on how to reheat it so that it was just as tasty as when it was freshly made.\n",
      "\n",
      "My favorite items that were ordered at our table were Amy's pizzas.  My sister ordered the Garlic Chicken Mushroom pizza and our friends ordered the Sausage and Pepperoni pizza, half of it made spicy.  Both pizzas had a wonderful crust which was thin with a perfect mix of crispness on the outside and softness in the center.  These were perfectly cooked.  The spicy sausage and pepperoni pizza was so good that I can't wait to go back.  The initial bite wasn't that spicy, but then it hits you and tingles your lips and tongue.  The spice was unlike anything I've had on pizza and it was so incredible.  The Garlic Chicken Mushroom was wonderful too, perfectly balanced flavors and very fresh.  The cheese and herbs on the pizza made for a nice bite.  Amy really knows how to cook a tasty pizza.  She checked in with us to see how we liked everything.  Our tables was thrilled with the food.\n",
      "\n",
      "Last but not least, we ordered dessert.  I had the best key lime pie of my life and my husband has a chocolate truffle cake, topped with mousse and covered in chocolate.  That cake was so rich and wonderful.  Her desserts are divine.\n",
      "\n",
      "At the end of our meal, Amy and Samy were gracious enough to take pictures with our entire table.  They really are a lovely couple.  They are very nice people with a passion for their restaurant.  It was a pleasure to meet them in real life and not just make assumptions on who they were based on what we saw on TV.\n",
      "\n",
      "We had such a wonderful visit to Amy's Baking Company that I find it hard to believe much of anything I saw on Kitchen Nightmares.  For this reason, I say you shouldn't judge the place until you try it.    \n",
      "\n",
      "I give them five stars.  This place is as good as it gets in my opinion and my husband and I will be back for date night.  The ambiance is great here, perfect for a romantic dinner.  \n",
      "\n",
      "Please try Amy's Baking Company for yourself.    There doesn't seem to be  a lot of \"reality\" in reality television.\n"
     ]
    }
   ],
   "source": [
    "print(only_en[only_en['funny'] > 900]['text'].iloc[0])"
   ]
  },
  {
   "cell_type": "code",
   "execution_count": null,
   "metadata": {},
   "outputs": [],
   "source": []
  },
  {
   "cell_type": "markdown",
   "metadata": {},
   "source": [
    "I need to get some word clouds now, but i think i'll do that in another notebook."
   ]
  }
 ],
 "metadata": {
  "kernelspec": {
   "display_name": "Python 3",
   "language": "python",
   "name": "python3"
  },
  "language_info": {
   "codemirror_mode": {
    "name": "ipython",
    "version": 3
   },
   "file_extension": ".py",
   "mimetype": "text/x-python",
   "name": "python",
   "nbconvert_exporter": "python",
   "pygments_lexer": "ipython3",
   "version": "3.7.6"
  }
 },
 "nbformat": 4,
 "nbformat_minor": 4
}
