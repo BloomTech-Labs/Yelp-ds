{
 "cells": [
  {
   "cell_type": "code",
   "execution_count": 1,
   "metadata": {},
   "outputs": [],
   "source": [
    "from sagemaker.tensorflow import TensorFlow"
   ]
  },
  {
   "cell_type": "code",
   "execution_count": 2,
   "metadata": {},
   "outputs": [],
   "source": [
    "import sagemaker"
   ]
  },
  {
   "cell_type": "code",
   "execution_count": 3,
   "metadata": {},
   "outputs": [
    {
     "data": {
      "text/plain": [
       "'1.55.3'"
      ]
     },
     "execution_count": 3,
     "metadata": {},
     "output_type": "execute_result"
    }
   ],
   "source": [
    "sagemaker.__version__"
   ]
  },
  {
   "cell_type": "code",
   "execution_count": 4,
   "metadata": {},
   "outputs": [],
   "source": [
    "from sagemaker import get_execution_role\n",
    "role = get_execution_role()"
   ]
  },
  {
   "cell_type": "code",
   "execution_count": 6,
   "metadata": {},
   "outputs": [
    {
     "name": "stdout",
     "output_type": "stream",
     "text": [
      "Overwriting train_script/launcher.sh\n"
     ]
    }
   ],
   "source": [
    "# %%writefile train_script/launcher.sh \n",
    "\n",
    "# pip install -r requirements.txt\n",
    "# python train.py\n",
    "\n",
    "# echo \"Generated image $(ls ${SM_MODEL_DIR})\""
   ]
  },
  {
   "cell_type": "code",
   "execution_count": 8,
   "metadata": {},
   "outputs": [],
   "source": [
    "local_estimator = TensorFlow(source_dir='train_script',\n",
    "                             entry_point='launcher.sh',\n",
    "                             model_dir = '/opt/ml/model',\n",
    "                             train_instance_type='ml.g4dn.12xlarge',\n",
    "                             train_volume_size=20,\n",
    "                             train_instance_count=1,\n",
    "                             role=role,\n",
    "                             base_job_name='bert-pos-neg-3-is-pos',\n",
    "                             framework_version='2.1.0',\n",
    "                             py_version=\"py3\",\n",
    "                             script_mode=True)"
   ]
  },
  {
   "cell_type": "code",
   "execution_count": 9,
   "metadata": {},
   "outputs": [],
   "source": [
    "inputs = {\n",
    "    'train': 's3://yelp-dataset-pt-9/spencer/data/sentiment/en/ktrain/bert/trn.p',\n",
    "    'test': 's3://yelp-dataset-pt-9/spencer/data/sentiment/en/ktrain/bert/val.p',\n",
    "    'preproc': 's3://yelp-dataset-pt-9/spencer/data/sentiment/en/ktrain/bert/preproc.p'\n",
    "}"
   ]
  },
  {
   "cell_type": "code",
   "execution_count": null,
   "metadata": {},
   "outputs": [],
   "source": [
    "local_estimator.fit(inputs)"
   ]
  },
  {
   "cell_type": "code",
   "execution_count": null,
   "metadata": {},
   "outputs": [],
   "source": []
  }
 ],
 "metadata": {
  "kernelspec": {
   "display_name": "Python 3",
   "language": "python",
   "name": "python3"
  },
  "language_info": {
   "codemirror_mode": {
    "name": "ipython",
    "version": 3
   },
   "file_extension": ".py",
   "mimetype": "text/x-python",
   "name": "python",
   "nbconvert_exporter": "python",
   "pygments_lexer": "ipython3",
   "version": "3.7.6"
  }
 },
 "nbformat": 4,
 "nbformat_minor": 4
}
