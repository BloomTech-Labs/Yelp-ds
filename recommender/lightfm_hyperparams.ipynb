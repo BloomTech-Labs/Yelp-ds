{
 "cells": [
  {
   "cell_type": "code",
   "execution_count": 2,
   "metadata": {},
   "outputs": [],
   "source": [
    "import lightfm\n",
    "import pandas as pd\n",
    "import numpy as np"
   ]
  },
  {
   "cell_type": "code",
   "execution_count": 3,
   "metadata": {},
   "outputs": [],
   "source": [
    "from lightfm.data import Dataset"
   ]
  },
  {
   "cell_type": "code",
   "execution_count": 4,
   "metadata": {},
   "outputs": [],
   "source": [
    "reviewframe = pd.read_csv('./data/all_reviews_no_dupes.csv', index_col=[0])"
   ]
  },
  {
   "cell_type": "code",
   "execution_count": 5,
   "metadata": {
    "tags": []
   },
   "outputs": [
    {
     "output_type": "stream",
     "name": "stdout",
     "text": "(2398712, 10)\n"
    },
    {
     "output_type": "execute_result",
     "data": {
      "text/plain": "                      review_id                 user_id  \\\n4786459  vRuKx3khNZZKM6nieI2nkw  r7-lUT62G15CXa9Wa6uvdA   \n4045013  HhRdgBVdTC3GzRszO79EIw  KJA805UOqiatClH8psYmuw   \n2648856  hhAhkWco5iarESCUpMQJJQ  h-aIa6eOkcwZYGQz8Ss02w   \n7042961  5m1rgmC6D0PXn1UGbo6gJw  Ia4iRpMZP_mGyozlUz6Q7g   \n5950973  QBTdmDhRNcbUGU2WV06PiA  8yWDN0YsJC65quUz6LDuNA   \n\n                    business_id  stars                 date  \\\n4786459  hkNMo5kY8OhObwJF2qYIew      5  2019-12-13 15:51:19   \n4045013  AE80fzfVnsyeHiiVhwSGMw      1  2019-12-13 15:50:11   \n2648856  WHiND6UPxr6WzgGhz2E91Q      5  2019-12-13 15:45:53   \n7042961  XJIs0pWVNu60fhehIXgaUg      5  2019-12-13 15:45:49   \n5950973  9MVKjEMN5T59uzG1xoD2BQ      5  2019-12-13 15:43:16   \n\n                         name      city state  \\\n4786459        Nirvana Center   phoenix    AZ   \n4045013   Deluxburger Express   phoenix    AZ   \n2648856          Hash Kitchen  chandler    AZ   \n7042961  Advanced Endodontics      mesa    AZ   \n5950973       Cocina Madrigal   phoenix    AZ   \n\n                                                categories  \\\n4786459  Medical Centers, Shopping, Cannabis Dispensari...   \n4045013                               Burgers, Restaurants   \n2648856                    Breakfast & Brunch, Restaurants   \n7042961           Health & Medical, Endodontists, Dentists   \n5950973                               Restaurants, Mexican   \n\n                                     repeat_review_id  \n4786459  r7-lUT62G15CXa9Wa6uvdAhkNMo5kY8OhObwJF2qYIew  \n4045013  KJA805UOqiatClH8psYmuwAE80fzfVnsyeHiiVhwSGMw  \n2648856  h-aIa6eOkcwZYGQz8Ss02wWHiND6UPxr6WzgGhz2E91Q  \n7042961  Ia4iRpMZP_mGyozlUz6Q7gXJIs0pWVNu60fhehIXgaUg  \n5950973  8yWDN0YsJC65quUz6LDuNA9MVKjEMN5T59uzG1xoD2BQ  ",
      "text/html": "<div>\n<style scoped>\n    .dataframe tbody tr th:only-of-type {\n        vertical-align: middle;\n    }\n\n    .dataframe tbody tr th {\n        vertical-align: top;\n    }\n\n    .dataframe thead th {\n        text-align: right;\n    }\n</style>\n<table border=\"1\" class=\"dataframe\">\n  <thead>\n    <tr style=\"text-align: right;\">\n      <th></th>\n      <th>review_id</th>\n      <th>user_id</th>\n      <th>business_id</th>\n      <th>stars</th>\n      <th>date</th>\n      <th>name</th>\n      <th>city</th>\n      <th>state</th>\n      <th>categories</th>\n      <th>repeat_review_id</th>\n    </tr>\n  </thead>\n  <tbody>\n    <tr>\n      <th>4786459</th>\n      <td>vRuKx3khNZZKM6nieI2nkw</td>\n      <td>r7-lUT62G15CXa9Wa6uvdA</td>\n      <td>hkNMo5kY8OhObwJF2qYIew</td>\n      <td>5</td>\n      <td>2019-12-13 15:51:19</td>\n      <td>Nirvana Center</td>\n      <td>phoenix</td>\n      <td>AZ</td>\n      <td>Medical Centers, Shopping, Cannabis Dispensari...</td>\n      <td>r7-lUT62G15CXa9Wa6uvdAhkNMo5kY8OhObwJF2qYIew</td>\n    </tr>\n    <tr>\n      <th>4045013</th>\n      <td>HhRdgBVdTC3GzRszO79EIw</td>\n      <td>KJA805UOqiatClH8psYmuw</td>\n      <td>AE80fzfVnsyeHiiVhwSGMw</td>\n      <td>1</td>\n      <td>2019-12-13 15:50:11</td>\n      <td>Deluxburger Express</td>\n      <td>phoenix</td>\n      <td>AZ</td>\n      <td>Burgers, Restaurants</td>\n      <td>KJA805UOqiatClH8psYmuwAE80fzfVnsyeHiiVhwSGMw</td>\n    </tr>\n    <tr>\n      <th>2648856</th>\n      <td>hhAhkWco5iarESCUpMQJJQ</td>\n      <td>h-aIa6eOkcwZYGQz8Ss02w</td>\n      <td>WHiND6UPxr6WzgGhz2E91Q</td>\n      <td>5</td>\n      <td>2019-12-13 15:45:53</td>\n      <td>Hash Kitchen</td>\n      <td>chandler</td>\n      <td>AZ</td>\n      <td>Breakfast &amp; Brunch, Restaurants</td>\n      <td>h-aIa6eOkcwZYGQz8Ss02wWHiND6UPxr6WzgGhz2E91Q</td>\n    </tr>\n    <tr>\n      <th>7042961</th>\n      <td>5m1rgmC6D0PXn1UGbo6gJw</td>\n      <td>Ia4iRpMZP_mGyozlUz6Q7g</td>\n      <td>XJIs0pWVNu60fhehIXgaUg</td>\n      <td>5</td>\n      <td>2019-12-13 15:45:49</td>\n      <td>Advanced Endodontics</td>\n      <td>mesa</td>\n      <td>AZ</td>\n      <td>Health &amp; Medical, Endodontists, Dentists</td>\n      <td>Ia4iRpMZP_mGyozlUz6Q7gXJIs0pWVNu60fhehIXgaUg</td>\n    </tr>\n    <tr>\n      <th>5950973</th>\n      <td>QBTdmDhRNcbUGU2WV06PiA</td>\n      <td>8yWDN0YsJC65quUz6LDuNA</td>\n      <td>9MVKjEMN5T59uzG1xoD2BQ</td>\n      <td>5</td>\n      <td>2019-12-13 15:43:16</td>\n      <td>Cocina Madrigal</td>\n      <td>phoenix</td>\n      <td>AZ</td>\n      <td>Restaurants, Mexican</td>\n      <td>8yWDN0YsJC65quUz6LDuNA9MVKjEMN5T59uzG1xoD2BQ</td>\n    </tr>\n  </tbody>\n</table>\n</div>"
     },
     "metadata": {},
     "execution_count": 5
    }
   ],
   "source": [
    "print(reviewframe.shape)\n",
    "reviewframe.head()"
   ]
  },
  {
   "cell_type": "code",
   "execution_count": 6,
   "metadata": {},
   "outputs": [],
   "source": [
    "# binary classification for ROC-AUC\n",
    "reviewframe['recommend'] = reviewframe['stars'].map({1:-1, 2:-1, 3:-1, 4:1, 5:1})"
   ]
  },
  {
   "cell_type": "code",
   "execution_count": 7,
   "metadata": {},
   "outputs": [],
   "source": [
    "reviewframe_with_dummy = reviewframe.copy()"
   ]
  },
  {
   "cell_type": "code",
   "execution_count": 8,
   "metadata": {},
   "outputs": [],
   "source": [
    "newuser = pd.DataFrame({'review_id':'fake_review', 'user_id':'new_user', 'business_id':'dummy_business', 'city':'Nowhere', 'state':'NW', \n",
    "                        'stars':3, 'date':pd.to_datetime('01-01-2020'), 'name':'dummy business', 'categories':'',\n",
    "                        'repeat_review_id':'new_userdummy_business', 'recommend':-1,'cat_list':''}, index=[0])"
   ]
  },
  {
   "cell_type": "code",
   "execution_count": 9,
   "metadata": {},
   "outputs": [],
   "source": [
    "# insert a new user - for equivalence with other tests.\n",
    "reviewframe_with_dummy = reviewframe_with_dummy.append(newuser, ignore_index=True)"
   ]
  },
  {
   "cell_type": "code",
   "execution_count": 10,
   "metadata": {},
   "outputs": [],
   "source": [
    "# the lightFM Dataset object keeps track of mappings between user/business ids and indices on the generated sparse matrices\n",
    "lightfm_dataset = Dataset()\n",
    "lightfm_dataset.fit(reviewframe_with_dummy.user_id,reviewframe_with_dummy.business_id)"
   ]
  },
  {
   "cell_type": "code",
   "execution_count": 11,
   "metadata": {
    "tags": []
   },
   "outputs": [
    {
     "output_type": "stream",
     "name": "stdout",
     "text": "(606928, 60541)\n"
    }
   ],
   "source": [
    "print(lightfm_dataset.interactions_shape())"
   ]
  },
  {
   "cell_type": "code",
   "execution_count": 12,
   "metadata": {
    "tags": []
   },
   "outputs": [
    {
     "output_type": "stream",
     "name": "stdout",
     "text": "606927\n60540\n"
    }
   ],
   "source": [
    "print(reviewframe.user_id.nunique())\n",
    "print(reviewframe.business_id.nunique())"
   ]
  },
  {
   "cell_type": "code",
   "execution_count": 12,
   "metadata": {},
   "outputs": [],
   "source": [
    "# build interactions\n",
    "(lightfm_interactions, weights) = lightfm_dataset.build_interactions([(x['user_id'],\n",
    "                                                       x['business_id'],\n",
    "                                                       x['recommend']) for index,x in reviewframe_with_dummy.iterrows()])"
   ]
  },
  {
   "cell_type": "code",
   "execution_count": 13,
   "metadata": {
    "tags": []
   },
   "outputs": [
    {
     "output_type": "stream",
     "name": "stdout",
     "text": "606928 users, 60541 businesses, 719614 test interactions, 1679099 train interactions\n"
    }
   ],
   "source": [
    "seed = 42\n",
    "from lightfm.cross_validation import random_train_test_split\n",
    "train,test=random_train_test_split(lightfm_interactions,test_percentage=0.3,random_state=np.random.RandomState(seed))\n",
    "\n",
    "print(f'{train.shape[0]} users, {train.shape[1]} businesses, {test.getnnz()} test interactions, {train.getnnz()} train interactions')"
   ]
  },
  {
   "cell_type": "code",
   "execution_count": 16,
   "metadata": {
    "tags": []
   },
   "outputs": [
    {
     "output_type": "error",
     "ename": "NameError",
     "evalue": "name 'NUM_THREADS' is not defined",
     "traceback": [
      "\u001b[1;31m---------------------------------------------------------------------------\u001b[0m",
      "\u001b[1;31mNameError\u001b[0m                                 Traceback (most recent call last)",
      "\u001b[1;32m<ipython-input-16-d028788384d7>\u001b[0m in \u001b[0;36m<module>\u001b[1;34m\u001b[0m\n\u001b[0;32m     10\u001b[0m     model = LightFM(loss='logistic',random_state=seed,\n\u001b[0;32m     11\u001b[0m                 no_components=val)\n\u001b[1;32m---> 12\u001b[1;33m     \u001b[0mmodel\u001b[0m\u001b[1;33m.\u001b[0m\u001b[0mfit\u001b[0m\u001b[1;33m(\u001b[0m\u001b[0mtrain\u001b[0m\u001b[1;33m,\u001b[0m\u001b[0mepochs\u001b[0m\u001b[1;33m=\u001b[0m\u001b[1;36m5\u001b[0m\u001b[1;33m,\u001b[0m\u001b[0mnum_threads\u001b[0m\u001b[1;33m=\u001b[0m\u001b[0mNUM_THREADS\u001b[0m\u001b[1;33m)\u001b[0m\u001b[1;33m\u001b[0m\u001b[1;33m\u001b[0m\u001b[0m\n\u001b[0m\u001b[0;32m     13\u001b[0m \u001b[1;33m\u001b[0m\u001b[0m\n\u001b[0;32m     14\u001b[0m     \u001b[0mtrain_auc\u001b[0m \u001b[1;33m=\u001b[0m \u001b[0mauc_score\u001b[0m\u001b[1;33m(\u001b[0m\u001b[0mmodel\u001b[0m\u001b[1;33m,\u001b[0m \u001b[0mtrain\u001b[0m\u001b[1;33m,\u001b[0m \u001b[0mnum_threads\u001b[0m\u001b[1;33m=\u001b[0m\u001b[0mNUM_THREADS\u001b[0m\u001b[1;33m)\u001b[0m\u001b[1;33m.\u001b[0m\u001b[0mmean\u001b[0m\u001b[1;33m(\u001b[0m\u001b[1;33m)\u001b[0m\u001b[1;33m\u001b[0m\u001b[1;33m\u001b[0m\u001b[0m\n",
      "\u001b[1;31mNameError\u001b[0m: name 'NUM_THREADS' is not defined"
     ]
    }
   ],
   "source": [
    "from lightfm import LightFM\n",
    "from lightfm.evaluation import auc_score\n",
    "\n",
    "component_train_accuracy = []\n",
    "component_test_accuracy = []\n",
    "num_components = [5,10,15,20,25,30]\n",
    "num_threads = 4\n",
    "\n",
    "for val in num_components:\n",
    "\n",
    "    model = LightFM(loss='logistic',random_state=seed,\n",
    "                no_components=val)\n",
    "    model.fit(train,epochs=5,num_threads=num_threads)\n",
    "\n",
    "    train_auc = auc_score(model, train, num_threads=num_threads).mean()\n",
    "    print('train AUC: %s' % train_auc)\n",
    "    component_train_accuracy.append(train_auc)\n",
    "\n",
    "    test_auc = auc_score(model, test,num_threads=num_threads).mean()\n",
    "    print('test AUC: %s' % test_auc)\n",
    "    component_test_accuracy.append(test_auc)\n"
   ]
  },
  {
   "cell_type": "code",
   "execution_count": null,
   "metadata": {},
   "outputs": [],
   "source": [
    "lr_train_accuracy = []\n",
    "lr_test_accuracy = []\n",
    "learning_rates = [5,10,15,20,25,30]\n",
    "num_threads = 4\n",
    "\n",
    "for val in learning_rates:\n",
    "\n",
    "    model = LightFM(loss='logistic',random_state=seed,\n",
    "                no_components=20, learning_rate=val)\n",
    "    model.fit(train,epochs=5,num_threads=num_threads)\n",
    "\n",
    "    train_auc = auc_score(model, train, num_threads=num_threads).mean()\n",
    "    print('train AUC: %s' % train_auc)\n",
    "    lr_train_accuracy.append(train_auc)\n",
    "\n",
    "    test_auc = auc_score(model, test,num_threads=num_threads).mean()\n",
    "    print('test AUC: %s' % test_auc)\n",
    "    lr_test_accuracy.append(test_auc)"
   ]
  },
  {
   "cell_type": "code",
   "execution_count": null,
   "metadata": {},
   "outputs": [],
   "source": [
    "epochs_train_accuracy = []\n",
    "epochs_test_accuracy = []\n",
    "num_epochs = [5,10,15,20,25,30]\n",
    "num_threads = 4\n",
    "\n",
    "for val in num_epochs:\n",
    "\n",
    "    model = LightFM(loss='logistic',random_state=seed,\n",
    "                no_components=20, learning_rate=val)\n",
    "    model.fit(train,epochs=val,num_threads=num_threads)\n",
    "\n",
    "    train_auc = auc_score(model, train, num_threads=num_threads).mean()\n",
    "    print('train AUC: %s' % train_auc)\n",
    "    lr_train_accuracy.append(train_auc)\n",
    "\n",
    "    test_auc = auc_score(model, test,num_threads=num_threads).mean()\n",
    "    print('test AUC: %s' % test_auc)\n",
    "    lr_test_accuracy.append(test_auc)"
   ]
  }
 ],
 "metadata": {
  "language_info": {
   "codemirror_mode": {
    "name": "ipython",
    "version": 3
   },
   "file_extension": ".py",
   "mimetype": "text/x-python",
   "name": "python",
   "nbconvert_exporter": "python",
   "pygments_lexer": "ipython3",
   "version": "3.7.7-final"
  },
  "orig_nbformat": 2,
  "kernelspec": {
   "name": "python37764bitvirtvenv31669fcdc4ae401298c810079ac2157e",
   "display_name": "Python 3.7.7 64-bit ('virt': venv)"
  }
 },
 "nbformat": 4,
 "nbformat_minor": 2
}