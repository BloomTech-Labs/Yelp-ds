{
 "cells": [
  {
   "cell_type": "code",
   "execution_count": 1,
   "metadata": {},
   "outputs": [],
   "source": [
    "import pandas as pd\n",
    "from sklearn.preprocessing import MultiLabelBinarizer"
   ]
  },
  {
   "cell_type": "code",
   "execution_count": 2,
   "metadata": {},
   "outputs": [],
   "source": [
    "# get the list of cities we kept from the reviews\n",
    "yelpframe = pd.read_csv('./data/all_reviews_with_businesses_no_text.csv', index_col=[0])\n",
    "phxframe = yelpframe[yelpframe['state'] == 'AZ'].copy()\n",
    "phxframe['city'] = phxframe['city'].apply(lambda x: str(x).lower())\n",
    "phxframe['city'] = phxframe['city'].apply(lambda x: x.strip(' '))\n",
    "citycounts = phxframe['city'].value_counts()\n",
    "citiestokeep = citycounts[(citycounts >= 1000)].index.tolist()"
   ]
  },
  {
   "cell_type": "code",
   "execution_count": 3,
   "metadata": {},
   "outputs": [],
   "source": [
    "businessframe = pd.read_json('../labs_data/yelp_academic_dataset_business.json', lines=True, orient='records')"
   ]
  },
  {
   "cell_type": "code",
   "execution_count": 4,
   "metadata": {},
   "outputs": [],
   "source": [
    "# filter businesses by said cities\n",
    "phxbizframe = businessframe[businessframe['state'] == 'AZ'].copy()\n",
    "phxbizframe['city'] = phxbizframe['city'].apply(lambda x: str(x).lower())\n",
    "phxbizframe['city'] = phxbizframe['city'].apply(lambda x: x.strip(' '))\n",
    "phxbizframe = phxbizframe[(phxbizframe['city'].isin(citiestokeep))]"
   ]
  },
  {
   "cell_type": "code",
   "execution_count": 5,
   "metadata": {},
   "outputs": [],
   "source": [
    "# make binary feature for most common categories\n",
    "phxbizframe['cat_list'] = phxbizframe['categories'].apply(lambda x: str(x).replace(' ', '').split(','))\n",
    "\n",
    "# Binarise labels\n",
    "mlb = MultiLabelBinarizer()\n",
    "expanded_cat_data = mlb.fit_transform(phxbizframe['cat_list'])\n",
    "cat_classes = ['category_' + x for x in mlb.classes_]\n",
    "\n",
    "expanded_cats = pd.DataFrame(expanded_cat_data)\n",
    "expanded_cats.columns = cat_classes\n",
    "\n",
    "# get rid of category features with less than 1000 businesses\n",
    "catcounts = expanded_cats.sum().sort_values(ascending=False)\n",
    "catstodrop = catcounts[(catcounts < 1000)].index.tolist()\n",
    "expanded_cats.drop(columns=catstodrop, inplace=True)\n",
    "\n",
    "# add category features, remove unused features\n",
    "phxbizframe.reset_index(drop=True, inplace=True)\n",
    "concatenated = pd.concat([phxbizframe, expanded_cats], axis=1)\n",
    "concatenated.drop(columns=['postal_code','latitude','longitude','is_open','attributes','cat_list','hours'], inplace=True)\n",
    "concatenated.rename(columns={'stars':'aggregate_rating'}, inplace=True)"
   ]
  },
  {
   "cell_type": "code",
   "execution_count": 5,
   "metadata": {},
   "outputs": [
    {
     "output_type": "execute_result",
     "data": {
      "text/plain": "True"
     },
     "metadata": {},
     "execution_count": 5
    }
   ],
   "source": [
    "import psycopg2\n",
    "from dotenv import load_dotenv\n",
    "import os\n",
    "load_dotenv()"
   ]
  },
  {
   "cell_type": "code",
   "execution_count": 6,
   "metadata": {},
   "outputs": [],
   "source": [
    "# get postgres credentials\n",
    "rds_credentials = {'AWS_RDS_HOST' : os.getenv('AWS_RDS_HOST'),\n",
    "               'AWS_RDS_PORT' : os.getenv('AWS_RDS_PORT'),\n",
    "               'AWS_RDS_USER' : os.getenv('AWS_RDS_USER'),\n",
    "               'AWS_RDS_PASS' : os.getenv('AWS_RDS_PASS'),\n",
    "               'AWS_RDS_DB' : os.getenv('AWS_RDS_DB')}"
   ]
  },
  {
   "cell_type": "code",
   "execution_count": 8,
   "metadata": {},
   "outputs": [],
   "source": [
    "conn = psycopg2.connect(host=rds_credentials['AWS_RDS_HOST'],\n",
    "                  database=rds_credentials['AWS_RDS_DB'],\n",
    "                  user=rds_credentials['AWS_RDS_USER'],\n",
    "                  password=rds_credentials['AWS_RDS_PASS'],\n",
    "                  port=rds_credentials['AWS_RDS_PORT'])\n",
    "cur = conn.cursor()"
   ]
  },
  {
   "cell_type": "code",
   "execution_count": 32,
   "metadata": {},
   "outputs": [],
   "source": [
    "# create business data table\n",
    "create_business_data_table = \"\"\"\n",
    "CREATE TABLE business_data(\n",
    "business_id TEXT,\n",
    "name TEXT,\n",
    "address TEXT,\n",
    "city TEXT,\n",
    "state TEXT,\n",
    "aggregate_rating FLOAT,\n",
    "review_count INT,\n",
    "categories TEXT,\n",
    "category_ActiveLife INT,\n",
    "category_American_New INT,\n",
    "category_American_Traditional INT,\n",
    "category_Apartments INT,\n",
    "category_Arts_Entertainment INT,\n",
    "category_AutoRepair INT,\n",
    "category_Automotive INT,\n",
    "category_Bars INT,\n",
    "category_Beauty_Spas INT,\n",
    "category_Breakfast_Brunch INT,\n",
    "category_Burgers INT,\n",
    "category_Coffee_Tea INT,\n",
    "category_Contractors INT,\n",
    "category_CosmeticDentists INT,\n",
    "category_Dentists INT,\n",
    "category_Doctors INT,\n",
    "category_Education INT,\n",
    "category_EventPlanning_Services INT,\n",
    "category_Fashion INT,\n",
    "category_FastFood INT,\n",
    "category_FinancialServices INT,\n",
    "category_Fitness_Instruction INT,\n",
    "category_Food INT,\n",
    "category_GeneralDentistry INT,\n",
    "category_HairRemoval INT,\n",
    "category_HairSalons INT,\n",
    "category_Health_Medical INT,\n",
    "category_Home_Garden INT,\n",
    "category_HomeServices INT,\n",
    "category_Hotels_Travel INT,\n",
    "category_LocalServices INT,\n",
    "category_Mexican INT,\n",
    "category_NailSalons INT,\n",
    "category_Nightlife INT,\n",
    "category_Pets INT,\n",
    "category_Pizza INT,\n",
    "category_ProfessionalServices INT,\n",
    "category_RealEstate INT,\n",
    "category_Restaurants INT,\n",
    "category_Sandwiches INT,\n",
    "category_Shopping INT,\n",
    "category_SkinCare INT\n",
    ");\n",
    "\"\"\"\n",
    "# execute table creation\n",
    "cur.execute(\"DROP TABLE IF EXISTS business_data\")\n",
    "cur.execute(create_business_data_table)\n",
    "conn.commit()"
   ]
  },
  {
   "cell_type": "code",
   "execution_count": 33,
   "metadata": {},
   "outputs": [],
   "source": [
    "insertion_query = \"\"\"INSERT INTO business_data (business_id,\n",
    "name,\n",
    "address,\n",
    "city,\n",
    "state,\n",
    "aggregate_rating,\n",
    "review_count,\n",
    "categories,\n",
    "category_ActiveLife,\n",
    "category_American_New,\n",
    "category_American_Traditional,\n",
    "category_Apartments,\n",
    "category_Arts_Entertainment,\n",
    "category_AutoRepair,\n",
    "category_Automotive,\n",
    "category_Bars,\n",
    "category_Beauty_Spas,\n",
    "category_Breakfast_Brunch,\n",
    "category_Burgers,\n",
    "category_Coffee_Tea,\n",
    "category_Contractors,\n",
    "category_CosmeticDentists,\n",
    "category_Dentists,\n",
    "category_Doctors,\n",
    "category_Education,\n",
    "category_EventPlanning_Services,\n",
    "category_Fashion,\n",
    "category_FastFood,\n",
    "category_FinancialServices,\n",
    "category_Fitness_Instruction,\n",
    "category_Food,\n",
    "category_GeneralDentistry,\n",
    "category_HairRemoval,\n",
    "category_HairSalons,\n",
    "category_Health_Medical,\n",
    "category_Home_Garden,\n",
    "category_HomeServices,\n",
    "category_Hotels_Travel,\n",
    "category_LocalServices,\n",
    "category_Mexican,\n",
    "category_NailSalons,\n",
    "category_Nightlife,\n",
    "category_Pets,\n",
    "category_Pizza,\n",
    "category_ProfessionalServices,\n",
    "category_RealEstate,\n",
    "category_Restaurants,\n",
    "category_Sandwiches,\n",
    "category_Shopping,\n",
    "category_SkinCare) VALUES (%s, %s, %s, %s, %s, %s, %s, %s, %s, %s, %s, %s, %s, %s, %s, %s, %s, %s, %s, %s, %s, %s, %s, %s, %s, %s, %s, %s, %s, %s, %s, %s, %s, %s, %s, %s, %s, %s, %s, %s, %s, %s, %s, %s, %s, %s, %s, %s, %s, %s)\"\"\""
   ]
  },
  {
   "cell_type": "code",
   "execution_count": 34,
   "metadata": {},
   "outputs": [],
   "source": [
    "business_tuples = tuple([tuple(x) for x in concatenated.itertuples(index=False)])"
   ]
  },
  {
   "cell_type": "code",
   "execution_count": 35,
   "metadata": {},
   "outputs": [],
   "source": [
    "cur.executemany(insertion_query, business_tuples)"
   ]
  },
  {
   "cell_type": "code",
   "execution_count": 36,
   "metadata": {},
   "outputs": [],
   "source": [
    "conn.commit()"
   ]
  },
  {
   "cell_type": "code",
   "execution_count": 9,
   "metadata": {},
   "outputs": [],
   "source": [
    "conn.close()"
   ]
  },
  {
   "cell_type": "code",
   "execution_count": 42,
   "metadata": {},
   "outputs": [],
   "source": [
    "conn.close()"
   ]
  },
  {
   "cell_type": "code",
   "execution_count": null,
   "metadata": {},
   "outputs": [],
   "source": []
  }
 ],
 "metadata": {
  "language_info": {
   "codemirror_mode": {
    "name": "ipython",
    "version": 3
   },
   "file_extension": ".py",
   "mimetype": "text/x-python",
   "name": "python",
   "nbconvert_exporter": "python",
   "pygments_lexer": "ipython3",
   "version": "3.7.7-final"
  },
  "orig_nbformat": 2,
  "kernelspec": {
   "name": "python37764bitvirtvenv31669fcdc4ae401298c810079ac2157e",
   "display_name": "Python 3.7.7 64-bit ('virt': venv)"
  }
 },
 "nbformat": 4,
 "nbformat_minor": 2
}