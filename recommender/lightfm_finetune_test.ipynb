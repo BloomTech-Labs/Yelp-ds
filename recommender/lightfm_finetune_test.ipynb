{
 "cells": [
  {
   "cell_type": "code",
   "execution_count": 1,
   "metadata": {},
   "outputs": [],
   "source": [
    "import lightfm\n",
    "import pandas as pd\n",
    "import numpy as np\n",
    "\n",
    "from random import sample"
   ]
  },
  {
   "cell_type": "code",
   "execution_count": 2,
   "metadata": {},
   "outputs": [],
   "source": [
    "from lightfm.data import Dataset"
   ]
  },
  {
   "cell_type": "code",
   "execution_count": 3,
   "metadata": {},
   "outputs": [],
   "source": [
    "reviewframe = pd.read_csv('./data/all_reviews_no_dupes.csv', index_col=[0])"
   ]
  },
  {
   "cell_type": "code",
   "execution_count": 4,
   "metadata": {
    "tags": []
   },
   "outputs": [
    {
     "output_type": "stream",
     "name": "stdout",
     "text": "(2398712, 10)\n"
    },
    {
     "output_type": "execute_result",
     "data": {
      "text/plain": "                      review_id                 user_id  \\\n4786459  vRuKx3khNZZKM6nieI2nkw  r7-lUT62G15CXa9Wa6uvdA   \n4045013  HhRdgBVdTC3GzRszO79EIw  KJA805UOqiatClH8psYmuw   \n2648856  hhAhkWco5iarESCUpMQJJQ  h-aIa6eOkcwZYGQz8Ss02w   \n7042961  5m1rgmC6D0PXn1UGbo6gJw  Ia4iRpMZP_mGyozlUz6Q7g   \n5950973  QBTdmDhRNcbUGU2WV06PiA  8yWDN0YsJC65quUz6LDuNA   \n\n                    business_id  stars                 date  \\\n4786459  hkNMo5kY8OhObwJF2qYIew      5  2019-12-13 15:51:19   \n4045013  AE80fzfVnsyeHiiVhwSGMw      1  2019-12-13 15:50:11   \n2648856  WHiND6UPxr6WzgGhz2E91Q      5  2019-12-13 15:45:53   \n7042961  XJIs0pWVNu60fhehIXgaUg      5  2019-12-13 15:45:49   \n5950973  9MVKjEMN5T59uzG1xoD2BQ      5  2019-12-13 15:43:16   \n\n                         name      city state  \\\n4786459        Nirvana Center   phoenix    AZ   \n4045013   Deluxburger Express   phoenix    AZ   \n2648856          Hash Kitchen  chandler    AZ   \n7042961  Advanced Endodontics      mesa    AZ   \n5950973       Cocina Madrigal   phoenix    AZ   \n\n                                                categories  \\\n4786459  Medical Centers, Shopping, Cannabis Dispensari...   \n4045013                               Burgers, Restaurants   \n2648856                    Breakfast & Brunch, Restaurants   \n7042961           Health & Medical, Endodontists, Dentists   \n5950973                               Restaurants, Mexican   \n\n                                     repeat_review_id  \n4786459  r7-lUT62G15CXa9Wa6uvdAhkNMo5kY8OhObwJF2qYIew  \n4045013  KJA805UOqiatClH8psYmuwAE80fzfVnsyeHiiVhwSGMw  \n2648856  h-aIa6eOkcwZYGQz8Ss02wWHiND6UPxr6WzgGhz2E91Q  \n7042961  Ia4iRpMZP_mGyozlUz6Q7gXJIs0pWVNu60fhehIXgaUg  \n5950973  8yWDN0YsJC65quUz6LDuNA9MVKjEMN5T59uzG1xoD2BQ  ",
      "text/html": "<div>\n<style scoped>\n    .dataframe tbody tr th:only-of-type {\n        vertical-align: middle;\n    }\n\n    .dataframe tbody tr th {\n        vertical-align: top;\n    }\n\n    .dataframe thead th {\n        text-align: right;\n    }\n</style>\n<table border=\"1\" class=\"dataframe\">\n  <thead>\n    <tr style=\"text-align: right;\">\n      <th></th>\n      <th>review_id</th>\n      <th>user_id</th>\n      <th>business_id</th>\n      <th>stars</th>\n      <th>date</th>\n      <th>name</th>\n      <th>city</th>\n      <th>state</th>\n      <th>categories</th>\n      <th>repeat_review_id</th>\n    </tr>\n  </thead>\n  <tbody>\n    <tr>\n      <th>4786459</th>\n      <td>vRuKx3khNZZKM6nieI2nkw</td>\n      <td>r7-lUT62G15CXa9Wa6uvdA</td>\n      <td>hkNMo5kY8OhObwJF2qYIew</td>\n      <td>5</td>\n      <td>2019-12-13 15:51:19</td>\n      <td>Nirvana Center</td>\n      <td>phoenix</td>\n      <td>AZ</td>\n      <td>Medical Centers, Shopping, Cannabis Dispensari...</td>\n      <td>r7-lUT62G15CXa9Wa6uvdAhkNMo5kY8OhObwJF2qYIew</td>\n    </tr>\n    <tr>\n      <th>4045013</th>\n      <td>HhRdgBVdTC3GzRszO79EIw</td>\n      <td>KJA805UOqiatClH8psYmuw</td>\n      <td>AE80fzfVnsyeHiiVhwSGMw</td>\n      <td>1</td>\n      <td>2019-12-13 15:50:11</td>\n      <td>Deluxburger Express</td>\n      <td>phoenix</td>\n      <td>AZ</td>\n      <td>Burgers, Restaurants</td>\n      <td>KJA805UOqiatClH8psYmuwAE80fzfVnsyeHiiVhwSGMw</td>\n    </tr>\n    <tr>\n      <th>2648856</th>\n      <td>hhAhkWco5iarESCUpMQJJQ</td>\n      <td>h-aIa6eOkcwZYGQz8Ss02w</td>\n      <td>WHiND6UPxr6WzgGhz2E91Q</td>\n      <td>5</td>\n      <td>2019-12-13 15:45:53</td>\n      <td>Hash Kitchen</td>\n      <td>chandler</td>\n      <td>AZ</td>\n      <td>Breakfast &amp; Brunch, Restaurants</td>\n      <td>h-aIa6eOkcwZYGQz8Ss02wWHiND6UPxr6WzgGhz2E91Q</td>\n    </tr>\n    <tr>\n      <th>7042961</th>\n      <td>5m1rgmC6D0PXn1UGbo6gJw</td>\n      <td>Ia4iRpMZP_mGyozlUz6Q7g</td>\n      <td>XJIs0pWVNu60fhehIXgaUg</td>\n      <td>5</td>\n      <td>2019-12-13 15:45:49</td>\n      <td>Advanced Endodontics</td>\n      <td>mesa</td>\n      <td>AZ</td>\n      <td>Health &amp; Medical, Endodontists, Dentists</td>\n      <td>Ia4iRpMZP_mGyozlUz6Q7gXJIs0pWVNu60fhehIXgaUg</td>\n    </tr>\n    <tr>\n      <th>5950973</th>\n      <td>QBTdmDhRNcbUGU2WV06PiA</td>\n      <td>8yWDN0YsJC65quUz6LDuNA</td>\n      <td>9MVKjEMN5T59uzG1xoD2BQ</td>\n      <td>5</td>\n      <td>2019-12-13 15:43:16</td>\n      <td>Cocina Madrigal</td>\n      <td>phoenix</td>\n      <td>AZ</td>\n      <td>Restaurants, Mexican</td>\n      <td>8yWDN0YsJC65quUz6LDuNA9MVKjEMN5T59uzG1xoD2BQ</td>\n    </tr>\n  </tbody>\n</table>\n</div>"
     },
     "metadata": {},
     "execution_count": 4
    }
   ],
   "source": [
    "print(reviewframe.shape)\n",
    "reviewframe.head()"
   ]
  },
  {
   "cell_type": "code",
   "execution_count": 5,
   "metadata": {},
   "outputs": [],
   "source": [
    "# binary classification for ROC-AUC\n",
    "reviewframe['recommend'] = reviewframe['stars'].map({1:-1, 2:-1, 3:-1, 4:1, 5:1})"
   ]
  },
  {
   "cell_type": "code",
   "execution_count": 6,
   "metadata": {},
   "outputs": [],
   "source": [
    "# produce a subset of users to finetune on\n",
    "usercounts = reviewframe['user_id'].value_counts()\n",
    "test_users = usercounts[(usercounts == 10)].index.tolist()"
   ]
  },
  {
   "cell_type": "code",
   "execution_count": 7,
   "metadata": {},
   "outputs": [
    {
     "output_type": "execute_result",
     "data": {
      "text/plain": "5632"
     },
     "metadata": {},
     "execution_count": 7
    }
   ],
   "source": [
    "len(test_users)"
   ]
  },
  {
   "cell_type": "code",
   "execution_count": 8,
   "metadata": {},
   "outputs": [],
   "source": [
    "reviewframe_with_dummy = reviewframe.copy()"
   ]
  },
  {
   "cell_type": "code",
   "execution_count": 9,
   "metadata": {},
   "outputs": [],
   "source": [
    "# creating a dummy user to attribute the new reviews to in finetuning\n",
    "newuser = pd.DataFrame({'review_id':'fake_review', 'user_id':'new_user', 'business_id':'dummy_business', 'city':'Nowhere', 'state':'NW', \n",
    "                        'stars':3, 'date':pd.to_datetime('01-01-2020'), 'name':'dummy business', 'categories':'',\n",
    "                        'repeat_review_id':'new_userdummy_business', 'recommend':-1,'cat_list':''}, index=[0])"
   ]
  },
  {
   "cell_type": "code",
   "execution_count": 10,
   "metadata": {},
   "outputs": [],
   "source": [
    "# append the dummy user to the dataset\n",
    "reviewframe_with_dummy = reviewframe_with_dummy.append(newuser, ignore_index=True)"
   ]
  },
  {
   "cell_type": "code",
   "execution_count": 11,
   "metadata": {},
   "outputs": [],
   "source": [
    "# create two lightfm datasets, one for initial training and the other for finetuning.\n",
    "\n",
    "pretrain_dataset = Dataset()\n",
    "pretrain_dataset.fit(reviewframe_with_dummy.user_id,reviewframe_with_dummy.business_id)\n",
    "\n",
    "retrain_dataset = Dataset()\n",
    "retrain_dataset.fit(reviewframe_with_dummy.user_id,reviewframe_with_dummy.business_id)"
   ]
  },
  {
   "cell_type": "code",
   "execution_count": 12,
   "metadata": {
    "tags": []
   },
   "outputs": [
    {
     "output_type": "stream",
     "name": "stdout",
     "text": "(606928, 60541)\n(606928, 60541)\n"
    }
   ],
   "source": [
    "print(pretrain_dataset.interactions_shape())\n",
    "print(retrain_dataset.interactions_shape())"
   ]
  },
  {
   "cell_type": "code",
   "execution_count": 13,
   "metadata": {
    "tags": []
   },
   "outputs": [
    {
     "output_type": "stream",
     "name": "stdout",
     "text": "606927\n60540\n"
    }
   ],
   "source": [
    "# one additional user and business in the lightfm datasets to attribute new users to.\n",
    "print(reviewframe.user_id.nunique())\n",
    "print(reviewframe.business_id.nunique())"
   ]
  },
  {
   "cell_type": "code",
   "execution_count": 14,
   "metadata": {
    "tags": []
   },
   "outputs": [
    {
     "output_type": "stream",
     "name": "stdout",
     "text": "(10, 11)\n(2398702, 11)\n"
    },
    {
     "output_type": "execute_result",
     "data": {
      "text/plain": "                      review_id                 user_id  \\\n4786459  vRuKx3khNZZKM6nieI2nkw  r7-lUT62G15CXa9Wa6uvdA   \n4045013  HhRdgBVdTC3GzRszO79EIw  KJA805UOqiatClH8psYmuw   \n2648856  hhAhkWco5iarESCUpMQJJQ  h-aIa6eOkcwZYGQz8Ss02w   \n7042961  5m1rgmC6D0PXn1UGbo6gJw  Ia4iRpMZP_mGyozlUz6Q7g   \n5950973  QBTdmDhRNcbUGU2WV06PiA  8yWDN0YsJC65quUz6LDuNA   \n\n                    business_id  stars                 date  \\\n4786459  hkNMo5kY8OhObwJF2qYIew      5  2019-12-13 15:51:19   \n4045013  AE80fzfVnsyeHiiVhwSGMw      1  2019-12-13 15:50:11   \n2648856  WHiND6UPxr6WzgGhz2E91Q      5  2019-12-13 15:45:53   \n7042961  XJIs0pWVNu60fhehIXgaUg      5  2019-12-13 15:45:49   \n5950973  9MVKjEMN5T59uzG1xoD2BQ      5  2019-12-13 15:43:16   \n\n                         name      city state  \\\n4786459        Nirvana Center   phoenix    AZ   \n4045013   Deluxburger Express   phoenix    AZ   \n2648856          Hash Kitchen  chandler    AZ   \n7042961  Advanced Endodontics      mesa    AZ   \n5950973       Cocina Madrigal   phoenix    AZ   \n\n                                                categories  \\\n4786459  Medical Centers, Shopping, Cannabis Dispensari...   \n4045013                               Burgers, Restaurants   \n2648856                    Breakfast & Brunch, Restaurants   \n7042961           Health & Medical, Endodontists, Dentists   \n5950973                               Restaurants, Mexican   \n\n                                     repeat_review_id  recommend  \n4786459  r7-lUT62G15CXa9Wa6uvdAhkNMo5kY8OhObwJF2qYIew          1  \n4045013  KJA805UOqiatClH8psYmuwAE80fzfVnsyeHiiVhwSGMw         -1  \n2648856  h-aIa6eOkcwZYGQz8Ss02wWHiND6UPxr6WzgGhz2E91Q          1  \n7042961  Ia4iRpMZP_mGyozlUz6Q7gXJIs0pWVNu60fhehIXgaUg          1  \n5950973  8yWDN0YsJC65quUz6LDuNA9MVKjEMN5T59uzG1xoD2BQ          1  ",
      "text/html": "<div>\n<style scoped>\n    .dataframe tbody tr th:only-of-type {\n        vertical-align: middle;\n    }\n\n    .dataframe tbody tr th {\n        vertical-align: top;\n    }\n\n    .dataframe thead th {\n        text-align: right;\n    }\n</style>\n<table border=\"1\" class=\"dataframe\">\n  <thead>\n    <tr style=\"text-align: right;\">\n      <th></th>\n      <th>review_id</th>\n      <th>user_id</th>\n      <th>business_id</th>\n      <th>stars</th>\n      <th>date</th>\n      <th>name</th>\n      <th>city</th>\n      <th>state</th>\n      <th>categories</th>\n      <th>repeat_review_id</th>\n      <th>recommend</th>\n    </tr>\n  </thead>\n  <tbody>\n    <tr>\n      <th>4786459</th>\n      <td>vRuKx3khNZZKM6nieI2nkw</td>\n      <td>r7-lUT62G15CXa9Wa6uvdA</td>\n      <td>hkNMo5kY8OhObwJF2qYIew</td>\n      <td>5</td>\n      <td>2019-12-13 15:51:19</td>\n      <td>Nirvana Center</td>\n      <td>phoenix</td>\n      <td>AZ</td>\n      <td>Medical Centers, Shopping, Cannabis Dispensari...</td>\n      <td>r7-lUT62G15CXa9Wa6uvdAhkNMo5kY8OhObwJF2qYIew</td>\n      <td>1</td>\n    </tr>\n    <tr>\n      <th>4045013</th>\n      <td>HhRdgBVdTC3GzRszO79EIw</td>\n      <td>KJA805UOqiatClH8psYmuw</td>\n      <td>AE80fzfVnsyeHiiVhwSGMw</td>\n      <td>1</td>\n      <td>2019-12-13 15:50:11</td>\n      <td>Deluxburger Express</td>\n      <td>phoenix</td>\n      <td>AZ</td>\n      <td>Burgers, Restaurants</td>\n      <td>KJA805UOqiatClH8psYmuwAE80fzfVnsyeHiiVhwSGMw</td>\n      <td>-1</td>\n    </tr>\n    <tr>\n      <th>2648856</th>\n      <td>hhAhkWco5iarESCUpMQJJQ</td>\n      <td>h-aIa6eOkcwZYGQz8Ss02w</td>\n      <td>WHiND6UPxr6WzgGhz2E91Q</td>\n      <td>5</td>\n      <td>2019-12-13 15:45:53</td>\n      <td>Hash Kitchen</td>\n      <td>chandler</td>\n      <td>AZ</td>\n      <td>Breakfast &amp; Brunch, Restaurants</td>\n      <td>h-aIa6eOkcwZYGQz8Ss02wWHiND6UPxr6WzgGhz2E91Q</td>\n      <td>1</td>\n    </tr>\n    <tr>\n      <th>7042961</th>\n      <td>5m1rgmC6D0PXn1UGbo6gJw</td>\n      <td>Ia4iRpMZP_mGyozlUz6Q7g</td>\n      <td>XJIs0pWVNu60fhehIXgaUg</td>\n      <td>5</td>\n      <td>2019-12-13 15:45:49</td>\n      <td>Advanced Endodontics</td>\n      <td>mesa</td>\n      <td>AZ</td>\n      <td>Health &amp; Medical, Endodontists, Dentists</td>\n      <td>Ia4iRpMZP_mGyozlUz6Q7gXJIs0pWVNu60fhehIXgaUg</td>\n      <td>1</td>\n    </tr>\n    <tr>\n      <th>5950973</th>\n      <td>QBTdmDhRNcbUGU2WV06PiA</td>\n      <td>8yWDN0YsJC65quUz6LDuNA</td>\n      <td>9MVKjEMN5T59uzG1xoD2BQ</td>\n      <td>5</td>\n      <td>2019-12-13 15:43:16</td>\n      <td>Cocina Madrigal</td>\n      <td>phoenix</td>\n      <td>AZ</td>\n      <td>Restaurants, Mexican</td>\n      <td>8yWDN0YsJC65quUz6LDuNA9MVKjEMN5T59uzG1xoD2BQ</td>\n      <td>1</td>\n    </tr>\n  </tbody>\n</table>\n</div>"
     },
     "metadata": {},
     "execution_count": 14
    }
   ],
   "source": [
    "# picking a user from the test_users list as a test case\n",
    "\n",
    "user_to_exclude = test_users[57]\n",
    "\n",
    "# find out how many reviews this user has made\n",
    "included_user_frame = reviewframe[(reviewframe['user_id'] == user_to_exclude)].copy()\n",
    "print(included_user_frame.shape)\n",
    "\n",
    "# get all instances from the main dataframe that are not this user\n",
    "\n",
    "excluded_user_frame = reviewframe[(reviewframe['user_id'] != user_to_exclude)].copy()\n",
    "\n",
    "print(excluded_user_frame.shape)\n",
    "excluded_user_frame.head()"
   ]
  },
  {
   "cell_type": "code",
   "execution_count": 15,
   "metadata": {},
   "outputs": [
    {
     "output_type": "execute_result",
     "data": {
      "text/plain": "'h8Piwvy3-jj3PEYkggqqpg'"
     },
     "metadata": {},
     "execution_count": 15
    }
   ],
   "source": [
    "user_to_exclude"
   ]
  },
  {
   "cell_type": "code",
   "execution_count": 16,
   "metadata": {},
   "outputs": [],
   "source": [
    "# build interactions for pretrain\n",
    "(pretrain_interactions, weights) = pretrain_dataset.build_interactions([(x['user_id'],\n",
    "                                                       x['business_id'],\n",
    "                                                       x['recommend']) for index,x in excluded_user_frame.iterrows()])"
   ]
  },
  {
   "cell_type": "code",
   "execution_count": 17,
   "metadata": {},
   "outputs": [],
   "source": [
    "# build interactions for retrain\n",
    "(retrain_interactions, weights) = retrain_dataset.build_interactions([(x['user_id'],\n",
    "                                                       x['business_id'],\n",
    "                                                       x['recommend']) for index,x in included_user_frame.iterrows()])"
   ]
  },
  {
   "cell_type": "code",
   "execution_count": 24,
   "metadata": {
    "tags": []
   },
   "outputs": [
    {
     "output_type": "stream",
     "name": "stdout",
     "text": "606928 users, 60541 businesses, 3 test interactions, 7 train interactions\n"
    }
   ],
   "source": [
    "seed = 42\n",
    "from lightfm.cross_validation import random_train_test_split\n",
    "train,test=random_train_test_split(retrain_interactions,test_percentage=0.3,random_state=np.random.RandomState(seed))\n",
    "\n",
    "print(f'{train.shape[0]} users, {train.shape[1]} businesses, {test.getnnz()} test interactions, {train.getnnz()} train interactions')"
   ]
  },
  {
   "cell_type": "code",
   "execution_count": 21,
   "metadata": {},
   "outputs": [],
   "source": [
    "from lightfm import LightFM\n",
    "\n",
    "NUM_THREADS = 4\n",
    "NUM_COMPONENTS = 20  \n",
    "NUM_EPOCHS = 20\n",
    "learning_rate=0.05\n",
    "\n",
    "model = LightFM(loss='logistic',random_state=seed,\n",
    "               no_components=NUM_COMPONENTS,\n",
    "               learning_rate=learning_rate)"
   ]
  },
  {
   "cell_type": "code",
   "execution_count": 22,
   "metadata": {
    "tags": []
   },
   "outputs": [
    {
     "output_type": "stream",
     "name": "stdout",
     "text": "Wall time: 5min 50s\n"
    },
    {
     "output_type": "execute_result",
     "data": {
      "text/plain": "<lightfm.lightfm.LightFM at 0x25c1b4a8d08>"
     },
     "metadata": {},
     "execution_count": 22
    }
   ],
   "source": [
    "# time it.\n",
    "%time model.fit_partial(pretrain_interactions,epochs=NUM_EPOCHS,num_threads=NUM_THREADS)"
   ]
  },
  {
   "cell_type": "code",
   "execution_count": 26,
   "metadata": {
    "tags": []
   },
   "outputs": [
    {
     "output_type": "stream",
     "name": "stdout",
     "text": "train AUC: 0.9021612\ntest AUC: 0.8370886\n"
    }
   ],
   "source": [
    "train_auc = auc_score(model, train, num_threads=NUM_THREADS).mean()\n",
    "print('train AUC: %s' % train_auc)\n",
    "\n",
    "\n",
    "test_auc = auc_score(model, test,num_threads=NUM_THREADS).mean()\n",
    "print('test AUC: %s' % test_auc)"
   ]
  },
  {
   "cell_type": "code",
   "execution_count": 25,
   "metadata": {
    "tags": []
   },
   "outputs": [
    {
     "output_type": "stream",
     "name": "stdout",
     "text": "Wall time: 78.4 ms\n"
    },
    {
     "output_type": "execute_result",
     "data": {
      "text/plain": "<lightfm.lightfm.LightFM at 0x25c1b4a8d08>"
     },
     "metadata": {},
     "execution_count": 25
    }
   ],
   "source": [
    "%time model.fit_partial(train,epochs=1,num_threads=NUM_THREADS)"
   ]
  },
  {
   "cell_type": "code",
   "execution_count": 28,
   "metadata": {},
   "outputs": [
    {
     "output_type": "stream",
     "name": "stdout",
     "text": "train AUC: 0.83291\ntest AUC: 0.7223072\nTrain precision: 0.0000\nTest precision: 0.0000\n"
    }
   ],
   "source": [
    "\n",
    "from lightfm.evaluation import auc_score\n",
    "\n",
    "train_auc = auc_score(model, train, num_threads=NUM_THREADS).mean()\n",
    "print('train AUC: %s' % train_auc)\n",
    "\n",
    "\n",
    "test_auc = auc_score(model, test,num_threads=NUM_THREADS).mean()\n",
    "print('test AUC: %s' % test_auc)"
   ]
  },
  {
   "cell_type": "code",
   "execution_count": 56,
   "metadata": {
    "tags": [
     "outputPrepend"
    ]
   },
   "outputs": [
    {
     "output_type": "stream",
     "name": "stdout",
     "text": "0.81511337\nretraining, epoch 55\nretrain scores, epoch 55\ntrain AUC: 0.8263503\ntest AUC: 0.8151409\nretraining, epoch 60\nretrain scores, epoch 60\ntrain AUC: 0.8268718\ntest AUC: 0.815185\nretraining, epoch 65\nretrain scores, epoch 65\ntrain AUC: 0.8274075\ntest AUC: 0.81523997\nretraining, epoch 70\nretrain scores, epoch 70\ntrain AUC: 0.8279644\ntest AUC: 0.8153005\nretraining, epoch 75\nretrain scores, epoch 75\ntrain AUC: 0.82854736\ntest AUC: 0.81533915\nretraining, epoch 80\nretrain scores, epoch 80\ntrain AUC: 0.8290476\ntest AUC: 0.8154052\nretraining, epoch 85\nretrain scores, epoch 85\ntrain AUC: 0.82954794\ntest AUC: 0.8154052\nretraining, epoch 90\nretrain scores, epoch 90\ntrain AUC: 0.83001053\ntest AUC: 0.81544924\nretraining, epoch 95\nretrain scores, epoch 95\ntrain AUC: 0.83050144\ntest AUC: 0.8154988\nuvIBi2jdvOUh2hSLdo6gyg\npretrain scores\ntrain AUC: 0.8290571\ntest AUC: 0.9493926\nretraining, epoch 5\nretrain scores, epoch 5\ntrain AUC: 0.8301969\ntest AUC: 0.9494422\nretraining, epoch 10\nretrain scores, epoch 10\ntrain AUC: 0.83124703\ntest AUC: 0.9494532\nretraining, epoch 15\nretrain scores, epoch 15\ntrain AUC: 0.8322029\ntest AUC: 0.94950277\nretraining, epoch 20\nretrain scores, epoch 20\ntrain AUC: 0.8330571\ntest AUC: 0.94953585\nretraining, epoch 25\nretrain scores, epoch 25\ntrain AUC: 0.83386666\ntest AUC: 0.9495633\nretraining, epoch 30\nretrain scores, epoch 30\ntrain AUC: 0.83470446\ntest AUC: 0.94960743\nretraining, epoch 35\nretrain scores, epoch 35\ntrain AUC: 0.83543366\ntest AUC: 0.94963497\nretraining, epoch 40\nretrain scores, epoch 40\ntrain AUC: 0.83617\ntest AUC: 0.9496735\nretraining, epoch 45\nretrain scores, epoch 45\ntrain AUC: 0.83693224\ntest AUC: 0.9496955\nretraining, epoch 50\nretrain scores, epoch 50\ntrain AUC: 0.83766145\ntest AUC: 0.94973403\nretraining, epoch 55\nretrain scores, epoch 55\ntrain AUC: 0.8383294\ntest AUC: 0.9497616\nretraining, epoch 60\nretrain scores, epoch 60\ntrain AUC: 0.8389736\ntest AUC: 0.9497781\nretraining, epoch 65\nretrain scores, epoch 65\ntrain AUC: 0.8395589\ntest AUC: 0.94981116\nretraining, epoch 70\nretrain scores, epoch 70\ntrain AUC: 0.8401181\ntest AUC: 0.9498221\nretraining, epoch 75\nretrain scores, epoch 75\ntrain AUC: 0.84062564\ntest AUC: 0.94983315\nretraining, epoch 80\nretrain scores, epoch 80\ntrain AUC: 0.8412014\ntest AUC: 0.94984967\nretraining, epoch 85\nretrain scores, epoch 85\ntrain AUC: 0.8418174\ntest AUC: 0.9498882\nretraining, epoch 90\nretrain scores, epoch 90\ntrain AUC: 0.84235066\ntest AUC: 0.9498937\nretraining, epoch 95\nretrain scores, epoch 95\ntrain AUC: 0.84285575\ntest AUC: 0.9499268\nf_8GbUU7AcBDMgQVEtvFiA\npretrain scores\ntrain AUC: 0.8228906\ntest AUC: 0.8719537\nretraining, epoch 5\nretrain scores, epoch 5\ntrain AUC: 0.82448816\ntest AUC: 0.8721354\nretraining, epoch 10\nretrain scores, epoch 10\ntrain AUC: 0.8258664\ntest AUC: 0.87221795\nretraining, epoch 15\nretrain scores, epoch 15\ntrain AUC: 0.82721394\ntest AUC: 0.87239975\nretraining, epoch 20\nretrain scores, epoch 20\ntrain AUC: 0.8283987\ntest AUC: 0.8725099\nretraining, epoch 25\nretrain scores, epoch 25\ntrain AUC: 0.82954323\ntest AUC: 0.872653\nretraining, epoch 30\nretrain scores, epoch 30\ntrain AUC: 0.83064306\ntest AUC: 0.87274665\nretraining, epoch 35\nretrain scores, epoch 35\ntrain AUC: 0.8316223\ntest AUC: 0.8728072\nretraining, epoch 40\nretrain scores, epoch 40\ntrain AUC: 0.8325971\ntest AUC: 0.87291735\nretraining, epoch 45\nretrain scores, epoch 45\ntrain AUC: 0.83349615\ntest AUC: 0.8729889\nretraining, epoch 50\nretrain scores, epoch 50\ntrain AUC: 0.83448493\ntest AUC: 0.87306595\nretraining, epoch 55\nretrain scores, epoch 55\ntrain AUC: 0.83537704\ntest AUC: 0.8731541\nretraining, epoch 60\nretrain scores, epoch 60\ntrain AUC: 0.8362479\ntest AUC: 0.87325317\nretraining, epoch 65\nretrain scores, epoch 65\ntrain AUC: 0.83706206\ntest AUC: 0.87334126\nretraining, epoch 70\nretrain scores, epoch 70\ntrain AUC: 0.83785266\ntest AUC: 0.87340736\nretraining, epoch 75\nretrain scores, epoch 75\ntrain AUC: 0.8386763\ntest AUC: 0.8734569\nretraining, epoch 80\nretrain scores, epoch 80\ntrain AUC: 0.8395093\ntest AUC: 0.8735065\nretraining, epoch 85\nretrain scores, epoch 85\ntrain AUC: 0.8402621\ntest AUC: 0.87353945\nretraining, epoch 90\nretrain scores, epoch 90\ntrain AUC: 0.8410126\ntest AUC: 0.8735781\nretraining, epoch 95\nretrain scores, epoch 95\ntrain AUC: 0.84174186\ntest AUC: 0.8736441\nzvcbwNPGYxRxD1I7GHNxCg\npretrain scores\ntrain AUC: 0.8983852\ntest AUC: 0.96580106\nretraining, epoch 5\nretrain scores, epoch 5\ntrain AUC: 0.8988833\ntest AUC: 0.96576256\nretraining, epoch 10\nretrain scores, epoch 10\ntrain AUC: 0.89936\ntest AUC: 0.96572953\nretraining, epoch 15\nretrain scores, epoch 15\ntrain AUC: 0.89983195\ntest AUC: 0.9656965\nretraining, epoch 20\nretrain scores, epoch 20\ntrain AUC: 0.90028983\ntest AUC: 0.96567994\nretraining, epoch 25\nretrain scores, epoch 25\ntrain AUC: 0.9006745\ntest AUC: 0.9656469\nretraining, epoch 30\nretrain scores, epoch 30\ntrain AUC: 0.90105915\ntest AUC: 0.9656139\nretraining, epoch 35\nretrain scores, epoch 35\ntrain AUC: 0.9014439\ntest AUC: 0.96558636\nretraining, epoch 40\nretrain scores, epoch 40\ntrain AUC: 0.901779\ntest AUC: 0.9655754\nretraining, epoch 45\nretrain scores, epoch 45\ntrain AUC: 0.9021211\ntest AUC: 0.9655533\nretraining, epoch 50\nretrain scores, epoch 50\ntrain AUC: 0.9024964\ntest AUC: 0.9655203\nretraining, epoch 55\nretrain scores, epoch 55\ntrain AUC: 0.9028102\ntest AUC: 0.96548176\nretraining, epoch 60\nretrain scores, epoch 60\ntrain AUC: 0.9031335\ntest AUC: 0.9654543\nretraining, epoch 65\nretrain scores, epoch 65\ntrain AUC: 0.9034309\ntest AUC: 0.9654267\nretraining, epoch 70\nretrain scores, epoch 70\ntrain AUC: 0.90375185\ntest AUC: 0.96541566\nretraining, epoch 75\nretrain scores, epoch 75\ntrain AUC: 0.9040138\ntest AUC: 0.96538264\nretraining, epoch 80\nretrain scores, epoch 80\ntrain AUC: 0.9042805\ntest AUC: 0.9653661\nretraining, epoch 85\nretrain scores, epoch 85\ntrain AUC: 0.90454006\ntest AUC: 0.9653661\nretraining, epoch 90\nretrain scores, epoch 90\ntrain AUC: 0.90480435\ntest AUC: 0.9653496\nretraining, epoch 95\nretrain scores, epoch 95\ntrain AUC: 0.9051041\ntest AUC: 0.96534413\nsfO3k8V_ASRI4XcTdmHeyA\npretrain scores\ntrain AUC: 0.9378744\ntest AUC: 0.9166915\nretraining, epoch 5\nretrain scores, epoch 5\ntrain AUC: 0.9380655\ntest AUC: 0.91670245\nretraining, epoch 10\nretrain scores, epoch 10\ntrain AUC: 0.9382755\ntest AUC: 0.91676855\nretraining, epoch 15\nretrain scores, epoch 15\ntrain AUC: 0.9384597\ntest AUC: 0.916796\nretraining, epoch 20\nretrain scores, epoch 20\ntrain AUC: 0.9385893\ntest AUC: 0.916796\nretraining, epoch 25\nretrain scores, epoch 25\ntrain AUC: 0.93874747\ntest AUC: 0.9168181\nretraining, epoch 30\nretrain scores, epoch 30\ntrain AUC: 0.9389221\ntest AUC: 0.91682357\nretraining, epoch 35\nretrain scores, epoch 35\ntrain AUC: 0.939118\ntest AUC: 0.9168621\nretraining, epoch 40\nretrain scores, epoch 40\ntrain AUC: 0.93924075\ntest AUC: 0.9168842\nretraining, epoch 45\nretrain scores, epoch 45\ntrain AUC: 0.9393611\ntest AUC: 0.91691166\nretraining, epoch 50\nretrain scores, epoch 50\ntrain AUC: 0.9395028\ntest AUC: 0.91691726\nretraining, epoch 55\nretrain scores, epoch 55\ntrain AUC: 0.93964195\ntest AUC: 0.91694474\nretraining, epoch 60\nretrain scores, epoch 60\ntrain AUC: 0.9398142\ntest AUC: 0.9169722\nretraining, epoch 65\nretrain scores, epoch 65\ntrain AUC: 0.9399465\ntest AUC: 0.9169778\nretraining, epoch 70\nretrain scores, epoch 70\ntrain AUC: 0.9400927\ntest AUC: 0.91697234\nretraining, epoch 75\nretrain scores, epoch 75\ntrain AUC: 0.94019425\ntest AUC: 0.9169888\nretraining, epoch 80\nretrain scores, epoch 80\ntrain AUC: 0.9403052\ntest AUC: 0.91699976\nretraining, epoch 85\nretrain scores, epoch 85\ntrain AUC: 0.940442\ntest AUC: 0.9170163\nretraining, epoch 90\nretrain scores, epoch 90\ntrain AUC: 0.9405435\ntest AUC: 0.9170163\nretraining, epoch 95\nretrain scores, epoch 95\ntrain AUC: 0.9406567\ntest AUC: 0.9170384\nYBouLEgk10yX5sem_yzlog\npretrain scores\ntrain AUC: 0.9570702\ntest AUC: 0.957707\nretraining, epoch 5\nretrain scores, epoch 5\ntrain AUC: 0.95720714\ntest AUC: 0.9577125\nretraining, epoch 10\nretrain scores, epoch 10\ntrain AUC: 0.95736283\ntest AUC: 0.95769596\nretraining, epoch 15\nretrain scores, epoch 15\ntrain AUC: 0.9574996\ntest AUC: 0.95769596\nretraining, epoch 20\nretrain scores, epoch 20\ntrain AUC: 0.9576082\ntest AUC: 0.95769596\nretraining, epoch 25\nretrain scores, epoch 25\ntrain AUC: 0.95776165\ntest AUC: 0.95769596\nretraining, epoch 30\nretrain scores, epoch 30\ntrain AUC: 0.95786315\ntest AUC: 0.9577015\nretraining, epoch 35\nretrain scores, epoch 35\ntrain AUC: 0.95796454\ntest AUC: 0.9577125\nretraining, epoch 40\nretrain scores, epoch 40\ntrain AUC: 0.95805424\ntest AUC: 0.9577015\nretraining, epoch 45\nretrain scores, epoch 45\ntrain AUC: 0.95817465\ntest AUC: 0.95769596\nretraining, epoch 50\nretrain scores, epoch 50\ntrain AUC: 0.9582831\ntest AUC: 0.9576905\nretraining, epoch 55\nretrain scores, epoch 55\ntrain AUC: 0.95838463\ntest AUC: 0.95769596\nretraining, epoch 60\nretrain scores, epoch 60\ntrain AUC: 0.95848614\ntest AUC: 0.95769596\nretraining, epoch 65\nretrain scores, epoch 65\ntrain AUC: 0.9585782\ntest AUC: 0.957707\nretraining, epoch 70\nretrain scores, epoch 70\ntrain AUC: 0.958682\ntest AUC: 0.95770144\nretraining, epoch 75\nretrain scores, epoch 75\ntrain AUC: 0.9587764\ntest AUC: 0.957707\nretraining, epoch 80\nretrain scores, epoch 80\ntrain AUC: 0.9588803\ntest AUC: 0.957707\nretraining, epoch 85\nretrain scores, epoch 85\ntrain AUC: 0.95895106\ntest AUC: 0.957707\nretraining, epoch 90\nretrain scores, epoch 90\ntrain AUC: 0.9590195\ntest AUC: 0.9577125\nretraining, epoch 95\nretrain scores, epoch 95\ntrain AUC: 0.9591091\ntest AUC: 0.957707\ncf7VRIvOFEToSrNTPtQS6g\npretrain scores\ntrain AUC: 0.84833795\ntest AUC: 0.9104254\nretraining, epoch 5\nretrain scores, epoch 5\ntrain AUC: 0.84935504\ntest AUC: 0.9104695\nretraining, epoch 10\nretrain scores, epoch 10\ntrain AUC: 0.85028964\ntest AUC: 0.9105355\nretraining, epoch 15\nretrain scores, epoch 15\ntrain AUC: 0.8511038\ntest AUC: 0.9106016\nretraining, epoch 20\nretrain scores, epoch 20\ntrain AUC: 0.85191315\ntest AUC: 0.9106236\nretraining, epoch 25\nretrain scores, epoch 25\ntrain AUC: 0.8526518\ntest AUC: 0.9106622\nretraining, epoch 30\nretrain scores, epoch 30\ntrain AUC: 0.85330087\ntest AUC: 0.9107282\nretraining, epoch 35\nretrain scores, epoch 35\ntrain AUC: 0.85391915\ntest AUC: 0.9107502\nretraining, epoch 40\nretrain scores, epoch 40\ntrain AUC: 0.85451394\ntest AUC: 0.9108054\nretraining, epoch 45\nretrain scores, epoch 45\ntrain AUC: 0.8551817\ntest AUC: 0.9108329\nretraining, epoch 50\nretrain scores, epoch 50\ntrain AUC: 0.8557717\ntest AUC: 0.91084385\nretraining, epoch 55\nretrain scores, epoch 55\ntrain AUC: 0.85630983\ntest AUC: 0.9108549\nretraining, epoch 60\nretrain scores, epoch 60\ntrain AUC: 0.8569187\ntest AUC: 0.91086584\nretraining, epoch 65\nretrain scores, epoch 65\ntrain AUC: 0.85745436\ntest AUC: 0.9109265\nretraining, epoch 70\nretrain scores, epoch 70\ntrain AUC: 0.8579688\ntest AUC: 0.91091543\nretraining, epoch 75\nretrain scores, epoch 75\ntrain AUC: 0.8584338\ntest AUC: 0.9109375\nretraining, epoch 80\nretrain scores, epoch 80\ntrain AUC: 0.8589695\ntest AUC: 0.9109595\nretraining, epoch 85\nretrain scores, epoch 85\ntrain AUC: 0.8593966\ntest AUC: 0.91099256\nretraining, epoch 90\nretrain scores, epoch 90\ntrain AUC: 0.8598733\ntest AUC: 0.9110201\nretraining, epoch 95\nretrain scores, epoch 95\ntrain AUC: 0.86037827\ntest AUC: 0.9110586\nNa4ZSBgUmj77SLhUTH-LIw\npretrain scores\ntrain AUC: 0.9532872\ntest AUC: 0.96245337\nretraining, epoch 5\nretrain scores, epoch 5\ntrain AUC: 0.95337677\ntest AUC: 0.96246433\nretraining, epoch 10\nretrain scores, epoch 10\ntrain AUC: 0.95346415\ntest AUC: 0.9624699\nretraining, epoch 15\nretrain scores, epoch 15\ntrain AUC: 0.9535491\ntest AUC: 0.9624699\nretraining, epoch 20\nretrain scores, epoch 20\ntrain AUC: 0.9536389\ntest AUC: 0.9624699\nretraining, epoch 25\nretrain scores, epoch 25\ntrain AUC: 0.9536978\ntest AUC: 0.96248084\nretraining, epoch 30\nretrain scores, epoch 30\ntrain AUC: 0.9537922\ntest AUC: 0.96248084\nretraining, epoch 35\nretrain scores, epoch 35\ntrain AUC: 0.95384884\ntest AUC: 0.96248645\nretraining, epoch 40\nretrain scores, epoch 40\ntrain AUC: 0.9539243\ntest AUC: 0.9624974\nretraining, epoch 45\nretrain scores, epoch 45\ntrain AUC: 0.95400697\ntest AUC: 0.9624919\nretraining, epoch 50\nretrain scores, epoch 50\ntrain AUC: 0.9540824\ntest AUC: 0.9625029\nretraining, epoch 55\nretrain scores, epoch 55\ntrain AUC: 0.9541344\ntest AUC: 0.9625084\nretraining, epoch 60\nretrain scores, epoch 60\ntrain AUC: 0.954191\ntest AUC: 0.9625194\nretraining, epoch 65\nretrain scores, epoch 65\ntrain AUC: 0.95423585\ntest AUC: 0.96253043\nretraining, epoch 70\nretrain scores, epoch 70\ntrain AUC: 0.95430434\ntest AUC: 0.96253043\nretraining, epoch 75\nretrain scores, epoch 75\ntrain AUC: 0.95437276\ntest AUC: 0.9625359\nretraining, epoch 80\nretrain scores, epoch 80\ntrain AUC: 0.9544364\ntest AUC: 0.9625414\nretraining, epoch 85\nretrain scores, epoch 85\ntrain AUC: 0.9545096\ntest AUC: 0.962558\nretraining, epoch 90\nretrain scores, epoch 90\ntrain AUC: 0.9545663\ntest AUC: 0.96256346\nretraining, epoch 95\nretrain scores, epoch 95\ntrain AUC: 0.9546158\ntest AUC: 0.96257997\nOADwxJqXxuI30aB8HvI9QA\npretrain scores\ntrain AUC: 0.97478867\ntest AUC: 0.85019875\nretraining, epoch 5\nretrain scores, epoch 5\ntrain AUC: 0.9748689\ntest AUC: 0.85019875\nretraining, epoch 10\nretrain scores, epoch 10\ntrain AUC: 0.97490436\ntest AUC: 0.8502043\nretraining, epoch 15\nretrain scores, epoch 15\ntrain AUC: 0.9749444\ntest AUC: 0.85022634\nretraining, epoch 20\nretrain scores, epoch 20\ntrain AUC: 0.9749822\ntest AUC: 0.8502318\nretraining, epoch 25\nretrain scores, epoch 25\ntrain AUC: 0.975027\ntest AUC: 0.8502318\nretraining, epoch 30\nretrain scores, epoch 30\ntrain AUC: 0.9750435\ntest AUC: 0.85025936\nretraining, epoch 35\nretrain scores, epoch 35\ntrain AUC: 0.9750954\ntest AUC: 0.85026485\nretraining, epoch 40\nretrain scores, epoch 40\ntrain AUC: 0.9751285\ntest AUC: 0.85025936\nretraining, epoch 45\nretrain scores, epoch 45\ntrain AUC: 0.9751922\ntest AUC: 0.85025936\nretraining, epoch 50\nretrain scores, epoch 50\ntrain AUC: 0.97522527\ntest AUC: 0.85026485\nretraining, epoch 55\nretrain scores, epoch 55\ntrain AUC: 0.9752771\ntest AUC: 0.85027033\nretraining, epoch 60\nretrain scores, epoch 60\ntrain AUC: 0.975315\ntest AUC: 0.85026485\nretraining, epoch 65\nretrain scores, epoch 65\ntrain AUC: 0.9753598\ntest AUC: 0.85027033\nretraining, epoch 70\nretrain scores, epoch 70\ntrain AUC: 0.97538096\ntest AUC: 0.8502924\nretraining, epoch 75\nretrain scores, epoch 75\ntrain AUC: 0.9754258\ntest AUC: 0.8502869\nretraining, epoch 80\nretrain scores, epoch 80\ntrain AUC: 0.9754613\ntest AUC: 0.85030335\nretraining, epoch 85\nretrain scores, epoch 85\ntrain AUC: 0.9754849\ntest AUC: 0.8503089\nretraining, epoch 90\nretrain scores, epoch 90\ntrain AUC: 0.97553205\ntest AUC: 0.85030335\nretraining, epoch 95\nretrain scores, epoch 95\ntrain AUC: 0.9755603\ntest AUC: 0.8503144\njsBrvT_u2Ufbgjv_1nKg5Q\npretrain scores\ntrain AUC: 0.711645\ntest AUC: 0.8691456\nretraining, epoch 5\nretrain scores, epoch 5\ntrain AUC: 0.71432114\ntest AUC: 0.8690905\nretraining, epoch 10\nretrain scores, epoch 10\ntrain AUC: 0.71688646\ntest AUC: 0.86904097\nretraining, epoch 15\nretrain scores, epoch 15\ntrain AUC: 0.7192038\ntest AUC: 0.8690024\nretraining, epoch 20\nretrain scores, epoch 20\ntrain AUC: 0.72144586\ntest AUC: 0.8689363\nretraining, epoch 25\nretrain scores, epoch 25\ntrain AUC: 0.7233338\ntest AUC: 0.8688648\nretraining, epoch 30\nretrain scores, epoch 30\ntrain AUC: 0.72512025\ntest AUC: 0.8688097\nretraining, epoch 35\nretrain scores, epoch 35\ntrain AUC: 0.7267793\ntest AUC: 0.8687601\nretraining, epoch 40\nretrain scores, epoch 40\ntrain AUC: 0.72835577\ntest AUC: 0.8687381\nretraining, epoch 45\nretrain scores, epoch 45\ntrain AUC: 0.7298377\ntest AUC: 0.868639\nretraining, epoch 50\nretrain scores, epoch 50\ntrain AUC: 0.73137647\ntest AUC: 0.8685729\nretraining, epoch 55\nretrain scores, epoch 55\ntrain AUC: 0.73275465\ntest AUC: 0.86855084\nretraining, epoch 60\nretrain scores, epoch 60\ntrain AUC: 0.7341589\ntest AUC: 0.86852336\nretraining, epoch 65\nretrain scores, epoch 65\ntrain AUC: 0.73560077\ntest AUC: 0.8684628\nretraining, epoch 70\nretrain scores, epoch 70\ntrain AUC: 0.7368964\ntest AUC: 0.8683912\nretraining, epoch 75\nretrain scores, epoch 75\ntrain AUC: 0.7382061\ntest AUC: 0.86837465\nretraining, epoch 80\nretrain scores, epoch 80\ntrain AUC: 0.7394286\ntest AUC: 0.8683196\nretraining, epoch 85\nretrain scores, epoch 85\ntrain AUC: 0.74067\ntest AUC: 0.86828107\nretraining, epoch 90\nretrain scores, epoch 90\ntrain AUC: 0.7419301\ntest AUC: 0.86823153\nretraining, epoch 95\nretrain scores, epoch 95\ntrain AUC: 0.7432022\ntest AUC: 0.86820394\n9dnRlqJM3wp6IDrRjD4vZQ\npretrain scores\ntrain AUC: 0.91910326\ntest AUC: 0.7755459\nretraining, epoch 5\nretrain scores, epoch 5\ntrain AUC: 0.9193558\ntest AUC: 0.77563405\nretraining, epoch 10\nretrain scores, epoch 10\ntrain AUC: 0.9195824\ntest AUC: 0.77565604\nretraining, epoch 15\nretrain scores, epoch 15\ntrain AUC: 0.9198325\ntest AUC: 0.7757111\nretraining, epoch 20\nretrain scores, epoch 20\ntrain AUC: 0.9200567\ntest AUC: 0.77576065\nretraining, epoch 25\nretrain scores, epoch 25\ntrain AUC: 0.9202172\ntest AUC: 0.77580476\nretraining, epoch 30\nretrain scores, epoch 30\ntrain AUC: 0.92042965\ntest AUC: 0.77582675\nretraining, epoch 35\nretrain scores, epoch 35\ntrain AUC: 0.9206161\ntest AUC: 0.7758377\nretraining, epoch 40\nretrain scores, epoch 40\ntrain AUC: 0.92078125\ntest AUC: 0.7758653\nretraining, epoch 45\nretrain scores, epoch 45\ntrain AUC: 0.92094177\ntest AUC: 0.7759039\nretraining, epoch 50\nretrain scores, epoch 50\ntrain AUC: 0.92110693\ntest AUC: 0.77590936\nretraining, epoch 55\nretrain scores, epoch 55\ntrain AUC: 0.92128164\ntest AUC: 0.77595884\nretraining, epoch 60\nretrain scores, epoch 60\ntrain AUC: 0.92144674\ntest AUC: 0.77600294\nretraining, epoch 65\nretrain scores, epoch 65\ntrain AUC: 0.9216142\ntest AUC: 0.7760139\nretraining, epoch 70\nretrain scores, epoch 70\ntrain AUC: 0.9217771\ntest AUC: 0.776036\nretraining, epoch 75\nretrain scores, epoch 75\ntrain AUC: 0.9219282\ntest AUC: 0.7760525\nretraining, epoch 80\nretrain scores, epoch 80\ntrain AUC: 0.9220533\ntest AUC: 0.7760966\nretraining, epoch 85\nretrain scores, epoch 85\ntrain AUC: 0.92220193\ntest AUC: 0.7761076\nretraining, epoch 90\nretrain scores, epoch 90\ntrain AUC: 0.9223483\ntest AUC: 0.7761186\nretraining, epoch 95\nretrain scores, epoch 95\ntrain AUC: 0.92250395\ntest AUC: 0.77614063\nLo6o639Hw86HJCnAs-HRKQ\npretrain scores\ntrain AUC: 0.97897995\ntest AUC: 0.99415797\nretraining, epoch 5\nretrain scores, epoch 5\ntrain AUC: 0.9790106\ntest AUC: 0.99415797\nretraining, epoch 10\nretrain scores, epoch 10\ntrain AUC: 0.9790602\ntest AUC: 0.99415237\nretraining, epoch 15\nretrain scores, epoch 15\ntrain AUC: 0.9791003\ntest AUC: 0.9941469\nretraining, epoch 20\nretrain scores, epoch 20\ntrain AUC: 0.9791545\ntest AUC: 0.99415237\nretraining, epoch 25\nretrain scores, epoch 25\ntrain AUC: 0.97918993\ntest AUC: 0.99415797\nretraining, epoch 30\nretrain scores, epoch 30\ntrain AUC: 0.97922766\ntest AUC: 0.99415797\nretraining, epoch 35\nretrain scores, epoch 35\ntrain AUC: 0.9792772\ntest AUC: 0.99415797\nretraining, epoch 40\nretrain scores, epoch 40\ntrain AUC: 0.9793339\ntest AUC: 0.99415797\nretraining, epoch 45\nretrain scores, epoch 45\ntrain AUC: 0.97937167\ntest AUC: 0.99415797\nretraining, epoch 50\nretrain scores, epoch 50\ntrain AUC: 0.97942364\ntest AUC: 0.99415797\nretraining, epoch 55\nretrain scores, epoch 55\ntrain AUC: 0.9794779\ntest AUC: 0.9941525\nretraining, epoch 60\nretrain scores, epoch 60\ntrain AUC: 0.9795298\ntest AUC: 0.9941525\nretraining, epoch 65\nretrain scores, epoch 65\ntrain AUC: 0.9795605\ntest AUC: 0.99415797\nretraining, epoch 70\nretrain scores, epoch 70\ntrain AUC: 0.9795865\ntest AUC: 0.99415797\nretraining, epoch 75\nretrain scores, epoch 75\ntrain AUC: 0.9796148\ntest AUC: 0.99415237\nretraining, epoch 80\nretrain scores, epoch 80\ntrain AUC: 0.9796572\ntest AUC: 0.99415237\nretraining, epoch 85\nretrain scores, epoch 85\ntrain AUC: 0.97968084\ntest AUC: 0.99415237\nretraining, epoch 90\nretrain scores, epoch 90\ntrain AUC: 0.9797303\ntest AUC: 0.99415237\nretraining, epoch 95\nretrain scores, epoch 95\ntrain AUC: 0.9797587\ntest AUC: 0.99415237\n"
    }
   ],
   "source": [
    "# finetune testing loop here.\n",
    "\n",
    "# pretrain datasets and pretraining must be redone for each excluded user,\n",
    "# so this takes a while. Sampling down is absolutely necessary without more horsepower.\n",
    "sampled_users = sample(test_users,20)\n",
    "\n",
    "train_auc_dict = {}\n",
    "test_auc_dict = {}\n",
    "\n",
    "for user in sampled_users:\n",
    "\n",
    "    print(user)\n",
    "\n",
    "    # make the dataset shapes for pretrain and retrain\n",
    "    pretrain_dataset = Dataset()\n",
    "    pretrain_dataset.fit(reviewframe_with_dummy.user_id,reviewframe_with_dummy.business_id)\n",
    "\n",
    "    retrain_dataset = Dataset()\n",
    "    retrain_dataset.fit(reviewframe_with_dummy.user_id,reviewframe_with_dummy.business_id)\n",
    "\n",
    "    # picking a user from the test_users list as a test case\n",
    "    user_to_exclude = user\n",
    "\n",
    "    # Get the instances from the main dataframe that are this user\n",
    "    included_user_frame = reviewframe[(reviewframe['user_id'] == user_to_exclude)].copy()\n",
    "\n",
    "    # get all instances from the main dataframe that are not this user\n",
    "\n",
    "    excluded_user_frame = reviewframe[(reviewframe['user_id'] != user_to_exclude)].copy()\n",
    "\n",
    "    # build interactions for pretrain\n",
    "    (pretrain_interactions, weights) = pretrain_dataset.build_interactions([(x['user_id'],\n",
    "                                                                             x['business_id'],\n",
    "                                                                             x['recommend']) for index,x in excluded_user_frame.iterrows()])\n",
    "\n",
    "    # build interactions for retrain\n",
    "    (retrain_interactions, weights) = retrain_dataset.build_interactions([(x['user_id'],\n",
    "                                                                           x['business_id'],\n",
    "                                                                           x['recommend']) for index,x in included_user_frame.iterrows()])\n",
    "\n",
    "    # train test split\n",
    "    seed = 42\n",
    "    from lightfm.cross_validation import random_train_test_split\n",
    "    train,test=random_train_test_split(retrain_interactions,test_percentage=0.3,random_state=np.random.RandomState(seed))\n",
    "\n",
    "    \n",
    "    NUM_THREADS = 4\n",
    "    NUM_COMPONENTS = 20  \n",
    "    NUM_EPOCHS = 60\n",
    "    learning_rate=0.05\n",
    "    k = 5\n",
    "\n",
    "    model = LightFM(loss='logistic',random_state=seed,\n",
    "                no_components=NUM_COMPONENTS,\n",
    "                learning_rate=learning_rate)\n",
    "\n",
    "    train_auc_scores = []\n",
    "    test_auc_scores = []\n",
    "    train_precision_scores = []\n",
    "    test_precision_scores = []\n",
    "\n",
    "    # pretrain\n",
    "    model.fit_partial(pretrain_interactions,epochs=NUM_EPOCHS,num_threads=NUM_THREADS)\n",
    "\n",
    "\n",
    "    print(\"pretrain scores\")\n",
    "    train_auc = auc_score(model, train, num_threads=NUM_THREADS).mean()\n",
    "    print('train AUC: %s' % train_auc)\n",
    "\n",
    "\n",
    "    test_auc = auc_score(model, test,num_threads=NUM_THREADS).mean()\n",
    "    print('test AUC: %s' % test_auc)\n",
    "\n",
    "    train_auc_scores.append(train_auc)\n",
    "    test_auc_scores.append(test_auc)\n",
    "\n",
    "\n",
    "    # retrain\n",
    "    for ii in range(5,100,5):\n",
    "        print(\"retraining, epoch \"+str(ii))\n",
    "        model.fit_partial(train,epochs=5,num_threads=NUM_THREADS)\n",
    "\n",
    "        train_auc = auc_score(model, train, num_threads=NUM_THREADS).mean()\n",
    "        print(\"retrain scores, epoch \"+str(ii))\n",
    "        print('train AUC: %s' % train_auc)\n",
    "\n",
    "\n",
    "        test_auc = auc_score(model, test,num_threads=NUM_THREADS).mean()\n",
    "        print('test AUC: %s' % test_auc)\n",
    "\n",
    "        train_auc_scores.append(train_auc)\n",
    "        test_auc_scores.append(test_auc)\n",
    "\n",
    "    # add user data to dicts\n",
    "\n",
    "    train_auc_dict[user] = train_auc_scores\n",
    "    test_auc_dict[user] = test_auc_scores\n",
    "\n",
    "\n"
   ]
  },
  {
   "cell_type": "code",
   "execution_count": 57,
   "metadata": {},
   "outputs": [],
   "source": [
    "auc_frame = pd.DataFrame(test_auc_dict)"
   ]
  },
  {
   "cell_type": "code",
   "execution_count": 58,
   "metadata": {},
   "outputs": [
    {
     "output_type": "execute_result",
     "data": {
      "text/plain": "   owkB0tTcymYOV3hpBOIBOg  jDQbBGKsmLpfFJdhpTYJfQ  1l1QdJ_wF4UhKixWfNaHxg  \\\n0                0.794933                0.989803                0.797020   \n1                0.794911                0.989803                0.797070   \n2                0.794900                0.989803                0.797086   \n3                0.794906                0.989797                0.797136   \n4                0.794889                0.989797                0.797141   \n\n   gP3jtJLckJdvPcq_VzgI1Q  uiZMpQSqJ4GA9PGv2iJpAg  KB9bFua_MDbal_UR86efIw  \\\n0                0.972420                0.824331                0.937356   \n1                0.972414                0.824210                0.937356   \n2                0.972414                0.824143                0.937351   \n3                0.972398                0.824099                0.937373   \n4                0.972392                0.824044                0.937406   \n\n   Z4ilg26RHQjGuslq9dcbGA  zFljuKhYpeA1WWU8rjCUiA  PL3h11VXhMwadl79Ndf6OA  \\\n0                0.747184                0.515500                0.814276   \n1                0.747189                0.514971                0.814364   \n2                0.747228                0.514459                0.814480   \n3                0.747310                0.514189                0.814596   \n4                0.747327                0.513837                0.814706   \n\n   uvIBi2jdvOUh2hSLdo6gyg  f_8GbUU7AcBDMgQVEtvFiA  zvcbwNPGYxRxD1I7GHNxCg  \\\n0                0.949393                0.871954                0.965801   \n1                0.949442                0.872135                0.965763   \n2                0.949453                0.872218                0.965730   \n3                0.949503                0.872400                0.965697   \n4                0.949536                0.872510                0.965680   \n\n   sfO3k8V_ASRI4XcTdmHeyA  YBouLEgk10yX5sem_yzlog  cf7VRIvOFEToSrNTPtQS6g  \\\n0                0.916691                0.957707                0.910425   \n1                0.916702                0.957712                0.910469   \n2                0.916769                0.957696                0.910536   \n3                0.916796                0.957696                0.910602   \n4                0.916796                0.957696                0.910624   \n\n   Na4ZSBgUmj77SLhUTH-LIw  OADwxJqXxuI30aB8HvI9QA  jsBrvT_u2Ufbgjv_1nKg5Q  \\\n0                0.962453                0.850199                0.869146   \n1                0.962464                0.850199                0.869090   \n2                0.962470                0.850204                0.869041   \n3                0.962470                0.850226                0.869002   \n4                0.962470                0.850232                0.868936   \n\n   9dnRlqJM3wp6IDrRjD4vZQ  Lo6o639Hw86HJCnAs-HRKQ  \n0                0.775546                0.994158  \n1                0.775634                0.994158  \n2                0.775656                0.994152  \n3                0.775711                0.994147  \n4                0.775761                0.994152  ",
      "text/html": "<div>\n<style scoped>\n    .dataframe tbody tr th:only-of-type {\n        vertical-align: middle;\n    }\n\n    .dataframe tbody tr th {\n        vertical-align: top;\n    }\n\n    .dataframe thead th {\n        text-align: right;\n    }\n</style>\n<table border=\"1\" class=\"dataframe\">\n  <thead>\n    <tr style=\"text-align: right;\">\n      <th></th>\n      <th>owkB0tTcymYOV3hpBOIBOg</th>\n      <th>jDQbBGKsmLpfFJdhpTYJfQ</th>\n      <th>1l1QdJ_wF4UhKixWfNaHxg</th>\n      <th>gP3jtJLckJdvPcq_VzgI1Q</th>\n      <th>uiZMpQSqJ4GA9PGv2iJpAg</th>\n      <th>KB9bFua_MDbal_UR86efIw</th>\n      <th>Z4ilg26RHQjGuslq9dcbGA</th>\n      <th>zFljuKhYpeA1WWU8rjCUiA</th>\n      <th>PL3h11VXhMwadl79Ndf6OA</th>\n      <th>uvIBi2jdvOUh2hSLdo6gyg</th>\n      <th>f_8GbUU7AcBDMgQVEtvFiA</th>\n      <th>zvcbwNPGYxRxD1I7GHNxCg</th>\n      <th>sfO3k8V_ASRI4XcTdmHeyA</th>\n      <th>YBouLEgk10yX5sem_yzlog</th>\n      <th>cf7VRIvOFEToSrNTPtQS6g</th>\n      <th>Na4ZSBgUmj77SLhUTH-LIw</th>\n      <th>OADwxJqXxuI30aB8HvI9QA</th>\n      <th>jsBrvT_u2Ufbgjv_1nKg5Q</th>\n      <th>9dnRlqJM3wp6IDrRjD4vZQ</th>\n      <th>Lo6o639Hw86HJCnAs-HRKQ</th>\n    </tr>\n  </thead>\n  <tbody>\n    <tr>\n      <th>0</th>\n      <td>0.794933</td>\n      <td>0.989803</td>\n      <td>0.797020</td>\n      <td>0.972420</td>\n      <td>0.824331</td>\n      <td>0.937356</td>\n      <td>0.747184</td>\n      <td>0.515500</td>\n      <td>0.814276</td>\n      <td>0.949393</td>\n      <td>0.871954</td>\n      <td>0.965801</td>\n      <td>0.916691</td>\n      <td>0.957707</td>\n      <td>0.910425</td>\n      <td>0.962453</td>\n      <td>0.850199</td>\n      <td>0.869146</td>\n      <td>0.775546</td>\n      <td>0.994158</td>\n    </tr>\n    <tr>\n      <th>1</th>\n      <td>0.794911</td>\n      <td>0.989803</td>\n      <td>0.797070</td>\n      <td>0.972414</td>\n      <td>0.824210</td>\n      <td>0.937356</td>\n      <td>0.747189</td>\n      <td>0.514971</td>\n      <td>0.814364</td>\n      <td>0.949442</td>\n      <td>0.872135</td>\n      <td>0.965763</td>\n      <td>0.916702</td>\n      <td>0.957712</td>\n      <td>0.910469</td>\n      <td>0.962464</td>\n      <td>0.850199</td>\n      <td>0.869090</td>\n      <td>0.775634</td>\n      <td>0.994158</td>\n    </tr>\n    <tr>\n      <th>2</th>\n      <td>0.794900</td>\n      <td>0.989803</td>\n      <td>0.797086</td>\n      <td>0.972414</td>\n      <td>0.824143</td>\n      <td>0.937351</td>\n      <td>0.747228</td>\n      <td>0.514459</td>\n      <td>0.814480</td>\n      <td>0.949453</td>\n      <td>0.872218</td>\n      <td>0.965730</td>\n      <td>0.916769</td>\n      <td>0.957696</td>\n      <td>0.910536</td>\n      <td>0.962470</td>\n      <td>0.850204</td>\n      <td>0.869041</td>\n      <td>0.775656</td>\n      <td>0.994152</td>\n    </tr>\n    <tr>\n      <th>3</th>\n      <td>0.794906</td>\n      <td>0.989797</td>\n      <td>0.797136</td>\n      <td>0.972398</td>\n      <td>0.824099</td>\n      <td>0.937373</td>\n      <td>0.747310</td>\n      <td>0.514189</td>\n      <td>0.814596</td>\n      <td>0.949503</td>\n      <td>0.872400</td>\n      <td>0.965697</td>\n      <td>0.916796</td>\n      <td>0.957696</td>\n      <td>0.910602</td>\n      <td>0.962470</td>\n      <td>0.850226</td>\n      <td>0.869002</td>\n      <td>0.775711</td>\n      <td>0.994147</td>\n    </tr>\n    <tr>\n      <th>4</th>\n      <td>0.794889</td>\n      <td>0.989797</td>\n      <td>0.797141</td>\n      <td>0.972392</td>\n      <td>0.824044</td>\n      <td>0.937406</td>\n      <td>0.747327</td>\n      <td>0.513837</td>\n      <td>0.814706</td>\n      <td>0.949536</td>\n      <td>0.872510</td>\n      <td>0.965680</td>\n      <td>0.916796</td>\n      <td>0.957696</td>\n      <td>0.910624</td>\n      <td>0.962470</td>\n      <td>0.850232</td>\n      <td>0.868936</td>\n      <td>0.775761</td>\n      <td>0.994152</td>\n    </tr>\n  </tbody>\n</table>\n</div>"
     },
     "metadata": {},
     "execution_count": 58
    }
   ],
   "source": [
    "auc_frame.head()"
   ]
  },
  {
   "cell_type": "code",
   "execution_count": 59,
   "metadata": {},
   "outputs": [],
   "source": [
    "auc_frame['roc_avg'] = auc_frame.mean(axis=1)"
   ]
  },
  {
   "cell_type": "code",
   "execution_count": 60,
   "metadata": {},
   "outputs": [
    {
     "output_type": "execute_result",
     "data": {
      "text/plain": "0.8708147466182709"
     },
     "metadata": {},
     "execution_count": 60
    }
   ],
   "source": [
    "auc_frame['roc_avg'].max()"
   ]
  },
  {
   "cell_type": "code",
   "execution_count": 61,
   "metadata": {},
   "outputs": [
    {
     "output_type": "execute_result",
     "data": {
      "text/plain": "0     0.870815\n1     0.870803\n2     0.870789\n3     0.870803\n4     0.870797\n5     0.870788\n6     0.870787\n7     0.870772\n8     0.870769\n9     0.870753\n10    0.870741\n11    0.870732\n12    0.870718\n13    0.870715\n14    0.870701\n15    0.870682\n16    0.870670\n17    0.870654\n18    0.870636\n19    0.870626\nName: roc_avg, dtype: float64"
     },
     "metadata": {},
     "execution_count": 61
    }
   ],
   "source": [
    "# ROC score per five epochs of finetuning\n",
    "auc_frame['roc_avg']"
   ]
  },
  {
   "cell_type": "code",
   "execution_count": null,
   "metadata": {},
   "outputs": [],
   "source": []
  }
 ],
 "metadata": {
  "language_info": {
   "codemirror_mode": {
    "name": "ipython",
    "version": 3
   },
   "file_extension": ".py",
   "mimetype": "text/x-python",
   "name": "python",
   "nbconvert_exporter": "python",
   "pygments_lexer": "ipython3",
   "version": "3.7.7-final"
  },
  "orig_nbformat": 2,
  "kernelspec": {
   "name": "python37764bitvirtvenv31669fcdc4ae401298c810079ac2157e",
   "display_name": "Python 3.7.7 64-bit ('virt': venv)"
  }
 },
 "nbformat": 4,
 "nbformat_minor": 2
}