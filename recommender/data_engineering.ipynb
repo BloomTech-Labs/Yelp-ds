{
 "cells": [
  {
   "cell_type": "code",
   "execution_count": 1,
   "metadata": {},
   "outputs": [],
   "source": [
    "import pandas as pd"
   ]
  },
  {
   "cell_type": "code",
   "execution_count": 2,
   "metadata": {},
   "outputs": [],
   "source": [
    "yelpframe = pd.read_csv('./data/all_reviews_with_businesses_no_text.csv', index_col=[0])\n"
   ]
  },
  {
   "cell_type": "code",
   "execution_count": 3,
   "metadata": {
    "tags": []
   },
   "outputs": [
    {
     "output_type": "stream",
     "name": "stdout",
     "text": "review_id                 user_id             business_id  \\\n0  xQY8N_XvtGbearJ5X4QryQ  OwjRMXRC0KyPrIlcjaXeFQ  -MhfebM0QIsKt87iDN-FNw   \n1  t7xOZF5UKXjSpVcXLOSAgw  owbC7FP8SNAlwv6f9S5Stw  -MhfebM0QIsKt87iDN-FNw   \n2  MimB5Xh85rG7phUMPrShag  v9vGnjphb0Hta0lvtf5haA  -MhfebM0QIsKt87iDN-FNw   \n3  sLkT7J06L4TK4PiRUFax2g  AXuHgGQoNPkiSXTxHlQc0A  -MhfebM0QIsKt87iDN-FNw   \n4  cnV5xtm6WuyaLfot9uWbDg  LkWNo83Lg92C5V4JEyxOZA  -MhfebM0QIsKt87iDN-FNw   \n\n   stars                 date                          name       city state  \\\n0      2  2015-04-15 05:21:16  Bellagio Gallery of Fine Art  Las Vegas    NV   \n1      2  2014-03-14 08:24:25  Bellagio Gallery of Fine Art  Las Vegas    NV   \n2      3  2015-10-07 22:16:59  Bellagio Gallery of Fine Art  Las Vegas    NV   \n3      2  2015-11-18 22:20:55  Bellagio Gallery of Fine Art  Las Vegas    NV   \n4      3  2010-10-10 01:27:31  Bellagio Gallery of Fine Art  Las Vegas    NV   \n\n                                          categories  \n0  Shopping, Arts & Entertainment, Art Galleries,...  \n1  Shopping, Arts & Entertainment, Art Galleries,...  \n2  Shopping, Arts & Entertainment, Art Galleries,...  \n3  Shopping, Arts & Entertainment, Art Galleries,...  \n4  Shopping, Arts & Entertainment, Art Galleries,...  \n"
    }
   ],
   "source": [
    "print(yelpframe.head())"
   ]
  },
  {
   "cell_type": "code",
   "execution_count": 4,
   "metadata": {},
   "outputs": [
    {
     "output_type": "execute_result",
     "data": {
      "text/plain": "(8021122, 9)"
     },
     "metadata": {},
     "execution_count": 4
    }
   ],
   "source": [
    "yelpframe.shape"
   ]
  },
  {
   "cell_type": "code",
   "execution_count": 6,
   "metadata": {},
   "outputs": [],
   "source": [
    "phxframe = yelpframe[yelpframe['state'] == 'AZ'].copy()"
   ]
  },
  {
   "cell_type": "code",
   "execution_count": 7,
   "metadata": {},
   "outputs": [
    {
     "output_type": "execute_result",
     "data": {
      "text/plain": "(2504395, 9)"
     },
     "metadata": {},
     "execution_count": 7
    }
   ],
   "source": [
    "phxframe.shape"
   ]
  },
  {
   "cell_type": "code",
   "execution_count": 8,
   "metadata": {},
   "outputs": [],
   "source": [
    "phxframe['city'] = phxframe['city'].apply(lambda x: str(x).lower())\n",
    "phxframe['city'] = phxframe['city'].apply(lambda x: x.strip(' '))"
   ]
  },
  {
   "cell_type": "code",
   "execution_count": 9,
   "metadata": {},
   "outputs": [],
   "source": [
    "# filtering cities down to only those with 1000 reviews or more\n",
    "citycounts = phxframe['city'].value_counts()\n",
    "citiestokeep = citycounts[(citycounts >= 1000)].index.tolist()"
   ]
  },
  {
   "cell_type": "code",
   "execution_count": 10,
   "metadata": {},
   "outputs": [],
   "source": [
    "phxframe = phxframe[(phxframe['city'].isin(citiestokeep))]"
   ]
  },
  {
   "cell_type": "code",
   "execution_count": 11,
   "metadata": {},
   "outputs": [],
   "source": [
    "# append the user id and business id together for each review - this id will be unique to a user-business pair\n",
    "phxframe['repeat_review_id'] = phxframe['user_id']+phxframe['business_id']"
   ]
  },
  {
   "cell_type": "code",
   "execution_count": 12,
   "metadata": {},
   "outputs": [
    {
     "output_type": "execute_result",
     "data": {
      "text/plain": "JlQ-9fc61X9lbzZN6ZjORQJ3H6VSIgUTlACkb_HPFA8w    62\n4d13xAX2jp2EbGF8I9eZZwK_-l_AhoGQvYDeGNgm52qQ    36\nGCDf7UWiDfyg2JenNuYgZQQ3SAIIFURXZu421zG17N0A    28\nBZVV3Q8KSSOyJBidrT-cNAY-hmtitiRfg7vmc3N-lTww    25\nM3YpU8fRyTZAQIn08bDT4gVeRHiEbUe_vHprYn8mnezA    25\n                                                ..\nf6XNrxk8z90XMD6v1wKOqQmUSbQH2LePuJEygPlHn9Jg     1\nKGoBYyDOy1KWgHe_p1CTygh6Y1-KfN2XBkcrV85CS8yg     1\nOfF99HshLdOeW5haaUgRfgfXUJ9d5R6kNXrnAouByB6g     1\nzWp6r0OTdS0VNjJW7ZmEMg5nZVVPO_cYH9aQeClTP9zA     1\nV_5qEY4-1YzO_vI88Tx5WQkHpXJ2vciumu2KhNHg0hYA     1\nName: repeat_review_id, Length: 2398712, dtype: int64"
     },
     "metadata": {},
     "execution_count": 12
    }
   ],
   "source": [
    "# look for dupes\n",
    "phxframe['repeat_review_id'].value_counts()"
   ]
  },
  {
   "cell_type": "code",
   "execution_count": 13,
   "metadata": {},
   "outputs": [],
   "source": [
    "phxframe['date'] = pd.to_datetime(phxframe['date'])"
   ]
  },
  {
   "cell_type": "code",
   "execution_count": 14,
   "metadata": {},
   "outputs": [],
   "source": [
    "# for duplicate user-business pairs, keep only the most recent review.\n",
    "phxframe_no_dupes = phxframe.sort_values(by='date', ascending=False).drop_duplicates(subset=['repeat_review_id'],keep='first').copy()"
   ]
  },
  {
   "cell_type": "code",
   "execution_count": 15,
   "metadata": {},
   "outputs": [
    {
     "output_type": "execute_result",
     "data": {
      "text/plain": "(2499124, 10)"
     },
     "metadata": {},
     "execution_count": 15
    }
   ],
   "source": [
    "phxframe.shape"
   ]
  },
  {
   "cell_type": "code",
   "execution_count": 16,
   "metadata": {},
   "outputs": [],
   "source": [
    "phxframe_no_dupes.to_csv('./data/all_reviews_no_dupes.csv')"
   ]
  },
  {
   "cell_type": "code",
   "execution_count": null,
   "metadata": {},
   "outputs": [],
   "source": [
    "import sqlite3"
   ]
  },
  {
   "cell_type": "code",
   "execution_count": 17,
   "metadata": {},
   "outputs": [],
   "source": [
    "businessframe = pd.read_json('../labs_data/yelp_academic_dataset_business.json', lines=True, orient='records')"
   ]
  },
  {
   "cell_type": "code",
   "execution_count": 18,
   "metadata": {},
   "outputs": [
    {
     "output_type": "execute_result",
     "data": {
      "text/plain": "              business_id                      name  \\\n0  f9NumwFMBDn751xgFiRbNA  The Range At Lake Norman   \n1  Yzvjg0SayhoZgCljUJRF9Q         Carlos Santo, NMD   \n2  XNoUzKckATkOD1hP6vghZg                   Felinus   \n3  6OAZjbxqM5ol29BuHsil3w      Nevada House of Hose   \n4  51M2Kk903DFYI6gnB5I6SQ   USE MY GUY SERVICES LLC   \n\n                     address             city state postal_code   latitude  \\\n0            10913 Bailey Rd        Cornelius    NC       28031  35.462724   \n1  8880 E Via Linda, Ste 107       Scottsdale    AZ       85258  33.569404   \n2      3554 Rue Notre-Dame O         Montreal    QC     H4C 1P4  45.479984   \n3             1015 Sharp Cir  North Las Vegas    NV       89030  36.219728   \n4         4827 E Downing Cir             Mesa    AZ       85205  33.428065   \n\n    longitude  stars  review_count  is_open  \\\n0  -80.852612    3.5            36        1   \n1 -111.890264    5.0             4        1   \n2  -73.580070    5.0             5        1   \n3 -115.127725    2.5             3        0   \n4 -111.726648    4.5            26        1   \n\n                                          attributes  \\\n0  {'BusinessAcceptsCreditCards': 'True', 'BikePa...   \n1  {'GoodForKids': 'True', 'ByAppointmentOnly': '...   \n2                                               None   \n3  {'BusinessAcceptsCreditCards': 'True', 'ByAppo...   \n4  {'BusinessAcceptsCreditCards': 'True', 'ByAppo...   \n\n                                          categories  \\\n0  Active Life, Gun/Rifle Ranges, Guns & Ammo, Sh...   \n1  Health & Medical, Fitness & Instruction, Yoga,...   \n2                   Pets, Pet Services, Pet Groomers   \n3  Hardware Stores, Home Services, Building Suppl...   \n4  Home Services, Plumbing, Electricians, Handyma...   \n\n                                               hours  \n0  {'Monday': '10:0-18:0', 'Tuesday': '11:0-20:0'...  \n1                                               None  \n2                                               None  \n3  {'Monday': '7:0-16:0', 'Tuesday': '7:0-16:0', ...  \n4  {'Monday': '0:0-0:0', 'Tuesday': '9:0-16:0', '...  ",
      "text/html": "<div>\n<style scoped>\n    .dataframe tbody tr th:only-of-type {\n        vertical-align: middle;\n    }\n\n    .dataframe tbody tr th {\n        vertical-align: top;\n    }\n\n    .dataframe thead th {\n        text-align: right;\n    }\n</style>\n<table border=\"1\" class=\"dataframe\">\n  <thead>\n    <tr style=\"text-align: right;\">\n      <th></th>\n      <th>business_id</th>\n      <th>name</th>\n      <th>address</th>\n      <th>city</th>\n      <th>state</th>\n      <th>postal_code</th>\n      <th>latitude</th>\n      <th>longitude</th>\n      <th>stars</th>\n      <th>review_count</th>\n      <th>is_open</th>\n      <th>attributes</th>\n      <th>categories</th>\n      <th>hours</th>\n    </tr>\n  </thead>\n  <tbody>\n    <tr>\n      <th>0</th>\n      <td>f9NumwFMBDn751xgFiRbNA</td>\n      <td>The Range At Lake Norman</td>\n      <td>10913 Bailey Rd</td>\n      <td>Cornelius</td>\n      <td>NC</td>\n      <td>28031</td>\n      <td>35.462724</td>\n      <td>-80.852612</td>\n      <td>3.5</td>\n      <td>36</td>\n      <td>1</td>\n      <td>{'BusinessAcceptsCreditCards': 'True', 'BikePa...</td>\n      <td>Active Life, Gun/Rifle Ranges, Guns &amp; Ammo, Sh...</td>\n      <td>{'Monday': '10:0-18:0', 'Tuesday': '11:0-20:0'...</td>\n    </tr>\n    <tr>\n      <th>1</th>\n      <td>Yzvjg0SayhoZgCljUJRF9Q</td>\n      <td>Carlos Santo, NMD</td>\n      <td>8880 E Via Linda, Ste 107</td>\n      <td>Scottsdale</td>\n      <td>AZ</td>\n      <td>85258</td>\n      <td>33.569404</td>\n      <td>-111.890264</td>\n      <td>5.0</td>\n      <td>4</td>\n      <td>1</td>\n      <td>{'GoodForKids': 'True', 'ByAppointmentOnly': '...</td>\n      <td>Health &amp; Medical, Fitness &amp; Instruction, Yoga,...</td>\n      <td>None</td>\n    </tr>\n    <tr>\n      <th>2</th>\n      <td>XNoUzKckATkOD1hP6vghZg</td>\n      <td>Felinus</td>\n      <td>3554 Rue Notre-Dame O</td>\n      <td>Montreal</td>\n      <td>QC</td>\n      <td>H4C 1P4</td>\n      <td>45.479984</td>\n      <td>-73.580070</td>\n      <td>5.0</td>\n      <td>5</td>\n      <td>1</td>\n      <td>None</td>\n      <td>Pets, Pet Services, Pet Groomers</td>\n      <td>None</td>\n    </tr>\n    <tr>\n      <th>3</th>\n      <td>6OAZjbxqM5ol29BuHsil3w</td>\n      <td>Nevada House of Hose</td>\n      <td>1015 Sharp Cir</td>\n      <td>North Las Vegas</td>\n      <td>NV</td>\n      <td>89030</td>\n      <td>36.219728</td>\n      <td>-115.127725</td>\n      <td>2.5</td>\n      <td>3</td>\n      <td>0</td>\n      <td>{'BusinessAcceptsCreditCards': 'True', 'ByAppo...</td>\n      <td>Hardware Stores, Home Services, Building Suppl...</td>\n      <td>{'Monday': '7:0-16:0', 'Tuesday': '7:0-16:0', ...</td>\n    </tr>\n    <tr>\n      <th>4</th>\n      <td>51M2Kk903DFYI6gnB5I6SQ</td>\n      <td>USE MY GUY SERVICES LLC</td>\n      <td>4827 E Downing Cir</td>\n      <td>Mesa</td>\n      <td>AZ</td>\n      <td>85205</td>\n      <td>33.428065</td>\n      <td>-111.726648</td>\n      <td>4.5</td>\n      <td>26</td>\n      <td>1</td>\n      <td>{'BusinessAcceptsCreditCards': 'True', 'ByAppo...</td>\n      <td>Home Services, Plumbing, Electricians, Handyma...</td>\n      <td>{'Monday': '0:0-0:0', 'Tuesday': '9:0-16:0', '...</td>\n    </tr>\n  </tbody>\n</table>\n</div>"
     },
     "metadata": {},
     "execution_count": 18
    }
   ],
   "source": [
    "businessframe.head()"
   ]
  },
  {
   "cell_type": "code",
   "execution_count": 19,
   "metadata": {},
   "outputs": [],
   "source": [
    "# filtering businesses by the same criteria as reviews\n",
    "phxbizframe = businessframe[businessframe['state'] == 'AZ'].copy()"
   ]
  },
  {
   "cell_type": "code",
   "execution_count": 20,
   "metadata": {},
   "outputs": [],
   "source": [
    "phxbizframe['city'] = phxbizframe['city'].apply(lambda x: str(x).lower())\n",
    "phxbizframe['city'] = phxbizframe['city'].apply(lambda x: x.strip(' '))\n",
    "phxbizframe = phxbizframe[(phxbizframe['city'].isin(citiestokeep))]"
   ]
  },
  {
   "cell_type": "code",
   "execution_count": 21,
   "metadata": {},
   "outputs": [],
   "source": [
    "# convert the category string to a list\n",
    "phxbizframe['cat_list'] = phxbizframe['categories'].apply(lambda x: str(x).replace(' ', '').split(','))"
   ]
  },
  {
   "cell_type": "code",
   "execution_count": 22,
   "metadata": {},
   "outputs": [],
   "source": [
    "# convert the list to one-hots\n",
    "from sklearn.preprocessing import MultiLabelBinarizer\n",
    "\n",
    "\n",
    "# Binarise labels\n",
    "mlb = MultiLabelBinarizer()\n",
    "expanded_cat_data = mlb.fit_transform(phxbizframe['cat_list'])\n",
    "cat_classes = ['category_' + x for x in mlb.classes_]\n",
    "\n",
    "\n",
    "expanded_cats = pd.DataFrame(expanded_cat_data)\n",
    "expanded_cats.columns = cat_classes"
   ]
  },
  {
   "cell_type": "code",
   "execution_count": 23,
   "metadata": {},
   "outputs": [
    {
     "output_type": "execute_result",
     "data": {
      "text/plain": "   category_&Probates  category_3DPrinting  category_ATVRentals/Tours  \\\n0                   0                    0                          0   \n1                   0                    0                          0   \n2                   0                    0                          0   \n3                   0                    0                          0   \n4                   0                    0                          0   \n\n   category_AcaiBowls  category_Accessories  category_Accountants  \\\n0                   0                     0                     0   \n1                   0                     0                     0   \n2                   0                     0                     0   \n3                   0                     0                     0   \n4                   0                     0                     0   \n\n   category_AcneTreatment  category_ActiveLife  category_Acupuncture  \\\n0                       0                    1                     0   \n1                       0                    0                     0   \n2                       0                    0                     0   \n3                       0                    0                     0   \n4                       0                    0                     0   \n\n   category_AddictionMedicine  ...  category_WineTastingRoom  \\\n0                           0  ...                         0   \n1                           0  ...                         0   \n2                           0  ...                         0   \n3                           0  ...                         0   \n4                           0  ...                         0   \n\n   category_WineTours  category_Wineries  category_Women'sClothing  \\\n0                   0                  0                         0   \n1                   0                  0                         0   \n2                   0                  0                         0   \n3                   0                  0                         0   \n4                   0                  0                         0   \n\n   category_WorkersCompensationLaw  category_Wraps  category_YelpEvents  \\\n0                                0               0                    0   \n1                                0               0                    0   \n2                                0               0                    0   \n3                                0               0                    0   \n4                                0               0                    0   \n\n   category_Yoga  category_Ziplining  category_Zoos  \n0              1                   0              0  \n1              0                   0              0  \n2              0                   0              0  \n3              0                   0              0  \n4              0                   0              0  \n\n[5 rows x 1244 columns]",
      "text/html": "<div>\n<style scoped>\n    .dataframe tbody tr th:only-of-type {\n        vertical-align: middle;\n    }\n\n    .dataframe tbody tr th {\n        vertical-align: top;\n    }\n\n    .dataframe thead th {\n        text-align: right;\n    }\n</style>\n<table border=\"1\" class=\"dataframe\">\n  <thead>\n    <tr style=\"text-align: right;\">\n      <th></th>\n      <th>category_&amp;Probates</th>\n      <th>category_3DPrinting</th>\n      <th>category_ATVRentals/Tours</th>\n      <th>category_AcaiBowls</th>\n      <th>category_Accessories</th>\n      <th>category_Accountants</th>\n      <th>category_AcneTreatment</th>\n      <th>category_ActiveLife</th>\n      <th>category_Acupuncture</th>\n      <th>category_AddictionMedicine</th>\n      <th>...</th>\n      <th>category_WineTastingRoom</th>\n      <th>category_WineTours</th>\n      <th>category_Wineries</th>\n      <th>category_Women'sClothing</th>\n      <th>category_WorkersCompensationLaw</th>\n      <th>category_Wraps</th>\n      <th>category_YelpEvents</th>\n      <th>category_Yoga</th>\n      <th>category_Ziplining</th>\n      <th>category_Zoos</th>\n    </tr>\n  </thead>\n  <tbody>\n    <tr>\n      <th>0</th>\n      <td>0</td>\n      <td>0</td>\n      <td>0</td>\n      <td>0</td>\n      <td>0</td>\n      <td>0</td>\n      <td>0</td>\n      <td>1</td>\n      <td>0</td>\n      <td>0</td>\n      <td>...</td>\n      <td>0</td>\n      <td>0</td>\n      <td>0</td>\n      <td>0</td>\n      <td>0</td>\n      <td>0</td>\n      <td>0</td>\n      <td>1</td>\n      <td>0</td>\n      <td>0</td>\n    </tr>\n    <tr>\n      <th>1</th>\n      <td>0</td>\n      <td>0</td>\n      <td>0</td>\n      <td>0</td>\n      <td>0</td>\n      <td>0</td>\n      <td>0</td>\n      <td>0</td>\n      <td>0</td>\n      <td>0</td>\n      <td>...</td>\n      <td>0</td>\n      <td>0</td>\n      <td>0</td>\n      <td>0</td>\n      <td>0</td>\n      <td>0</td>\n      <td>0</td>\n      <td>0</td>\n      <td>0</td>\n      <td>0</td>\n    </tr>\n    <tr>\n      <th>2</th>\n      <td>0</td>\n      <td>0</td>\n      <td>0</td>\n      <td>0</td>\n      <td>0</td>\n      <td>0</td>\n      <td>0</td>\n      <td>0</td>\n      <td>0</td>\n      <td>0</td>\n      <td>...</td>\n      <td>0</td>\n      <td>0</td>\n      <td>0</td>\n      <td>0</td>\n      <td>0</td>\n      <td>0</td>\n      <td>0</td>\n      <td>0</td>\n      <td>0</td>\n      <td>0</td>\n    </tr>\n    <tr>\n      <th>3</th>\n      <td>0</td>\n      <td>0</td>\n      <td>0</td>\n      <td>0</td>\n      <td>0</td>\n      <td>0</td>\n      <td>0</td>\n      <td>0</td>\n      <td>0</td>\n      <td>0</td>\n      <td>...</td>\n      <td>0</td>\n      <td>0</td>\n      <td>0</td>\n      <td>0</td>\n      <td>0</td>\n      <td>0</td>\n      <td>0</td>\n      <td>0</td>\n      <td>0</td>\n      <td>0</td>\n    </tr>\n    <tr>\n      <th>4</th>\n      <td>0</td>\n      <td>0</td>\n      <td>0</td>\n      <td>0</td>\n      <td>0</td>\n      <td>0</td>\n      <td>0</td>\n      <td>0</td>\n      <td>0</td>\n      <td>0</td>\n      <td>...</td>\n      <td>0</td>\n      <td>0</td>\n      <td>0</td>\n      <td>0</td>\n      <td>0</td>\n      <td>0</td>\n      <td>0</td>\n      <td>0</td>\n      <td>0</td>\n      <td>0</td>\n    </tr>\n  </tbody>\n</table>\n<p>5 rows × 1244 columns</p>\n</div>"
     },
     "metadata": {},
     "execution_count": 23
    }
   ],
   "source": [
    "expanded_cats.head()"
   ]
  },
  {
   "cell_type": "code",
   "execution_count": 24,
   "metadata": {},
   "outputs": [],
   "source": [
    "# if the category doesn't apply to at least 1000 businesses, drop it.\n",
    "catcounts = expanded_cats.sum().sort_values(ascending=False)\n",
    "catstodrop = catcounts[(catcounts < 1000)].index.tolist()"
   ]
  },
  {
   "cell_type": "code",
   "execution_count": 25,
   "metadata": {},
   "outputs": [],
   "source": [
    "expanded_cats.drop(columns=catstodrop, inplace=True)"
   ]
  },
  {
   "cell_type": "code",
   "execution_count": 26,
   "metadata": {},
   "outputs": [
    {
     "output_type": "execute_result",
     "data": {
      "text/plain": "(60540, 42)"
     },
     "metadata": {},
     "execution_count": 26
    }
   ],
   "source": [
    "expanded_cats.shape"
   ]
  },
  {
   "cell_type": "code",
   "execution_count": 27,
   "metadata": {},
   "outputs": [],
   "source": [
    "phxbizframe.reset_index(drop=True, inplace=True)"
   ]
  },
  {
   "cell_type": "code",
   "execution_count": 28,
   "metadata": {},
   "outputs": [],
   "source": [
    "concatenated = pd.concat([phxbizframe, expanded_cats], axis=1)"
   ]
  },
  {
   "cell_type": "code",
   "execution_count": 29,
   "metadata": {},
   "outputs": [],
   "source": [
    "# drop unused features\n",
    "concatenated.drop(columns=['postal_code','latitude','longitude','is_open','attributes','cat_list','hours'], inplace=True)\n",
    "concatenated.rename(columns={'stars':'aggregate_rating'}, inplace=True)"
   ]
  },
  {
   "cell_type": "code",
   "execution_count": 30,
   "metadata": {},
   "outputs": [
    {
     "output_type": "execute_result",
     "data": {
      "text/plain": "              business_id                          name  \\\n0  Yzvjg0SayhoZgCljUJRF9Q             Carlos Santo, NMD   \n1  51M2Kk903DFYI6gnB5I6SQ       USE MY GUY SERVICES LLC   \n2  cKyLV5oWZJ2NudWgqs8VZw   Oasis Auto Center - Gilbert   \n3  ScYkbYNkDgCneBrD9vqhCQ  Junction Tire & Auto Service   \n4  JjJs3o60uQCfctDjs45cmA                  Convertabath   \n\n                                address        city state  aggregate_rating  \\\n0             8880 E Via Linda, Ste 107  scottsdale    AZ               5.0   \n1                    4827 E Downing Cir        mesa    AZ               4.5   \n2             1720 W Elliot Rd, Ste 105     gilbert    AZ               4.5   \n3                   6910 E Southern Ave        mesa    AZ               5.0   \n4  116 N Roosevelt Ave, Bldg B, Ste 124    chandler    AZ               2.5   \n\n   review_count                                         categories  \\\n0             4  Health & Medical, Fitness & Instruction, Yoga,...   \n1            26  Home Services, Plumbing, Electricians, Handyma...   \n2            38  Auto Repair, Automotive, Oil Change Stations, ...   \n3            18  Auto Repair, Oil Change Stations, Automotive, ...   \n4            10         Contractors, Home Services, Local Services   \n\n   category_ActiveLife  category_American(New)  ...  category_NailSalons  \\\n0                    1                       0  ...                    0   \n1                    0                       0  ...                    0   \n2                    0                       0  ...                    0   \n3                    0                       0  ...                    0   \n4                    0                       0  ...                    0   \n\n   category_Nightlife  category_Pets  category_Pizza  \\\n0                   0              0               0   \n1                   0              0               0   \n2                   0              0               0   \n3                   0              0               0   \n4                   0              0               0   \n\n   category_ProfessionalServices  category_RealEstate  category_Restaurants  \\\n0                              0                    0                     0   \n1                              0                    0                     0   \n2                              0                    0                     0   \n3                              0                    0                     0   \n4                              0                    0                     0   \n\n   category_Sandwiches  category_Shopping  category_SkinCare  \n0                    0                  0                  0  \n1                    0                  0                  0  \n2                    0                  0                  0  \n3                    0                  0                  0  \n4                    0                  0                  0  \n\n[5 rows x 50 columns]",
      "text/html": "<div>\n<style scoped>\n    .dataframe tbody tr th:only-of-type {\n        vertical-align: middle;\n    }\n\n    .dataframe tbody tr th {\n        vertical-align: top;\n    }\n\n    .dataframe thead th {\n        text-align: right;\n    }\n</style>\n<table border=\"1\" class=\"dataframe\">\n  <thead>\n    <tr style=\"text-align: right;\">\n      <th></th>\n      <th>business_id</th>\n      <th>name</th>\n      <th>address</th>\n      <th>city</th>\n      <th>state</th>\n      <th>aggregate_rating</th>\n      <th>review_count</th>\n      <th>categories</th>\n      <th>category_ActiveLife</th>\n      <th>category_American(New)</th>\n      <th>...</th>\n      <th>category_NailSalons</th>\n      <th>category_Nightlife</th>\n      <th>category_Pets</th>\n      <th>category_Pizza</th>\n      <th>category_ProfessionalServices</th>\n      <th>category_RealEstate</th>\n      <th>category_Restaurants</th>\n      <th>category_Sandwiches</th>\n      <th>category_Shopping</th>\n      <th>category_SkinCare</th>\n    </tr>\n  </thead>\n  <tbody>\n    <tr>\n      <th>0</th>\n      <td>Yzvjg0SayhoZgCljUJRF9Q</td>\n      <td>Carlos Santo, NMD</td>\n      <td>8880 E Via Linda, Ste 107</td>\n      <td>scottsdale</td>\n      <td>AZ</td>\n      <td>5.0</td>\n      <td>4</td>\n      <td>Health &amp; Medical, Fitness &amp; Instruction, Yoga,...</td>\n      <td>1</td>\n      <td>0</td>\n      <td>...</td>\n      <td>0</td>\n      <td>0</td>\n      <td>0</td>\n      <td>0</td>\n      <td>0</td>\n      <td>0</td>\n      <td>0</td>\n      <td>0</td>\n      <td>0</td>\n      <td>0</td>\n    </tr>\n    <tr>\n      <th>1</th>\n      <td>51M2Kk903DFYI6gnB5I6SQ</td>\n      <td>USE MY GUY SERVICES LLC</td>\n      <td>4827 E Downing Cir</td>\n      <td>mesa</td>\n      <td>AZ</td>\n      <td>4.5</td>\n      <td>26</td>\n      <td>Home Services, Plumbing, Electricians, Handyma...</td>\n      <td>0</td>\n      <td>0</td>\n      <td>...</td>\n      <td>0</td>\n      <td>0</td>\n      <td>0</td>\n      <td>0</td>\n      <td>0</td>\n      <td>0</td>\n      <td>0</td>\n      <td>0</td>\n      <td>0</td>\n      <td>0</td>\n    </tr>\n    <tr>\n      <th>2</th>\n      <td>cKyLV5oWZJ2NudWgqs8VZw</td>\n      <td>Oasis Auto Center - Gilbert</td>\n      <td>1720 W Elliot Rd, Ste 105</td>\n      <td>gilbert</td>\n      <td>AZ</td>\n      <td>4.5</td>\n      <td>38</td>\n      <td>Auto Repair, Automotive, Oil Change Stations, ...</td>\n      <td>0</td>\n      <td>0</td>\n      <td>...</td>\n      <td>0</td>\n      <td>0</td>\n      <td>0</td>\n      <td>0</td>\n      <td>0</td>\n      <td>0</td>\n      <td>0</td>\n      <td>0</td>\n      <td>0</td>\n      <td>0</td>\n    </tr>\n    <tr>\n      <th>3</th>\n      <td>ScYkbYNkDgCneBrD9vqhCQ</td>\n      <td>Junction Tire &amp; Auto Service</td>\n      <td>6910 E Southern Ave</td>\n      <td>mesa</td>\n      <td>AZ</td>\n      <td>5.0</td>\n      <td>18</td>\n      <td>Auto Repair, Oil Change Stations, Automotive, ...</td>\n      <td>0</td>\n      <td>0</td>\n      <td>...</td>\n      <td>0</td>\n      <td>0</td>\n      <td>0</td>\n      <td>0</td>\n      <td>0</td>\n      <td>0</td>\n      <td>0</td>\n      <td>0</td>\n      <td>0</td>\n      <td>0</td>\n    </tr>\n    <tr>\n      <th>4</th>\n      <td>JjJs3o60uQCfctDjs45cmA</td>\n      <td>Convertabath</td>\n      <td>116 N Roosevelt Ave, Bldg B, Ste 124</td>\n      <td>chandler</td>\n      <td>AZ</td>\n      <td>2.5</td>\n      <td>10</td>\n      <td>Contractors, Home Services, Local Services</td>\n      <td>0</td>\n      <td>0</td>\n      <td>...</td>\n      <td>0</td>\n      <td>0</td>\n      <td>0</td>\n      <td>0</td>\n      <td>0</td>\n      <td>0</td>\n      <td>0</td>\n      <td>0</td>\n      <td>0</td>\n      <td>0</td>\n    </tr>\n  </tbody>\n</table>\n<p>5 rows × 50 columns</p>\n</div>"
     },
     "metadata": {},
     "execution_count": 30
    }
   ],
   "source": [
    "concatenated.head()"
   ]
  },
  {
   "cell_type": "code",
   "execution_count": 33,
   "metadata": {},
   "outputs": [],
   "source": [
    "conn = sqlite3.connect('../labs-yelp-api/lightfm/db_stuff/business_data.sqlite3')\n",
    "concatenated.to_sql(name='business_data', con=conn, if_exists='replace')"
   ]
  },
  {
   "cell_type": "code",
   "execution_count": 34,
   "metadata": {},
   "outputs": [],
   "source": [
    "conn.close()"
   ]
  }
 ],
 "metadata": {
  "language_info": {
   "codemirror_mode": {
    "name": "ipython",
    "version": 3
   },
   "file_extension": ".py",
   "mimetype": "text/x-python",
   "name": "python",
   "nbconvert_exporter": "python",
   "pygments_lexer": "ipython3",
   "version": "3.7.7-final"
  },
  "orig_nbformat": 2,
  "kernelspec": {
   "name": "python37764bitvirtvenv31669fcdc4ae401298c810079ac2157e",
   "display_name": "Python 3.7.7 64-bit ('virt': venv)"
  }
 },
 "nbformat": 4,
 "nbformat_minor": 2
}